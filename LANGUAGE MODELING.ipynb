{
 "cells": [
  {
   "cell_type": "markdown",
   "metadata": {
    "id": "m2qijTSAN2L1"
   },
   "source": [
    "# Exploring BERT with Pre-Training and Transfer Learning\n",
    "\n",
    "The objective of this report is to compare the performance of a BERT model pre-trainined on the wikitext dataset to the performance of a fully pre-trained BERT model that has been rigorously pre-trained for longer on a much larger dataset.  To judge the performance of the models, I will be testing them on a classification task.  \n",
    "\n",
    "In the first half of this part of the report, I will be pre-training BERT on the wikitext dataset using the huggingface transformer library.  I will be training 2 models, a large model and a small model.  The large model is identical to the original BERT model.  In particular, the hidden state has dimension 768 and the intermediate state has dimension 3072.  In the small model, the hidden state has dimension 384, and the intermediate state has dimension 1536.  In the second half of this report, I will be using these two models along with a fully pre-trained BERT model from the huggingface library to create a sentence classification model.  This transfer learning will be performed on [this dataset](https://www.kaggle.com/praveengovi/emotions-dataset-for-nlp/version/1), which contains sentences labeled with one of six different emotions.  The objective of this classifier is to identify the emotion that best describes a sentence. \n",
    "\n",
    "First, we begin with pre-processing the wikitext dataset."
   ]
  },
  {
   "cell_type": "markdown",
   "metadata": {
    "id": "nIn29WtlUpPc"
   },
   "source": [
    "## Pre-Training BERT - Pre-Processing"
   ]
  },
  {
   "cell_type": "code",
   "execution_count": 20,
   "metadata": {
    "colab": {
     "base_uri": "https://localhost:8080/"
    },
    "id": "6awjJ1hI67eE",
    "outputId": "3cf5155f-98fc-4b1e-9cfb-1dab38b48651"
   },
   "outputs": [
    {
     "name": "stdout",
     "output_type": "stream",
     "text": [
      "Requirement already satisfied: datasets in /usr/local/lib/python3.7/dist-packages (1.18.3)\n",
      "Requirement already satisfied: transformers==4.11.2 in /usr/local/lib/python3.7/dist-packages (4.11.2)\n",
      "Requirement already satisfied: sentencepiece in /usr/local/lib/python3.7/dist-packages (0.1.96)\n",
      "Requirement already satisfied: requests in /usr/local/lib/python3.7/dist-packages (from transformers==4.11.2) (2.23.0)\n",
      "Requirement already satisfied: tokenizers<0.11,>=0.10.1 in /usr/local/lib/python3.7/dist-packages (from transformers==4.11.2) (0.10.3)\n",
      "Requirement already satisfied: packaging>=20.0 in /usr/local/lib/python3.7/dist-packages (from transformers==4.11.2) (21.3)\n",
      "Requirement already satisfied: huggingface-hub>=0.0.17 in /usr/local/lib/python3.7/dist-packages (from transformers==4.11.2) (0.4.0)\n",
      "Requirement already satisfied: tqdm>=4.27 in /usr/local/lib/python3.7/dist-packages (from transformers==4.11.2) (4.62.3)\n",
      "Requirement already satisfied: regex!=2019.12.17 in /usr/local/lib/python3.7/dist-packages (from transformers==4.11.2) (2019.12.20)\n",
      "Requirement already satisfied: pyyaml>=5.1 in /usr/local/lib/python3.7/dist-packages (from transformers==4.11.2) (6.0)\n",
      "Requirement already satisfied: filelock in /usr/local/lib/python3.7/dist-packages (from transformers==4.11.2) (3.6.0)\n",
      "Requirement already satisfied: sacremoses in /usr/local/lib/python3.7/dist-packages (from transformers==4.11.2) (0.0.47)\n",
      "Requirement already satisfied: numpy>=1.17 in /usr/local/lib/python3.7/dist-packages (from transformers==4.11.2) (1.21.5)\n",
      "Requirement already satisfied: importlib-metadata in /usr/local/lib/python3.7/dist-packages (from transformers==4.11.2) (4.11.1)\n",
      "Requirement already satisfied: typing-extensions>=3.7.4.3 in /usr/local/lib/python3.7/dist-packages (from huggingface-hub>=0.0.17->transformers==4.11.2) (3.10.0.2)\n",
      "Requirement already satisfied: pyparsing!=3.0.5,>=2.0.2 in /usr/local/lib/python3.7/dist-packages (from packaging>=20.0->transformers==4.11.2) (3.0.7)\n",
      "Requirement already satisfied: pyarrow!=4.0.0,>=3.0.0 in /usr/local/lib/python3.7/dist-packages (from datasets) (6.0.1)\n",
      "Requirement already satisfied: pandas in /usr/local/lib/python3.7/dist-packages (from datasets) (1.3.5)\n",
      "Requirement already satisfied: xxhash in /usr/local/lib/python3.7/dist-packages (from datasets) (2.0.2)\n",
      "Requirement already satisfied: multiprocess in /usr/local/lib/python3.7/dist-packages (from datasets) (0.70.12.2)\n",
      "Requirement already satisfied: aiohttp in /usr/local/lib/python3.7/dist-packages (from datasets) (3.8.1)\n",
      "Requirement already satisfied: fsspec[http]>=2021.05.0 in /usr/local/lib/python3.7/dist-packages (from datasets) (2022.2.0)\n",
      "Requirement already satisfied: dill in /usr/local/lib/python3.7/dist-packages (from datasets) (0.3.4)\n",
      "Requirement already satisfied: urllib3!=1.25.0,!=1.25.1,<1.26,>=1.21.1 in /usr/local/lib/python3.7/dist-packages (from requests->transformers==4.11.2) (1.24.3)\n",
      "Requirement already satisfied: chardet<4,>=3.0.2 in /usr/local/lib/python3.7/dist-packages (from requests->transformers==4.11.2) (3.0.4)\n",
      "Requirement already satisfied: idna<3,>=2.5 in /usr/local/lib/python3.7/dist-packages (from requests->transformers==4.11.2) (2.10)\n",
      "Requirement already satisfied: certifi>=2017.4.17 in /usr/local/lib/python3.7/dist-packages (from requests->transformers==4.11.2) (2021.10.8)\n",
      "Requirement already satisfied: aiosignal>=1.1.2 in /usr/local/lib/python3.7/dist-packages (from aiohttp->datasets) (1.2.0)\n",
      "Requirement already satisfied: async-timeout<5.0,>=4.0.0a3 in /usr/local/lib/python3.7/dist-packages (from aiohttp->datasets) (4.0.2)\n",
      "Requirement already satisfied: asynctest==0.13.0 in /usr/local/lib/python3.7/dist-packages (from aiohttp->datasets) (0.13.0)\n",
      "Requirement already satisfied: multidict<7.0,>=4.5 in /usr/local/lib/python3.7/dist-packages (from aiohttp->datasets) (6.0.2)\n",
      "Requirement already satisfied: attrs>=17.3.0 in /usr/local/lib/python3.7/dist-packages (from aiohttp->datasets) (21.4.0)\n",
      "Requirement already satisfied: charset-normalizer<3.0,>=2.0 in /usr/local/lib/python3.7/dist-packages (from aiohttp->datasets) (2.0.12)\n",
      "Requirement already satisfied: yarl<2.0,>=1.0 in /usr/local/lib/python3.7/dist-packages (from aiohttp->datasets) (1.7.2)\n",
      "Requirement already satisfied: frozenlist>=1.1.1 in /usr/local/lib/python3.7/dist-packages (from aiohttp->datasets) (1.3.0)\n",
      "Requirement already satisfied: zipp>=0.5 in /usr/local/lib/python3.7/dist-packages (from importlib-metadata->transformers==4.11.2) (3.7.0)\n",
      "Requirement already satisfied: python-dateutil>=2.7.3 in /usr/local/lib/python3.7/dist-packages (from pandas->datasets) (2.8.2)\n",
      "Requirement already satisfied: pytz>=2017.3 in /usr/local/lib/python3.7/dist-packages (from pandas->datasets) (2018.9)\n",
      "Requirement already satisfied: six>=1.5 in /usr/local/lib/python3.7/dist-packages (from python-dateutil>=2.7.3->pandas->datasets) (1.15.0)\n",
      "Requirement already satisfied: click in /usr/local/lib/python3.7/dist-packages (from sacremoses->transformers==4.11.2) (7.1.2)\n",
      "Requirement already satisfied: joblib in /usr/local/lib/python3.7/dist-packages (from sacremoses->transformers==4.11.2) (1.1.0)\n"
     ]
    }
   ],
   "source": [
    "#Importing necessary libraries for entire notebook\n",
    "\n",
    "!pip install datasets transformers==4.11.2 sentencepiece\n",
    "\n",
    "from datasets import *\n",
    "from transformers import *\n",
    "from tokenizers import *\n",
    "import os\n",
    "import json\n",
    "import csv\n",
    "from matplotlib import pyplot as plt\n",
    "import numpy as np\n",
    "import pandas as pd  \n",
    "\n",
    "import torch\n",
    "import torch.nn as nn\n",
    "import torch.optim as optim\n",
    "import torch.nn.functional as F\n",
    "from torch.utils.data import Dataset, DataLoader\n",
    "from transformers import BertPreTrainedModel, BertModel\n",
    "\n",
    "from transformers import AutoConfig, AutoTokenizer\n",
    "\n",
    "from sklearn.metrics import confusion_matrix, f1_score, precision_score, recall_score, ConfusionMatrixDisplay"
   ]
  },
  {
   "cell_type": "code",
   "execution_count": 21,
   "metadata": {
    "colab": {
     "base_uri": "https://localhost:8080/"
    },
    "id": "WHwBp5Os7TTe",
    "outputId": "0cfe7431-9b22-4df7-b409-19ae86c00dd6"
   },
   "outputs": [
    {
     "name": "stderr",
     "output_type": "stream",
     "text": [
      "Reusing dataset wikitext (/root/.cache/huggingface/datasets/wikitext/wikitext-2-raw-v1/1.0.0/a241db52902eaf2c6aa732210bead40c090019a499ceb13bcbfa3f8ab646a126)\n"
     ]
    }
   ],
   "source": [
    "# Downloading small wikitext dataset using load_dataset from huggingface transformer library\n",
    "dataset = load_dataset(\"wikitext\", \"wikitext-2-raw-v1\", split=\"train\")"
   ]
  },
  {
   "cell_type": "code",
   "execution_count": 22,
   "metadata": {
    "id": "7VK6os3e7x4Y"
   },
   "outputs": [],
   "source": [
    "# Splitting the dataset into 90% train and 10% tets\n",
    "d = dataset.train_test_split(test_size=0.1)"
   ]
  },
  {
   "cell_type": "code",
   "execution_count": 23,
   "metadata": {
    "id": "RX0_vOqN8BJ_"
   },
   "outputs": [],
   "source": [
    "def dataset_to_text(dataset, filename):\n",
    "    \"\"\"For dataset and filename, saves dataset to text file\"\"\"\n",
    "        with open(filename, \"w\") as f:\n",
    "            for t in dataset[\"text\"]:\n",
    "                print(t, file=f)\n",
    "\n",
    "# save the training set to train.txt\n",
    "dataset_to_text(d[\"train\"], \"train.txt\")\n",
    "# save the testing set to test.txt\n",
    "dataset_to_text(d[\"test\"], \"test.txt\")"
   ]
  },
  {
   "cell_type": "code",
   "execution_count": 24,
   "metadata": {
    "id": "waFQaTkX8D2Z"
   },
   "outputs": [],
   "source": [
    "\n",
    "#These are padding, unknown, masking, etc. tokens\n",
    "special_tokens = [\n",
    "  \"[PAD]\", \"[UNK]\", \"[CLS]\", \"[SEP]\", \"[MASK]\", \"<S>\", \"<T>\"\n",
    "]\n",
    "\n",
    "# training the tokenizer on the training set\n",
    "files = [\"train.txt\"]\n",
    "\n",
    "# This is the original BERT's vocab size\n",
    "vocab_size = 30522\n",
    "# This is the original BERT's max sentence length\n",
    "max_length = 512\n",
    "# whether to truncate\n",
    "truncate_longer_samples = True"
   ]
  },
  {
   "cell_type": "code",
   "execution_count": 25,
   "metadata": {
    "id": "jZJyhXBa8Frg"
   },
   "outputs": [],
   "source": [
    "# initialize the WordPiece tokenizer from huggingface\n",
    "tokenizer = BertWordPieceTokenizer()\n",
    "# train the tokenizer\n",
    "tokenizer.train(files='train.txt', vocab_size=vocab_size, special_tokens=special_tokens)\n",
    "# enable truncation up to the maximum 512 tokens\n",
    "tokenizer.enable_truncation(max_length=max_length)"
   ]
  },
  {
   "cell_type": "code",
   "execution_count": 26,
   "metadata": {
    "id": "c9BvZBg48Ia1"
   },
   "outputs": [],
   "source": [
    "#This is where we save all the checkpoints and results\n",
    "model_path = \"pretrained-bert\"\n",
    "# make the directory if not already there\n",
    "if not os.path.isdir(model_path):\n",
    "    os.mkdir(model_path)"
   ]
  },
  {
   "cell_type": "code",
   "execution_count": 27,
   "metadata": {
    "colab": {
     "base_uri": "https://localhost:8080/"
    },
    "id": "DWqV5VYB8MkJ",
    "outputId": "4ebcf34c-fad0-4615-dc25-46596782ad56"
   },
   "outputs": [
    {
     "data": {
      "text/plain": [
       "['pretrained-bert/vocab.txt']"
      ]
     },
     "execution_count": 27,
     "metadata": {},
     "output_type": "execute_result"
    }
   ],
   "source": [
    "#Saving the trained tokenizer\n",
    "tokenizer.save_model(model_path)"
   ]
  },
  {
   "cell_type": "code",
   "execution_count": 28,
   "metadata": {
    "id": "zSw-QhuU8Pdy"
   },
   "outputs": [],
   "source": [
    "#Saving tokenization parameters and special tokens in model config file\n",
    "with open(os.path.join(model_path, \"config.json\"), \"w\") as f:\n",
    "    tokenizer_cfg = {\n",
    "      \"do_lower_case\": True,\n",
    "      \"unk_token\": \"[UNK]\",\n",
    "      \"sep_token\": \"[SEP]\",\n",
    "      \"pad_token\": \"[PAD]\",\n",
    "      \"cls_token\": \"[CLS]\",\n",
    "      \"mask_token\": \"[MASK]\",\n",
    "      \"model_max_length\": max_length,\n",
    "      \"max_len\": max_length,\n",
    "    }\n",
    "    json.dump(tokenizer_cfg, f)"
   ]
  },
  {
   "cell_type": "code",
   "execution_count": 29,
   "metadata": {
    "colab": {
     "base_uri": "https://localhost:8080/"
    },
    "id": "1C2jIxr88Rho",
    "outputId": "33246a12-4d90-46e4-d25e-72c8f0976292"
   },
   "outputs": [
    {
     "name": "stderr",
     "output_type": "stream",
     "text": [
      "Didn't find file pretrained-bert/tokenizer.json. We won't load it.\n",
      "Didn't find file pretrained-bert/added_tokens.json. We won't load it.\n",
      "Didn't find file pretrained-bert/special_tokens_map.json. We won't load it.\n",
      "Didn't find file pretrained-bert/tokenizer_config.json. We won't load it.\n",
      "loading file pretrained-bert/vocab.txt\n",
      "loading file None\n",
      "loading file None\n",
      "loading file None\n",
      "loading file None\n",
      "loading configuration file pretrained-bert/config.json\n",
      "Model config BertConfig {\n",
      "  \"attention_probs_dropout_prob\": 0.1,\n",
      "  \"classifier_dropout\": null,\n",
      "  \"cls_token\": \"[CLS]\",\n",
      "  \"do_lower_case\": true,\n",
      "  \"hidden_act\": \"gelu\",\n",
      "  \"hidden_dropout_prob\": 0.1,\n",
      "  \"hidden_size\": 768,\n",
      "  \"initializer_range\": 0.02,\n",
      "  \"intermediate_size\": 3072,\n",
      "  \"layer_norm_eps\": 1e-12,\n",
      "  \"mask_token\": \"[MASK]\",\n",
      "  \"max_len\": 512,\n",
      "  \"max_position_embeddings\": 512,\n",
      "  \"model_max_length\": 512,\n",
      "  \"model_type\": \"bert\",\n",
      "  \"num_attention_heads\": 12,\n",
      "  \"num_hidden_layers\": 12,\n",
      "  \"pad_token\": \"[PAD]\",\n",
      "  \"pad_token_id\": 0,\n",
      "  \"position_embedding_type\": \"absolute\",\n",
      "  \"sep_token\": \"[SEP]\",\n",
      "  \"transformers_version\": \"4.11.2\",\n",
      "  \"type_vocab_size\": 2,\n",
      "  \"unk_token\": \"[UNK]\",\n",
      "  \"use_cache\": true,\n",
      "  \"vocab_size\": 30522\n",
      "}\n",
      "\n",
      "loading configuration file pretrained-bert/config.json\n",
      "Model config BertConfig {\n",
      "  \"attention_probs_dropout_prob\": 0.1,\n",
      "  \"classifier_dropout\": null,\n",
      "  \"cls_token\": \"[CLS]\",\n",
      "  \"do_lower_case\": true,\n",
      "  \"hidden_act\": \"gelu\",\n",
      "  \"hidden_dropout_prob\": 0.1,\n",
      "  \"hidden_size\": 768,\n",
      "  \"initializer_range\": 0.02,\n",
      "  \"intermediate_size\": 3072,\n",
      "  \"layer_norm_eps\": 1e-12,\n",
      "  \"mask_token\": \"[MASK]\",\n",
      "  \"max_len\": 512,\n",
      "  \"max_position_embeddings\": 512,\n",
      "  \"model_max_length\": 512,\n",
      "  \"model_type\": \"bert\",\n",
      "  \"num_attention_heads\": 12,\n",
      "  \"num_hidden_layers\": 12,\n",
      "  \"pad_token\": \"[PAD]\",\n",
      "  \"pad_token_id\": 0,\n",
      "  \"position_embedding_type\": \"absolute\",\n",
      "  \"sep_token\": \"[SEP]\",\n",
      "  \"transformers_version\": \"4.11.2\",\n",
      "  \"type_vocab_size\": 2,\n",
      "  \"unk_token\": \"[UNK]\",\n",
      "  \"use_cache\": true,\n",
      "  \"vocab_size\": 30522\n",
      "}\n",
      "\n"
     ]
    }
   ],
   "source": [
    "# Loading tokenizer using BertTokenizerFast from huggingface transformer library\n",
    "tokenizer = BertTokenizerFast.from_pretrained(model_path)"
   ]
  },
  {
   "cell_type": "code",
   "execution_count": 30,
   "metadata": {
    "colab": {
     "base_uri": "https://localhost:8080/",
     "height": 205,
     "referenced_widgets": [
      "a8adc4928aa548e39c5e4ee754e94963",
      "c3451a5aa0ab4ff28090b806b7c516fb",
      "b9d41f4916f74629854371c7fe32b3f9",
      "3825b4a98bd64da6a316d5d2caadcd96",
      "786150b2ce914d43919fa28706af5ef9",
      "31facaea165e490d9cef216199929a73",
      "d1ad5d483b9c4f2796f4f97812ab5305",
      "425aed345d5b47878bc62c812aa08d21",
      "00bfe42d7a5b4cacab5fb4da9105ee60",
      "a64f345d965044e1a16a13f3acfe78de",
      "df6094b381754835a7362236d24a0c3a",
      "2a057dbe6cea4036a0ad32873954520a",
      "42bde446584f4bb69c00c312e7805af9",
      "ac888af07f9d4206b2ceddc70fbba01f",
      "b218a49216f74b5a92358c5a3a3a40cb",
      "afdb499e8af842f4890e79fbec05bff5",
      "d59a9dac5f89413f8082ca4dfbb33f79",
      "c78faac265ed40fe9f38ac334160bed7",
      "0f86f2cfd66b4e3fb9d5738efdade955",
      "bf4016443aaf4934b9f6a6d0104e671f",
      "77c6c69922be497ea0a9cf7a6c0323a8",
      "38a10fcb00cd4691a4059ae08c0ecf28"
     ]
    },
    "id": "DiDP2_Ys8TMu",
    "outputId": "4db16d41-a41e-4282-f2cd-b12d1e2e9876"
   },
   "outputs": [
    {
     "data": {
      "application/vnd.jupyter.widget-view+json": {
       "model_id": "a8adc4928aa548e39c5e4ee754e94963",
       "version_major": 2,
       "version_minor": 0
      },
      "text/plain": [
       "  0%|          | 0/34 [00:00<?, ?ba/s]"
      ]
     },
     "metadata": {},
     "output_type": "display_data"
    },
    {
     "data": {
      "application/vnd.jupyter.widget-view+json": {
       "model_id": "2a057dbe6cea4036a0ad32873954520a",
       "version_major": 2,
       "version_minor": 0
      },
      "text/plain": [
       "  0%|          | 0/4 [00:00<?, ?ba/s]"
      ]
     },
     "metadata": {},
     "output_type": "display_data"
    },
    {
     "data": {
      "text/plain": [
       "(Dataset({\n",
       "     features: ['text', 'input_ids', 'token_type_ids', 'attention_mask', 'special_tokens_mask'],\n",
       "     num_rows: 33046\n",
       " }), Dataset({\n",
       "     features: ['text', 'input_ids', 'token_type_ids', 'attention_mask', 'special_tokens_mask'],\n",
       "     num_rows: 3672\n",
       " }))"
      ]
     },
     "execution_count": 30,
     "metadata": {},
     "output_type": "execute_result"
    }
   ],
   "source": [
    "def encode_with_truncation(examples):\n",
    "    \"\"\"Mapping function to tokenize the sentences passed with truncation\"\"\"\n",
    "    return tokenizer(examples[\"text\"], truncation=True, padding=\"max_length\", max_length=max_length, return_special_tokens_mask=True)\n",
    "\n",
    "def encode_without_truncation(examples):\n",
    "    \"\"\"Mapping function to tokenize the sentences passed without truncation\"\"\"\n",
    "    return tokenizer(examples[\"text\"], return_special_tokens_mask=True)\n",
    "\n",
    "# the encode function will depend on the truncate_longer_samples variable\n",
    "encode = encode_with_truncation if truncate_longer_samples else encode_without_truncation\n",
    "\n",
    "# tokenizing the train dataset\n",
    "train_dataset = d[\"train\"].map(encode, batched=True)\n",
    "# tokenizing the testing dataset\n",
    "test_dataset = d[\"test\"].map(encode, batched=True)\n",
    "if truncate_longer_samples:\n",
    "    # remove other columns and set input_ids and attention_mask as \n",
    "    train_dataset.set_format(type=\"torch\", columns=[\"input_ids\", \"attention_mask\"])\n",
    "    test_dataset.set_format(type=\"torch\", columns=[\"input_ids\", \"attention_mask\"])\n",
    "else:\n",
    "    test_dataset.set_format(columns=[\"input_ids\", \"attention_mask\", \"special_tokens_mask\"])\n",
    "    train_dataset.set_format(columns=[\"input_ids\", \"attention_mask\", \"special_tokens_mask\"])\n",
    "train_dataset, test_dataset"
   ]
  },
  {
   "cell_type": "code",
   "execution_count": 31,
   "metadata": {
    "id": "OWZVlcpQ8U3j"
   },
   "outputs": [],
   "source": [
    "# Main data processing function that will concatenate all texts from our dataset and generate chunks of\n",
    "# max_seq_length.\n",
    "def group_texts(examples):\n",
    "    # Concatenate all texts.\n",
    "    concatenated_examples = {k: sum(examples[k], []) for k in examples.keys()}\n",
    "    total_length = len(concatenated_examples[list(examples.keys())[0]])\n",
    "    # We drop the small remainder\n",
    "    if total_length >= max_length:\n",
    "        total_length = (total_length // max_length) * max_length\n",
    "    # Split by chunks of max_len\n",
    "    result = {\n",
    "        k: [t[i : i + max_length] for i in range(0, total_length, max_length)]\n",
    "        for k, t in concatenated_examples.items()\n",
    "    }\n",
    "    return result\n",
    "\n",
    "if not truncate_longer_samples:\n",
    "    train_dataset = train_dataset.map(group_texts, batched=True, batch_size=2_000,\n",
    "                                    desc=f\"Grouping texts in chunks of {max_length}\")\n",
    "    test_dataset = test_dataset.map(group_texts, batched=True, batch_size=2_000,\n",
    "                                  num_proc=4, desc=f\"Grouping texts in chunks of {max_length}\")"
   ]
  },
  {
   "cell_type": "code",
   "execution_count": 32,
   "metadata": {
    "id": "MkjGZdOm8f6m"
   },
   "outputs": [],
   "source": [
    "# initialize the data collator, randomly masking 20% (default is 15%) of the tokens for the Masked Language\n",
    "# Modeling (MLM) task\n",
    "data_collator = DataCollatorForLanguageModeling(\n",
    "    tokenizer=tokenizer, mlm=True, mlm_probability=0.2\n",
    ")"
   ]
  },
  {
   "cell_type": "markdown",
   "metadata": {
    "id": "9AJsIqKkVDCr"
   },
   "source": [
    "## Pre-Training BERT - Pre-Training\n",
    "\n",
    "Now, it is time to perform the pre-training.  I will be pre-training a small and large model.  In the large model, the hidden state has dimension 768 and the intermediate state has dimension 3072.  In the small model, the hidden state has dimension 384, and the intermediate state has dimension 1536."
   ]
  },
  {
   "cell_type": "code",
   "execution_count": 33,
   "metadata": {
    "colab": {
     "base_uri": "https://localhost:8080/"
    },
    "id": "j14ylXea8meE",
    "outputId": "70363014-e964-41da-997c-fdbb0b9b566d"
   },
   "outputs": [
    {
     "name": "stderr",
     "output_type": "stream",
     "text": [
      "using `logging_steps` to initialize `eval_steps` to 50\n",
      "PyTorch: setting up devices\n",
      "The default value for the training argument `--report_to` will change in v5 (from all installed integrations to none). In v5, you will need to use `--report_to all` to get the same behavior as now. You should start updating your code and make this info disappear :-).\n"
     ]
    }
   ],
   "source": [
    "training_args = TrainingArguments(\n",
    "    output_dir=model_path,          # output directory to where save model checkpoint\n",
    "    evaluation_strategy=\"steps\",    # evaluate each `logging_steps` steps\n",
    "    overwrite_output_dir=True,      \n",
    "    num_train_epochs=5,            # number of training epochs\n",
    "    per_device_train_batch_size=10, # the training batch size\n",
    "    gradient_accumulation_steps=8,  # accumulating the gradients before updating the weights\n",
    "    per_device_eval_batch_size=32,  # evaluation batch size\n",
    "    logging_steps=50,             \n",
    "    save_steps=100,\n",
    ")"
   ]
  },
  {
   "cell_type": "code",
   "execution_count": null,
   "metadata": {
    "id": "MFsN9tzU8XvQ"
   },
   "outputs": [],
   "source": [
    "# initialize the small model\n",
    "model_config = BertConfig(vocab_size=vocab_size, max_position_embeddings=max_length, hidden_size=384, intermediate_size=1536)\n",
    "model = BertForMaskedLM(config=model_config)"
   ]
  },
  {
   "cell_type": "code",
   "execution_count": null,
   "metadata": {
    "id": "DnBEaSwZ8nTb"
   },
   "outputs": [],
   "source": [
    "# initialize the trainer for the large model\n",
    "trainer = Trainer(\n",
    "    model=model,\n",
    "    args=training_args,\n",
    "    data_collator=data_collator,\n",
    "    train_dataset=train_dataset,\n",
    "    eval_dataset=test_dataset,\n",
    ")"
   ]
  },
  {
   "cell_type": "code",
   "execution_count": null,
   "metadata": {
    "colab": {
     "base_uri": "https://localhost:8080/",
     "height": 1000
    },
    "id": "teV_Bn0_8xju",
    "outputId": "9d3fe2f3-bb04-4fc2-c591-682791227601"
   },
   "outputs": [
    {
     "name": "stderr",
     "output_type": "stream",
     "text": [
      "The following columns in the training set  don't have a corresponding argument in `BertForMaskedLM.forward` and have been ignored: text, special_tokens_mask.\n",
      "***** Running training *****\n",
      "  Num examples = 33046\n",
      "  Num Epochs = 5\n",
      "  Instantaneous batch size per device = 10\n",
      "  Total train batch size (w. parallel, distributed & accumulation) = 80\n",
      "  Gradient Accumulation steps = 8\n",
      "  Total optimization steps = 2065\n"
     ]
    },
    {
     "data": {
      "text/html": [
       "\n",
       "    <div>\n",
       "      \n",
       "      <progress value='2065' max='2065' style='width:300px; height:20px; vertical-align: middle;'></progress>\n",
       "      [2065/2065 1:59:17, Epoch 4/5]\n",
       "    </div>\n",
       "    <table border=\"1\" class=\"dataframe\">\n",
       "  <thead>\n",
       "    <tr style=\"text-align: left;\">\n",
       "      <th>Step</th>\n",
       "      <th>Training Loss</th>\n",
       "      <th>Validation Loss</th>\n",
       "    </tr>\n",
       "  </thead>\n",
       "  <tbody>\n",
       "    <tr>\n",
       "      <td>50</td>\n",
       "      <td>9.409900</td>\n",
       "      <td>8.869077</td>\n",
       "    </tr>\n",
       "    <tr>\n",
       "      <td>100</td>\n",
       "      <td>8.471500</td>\n",
       "      <td>8.099809</td>\n",
       "    </tr>\n",
       "    <tr>\n",
       "      <td>150</td>\n",
       "      <td>7.796700</td>\n",
       "      <td>7.569655</td>\n",
       "    </tr>\n",
       "    <tr>\n",
       "      <td>200</td>\n",
       "      <td>7.375600</td>\n",
       "      <td>7.243011</td>\n",
       "    </tr>\n",
       "    <tr>\n",
       "      <td>250</td>\n",
       "      <td>7.140400</td>\n",
       "      <td>7.104981</td>\n",
       "    </tr>\n",
       "    <tr>\n",
       "      <td>300</td>\n",
       "      <td>7.031000</td>\n",
       "      <td>7.041823</td>\n",
       "    </tr>\n",
       "    <tr>\n",
       "      <td>350</td>\n",
       "      <td>6.997200</td>\n",
       "      <td>7.005230</td>\n",
       "    </tr>\n",
       "    <tr>\n",
       "      <td>400</td>\n",
       "      <td>6.948100</td>\n",
       "      <td>6.971970</td>\n",
       "    </tr>\n",
       "    <tr>\n",
       "      <td>450</td>\n",
       "      <td>6.941100</td>\n",
       "      <td>6.937401</td>\n",
       "    </tr>\n",
       "    <tr>\n",
       "      <td>500</td>\n",
       "      <td>6.905900</td>\n",
       "      <td>6.929474</td>\n",
       "    </tr>\n",
       "    <tr>\n",
       "      <td>550</td>\n",
       "      <td>6.908100</td>\n",
       "      <td>6.903537</td>\n",
       "    </tr>\n",
       "    <tr>\n",
       "      <td>600</td>\n",
       "      <td>6.881100</td>\n",
       "      <td>6.884080</td>\n",
       "    </tr>\n",
       "    <tr>\n",
       "      <td>650</td>\n",
       "      <td>6.788200</td>\n",
       "      <td>6.874365</td>\n",
       "    </tr>\n",
       "    <tr>\n",
       "      <td>700</td>\n",
       "      <td>6.876200</td>\n",
       "      <td>6.871052</td>\n",
       "    </tr>\n",
       "    <tr>\n",
       "      <td>750</td>\n",
       "      <td>6.859100</td>\n",
       "      <td>6.835207</td>\n",
       "    </tr>\n",
       "    <tr>\n",
       "      <td>800</td>\n",
       "      <td>6.833400</td>\n",
       "      <td>6.847280</td>\n",
       "    </tr>\n",
       "    <tr>\n",
       "      <td>850</td>\n",
       "      <td>6.845100</td>\n",
       "      <td>6.829972</td>\n",
       "    </tr>\n",
       "    <tr>\n",
       "      <td>900</td>\n",
       "      <td>6.796900</td>\n",
       "      <td>6.791036</td>\n",
       "    </tr>\n",
       "    <tr>\n",
       "      <td>950</td>\n",
       "      <td>6.771000</td>\n",
       "      <td>6.815813</td>\n",
       "    </tr>\n",
       "    <tr>\n",
       "      <td>1000</td>\n",
       "      <td>6.827800</td>\n",
       "      <td>6.804051</td>\n",
       "    </tr>\n",
       "    <tr>\n",
       "      <td>1050</td>\n",
       "      <td>6.761500</td>\n",
       "      <td>6.798947</td>\n",
       "    </tr>\n",
       "    <tr>\n",
       "      <td>1100</td>\n",
       "      <td>6.749800</td>\n",
       "      <td>6.763443</td>\n",
       "    </tr>\n",
       "    <tr>\n",
       "      <td>1150</td>\n",
       "      <td>6.748100</td>\n",
       "      <td>6.775896</td>\n",
       "    </tr>\n",
       "    <tr>\n",
       "      <td>1200</td>\n",
       "      <td>6.729800</td>\n",
       "      <td>6.790763</td>\n",
       "    </tr>\n",
       "    <tr>\n",
       "      <td>1250</td>\n",
       "      <td>6.717800</td>\n",
       "      <td>6.768740</td>\n",
       "    </tr>\n",
       "    <tr>\n",
       "      <td>1300</td>\n",
       "      <td>6.728500</td>\n",
       "      <td>6.765496</td>\n",
       "    </tr>\n",
       "    <tr>\n",
       "      <td>1350</td>\n",
       "      <td>6.732500</td>\n",
       "      <td>6.744417</td>\n",
       "    </tr>\n",
       "    <tr>\n",
       "      <td>1400</td>\n",
       "      <td>6.708400</td>\n",
       "      <td>6.751733</td>\n",
       "    </tr>\n",
       "    <tr>\n",
       "      <td>1450</td>\n",
       "      <td>6.702800</td>\n",
       "      <td>6.757123</td>\n",
       "    </tr>\n",
       "    <tr>\n",
       "      <td>1500</td>\n",
       "      <td>6.742200</td>\n",
       "      <td>6.760165</td>\n",
       "    </tr>\n",
       "    <tr>\n",
       "      <td>1550</td>\n",
       "      <td>6.687600</td>\n",
       "      <td>6.736133</td>\n",
       "    </tr>\n",
       "    <tr>\n",
       "      <td>1600</td>\n",
       "      <td>6.724000</td>\n",
       "      <td>6.741551</td>\n",
       "    </tr>\n",
       "    <tr>\n",
       "      <td>1650</td>\n",
       "      <td>6.712600</td>\n",
       "      <td>6.711163</td>\n",
       "    </tr>\n",
       "    <tr>\n",
       "      <td>1700</td>\n",
       "      <td>6.717400</td>\n",
       "      <td>6.702168</td>\n",
       "    </tr>\n",
       "    <tr>\n",
       "      <td>1750</td>\n",
       "      <td>6.685700</td>\n",
       "      <td>6.690256</td>\n",
       "    </tr>\n",
       "    <tr>\n",
       "      <td>1800</td>\n",
       "      <td>6.685800</td>\n",
       "      <td>6.726182</td>\n",
       "    </tr>\n",
       "    <tr>\n",
       "      <td>1850</td>\n",
       "      <td>6.725100</td>\n",
       "      <td>6.725142</td>\n",
       "    </tr>\n",
       "    <tr>\n",
       "      <td>1900</td>\n",
       "      <td>6.717000</td>\n",
       "      <td>6.734217</td>\n",
       "    </tr>\n",
       "    <tr>\n",
       "      <td>1950</td>\n",
       "      <td>6.687100</td>\n",
       "      <td>6.729655</td>\n",
       "    </tr>\n",
       "    <tr>\n",
       "      <td>2000</td>\n",
       "      <td>6.704200</td>\n",
       "      <td>6.723419</td>\n",
       "    </tr>\n",
       "    <tr>\n",
       "      <td>2050</td>\n",
       "      <td>6.682300</td>\n",
       "      <td>6.731767</td>\n",
       "    </tr>\n",
       "  </tbody>\n",
       "</table><p>"
      ],
      "text/plain": [
       "<IPython.core.display.HTML object>"
      ]
     },
     "metadata": {},
     "output_type": "display_data"
    },
    {
     "name": "stderr",
     "output_type": "stream",
     "text": [
      "The following columns in the evaluation set  don't have a corresponding argument in `BertForMaskedLM.forward` and have been ignored: text, special_tokens_mask.\n",
      "***** Running Evaluation *****\n",
      "  Num examples = 3672\n",
      "  Batch size = 32\n",
      "The following columns in the evaluation set  don't have a corresponding argument in `BertForMaskedLM.forward` and have been ignored: text, special_tokens_mask.\n",
      "***** Running Evaluation *****\n",
      "  Num examples = 3672\n",
      "  Batch size = 32\n",
      "Saving model checkpoint to pretrained-bert/checkpoint-100\n",
      "Configuration saved in pretrained-bert/checkpoint-100/config.json\n",
      "Model weights saved in pretrained-bert/checkpoint-100/pytorch_model.bin\n",
      "The following columns in the evaluation set  don't have a corresponding argument in `BertForMaskedLM.forward` and have been ignored: text, special_tokens_mask.\n",
      "***** Running Evaluation *****\n",
      "  Num examples = 3672\n",
      "  Batch size = 32\n",
      "The following columns in the evaluation set  don't have a corresponding argument in `BertForMaskedLM.forward` and have been ignored: text, special_tokens_mask.\n",
      "***** Running Evaluation *****\n",
      "  Num examples = 3672\n",
      "  Batch size = 32\n",
      "Saving model checkpoint to pretrained-bert/checkpoint-200\n",
      "Configuration saved in pretrained-bert/checkpoint-200/config.json\n",
      "Model weights saved in pretrained-bert/checkpoint-200/pytorch_model.bin\n",
      "The following columns in the evaluation set  don't have a corresponding argument in `BertForMaskedLM.forward` and have been ignored: text, special_tokens_mask.\n",
      "***** Running Evaluation *****\n",
      "  Num examples = 3672\n",
      "  Batch size = 32\n",
      "The following columns in the evaluation set  don't have a corresponding argument in `BertForMaskedLM.forward` and have been ignored: text, special_tokens_mask.\n",
      "***** Running Evaluation *****\n",
      "  Num examples = 3672\n",
      "  Batch size = 32\n",
      "Saving model checkpoint to pretrained-bert/checkpoint-300\n",
      "Configuration saved in pretrained-bert/checkpoint-300/config.json\n",
      "Model weights saved in pretrained-bert/checkpoint-300/pytorch_model.bin\n",
      "The following columns in the evaluation set  don't have a corresponding argument in `BertForMaskedLM.forward` and have been ignored: text, special_tokens_mask.\n",
      "***** Running Evaluation *****\n",
      "  Num examples = 3672\n",
      "  Batch size = 32\n",
      "The following columns in the evaluation set  don't have a corresponding argument in `BertForMaskedLM.forward` and have been ignored: text, special_tokens_mask.\n",
      "***** Running Evaluation *****\n",
      "  Num examples = 3672\n",
      "  Batch size = 32\n",
      "Saving model checkpoint to pretrained-bert/checkpoint-400\n",
      "Configuration saved in pretrained-bert/checkpoint-400/config.json\n",
      "Model weights saved in pretrained-bert/checkpoint-400/pytorch_model.bin\n",
      "The following columns in the evaluation set  don't have a corresponding argument in `BertForMaskedLM.forward` and have been ignored: text, special_tokens_mask.\n",
      "***** Running Evaluation *****\n",
      "  Num examples = 3672\n",
      "  Batch size = 32\n",
      "The following columns in the evaluation set  don't have a corresponding argument in `BertForMaskedLM.forward` and have been ignored: text, special_tokens_mask.\n",
      "***** Running Evaluation *****\n",
      "  Num examples = 3672\n",
      "  Batch size = 32\n",
      "Saving model checkpoint to pretrained-bert/checkpoint-500\n",
      "Configuration saved in pretrained-bert/checkpoint-500/config.json\n",
      "Model weights saved in pretrained-bert/checkpoint-500/pytorch_model.bin\n",
      "The following columns in the evaluation set  don't have a corresponding argument in `BertForMaskedLM.forward` and have been ignored: text, special_tokens_mask.\n",
      "***** Running Evaluation *****\n",
      "  Num examples = 3672\n",
      "  Batch size = 32\n",
      "The following columns in the evaluation set  don't have a corresponding argument in `BertForMaskedLM.forward` and have been ignored: text, special_tokens_mask.\n",
      "***** Running Evaluation *****\n",
      "  Num examples = 3672\n",
      "  Batch size = 32\n",
      "Saving model checkpoint to pretrained-bert/checkpoint-600\n",
      "Configuration saved in pretrained-bert/checkpoint-600/config.json\n",
      "Model weights saved in pretrained-bert/checkpoint-600/pytorch_model.bin\n",
      "The following columns in the evaluation set  don't have a corresponding argument in `BertForMaskedLM.forward` and have been ignored: text, special_tokens_mask.\n",
      "***** Running Evaluation *****\n",
      "  Num examples = 3672\n",
      "  Batch size = 32\n",
      "The following columns in the evaluation set  don't have a corresponding argument in `BertForMaskedLM.forward` and have been ignored: text, special_tokens_mask.\n",
      "***** Running Evaluation *****\n",
      "  Num examples = 3672\n",
      "  Batch size = 32\n",
      "Saving model checkpoint to pretrained-bert/checkpoint-700\n",
      "Configuration saved in pretrained-bert/checkpoint-700/config.json\n",
      "Model weights saved in pretrained-bert/checkpoint-700/pytorch_model.bin\n",
      "The following columns in the evaluation set  don't have a corresponding argument in `BertForMaskedLM.forward` and have been ignored: text, special_tokens_mask.\n",
      "***** Running Evaluation *****\n",
      "  Num examples = 3672\n",
      "  Batch size = 32\n",
      "The following columns in the evaluation set  don't have a corresponding argument in `BertForMaskedLM.forward` and have been ignored: text, special_tokens_mask.\n",
      "***** Running Evaluation *****\n",
      "  Num examples = 3672\n",
      "  Batch size = 32\n",
      "Saving model checkpoint to pretrained-bert/checkpoint-800\n",
      "Configuration saved in pretrained-bert/checkpoint-800/config.json\n",
      "Model weights saved in pretrained-bert/checkpoint-800/pytorch_model.bin\n",
      "The following columns in the evaluation set  don't have a corresponding argument in `BertForMaskedLM.forward` and have been ignored: text, special_tokens_mask.\n",
      "***** Running Evaluation *****\n",
      "  Num examples = 3672\n",
      "  Batch size = 32\n",
      "The following columns in the evaluation set  don't have a corresponding argument in `BertForMaskedLM.forward` and have been ignored: text, special_tokens_mask.\n",
      "***** Running Evaluation *****\n",
      "  Num examples = 3672\n",
      "  Batch size = 32\n",
      "Saving model checkpoint to pretrained-bert/checkpoint-900\n",
      "Configuration saved in pretrained-bert/checkpoint-900/config.json\n",
      "Model weights saved in pretrained-bert/checkpoint-900/pytorch_model.bin\n",
      "The following columns in the evaluation set  don't have a corresponding argument in `BertForMaskedLM.forward` and have been ignored: text, special_tokens_mask.\n",
      "***** Running Evaluation *****\n",
      "  Num examples = 3672\n",
      "  Batch size = 32\n",
      "The following columns in the evaluation set  don't have a corresponding argument in `BertForMaskedLM.forward` and have been ignored: text, special_tokens_mask.\n",
      "***** Running Evaluation *****\n",
      "  Num examples = 3672\n",
      "  Batch size = 32\n",
      "Saving model checkpoint to pretrained-bert/checkpoint-1000\n",
      "Configuration saved in pretrained-bert/checkpoint-1000/config.json\n",
      "Model weights saved in pretrained-bert/checkpoint-1000/pytorch_model.bin\n",
      "The following columns in the evaluation set  don't have a corresponding argument in `BertForMaskedLM.forward` and have been ignored: text, special_tokens_mask.\n",
      "***** Running Evaluation *****\n",
      "  Num examples = 3672\n",
      "  Batch size = 32\n",
      "The following columns in the evaluation set  don't have a corresponding argument in `BertForMaskedLM.forward` and have been ignored: text, special_tokens_mask.\n",
      "***** Running Evaluation *****\n",
      "  Num examples = 3672\n",
      "  Batch size = 32\n",
      "Saving model checkpoint to pretrained-bert/checkpoint-1100\n",
      "Configuration saved in pretrained-bert/checkpoint-1100/config.json\n",
      "Model weights saved in pretrained-bert/checkpoint-1100/pytorch_model.bin\n",
      "The following columns in the evaluation set  don't have a corresponding argument in `BertForMaskedLM.forward` and have been ignored: text, special_tokens_mask.\n",
      "***** Running Evaluation *****\n",
      "  Num examples = 3672\n",
      "  Batch size = 32\n",
      "The following columns in the evaluation set  don't have a corresponding argument in `BertForMaskedLM.forward` and have been ignored: text, special_tokens_mask.\n",
      "***** Running Evaluation *****\n",
      "  Num examples = 3672\n",
      "  Batch size = 32\n",
      "Saving model checkpoint to pretrained-bert/checkpoint-1200\n",
      "Configuration saved in pretrained-bert/checkpoint-1200/config.json\n",
      "Model weights saved in pretrained-bert/checkpoint-1200/pytorch_model.bin\n",
      "The following columns in the evaluation set  don't have a corresponding argument in `BertForMaskedLM.forward` and have been ignored: text, special_tokens_mask.\n",
      "***** Running Evaluation *****\n",
      "  Num examples = 3672\n",
      "  Batch size = 32\n",
      "The following columns in the evaluation set  don't have a corresponding argument in `BertForMaskedLM.forward` and have been ignored: text, special_tokens_mask.\n",
      "***** Running Evaluation *****\n",
      "  Num examples = 3672\n",
      "  Batch size = 32\n",
      "Saving model checkpoint to pretrained-bert/checkpoint-1300\n",
      "Configuration saved in pretrained-bert/checkpoint-1300/config.json\n",
      "Model weights saved in pretrained-bert/checkpoint-1300/pytorch_model.bin\n",
      "The following columns in the evaluation set  don't have a corresponding argument in `BertForMaskedLM.forward` and have been ignored: text, special_tokens_mask.\n",
      "***** Running Evaluation *****\n",
      "  Num examples = 3672\n",
      "  Batch size = 32\n",
      "The following columns in the evaluation set  don't have a corresponding argument in `BertForMaskedLM.forward` and have been ignored: text, special_tokens_mask.\n",
      "***** Running Evaluation *****\n",
      "  Num examples = 3672\n",
      "  Batch size = 32\n",
      "Saving model checkpoint to pretrained-bert/checkpoint-1400\n",
      "Configuration saved in pretrained-bert/checkpoint-1400/config.json\n",
      "Model weights saved in pretrained-bert/checkpoint-1400/pytorch_model.bin\n",
      "The following columns in the evaluation set  don't have a corresponding argument in `BertForMaskedLM.forward` and have been ignored: text, special_tokens_mask.\n",
      "***** Running Evaluation *****\n",
      "  Num examples = 3672\n",
      "  Batch size = 32\n",
      "The following columns in the evaluation set  don't have a corresponding argument in `BertForMaskedLM.forward` and have been ignored: text, special_tokens_mask.\n",
      "***** Running Evaluation *****\n",
      "  Num examples = 3672\n",
      "  Batch size = 32\n",
      "Saving model checkpoint to pretrained-bert/checkpoint-1500\n",
      "Configuration saved in pretrained-bert/checkpoint-1500/config.json\n",
      "Model weights saved in pretrained-bert/checkpoint-1500/pytorch_model.bin\n",
      "The following columns in the evaluation set  don't have a corresponding argument in `BertForMaskedLM.forward` and have been ignored: text, special_tokens_mask.\n",
      "***** Running Evaluation *****\n",
      "  Num examples = 3672\n",
      "  Batch size = 32\n",
      "The following columns in the evaluation set  don't have a corresponding argument in `BertForMaskedLM.forward` and have been ignored: text, special_tokens_mask.\n",
      "***** Running Evaluation *****\n",
      "  Num examples = 3672\n",
      "  Batch size = 32\n",
      "Saving model checkpoint to pretrained-bert/checkpoint-1600\n",
      "Configuration saved in pretrained-bert/checkpoint-1600/config.json\n",
      "Model weights saved in pretrained-bert/checkpoint-1600/pytorch_model.bin\n",
      "The following columns in the evaluation set  don't have a corresponding argument in `BertForMaskedLM.forward` and have been ignored: text, special_tokens_mask.\n",
      "***** Running Evaluation *****\n",
      "  Num examples = 3672\n",
      "  Batch size = 32\n",
      "The following columns in the evaluation set  don't have a corresponding argument in `BertForMaskedLM.forward` and have been ignored: text, special_tokens_mask.\n",
      "***** Running Evaluation *****\n",
      "  Num examples = 3672\n",
      "  Batch size = 32\n",
      "Saving model checkpoint to pretrained-bert/checkpoint-1700\n",
      "Configuration saved in pretrained-bert/checkpoint-1700/config.json\n",
      "Model weights saved in pretrained-bert/checkpoint-1700/pytorch_model.bin\n",
      "The following columns in the evaluation set  don't have a corresponding argument in `BertForMaskedLM.forward` and have been ignored: text, special_tokens_mask.\n",
      "***** Running Evaluation *****\n",
      "  Num examples = 3672\n",
      "  Batch size = 32\n",
      "The following columns in the evaluation set  don't have a corresponding argument in `BertForMaskedLM.forward` and have been ignored: text, special_tokens_mask.\n",
      "***** Running Evaluation *****\n",
      "  Num examples = 3672\n",
      "  Batch size = 32\n",
      "Saving model checkpoint to pretrained-bert/checkpoint-1800\n",
      "Configuration saved in pretrained-bert/checkpoint-1800/config.json\n",
      "Model weights saved in pretrained-bert/checkpoint-1800/pytorch_model.bin\n",
      "The following columns in the evaluation set  don't have a corresponding argument in `BertForMaskedLM.forward` and have been ignored: text, special_tokens_mask.\n",
      "***** Running Evaluation *****\n",
      "  Num examples = 3672\n",
      "  Batch size = 32\n",
      "The following columns in the evaluation set  don't have a corresponding argument in `BertForMaskedLM.forward` and have been ignored: text, special_tokens_mask.\n",
      "***** Running Evaluation *****\n",
      "  Num examples = 3672\n",
      "  Batch size = 32\n",
      "Saving model checkpoint to pretrained-bert/checkpoint-1900\n",
      "Configuration saved in pretrained-bert/checkpoint-1900/config.json\n",
      "Model weights saved in pretrained-bert/checkpoint-1900/pytorch_model.bin\n",
      "The following columns in the evaluation set  don't have a corresponding argument in `BertForMaskedLM.forward` and have been ignored: text, special_tokens_mask.\n",
      "***** Running Evaluation *****\n",
      "  Num examples = 3672\n",
      "  Batch size = 32\n",
      "The following columns in the evaluation set  don't have a corresponding argument in `BertForMaskedLM.forward` and have been ignored: text, special_tokens_mask.\n",
      "***** Running Evaluation *****\n",
      "  Num examples = 3672\n",
      "  Batch size = 32\n",
      "Saving model checkpoint to pretrained-bert/checkpoint-2000\n",
      "Configuration saved in pretrained-bert/checkpoint-2000/config.json\n",
      "Model weights saved in pretrained-bert/checkpoint-2000/pytorch_model.bin\n",
      "The following columns in the evaluation set  don't have a corresponding argument in `BertForMaskedLM.forward` and have been ignored: text, special_tokens_mask.\n",
      "***** Running Evaluation *****\n",
      "  Num examples = 3672\n",
      "  Batch size = 32\n",
      "\n",
      "\n",
      "Training completed. Do not forget to share your model on huggingface.co/models =)\n",
      "\n",
      "\n"
     ]
    },
    {
     "data": {
      "text/plain": [
       "TrainOutput(global_step=2065, training_loss=6.936111099206218, metrics={'train_runtime': 7159.8546, 'train_samples_per_second': 23.077, 'train_steps_per_second': 0.288, 'total_flos': 1.0899246939291648e+16, 'train_loss': 6.936111099206218, 'epoch': 5.0})"
      ]
     },
     "execution_count": 57,
     "metadata": {},
     "output_type": "execute_result"
    }
   ],
   "source": [
    "#Train Small Model\n",
    "\n",
    "trainer.train()"
   ]
  },
  {
   "cell_type": "code",
   "execution_count": 17,
   "metadata": {
    "id": "TPtJCx2_8wQr"
   },
   "outputs": [],
   "source": [
    "# initialize the large model\n",
    "model_config = BertConfig(vocab_size=vocab_size, max_position_embeddings=max_length, hidden_size=768, intermediate_size=3072)\n",
    "model = BertForMaskedLM(config=model_config)"
   ]
  },
  {
   "cell_type": "code",
   "execution_count": 18,
   "metadata": {
    "id": "60pcmwSP8-YK"
   },
   "outputs": [],
   "source": [
    "# initialize the trainer for the large model\n",
    "trainer = Trainer(\n",
    "    model=model,\n",
    "    args=training_args,\n",
    "    data_collator=data_collator,\n",
    "    train_dataset=train_dataset,\n",
    "    eval_dataset=test_dataset,\n",
    ")"
   ]
  },
  {
   "cell_type": "code",
   "execution_count": 19,
   "metadata": {
    "colab": {
     "base_uri": "https://localhost:8080/",
     "height": 1000
    },
    "id": "PRXZYedm8_m7",
    "outputId": "2e0902c2-a4c3-42a1-c4c1-ca60178ae375"
   },
   "outputs": [
    {
     "name": "stderr",
     "output_type": "stream",
     "text": [
      "The following columns in the training set  don't have a corresponding argument in `BertForMaskedLM.forward` and have been ignored: special_tokens_mask, text.\n",
      "***** Running training *****\n",
      "  Num examples = 33046\n",
      "  Num Epochs = 5\n",
      "  Instantaneous batch size per device = 10\n",
      "  Total train batch size (w. parallel, distributed & accumulation) = 80\n",
      "  Gradient Accumulation steps = 8\n",
      "  Total optimization steps = 2065\n"
     ]
    },
    {
     "data": {
      "text/html": [
       "\n",
       "    <div>\n",
       "      \n",
       "      <progress value='2065' max='2065' style='width:300px; height:20px; vertical-align: middle;'></progress>\n",
       "      [2065/2065 3:58:54, Epoch 4/5]\n",
       "    </div>\n",
       "    <table border=\"1\" class=\"dataframe\">\n",
       "  <thead>\n",
       "    <tr style=\"text-align: left;\">\n",
       "      <th>Step</th>\n",
       "      <th>Training Loss</th>\n",
       "      <th>Validation Loss</th>\n",
       "    </tr>\n",
       "  </thead>\n",
       "  <tbody>\n",
       "    <tr>\n",
       "      <td>50</td>\n",
       "      <td>8.555900</td>\n",
       "      <td>7.802297</td>\n",
       "    </tr>\n",
       "    <tr>\n",
       "      <td>100</td>\n",
       "      <td>7.437700</td>\n",
       "      <td>7.232141</td>\n",
       "    </tr>\n",
       "    <tr>\n",
       "      <td>150</td>\n",
       "      <td>7.093300</td>\n",
       "      <td>7.063266</td>\n",
       "    </tr>\n",
       "    <tr>\n",
       "      <td>200</td>\n",
       "      <td>6.960900</td>\n",
       "      <td>6.956327</td>\n",
       "    </tr>\n",
       "    <tr>\n",
       "      <td>250</td>\n",
       "      <td>6.887000</td>\n",
       "      <td>6.894192</td>\n",
       "    </tr>\n",
       "    <tr>\n",
       "      <td>300</td>\n",
       "      <td>6.921800</td>\n",
       "      <td>6.856801</td>\n",
       "    </tr>\n",
       "    <tr>\n",
       "      <td>350</td>\n",
       "      <td>6.865700</td>\n",
       "      <td>6.829479</td>\n",
       "    </tr>\n",
       "    <tr>\n",
       "      <td>400</td>\n",
       "      <td>6.849300</td>\n",
       "      <td>6.804782</td>\n",
       "    </tr>\n",
       "    <tr>\n",
       "      <td>450</td>\n",
       "      <td>6.799600</td>\n",
       "      <td>6.806821</td>\n",
       "    </tr>\n",
       "    <tr>\n",
       "      <td>500</td>\n",
       "      <td>6.745700</td>\n",
       "      <td>6.754200</td>\n",
       "    </tr>\n",
       "    <tr>\n",
       "      <td>550</td>\n",
       "      <td>6.770100</td>\n",
       "      <td>6.741763</td>\n",
       "    </tr>\n",
       "    <tr>\n",
       "      <td>600</td>\n",
       "      <td>6.690200</td>\n",
       "      <td>6.722824</td>\n",
       "    </tr>\n",
       "    <tr>\n",
       "      <td>650</td>\n",
       "      <td>6.709200</td>\n",
       "      <td>6.722679</td>\n",
       "    </tr>\n",
       "    <tr>\n",
       "      <td>700</td>\n",
       "      <td>6.701300</td>\n",
       "      <td>6.664813</td>\n",
       "    </tr>\n",
       "    <tr>\n",
       "      <td>750</td>\n",
       "      <td>6.668300</td>\n",
       "      <td>6.670478</td>\n",
       "    </tr>\n",
       "    <tr>\n",
       "      <td>800</td>\n",
       "      <td>6.681500</td>\n",
       "      <td>6.684071</td>\n",
       "    </tr>\n",
       "    <tr>\n",
       "      <td>850</td>\n",
       "      <td>6.635300</td>\n",
       "      <td>6.637330</td>\n",
       "    </tr>\n",
       "    <tr>\n",
       "      <td>900</td>\n",
       "      <td>6.617900</td>\n",
       "      <td>6.628520</td>\n",
       "    </tr>\n",
       "    <tr>\n",
       "      <td>950</td>\n",
       "      <td>6.630700</td>\n",
       "      <td>6.645431</td>\n",
       "    </tr>\n",
       "    <tr>\n",
       "      <td>1000</td>\n",
       "      <td>6.565700</td>\n",
       "      <td>6.617745</td>\n",
       "    </tr>\n",
       "    <tr>\n",
       "      <td>1050</td>\n",
       "      <td>6.573000</td>\n",
       "      <td>6.599951</td>\n",
       "    </tr>\n",
       "    <tr>\n",
       "      <td>1100</td>\n",
       "      <td>6.581900</td>\n",
       "      <td>6.629691</td>\n",
       "    </tr>\n",
       "    <tr>\n",
       "      <td>1150</td>\n",
       "      <td>6.558900</td>\n",
       "      <td>6.576924</td>\n",
       "    </tr>\n",
       "    <tr>\n",
       "      <td>1200</td>\n",
       "      <td>6.536700</td>\n",
       "      <td>6.593620</td>\n",
       "    </tr>\n",
       "    <tr>\n",
       "      <td>1250</td>\n",
       "      <td>6.589500</td>\n",
       "      <td>6.541176</td>\n",
       "    </tr>\n",
       "    <tr>\n",
       "      <td>1300</td>\n",
       "      <td>6.534300</td>\n",
       "      <td>6.547276</td>\n",
       "    </tr>\n",
       "    <tr>\n",
       "      <td>1350</td>\n",
       "      <td>6.563300</td>\n",
       "      <td>6.563351</td>\n",
       "    </tr>\n",
       "    <tr>\n",
       "      <td>1400</td>\n",
       "      <td>6.486500</td>\n",
       "      <td>6.547226</td>\n",
       "    </tr>\n",
       "    <tr>\n",
       "      <td>1450</td>\n",
       "      <td>6.535700</td>\n",
       "      <td>6.544916</td>\n",
       "    </tr>\n",
       "    <tr>\n",
       "      <td>1500</td>\n",
       "      <td>6.529900</td>\n",
       "      <td>6.552440</td>\n",
       "    </tr>\n",
       "    <tr>\n",
       "      <td>1550</td>\n",
       "      <td>6.488300</td>\n",
       "      <td>6.546326</td>\n",
       "    </tr>\n",
       "    <tr>\n",
       "      <td>1600</td>\n",
       "      <td>6.513600</td>\n",
       "      <td>6.527948</td>\n",
       "    </tr>\n",
       "    <tr>\n",
       "      <td>1650</td>\n",
       "      <td>6.524700</td>\n",
       "      <td>6.496987</td>\n",
       "    </tr>\n",
       "    <tr>\n",
       "      <td>1700</td>\n",
       "      <td>6.491800</td>\n",
       "      <td>6.504026</td>\n",
       "    </tr>\n",
       "    <tr>\n",
       "      <td>1750</td>\n",
       "      <td>6.509700</td>\n",
       "      <td>6.514259</td>\n",
       "    </tr>\n",
       "    <tr>\n",
       "      <td>1800</td>\n",
       "      <td>6.491900</td>\n",
       "      <td>6.535562</td>\n",
       "    </tr>\n",
       "    <tr>\n",
       "      <td>1850</td>\n",
       "      <td>6.478600</td>\n",
       "      <td>6.498108</td>\n",
       "    </tr>\n",
       "    <tr>\n",
       "      <td>1900</td>\n",
       "      <td>6.517000</td>\n",
       "      <td>6.500756</td>\n",
       "    </tr>\n",
       "    <tr>\n",
       "      <td>1950</td>\n",
       "      <td>6.485600</td>\n",
       "      <td>6.496908</td>\n",
       "    </tr>\n",
       "    <tr>\n",
       "      <td>2000</td>\n",
       "      <td>6.455300</td>\n",
       "      <td>6.523918</td>\n",
       "    </tr>\n",
       "    <tr>\n",
       "      <td>2050</td>\n",
       "      <td>6.472400</td>\n",
       "      <td>6.502099</td>\n",
       "    </tr>\n",
       "  </tbody>\n",
       "</table><p>"
      ],
      "text/plain": [
       "<IPython.core.display.HTML object>"
      ]
     },
     "metadata": {},
     "output_type": "display_data"
    },
    {
     "name": "stderr",
     "output_type": "stream",
     "text": [
      "The following columns in the evaluation set  don't have a corresponding argument in `BertForMaskedLM.forward` and have been ignored: special_tokens_mask, text.\n",
      "***** Running Evaluation *****\n",
      "  Num examples = 3672\n",
      "  Batch size = 32\n",
      "The following columns in the evaluation set  don't have a corresponding argument in `BertForMaskedLM.forward` and have been ignored: special_tokens_mask, text.\n",
      "***** Running Evaluation *****\n",
      "  Num examples = 3672\n",
      "  Batch size = 32\n",
      "Saving model checkpoint to pretrained-bert/checkpoint-100\n",
      "Configuration saved in pretrained-bert/checkpoint-100/config.json\n",
      "Model weights saved in pretrained-bert/checkpoint-100/pytorch_model.bin\n",
      "The following columns in the evaluation set  don't have a corresponding argument in `BertForMaskedLM.forward` and have been ignored: special_tokens_mask, text.\n",
      "***** Running Evaluation *****\n",
      "  Num examples = 3672\n",
      "  Batch size = 32\n",
      "The following columns in the evaluation set  don't have a corresponding argument in `BertForMaskedLM.forward` and have been ignored: special_tokens_mask, text.\n",
      "***** Running Evaluation *****\n",
      "  Num examples = 3672\n",
      "  Batch size = 32\n",
      "Saving model checkpoint to pretrained-bert/checkpoint-200\n",
      "Configuration saved in pretrained-bert/checkpoint-200/config.json\n",
      "Model weights saved in pretrained-bert/checkpoint-200/pytorch_model.bin\n",
      "The following columns in the evaluation set  don't have a corresponding argument in `BertForMaskedLM.forward` and have been ignored: special_tokens_mask, text.\n",
      "***** Running Evaluation *****\n",
      "  Num examples = 3672\n",
      "  Batch size = 32\n",
      "The following columns in the evaluation set  don't have a corresponding argument in `BertForMaskedLM.forward` and have been ignored: special_tokens_mask, text.\n",
      "***** Running Evaluation *****\n",
      "  Num examples = 3672\n",
      "  Batch size = 32\n",
      "Saving model checkpoint to pretrained-bert/checkpoint-300\n",
      "Configuration saved in pretrained-bert/checkpoint-300/config.json\n",
      "Model weights saved in pretrained-bert/checkpoint-300/pytorch_model.bin\n",
      "The following columns in the evaluation set  don't have a corresponding argument in `BertForMaskedLM.forward` and have been ignored: special_tokens_mask, text.\n",
      "***** Running Evaluation *****\n",
      "  Num examples = 3672\n",
      "  Batch size = 32\n",
      "The following columns in the evaluation set  don't have a corresponding argument in `BertForMaskedLM.forward` and have been ignored: special_tokens_mask, text.\n",
      "***** Running Evaluation *****\n",
      "  Num examples = 3672\n",
      "  Batch size = 32\n",
      "Saving model checkpoint to pretrained-bert/checkpoint-400\n",
      "Configuration saved in pretrained-bert/checkpoint-400/config.json\n",
      "Model weights saved in pretrained-bert/checkpoint-400/pytorch_model.bin\n",
      "The following columns in the evaluation set  don't have a corresponding argument in `BertForMaskedLM.forward` and have been ignored: special_tokens_mask, text.\n",
      "***** Running Evaluation *****\n",
      "  Num examples = 3672\n",
      "  Batch size = 32\n",
      "The following columns in the evaluation set  don't have a corresponding argument in `BertForMaskedLM.forward` and have been ignored: special_tokens_mask, text.\n",
      "***** Running Evaluation *****\n",
      "  Num examples = 3672\n",
      "  Batch size = 32\n",
      "Saving model checkpoint to pretrained-bert/checkpoint-500\n",
      "Configuration saved in pretrained-bert/checkpoint-500/config.json\n",
      "Model weights saved in pretrained-bert/checkpoint-500/pytorch_model.bin\n",
      "The following columns in the evaluation set  don't have a corresponding argument in `BertForMaskedLM.forward` and have been ignored: special_tokens_mask, text.\n",
      "***** Running Evaluation *****\n",
      "  Num examples = 3672\n",
      "  Batch size = 32\n",
      "The following columns in the evaluation set  don't have a corresponding argument in `BertForMaskedLM.forward` and have been ignored: special_tokens_mask, text.\n",
      "***** Running Evaluation *****\n",
      "  Num examples = 3672\n",
      "  Batch size = 32\n",
      "Saving model checkpoint to pretrained-bert/checkpoint-600\n",
      "Configuration saved in pretrained-bert/checkpoint-600/config.json\n",
      "Model weights saved in pretrained-bert/checkpoint-600/pytorch_model.bin\n",
      "The following columns in the evaluation set  don't have a corresponding argument in `BertForMaskedLM.forward` and have been ignored: special_tokens_mask, text.\n",
      "***** Running Evaluation *****\n",
      "  Num examples = 3672\n",
      "  Batch size = 32\n",
      "The following columns in the evaluation set  don't have a corresponding argument in `BertForMaskedLM.forward` and have been ignored: special_tokens_mask, text.\n",
      "***** Running Evaluation *****\n",
      "  Num examples = 3672\n",
      "  Batch size = 32\n",
      "Saving model checkpoint to pretrained-bert/checkpoint-700\n",
      "Configuration saved in pretrained-bert/checkpoint-700/config.json\n",
      "Model weights saved in pretrained-bert/checkpoint-700/pytorch_model.bin\n",
      "The following columns in the evaluation set  don't have a corresponding argument in `BertForMaskedLM.forward` and have been ignored: special_tokens_mask, text.\n",
      "***** Running Evaluation *****\n",
      "  Num examples = 3672\n",
      "  Batch size = 32\n",
      "The following columns in the evaluation set  don't have a corresponding argument in `BertForMaskedLM.forward` and have been ignored: special_tokens_mask, text.\n",
      "***** Running Evaluation *****\n",
      "  Num examples = 3672\n",
      "  Batch size = 32\n",
      "Saving model checkpoint to pretrained-bert/checkpoint-800\n",
      "Configuration saved in pretrained-bert/checkpoint-800/config.json\n",
      "Model weights saved in pretrained-bert/checkpoint-800/pytorch_model.bin\n",
      "The following columns in the evaluation set  don't have a corresponding argument in `BertForMaskedLM.forward` and have been ignored: special_tokens_mask, text.\n",
      "***** Running Evaluation *****\n",
      "  Num examples = 3672\n",
      "  Batch size = 32\n",
      "The following columns in the evaluation set  don't have a corresponding argument in `BertForMaskedLM.forward` and have been ignored: special_tokens_mask, text.\n",
      "***** Running Evaluation *****\n",
      "  Num examples = 3672\n",
      "  Batch size = 32\n",
      "Saving model checkpoint to pretrained-bert/checkpoint-900\n",
      "Configuration saved in pretrained-bert/checkpoint-900/config.json\n",
      "Model weights saved in pretrained-bert/checkpoint-900/pytorch_model.bin\n",
      "The following columns in the evaluation set  don't have a corresponding argument in `BertForMaskedLM.forward` and have been ignored: special_tokens_mask, text.\n",
      "***** Running Evaluation *****\n",
      "  Num examples = 3672\n",
      "  Batch size = 32\n",
      "The following columns in the evaluation set  don't have a corresponding argument in `BertForMaskedLM.forward` and have been ignored: special_tokens_mask, text.\n",
      "***** Running Evaluation *****\n",
      "  Num examples = 3672\n",
      "  Batch size = 32\n",
      "Saving model checkpoint to pretrained-bert/checkpoint-1000\n",
      "Configuration saved in pretrained-bert/checkpoint-1000/config.json\n",
      "Model weights saved in pretrained-bert/checkpoint-1000/pytorch_model.bin\n",
      "The following columns in the evaluation set  don't have a corresponding argument in `BertForMaskedLM.forward` and have been ignored: special_tokens_mask, text.\n",
      "***** Running Evaluation *****\n",
      "  Num examples = 3672\n",
      "  Batch size = 32\n",
      "The following columns in the evaluation set  don't have a corresponding argument in `BertForMaskedLM.forward` and have been ignored: special_tokens_mask, text.\n",
      "***** Running Evaluation *****\n",
      "  Num examples = 3672\n",
      "  Batch size = 32\n",
      "Saving model checkpoint to pretrained-bert/checkpoint-1100\n",
      "Configuration saved in pretrained-bert/checkpoint-1100/config.json\n",
      "Model weights saved in pretrained-bert/checkpoint-1100/pytorch_model.bin\n",
      "The following columns in the evaluation set  don't have a corresponding argument in `BertForMaskedLM.forward` and have been ignored: special_tokens_mask, text.\n",
      "***** Running Evaluation *****\n",
      "  Num examples = 3672\n",
      "  Batch size = 32\n",
      "The following columns in the evaluation set  don't have a corresponding argument in `BertForMaskedLM.forward` and have been ignored: special_tokens_mask, text.\n",
      "***** Running Evaluation *****\n",
      "  Num examples = 3672\n",
      "  Batch size = 32\n",
      "Saving model checkpoint to pretrained-bert/checkpoint-1200\n",
      "Configuration saved in pretrained-bert/checkpoint-1200/config.json\n",
      "Model weights saved in pretrained-bert/checkpoint-1200/pytorch_model.bin\n",
      "The following columns in the evaluation set  don't have a corresponding argument in `BertForMaskedLM.forward` and have been ignored: special_tokens_mask, text.\n",
      "***** Running Evaluation *****\n",
      "  Num examples = 3672\n",
      "  Batch size = 32\n",
      "The following columns in the evaluation set  don't have a corresponding argument in `BertForMaskedLM.forward` and have been ignored: special_tokens_mask, text.\n",
      "***** Running Evaluation *****\n",
      "  Num examples = 3672\n",
      "  Batch size = 32\n",
      "Saving model checkpoint to pretrained-bert/checkpoint-1300\n",
      "Configuration saved in pretrained-bert/checkpoint-1300/config.json\n",
      "Model weights saved in pretrained-bert/checkpoint-1300/pytorch_model.bin\n",
      "The following columns in the evaluation set  don't have a corresponding argument in `BertForMaskedLM.forward` and have been ignored: special_tokens_mask, text.\n",
      "***** Running Evaluation *****\n",
      "  Num examples = 3672\n",
      "  Batch size = 32\n",
      "The following columns in the evaluation set  don't have a corresponding argument in `BertForMaskedLM.forward` and have been ignored: special_tokens_mask, text.\n",
      "***** Running Evaluation *****\n",
      "  Num examples = 3672\n",
      "  Batch size = 32\n",
      "Saving model checkpoint to pretrained-bert/checkpoint-1400\n",
      "Configuration saved in pretrained-bert/checkpoint-1400/config.json\n",
      "Model weights saved in pretrained-bert/checkpoint-1400/pytorch_model.bin\n",
      "The following columns in the evaluation set  don't have a corresponding argument in `BertForMaskedLM.forward` and have been ignored: special_tokens_mask, text.\n",
      "***** Running Evaluation *****\n",
      "  Num examples = 3672\n",
      "  Batch size = 32\n",
      "The following columns in the evaluation set  don't have a corresponding argument in `BertForMaskedLM.forward` and have been ignored: special_tokens_mask, text.\n",
      "***** Running Evaluation *****\n",
      "  Num examples = 3672\n",
      "  Batch size = 32\n",
      "Saving model checkpoint to pretrained-bert/checkpoint-1500\n",
      "Configuration saved in pretrained-bert/checkpoint-1500/config.json\n",
      "Model weights saved in pretrained-bert/checkpoint-1500/pytorch_model.bin\n",
      "The following columns in the evaluation set  don't have a corresponding argument in `BertForMaskedLM.forward` and have been ignored: special_tokens_mask, text.\n",
      "***** Running Evaluation *****\n",
      "  Num examples = 3672\n",
      "  Batch size = 32\n",
      "The following columns in the evaluation set  don't have a corresponding argument in `BertForMaskedLM.forward` and have been ignored: special_tokens_mask, text.\n",
      "***** Running Evaluation *****\n",
      "  Num examples = 3672\n",
      "  Batch size = 32\n",
      "Saving model checkpoint to pretrained-bert/checkpoint-1600\n",
      "Configuration saved in pretrained-bert/checkpoint-1600/config.json\n",
      "Model weights saved in pretrained-bert/checkpoint-1600/pytorch_model.bin\n",
      "The following columns in the evaluation set  don't have a corresponding argument in `BertForMaskedLM.forward` and have been ignored: special_tokens_mask, text.\n",
      "***** Running Evaluation *****\n",
      "  Num examples = 3672\n",
      "  Batch size = 32\n",
      "The following columns in the evaluation set  don't have a corresponding argument in `BertForMaskedLM.forward` and have been ignored: special_tokens_mask, text.\n",
      "***** Running Evaluation *****\n",
      "  Num examples = 3672\n",
      "  Batch size = 32\n",
      "Saving model checkpoint to pretrained-bert/checkpoint-1700\n",
      "Configuration saved in pretrained-bert/checkpoint-1700/config.json\n",
      "Model weights saved in pretrained-bert/checkpoint-1700/pytorch_model.bin\n",
      "The following columns in the evaluation set  don't have a corresponding argument in `BertForMaskedLM.forward` and have been ignored: special_tokens_mask, text.\n",
      "***** Running Evaluation *****\n",
      "  Num examples = 3672\n",
      "  Batch size = 32\n",
      "The following columns in the evaluation set  don't have a corresponding argument in `BertForMaskedLM.forward` and have been ignored: special_tokens_mask, text.\n",
      "***** Running Evaluation *****\n",
      "  Num examples = 3672\n",
      "  Batch size = 32\n",
      "Saving model checkpoint to pretrained-bert/checkpoint-1800\n",
      "Configuration saved in pretrained-bert/checkpoint-1800/config.json\n",
      "Model weights saved in pretrained-bert/checkpoint-1800/pytorch_model.bin\n",
      "The following columns in the evaluation set  don't have a corresponding argument in `BertForMaskedLM.forward` and have been ignored: special_tokens_mask, text.\n",
      "***** Running Evaluation *****\n",
      "  Num examples = 3672\n",
      "  Batch size = 32\n",
      "The following columns in the evaluation set  don't have a corresponding argument in `BertForMaskedLM.forward` and have been ignored: special_tokens_mask, text.\n",
      "***** Running Evaluation *****\n",
      "  Num examples = 3672\n",
      "  Batch size = 32\n",
      "Saving model checkpoint to pretrained-bert/checkpoint-1900\n",
      "Configuration saved in pretrained-bert/checkpoint-1900/config.json\n",
      "Model weights saved in pretrained-bert/checkpoint-1900/pytorch_model.bin\n",
      "The following columns in the evaluation set  don't have a corresponding argument in `BertForMaskedLM.forward` and have been ignored: special_tokens_mask, text.\n",
      "***** Running Evaluation *****\n",
      "  Num examples = 3672\n",
      "  Batch size = 32\n",
      "The following columns in the evaluation set  don't have a corresponding argument in `BertForMaskedLM.forward` and have been ignored: special_tokens_mask, text.\n",
      "***** Running Evaluation *****\n",
      "  Num examples = 3672\n",
      "  Batch size = 32\n",
      "Saving model checkpoint to pretrained-bert/checkpoint-2000\n",
      "Configuration saved in pretrained-bert/checkpoint-2000/config.json\n",
      "Model weights saved in pretrained-bert/checkpoint-2000/pytorch_model.bin\n",
      "The following columns in the evaluation set  don't have a corresponding argument in `BertForMaskedLM.forward` and have been ignored: special_tokens_mask, text.\n",
      "***** Running Evaluation *****\n",
      "  Num examples = 3672\n",
      "  Batch size = 32\n",
      "\n",
      "\n",
      "Training completed. Do not forget to share your model on huggingface.co/models =)\n",
      "\n",
      "\n"
     ]
    },
    {
     "data": {
      "text/plain": [
       "TrainOutput(global_step=2065, training_loss=6.6982208288899345, metrics={'train_runtime': 14339.7289, 'train_samples_per_second': 11.523, 'train_steps_per_second': 0.144, 'total_flos': 4.34877519900672e+16, 'train_loss': 6.6982208288899345, 'epoch': 5.0})"
      ]
     },
     "execution_count": 19,
     "metadata": {},
     "output_type": "execute_result"
    }
   ],
   "source": [
    "#Train large model\n",
    "\n",
    "trainer.train()"
   ]
  },
  {
   "cell_type": "code",
   "execution_count": 36,
   "metadata": {
    "id": "APM4TvGU9GQG"
   },
   "outputs": [],
   "source": [
    "def read_json(file_name):\n",
    "    \"\"\"\n",
    "    Given file_name of json training log, returns train and val\n",
    "    losses as lists\n",
    "    \"\"\"\n",
    "    f = open(file_name)\n",
    "    data = json.load(f)\n",
    "    train_loss = []\n",
    "    val_loss = []\n",
    "    for i in data['log_history']:\n",
    "        try:\n",
    "            train_loss.append(i['loss'])\n",
    "        except KeyError:\n",
    "            pass\n",
    "        try:\n",
    "            val_loss.append(i['eval_loss'])\n",
    "        except KeyError:\n",
    "              pass\n",
    "    return train_loss, val_loss"
   ]
  },
  {
   "cell_type": "code",
   "execution_count": 43,
   "metadata": {
    "id": "Hz52UiI292LO"
   },
   "outputs": [],
   "source": [
    "#Getting the train and val losses\n",
    "\n",
    "small_train_loss, small_val_loss = read_json('/content/trainer_state_small.json')\n",
    "large_train_loss, large_val_loss = read_json('/content/trainer_state_large.json')\n",
    "\n",
    "#For plotting we need list of iterations in increments of 50\n",
    "time = [50*i for i in range(1,41)]"
   ]
  },
  {
   "cell_type": "code",
   "execution_count": 47,
   "metadata": {
    "colab": {
     "base_uri": "https://localhost:8080/",
     "height": 621
    },
    "id": "KDf3D5Ff-LJ9",
    "outputId": "19059bec-4934-42be-d884-9132f1c7b544"
   },
   "outputs": [
    {
     "data": {
      "image/png": "[encoded data removed]",
      "text/plain": [
       "<Figure size 1080x720 with 2 Axes>"
      ]
     },
     "metadata": {
      "needs_background": "light"
     },
     "output_type": "display_data"
    }
   ],
   "source": [
    "#Plotting validation and train loss\n",
    "\n",
    "fig, axs = plt.subplots(2, 1, figsize=(15,10), sharey=True)\n",
    "axs[0].plot(time, small_train_loss, label=\"Train Loss\")\n",
    "axs[0].plot(time, small_val_loss, label=\"Validation Loss\")\n",
    "axs[0].set_title('Small Model')\n",
    "axs[0].legend()\n",
    "axs[1].plot(time, large_train_loss, label=\"Train Loss\")\n",
    "axs[1].plot(time, large_val_loss, label=\"Validation Loss\")\n",
    "axs[1].set_title('Large Model')\n",
    "axs[1].legend()\n",
    "\n",
    "for ax in axs.flat:\n",
    "    ax.set(xlabel='Iteration', ylabel='Loss')\n",
    "\n",
    "plt.show()"
   ]
  },
  {
   "cell_type": "markdown",
   "metadata": {
    "id": "3z6R9OPet6or"
   },
   "source": [
    "Above are graphs of the train and validation losses for both the small and large models.  The validation loss for the small model achieved a minimum of 6.69 at iteration 1750.  The validation loss for the large model achieved a minumum at iteration 1950 at 6.50.  The small model began to overfit slightly after iteration 1750, as the validation loss began to subtly increase.  The validation loss of the large model also began to increase slightly after iteration 1950, but it is unclear if this is a sign of the beginning of overfitting, as it is possible that the loss may have decreased a bit more with more training.  However, it appears that by the end of training, the validation loss has mostly bottomed out, so I expected that with more training, the model would soon overfit.  \n",
    "\n",
    "Since the minimum of the validation loss for the large network is about 0.2 less than the minimum of the validation loss for the small network, it appears that the large network somewhat outperformed the small network.  However, given that this difference is very small, I am hesitant to conclude that one network is better than the other.  Keep in mind that I have pre-trained these networks on a very, very small dataset.  Usually, these networks are trained on datasets that are 50 to 100 times larger (or more) and achieve a validation loss well below the minima of the losses of the networks trained above.  Therefore, compared to fully pre-trained networks, both the small and large models performed equally as poorly.\n",
    "\n",
    "We will now see whether or not the poor performance on pre-training will have an effect on a classification task.  Since the large model achieved its best performance at iteration 1950 and the small model reached its best performance at iteration 1750, I will be using the weights that were saved at these respective points."
   ]
  },
  {
   "cell_type": "markdown",
   "metadata": {
    "id": "ffe6TunB-v4p"
   },
   "source": [
    "## Transfer Learning - Pre-Processing and Defining Model\n",
    "\n",
    "In the second half of this report, I will be using the models pretrained above to construct a sentence classifier that classifies sentences as exhibiting one of six emotions (joy, sadness, anger, fear, love, or surprise).  I will compare the performance of these two models to the fully pretrained BERT model available via the huggingface transformer library.  This model was trained for longer on a wikipedia dataset that is about 50 times larger.  So, we will see if the higher quality pretraining will result in superior performance on this classification task.   The dataset that I will use to train the model can be found [here](https://www.kaggle.com/praveengovi/emotions-dataset-for-nlp/version/1).\n",
    "\n",
    "Before training the models, first let's look at the data, do some pre-processing, and create the classification model."
   ]
  },
  {
   "cell_type": "code",
   "execution_count": 48,
   "metadata": {
    "id": "9OAkYu1D_VTp"
   },
   "outputs": [],
   "source": [
    "#Loading data.  Can be found here:\n",
    "\n",
    "train_df = pd.read_csv('/content/train.txt', sep=';')\n",
    "test_df = pd.read_csv('/content/test.txt', sep=';')\n",
    "val_df = pd.read_csv('/content/val.txt', sep=';')"
   ]
  },
  {
   "cell_type": "code",
   "execution_count": 49,
   "metadata": {
    "id": "-VMBmPPH_cY8"
   },
   "outputs": [],
   "source": [
    "#Adjusting column names\n",
    "\n",
    "train_df.columns = ['sentence', 'emotion']\n",
    "test_df.columns = ['sentence', 'emotion']\n",
    "val_df.columns = ['sentence', 'emotion']"
   ]
  },
  {
   "cell_type": "code",
   "execution_count": 61,
   "metadata": {
    "id": "2yxw1Klf_eLS"
   },
   "outputs": [],
   "source": [
    "# get max len and mean len of sentences\n",
    "def max_len(data):\n",
    "    return data['sentence'].apply(lambda x: len(x.split())).max()\n",
    "\n",
    "def mean_len(data):\n",
    "    return data['sentence'].apply(lambda x: len(x.split())).mean()"
   ]
  },
  {
   "cell_type": "code",
   "execution_count": 71,
   "metadata": {
    "colab": {
     "base_uri": "https://localhost:8080/"
    },
    "id": "e6vp8Q1_1ORi",
    "outputId": "68ff31ec-2c72-448b-9b56-fb7fdeadbab8"
   },
   "outputs": [
    {
     "name": "stdout",
     "output_type": "stream",
     "text": [
      "The maximum sentence length in the dataset is 66\n"
     ]
    }
   ],
   "source": [
    "max_sent = max([max_len(train_df), max_len(test_df), max_len(val_df)])\n",
    "print('The maximum sentence length in the dataset is', max_sent)"
   ]
  },
  {
   "cell_type": "code",
   "execution_count": 72,
   "metadata": {
    "colab": {
     "base_uri": "https://localhost:8080/"
    },
    "id": "_NkSnckg4o11",
    "outputId": "2ef30fed-7db5-4fae-d225-190e1a6e9751"
   },
   "outputs": [
    {
     "name": "stdout",
     "output_type": "stream",
     "text": [
      "The average sentence length in the dataset is 19.06\n"
     ]
    }
   ],
   "source": [
    "from numpy.lib.function_base import average\n",
    "\n",
    "mean_sent = average([mean_len(train_df), mean_len(test_df), mean_len(val_df)])\n",
    "print('The average sentence length in the dataset is', round(mean_sent, 2))"
   ]
  },
  {
   "cell_type": "code",
   "execution_count": 51,
   "metadata": {
    "colab": {
     "base_uri": "https://localhost:8080/",
     "height": 206
    },
    "id": "K0k4yITp078m",
    "outputId": "b4588dba-c6bf-4938-9892-42c14d4b4e17"
   },
   "outputs": [
    {
     "data": {
      "text/html": [
       "\n",
       "  <div id=\"df-942d2ffe-5fb0-405e-902a-cffeb280f617\">\n",
       "    <div class=\"colab-df-container\">\n",
       "      <div>\n",
       "<style scoped>\n",
       "    .dataframe tbody tr th:only-of-type {\n",
       "        vertical-align: middle;\n",
       "    }\n",
       "\n",
       "    .dataframe tbody tr th {\n",
       "        vertical-align: top;\n",
       "    }\n",
       "\n",
       "    .dataframe thead th {\n",
       "        text-align: right;\n",
       "    }\n",
       "</style>\n",
       "<table border=\"1\" class=\"dataframe\">\n",
       "  <thead>\n",
       "    <tr style=\"text-align: right;\">\n",
       "      <th></th>\n",
       "      <th>sentence</th>\n",
       "      <th>emotion</th>\n",
       "    </tr>\n",
       "  </thead>\n",
       "  <tbody>\n",
       "    <tr>\n",
       "      <th>0</th>\n",
       "      <td>i can go from feeling so hopeless to so damned...</td>\n",
       "      <td>sadness</td>\n",
       "    </tr>\n",
       "    <tr>\n",
       "      <th>1</th>\n",
       "      <td>im grabbing a minute to post i feel greedy wrong</td>\n",
       "      <td>anger</td>\n",
       "    </tr>\n",
       "    <tr>\n",
       "      <th>2</th>\n",
       "      <td>i am ever feeling nostalgic about the fireplac...</td>\n",
       "      <td>love</td>\n",
       "    </tr>\n",
       "    <tr>\n",
       "      <th>3</th>\n",
       "      <td>i am feeling grouchy</td>\n",
       "      <td>anger</td>\n",
       "    </tr>\n",
       "    <tr>\n",
       "      <th>4</th>\n",
       "      <td>ive been feeling a little burdened lately wasn...</td>\n",
       "      <td>sadness</td>\n",
       "    </tr>\n",
       "  </tbody>\n",
       "</table>\n",
       "</div>\n",
       "      <button class=\"colab-df-convert\" onclick=\"convertToInteractive('df-942d2ffe-5fb0-405e-902a-cffeb280f617')\"\n",
       "              title=\"Convert this dataframe to an interactive table.\"\n",
       "              style=\"display:none;\">\n",
       "        \n",
       "  <svg xmlns=\"http://www.w3.org/2000/svg\" height=\"24px\"viewBox=\"0 0 24 24\"\n",
       "       width=\"24px\">\n",
       "    <path d=\"M0 0h24v24H0V0z\" fill=\"none\"/>\n",
       "    <path d=\"M18.56 5.44l.94 2.06.94-2.06 2.06-.94-2.06-.94-.94-2.06-.94 2.06-2.06.94zm-11 1L8.5 8.5l.94-2.06 2.06-.94-2.06-.94L8.5 2.5l-.94 2.06-2.06.94zm10 10l.94 2.06.94-2.06 2.06-.94-2.06-.94-.94-2.06-.94 2.06-2.06.94z\"/><path d=\"M17.41 7.96l-1.37-1.37c-.4-.4-.92-.59-1.43-.59-.52 0-1.04.2-1.43.59L10.3 9.45l-7.72 7.72c-.78.78-.78 2.05 0 2.83L4 21.41c.39.39.9.59 1.41.59.51 0 1.02-.2 1.41-.59l7.78-7.78 2.81-2.81c.8-.78.8-2.07 0-2.86zM5.41 20L4 18.59l7.72-7.72 1.47 1.35L5.41 20z\"/>\n",
       "  </svg>\n",
       "      </button>\n",
       "      \n",
       "  <style>\n",
       "    .colab-df-container {\n",
       "      display:flex;\n",
       "      flex-wrap:wrap;\n",
       "      gap: 12px;\n",
       "    }\n",
       "\n",
       "    .colab-df-convert {\n",
       "      background-color: #E8F0FE;\n",
       "      border: none;\n",
       "      border-radius: 50%;\n",
       "      cursor: pointer;\n",
       "      display: none;\n",
       "      fill: #1967D2;\n",
       "      height: 32px;\n",
       "      padding: 0 0 0 0;\n",
       "      width: 32px;\n",
       "    }\n",
       "\n",
       "    .colab-df-convert:hover {\n",
       "      background-color: #E2EBFA;\n",
       "      box-shadow: 0px 1px 2px rgba(60, 64, 67, 0.3), 0px 1px 3px 1px rgba(60, 64, 67, 0.15);\n",
       "      fill: #174EA6;\n",
       "    }\n",
       "\n",
       "    [theme=dark] .colab-df-convert {\n",
       "      background-color: #3B4455;\n",
       "      fill: #D2E3FC;\n",
       "    }\n",
       "\n",
       "    [theme=dark] .colab-df-convert:hover {\n",
       "      background-color: #434B5C;\n",
       "      box-shadow: 0px 1px 3px 1px rgba(0, 0, 0, 0.15);\n",
       "      filter: drop-shadow(0px 1px 2px rgba(0, 0, 0, 0.3));\n",
       "      fill: #FFFFFF;\n",
       "    }\n",
       "  </style>\n",
       "\n",
       "      <script>\n",
       "        const buttonEl =\n",
       "          document.querySelector('#df-942d2ffe-5fb0-405e-902a-cffeb280f617 button.colab-df-convert');\n",
       "        buttonEl.style.display =\n",
       "          google.colab.kernel.accessAllowed ? 'block' : 'none';\n",
       "\n",
       "        async function convertToInteractive(key) {\n",
       "          const element = document.querySelector('#df-942d2ffe-5fb0-405e-902a-cffeb280f617');\n",
       "          const dataTable =\n",
       "            await google.colab.kernel.invokeFunction('convertToInteractive',\n",
       "                                                     [key], {});\n",
       "          if (!dataTable) return;\n",
       "\n",
       "          const docLinkHtml = 'Like what you see? Visit the ' +\n",
       "            '<a target=\"_blank\" href=https://colab.research.google.com/notebooks/data_table.ipynb>data table notebook</a>'\n",
       "            + ' to learn more about interactive tables.';\n",
       "          element.innerHTML = '';\n",
       "          dataTable['output_type'] = 'display_data';\n",
       "          await google.colab.output.renderOutput(dataTable, element);\n",
       "          const docLink = document.createElement('div');\n",
       "          docLink.innerHTML = docLinkHtml;\n",
       "          element.appendChild(docLink);\n",
       "        }\n",
       "      </script>\n",
       "    </div>\n",
       "  </div>\n",
       "  "
      ],
      "text/plain": [
       "                                            sentence  emotion\n",
       "0  i can go from feeling so hopeless to so damned...  sadness\n",
       "1   im grabbing a minute to post i feel greedy wrong    anger\n",
       "2  i am ever feeling nostalgic about the fireplac...     love\n",
       "3                               i am feeling grouchy    anger\n",
       "4  ive been feeling a little burdened lately wasn...  sadness"
      ]
     },
     "execution_count": 51,
     "metadata": {},
     "output_type": "execute_result"
    }
   ],
   "source": [
    "train_df.head(x=\"Car\", y=\"Reg_Price\", kind=\"bar\", figsize=(10, 9))"
   ]
  },
  {
   "cell_type": "code",
   "execution_count": 60,
   "metadata": {
    "colab": {
     "base_uri": "https://localhost:8080/"
    },
    "id": "C2mCOy141hRE",
    "outputId": "4491d21b-7912-42db-d1fd-776ac3b67278"
   },
   "outputs": [
    {
     "data": {
      "text/plain": [
       "joy         5362\n",
       "sadness     4665\n",
       "anger       2159\n",
       "fear        1937\n",
       "love        1304\n",
       "surprise     572\n",
       "Name: emotion, dtype: int64"
      ]
     },
     "execution_count": 60,
     "metadata": {},
     "output_type": "execute_result"
    }
   ],
   "source": [
    "train_df['emotion'].value_counts()"
   ]
  },
  {
   "cell_type": "markdown",
   "metadata": {
    "id": "XNkK4p963w-t"
   },
   "source": [
    "Above are a few important facts about the dataset along with some examples.  The maximum sentence length is 66, but the mean sentence length is 19.  So, most of the sentences are relatively short, but there are some outliers that are very long.  A few examples are shown above along with their labels.  The distribution of the dataset across the six labels is also displayed.  Note that the dataset is far from evenly distributed.  We may need to take this into account when looking at the performance of the networks below.\n",
    "\n",
    "Now, let's set up the model and tokenizer.\n",
    "\n"
   ]
  },
  {
   "cell_type": "code",
   "execution_count": 73,
   "metadata": {
    "id": "RBMUNLDk_hbW"
   },
   "outputs": [],
   "source": [
    "#Defining global variables\n",
    "\n",
    "MODEL_OUT_DIR = '/content/model'\n",
    "TRAIN_FILE_PATH = '/content/train.txt'\n",
    "VALID_FILE_PATH = '/content/val.txt'\n",
    "TEST_FILE_PATH = '/content/test.txt'\n",
    "MAX_LEN_TRAIN = max_len(train_df)\n",
    "MAX_LEN_VALID = max_len(test_df)\n",
    "MAX_LEN_TEST = max_len(val_df)\n",
    "BATCH_SIZE = 128\n",
    "NUM_THREADS = 1  ## Number of threads for collecting dataset\n",
    "MODEL_NAME = 'bert-base-uncased'\n",
    "LABEL_DICT = {'joy':0, 'sadness':1, 'anger':2, 'fear':3, 'love':4, 'surprise':5}\n",
    "\n",
    "if not os.path.isdir(MODEL_OUT_DIR):\n",
    "    os.makedirs(MODEL_OUT_DIR)"
   ]
  },
  {
   "cell_type": "code",
   "execution_count": 74,
   "metadata": {
    "id": "JPLTuewv_zrP"
   },
   "outputs": [],
   "source": [
    "#This class creates the pytorch dataset\n",
    "\n",
    "class Emotions_Dataset(Dataset):\n",
    "\n",
    "    def __init__(self, filename, maxlen, tokenizer, label_dict): \n",
    "        #Store the contents of the file in a pandas dataframe\n",
    "        self.df = pd.read_csv(filename, delimiter = ';')\n",
    "        # name columns\n",
    "        self.df.columns = ['sentence', 'emotion']\n",
    "        #Initialize the tokenizer for the desired transformer model\n",
    "        self.df['emotion'] = self.df['emotion'].map(label_dict)\n",
    "        self.tokenizer = tokenizer\n",
    "        #Maximum length of the tokens list to keep all the sequences of fixed size\n",
    "        self.maxlen = maxlen\n",
    "\n",
    "    def __len__(self):\n",
    "        return len(self.df)\n",
    "\n",
    "    def __getitem__(self, index):    \n",
    "        #Select the sentence and label at the specified index in the data frame\n",
    "        sentence = self.df.loc[index, 'sentence']\n",
    "        label = self.df.loc[index, 'emotion']\n",
    "        #Preprocess the text to be suitable for the transformer\n",
    "        tokens = self.tokenizer.tokenize(sentence) \n",
    "        tokens = ['[CLS]'] + tokens + ['[SEP]'] \n",
    "        if len(tokens) < self.maxlen:\n",
    "            tokens = tokens + ['[PAD]' for _ in range(self.maxlen - len(tokens))] \n",
    "        else:\n",
    "            tokens = tokens[:self.maxlen-1] + ['[SEP]'] \n",
    "        #Obtain the indices of the tokens in the BERT Vocabulary\n",
    "        input_ids = self.tokenizer.convert_tokens_to_ids(tokens) \n",
    "        input_ids = torch.tensor(input_ids) \n",
    "        #Obtain the attention mask i.e a tensor containing 1s for no padded tokens and 0s for padded ones\n",
    "        attention_mask = (input_ids != 0).long()\n",
    "        \n",
    "        label = torch.tensor(label, dtype=torch.long)\n",
    "        \n",
    "        return input_ids, attention_mask, label"
   ]
  },
  {
   "cell_type": "code",
   "execution_count": 93,
   "metadata": {
    "id": "t6wWrGOb_2Xa"
   },
   "outputs": [],
   "source": [
    "#This class creates the pytorch classifier\n",
    "\n",
    "class BertEmotionClassifier(BertPreTrainedModel):\n",
    "    def __init__(self, config, **kwargs):\n",
    "        super().__init__(config)\n",
    "        \n",
    "        #Define BERT model\n",
    "        self.bert = BertModel(config)\n",
    "\n",
    "        #kwargs\n",
    "        self.OPTIMIZER = kwargs['OPTIMIZER']\n",
    "        self.CRITERION = kwargs['CRITERION']\n",
    "        self.LEARNING_RATE = kwargs['LEARNING RATE']\n",
    "        self.EPOCHS = kwargs['EPOCHS']\n",
    "        self.DEVICE = kwargs['DEVICE']\n",
    "\n",
    "        #Saves training/validation history\n",
    "        self.results = None\n",
    "\n",
    "        #The classification layer that takes the [CLS] representation and outputs the logit\n",
    "        self.cls_layer = nn.Linear(config.hidden_size, 6)\n",
    "\n",
    "    def forward(self, input_ids, attention_mask):\n",
    "        #Feed the input to Bert model to obtain contextualized representations\n",
    "        reps = self.bert(input_ids=input_ids, attention_mask=attention_mask)\n",
    "        #Obtain the representations of [CLS] heads\n",
    "        cls_reps = reps[0][:,0]\n",
    "        logits = self.cls_layer(cls_reps)\n",
    "        return logits\n",
    "      \n",
    "    def epoch_end(self, epoch, result):\n",
    "        \"\"\"\n",
    "        Prints results of epoch given epoch number and epoch results dictionary\n",
    "        \"\"\"\n",
    "        print(\"Epoch [{}], train_loss: {:.4f}, val_loss: {:.4f}, val_acc: {:.4f}\".format(\n",
    "            epoch, result['train_loss'], result['val_loss'], result['val_acc']))\n",
    "      \n",
    "    def accuracy(self, out, labels):\n",
    "        \"\"\"\n",
    "        Given model output and labels tensors, returns accuracy\n",
    "        \"\"\"\n",
    "        probs = F.softmax(out, dim=1)\n",
    "        output = torch.argmax(probs, dim=1)\n",
    "        acc = (output == labels).float().mean()\n",
    "        return acc\n",
    "      \n",
    "    def evaluate(self, dataloader):\n",
    "        \"\"\"\n",
    "        Given dataloader, returns accuracy and loss\n",
    "        \"\"\"\n",
    "        model.eval()\n",
    "        mean_acc, mean_loss, count = 0, 0, 0\n",
    "        with torch.no_grad():\n",
    "            for input_ids, attention_mask, labels in (dataloader):\n",
    "                \n",
    "                #Move items to GPU\n",
    "                input_ids, attention_mask, labels = input_ids.to(self.DEVICE), attention_mask.to(self.DEVICE), labels.to(self.DEVICE)\n",
    "\n",
    "                #Push through model\n",
    "                logits = model(input_ids, attention_mask)\n",
    "                \n",
    "                mean_loss += self.CRITERION(logits.squeeze(-1), labels).item()\n",
    "                mean_acc += self.accuracy(logits, labels)\n",
    "                count += 1\n",
    "        return mean_acc/count, mean_loss/count\n",
    "            \n",
    "    def fit(self, train_iter, val_iter):\n",
    "        \"\"\"\n",
    "        Given training and validation iterator, returns list of dictionaries,\n",
    "        one for each epoch, containing train and val loss and val accuracy\n",
    "        \"\"\"\n",
    "        history = []\n",
    "        #Define optimizer and parameters to optimize:\n",
    "        optimizer = self.OPTIMIZER(self.parameters(), lr=self.LEARNING_RATE)\n",
    "\n",
    "        for epoch in range(self.EPOCHS):\n",
    "        # Training Phase \n",
    "        self.train()\n",
    "        train_losses = []\n",
    "            for i, (input_ids, attention_mask, labels) in enumerate(iterable=train_iter):\n",
    "\n",
    "                input_ids, attention_mask, labels = input_ids.to(self.DEVICE), attention_mask.to(self.DEVICE), labels.to(self.DEVICE)\n",
    "\n",
    "                out = model(input_ids=input_ids, attention_mask=attention_mask)\n",
    "\n",
    "                loss = self.CRITERION(out, labels)\n",
    "                train_losses.append(loss)\n",
    "                loss.backward()\n",
    "                optimizer.step()\n",
    "                optimizer.zero_grad()\n",
    "            # Validation phase\n",
    "            result = {}\n",
    "            result['train_loss'] = torch.stack(train_losses).mean().item()\n",
    "            val_acc, val_loss = self.evaluate(val_iter)\n",
    "            result['val_loss'] = val_loss\n",
    "            result['val_acc'] = val_acc\n",
    "            #Print results of epoch:\n",
    "            self.epoch_end(epoch, result)\n",
    "            history.append(result)\n",
    "        self.results = history\n",
    "\n",
    "    def predict(self, dataloader):\n",
    "        \"\"\"\n",
    "        Given dataloader, returns predictions and labels as lists\n",
    "        \"\"\"\n",
    "        predicted_label = []\n",
    "        actual_label = []\n",
    "        with torch.no_grad():\n",
    "            for input_ids, attention_mask, labels in (dataloader):\n",
    "              \n",
    "                input_ids, attention_mask, labels = input_ids.to(self.DEVICE), attention_mask.to(self.DEVICE), labels.to(self.DEVICE)\n",
    "                logits = model(input_ids, attention_mask)\n",
    "\n",
    "                probs = F.softmax(logits, dim=1)\n",
    "                output = torch.argmax(probs, dim=1)\n",
    "\n",
    "                predicted_label += output.tolist()\n",
    "                actual_label += labels.tolist()\n",
    "              \n",
    "        return predicted_label, actual_label\n",
    "\n",
    "    def test(self, dataloader):\n",
    "        \"\"\"\n",
    "        Given dataloader, returns test results including\n",
    "        confusion matrix, f1, precision, recall, and accuracy\n",
    "        \"\"\"\n",
    "        preds, labels = self.predict(dataloader)\n",
    "        cm = confusion_matrix(labels, preds)\n",
    "        f1 = f1_score(labels, preds, average='macro')\n",
    "        prec = precision_score(labels, preds, average='macro')\n",
    "        rec = recall_score(labels, preds, average='macro')\n",
    "        acc = (cm[0,0]+cm[1,1]+cm[2,2]+cm[3,3]+cm[4,4]+cm[5,5])/np.sum(cm)\n",
    "        return cm, f1, prec, rec, acc\n",
    "\n",
    "    def save_results(self, file_name):\n",
    "        \"\"\"\n",
    "        Saves train/val loss and val accuracy history as csv\n",
    "        file_name = '<file_name>.csv'\n",
    "        \"\"\"\n",
    "        keys = self.results[0].keys()\n",
    "        with open(file_name, 'w', newline='')  as output_file:\n",
    "            dict_writer = csv.DictWriter(output_file, keys)\n",
    "            dict_writer.writeheader()\n",
    "            dict_writer.writerows(self.results)\n",
    "\n",
    "    def save_model(self, file_name):\n",
    "        \"\"\"\n",
    "        Saves weight dict of model\n",
    "        file_name = '<file_name>.pt'\n",
    "        \"\"\"\n",
    "        torch.save(self.state_dict(), file_name)\n"
   ]
  },
  {
   "cell_type": "code",
   "execution_count": 94,
   "metadata": {
    "colab": {
     "base_uri": "https://localhost:8080/"
    },
    "id": "CMV-JY6SF09i",
    "outputId": "b8e1cc9a-269d-4d03-876e-ba46b0bafaed"
   },
   "outputs": [
    {
     "name": "stderr",
     "output_type": "stream",
     "text": [
      "loading configuration file https://huggingface.co/bert-base-uncased/resolve/main/config.json from cache at /root/.cache/huggingface/transformers/3c61d016573b14f7f008c02c4e51a366c67ab274726fe2910691e2a761acf43e.37395cee442ab11005bcd270f3c34464dc1704b715b5d7d52b1a461abe3b9e4e\n",
      "Model config BertConfig {\n",
      "  \"architectures\": [\n",
      "    \"BertForMaskedLM\"\n",
      "  ],\n",
      "  \"attention_probs_dropout_prob\": 0.1,\n",
      "  \"classifier_dropout\": null,\n",
      "  \"gradient_checkpointing\": false,\n",
      "  \"hidden_act\": \"gelu\",\n",
      "  \"hidden_dropout_prob\": 0.1,\n",
      "  \"hidden_size\": 768,\n",
      "  \"initializer_range\": 0.02,\n",
      "  \"intermediate_size\": 3072,\n",
      "  \"layer_norm_eps\": 1e-12,\n",
      "  \"max_position_embeddings\": 512,\n",
      "  \"model_type\": \"bert\",\n",
      "  \"num_attention_heads\": 12,\n",
      "  \"num_hidden_layers\": 12,\n",
      "  \"pad_token_id\": 0,\n",
      "  \"position_embedding_type\": \"absolute\",\n",
      "  \"transformers_version\": \"4.11.2\",\n",
      "  \"type_vocab_size\": 2,\n",
      "  \"use_cache\": true,\n",
      "  \"vocab_size\": 30522\n",
      "}\n",
      "\n",
      "loading file https://huggingface.co/bert-base-uncased/resolve/main/vocab.txt from cache at /root/.cache/huggingface/transformers/45c3f7a79a80e1cf0a489e5c62b43f173c15db47864303a55d623bb3c96f72a5.d789d64ebfe299b0e416afc4a169632f903f693095b4629a7ea271d5a0cf2c99\n",
      "loading file https://huggingface.co/bert-base-uncased/resolve/main/tokenizer.json from cache at /root/.cache/huggingface/transformers/534479488c54aeaf9c3406f647aa2ec13648c06771ffe269edabebd4c412da1d.7f2721073f19841be16f41b0a70b600ca6b880c8f3df6f3535cbc704371bdfa4\n",
      "loading file https://huggingface.co/bert-base-uncased/resolve/main/added_tokens.json from cache at None\n",
      "loading file https://huggingface.co/bert-base-uncased/resolve/main/special_tokens_map.json from cache at None\n",
      "loading file https://huggingface.co/bert-base-uncased/resolve/main/tokenizer_config.json from cache at /root/.cache/huggingface/transformers/c1d7f0a763fb63861cc08553866f1fc3e5a6f4f07621be277452d26d71303b7e.20430bd8e10ef77a7d2977accefe796051e01bc2fc4aa146bc862997a1a15e79\n",
      "loading configuration file https://huggingface.co/bert-base-uncased/resolve/main/config.json from cache at /root/.cache/huggingface/transformers/3c61d016573b14f7f008c02c4e51a366c67ab274726fe2910691e2a761acf43e.37395cee442ab11005bcd270f3c34464dc1704b715b5d7d52b1a461abe3b9e4e\n",
      "Model config BertConfig {\n",
      "  \"architectures\": [\n",
      "    \"BertForMaskedLM\"\n",
      "  ],\n",
      "  \"attention_probs_dropout_prob\": 0.1,\n",
      "  \"classifier_dropout\": null,\n",
      "  \"gradient_checkpointing\": false,\n",
      "  \"hidden_act\": \"gelu\",\n",
      "  \"hidden_dropout_prob\": 0.1,\n",
      "  \"hidden_size\": 768,\n",
      "  \"initializer_range\": 0.02,\n",
      "  \"intermediate_size\": 3072,\n",
      "  \"layer_norm_eps\": 1e-12,\n",
      "  \"max_position_embeddings\": 512,\n",
      "  \"model_type\": \"bert\",\n",
      "  \"num_attention_heads\": 12,\n",
      "  \"num_hidden_layers\": 12,\n",
      "  \"pad_token_id\": 0,\n",
      "  \"position_embedding_type\": \"absolute\",\n",
      "  \"transformers_version\": \"4.11.2\",\n",
      "  \"type_vocab_size\": 2,\n",
      "  \"use_cache\": true,\n",
      "  \"vocab_size\": 30522\n",
      "}\n",
      "\n"
     ]
    }
   ],
   "source": [
    "## Tokenizer loaded from AutoTokenizer.  We can use the same one for all 3 models\n",
    "tokenizer = AutoTokenizer.from_pretrained(MODEL_NAME)\n",
    "\n",
    "## Training Dataset\n",
    "train_set = Emotions_Dataset(filename=TRAIN_FILE_PATH, maxlen=MAX_LEN_TRAIN, tokenizer=tokenizer, label_dict=LABEL_DICT)\n",
    "valid_set = Emotions_Dataset(filename=VALID_FILE_PATH, maxlen=MAX_LEN_VALID, tokenizer=tokenizer, label_dict=LABEL_DICT)\n",
    "test_set = Emotions_Dataset(filename=TEST_FILE_PATH, maxlen=MAX_LEN_TEST, tokenizer=tokenizer, label_dict=LABEL_DICT)\n",
    "\n",
    "\n",
    "## Data Loaders\n",
    "train_loader = DataLoader(dataset=train_set, batch_size=BATCH_SIZE, num_workers=NUM_THREADS)\n",
    "valid_loader = DataLoader(dataset=valid_set, batch_size=BATCH_SIZE, num_workers=NUM_THREADS)\n",
    "test_loader = DataLoader(dataset=test_set, batch_size=BATCH_SIZE, num_workers=NUM_THREADS)\n",
    "\n"
   ]
  },
  {
   "cell_type": "markdown",
   "metadata": {
    "id": "laUP8UNyVVV8"
   },
   "source": [
    "## Transfer Learning - Training Models\n",
    "\n",
    "Now, we are ready to train and test the three networks.  Experimentation revealed that each of the three networks needs a different number of epochs for training.  Therefore, I will be training the fully pre-trained network for 7 epochs, the large network for 15, and the small network for 20."
   ]
  },
  {
   "cell_type": "code",
   "execution_count": 95,
   "metadata": {
    "id": "pi8JOQISFOcn"
   },
   "outputs": [],
   "source": [
    "#Defining device\n",
    "\n",
    "DEVICE = torch.device(\"cuda:0\" if torch.cuda.is_available() else \"cpu\")"
   ]
  },
  {
   "cell_type": "code",
   "execution_count": 116,
   "metadata": {
    "id": "guUTku2EExD-"
   },
   "outputs": [],
   "source": [
    "#These are general parameters needed for each model\n",
    "\n",
    "#Fully-Pretrained\n",
    "params1 = {'OPTIMIZER': optim.Adam,\n",
    "          'CRITERION': nn.CrossEntropyLoss(),\n",
    "          'LEARNING RATE': 1e-5,\n",
    "          'EPOCHS': 7,\n",
    "          'DEVICE': DEVICE}\n",
    "\n",
    "#Small\n",
    "params2 = {'OPTIMIZER': optim.Adam,\n",
    "          'CRITERION': nn.CrossEntropyLoss(),\n",
    "          'LEARNING RATE': 1e-5,\n",
    "          'EPOCHS': 20,\n",
    "          'DEVICE': DEVICE}\n",
    "\n",
    "#Large\n",
    "params2 = {'OPTIMIZER': optim.Adam,\n",
    "          'CRITERION': nn.CrossEntropyLoss(),\n",
    "          'LEARNING RATE': 1e-5,\n",
    "          'EPOCHS': 15,\n",
    "          'DEVICE': DEVICE}"
   ]
  },
  {
   "cell_type": "code",
   "execution_count": 97,
   "metadata": {
    "id": "42XjL8zGIUDg"
   },
   "outputs": [],
   "source": [
    "#This df holds the test results for all models\n",
    "\n",
    "df_test_results = pd.DataFrame({'Model': [],\n",
    "                    'Accuracy': [],\n",
    "                    'Precision Score': [],\n",
    "                    'Recall Score': [],\n",
    "                    'F1 Score': [],\n",
    "                    'Confusion Matrix': []})"
   ]
  },
  {
   "cell_type": "code",
   "execution_count": 98,
   "metadata": {
    "colab": {
     "base_uri": "https://localhost:8080/"
    },
    "id": "CPy65d4AFTnt",
    "outputId": "0981118b-f8c0-43f2-89a9-669019f88e3d"
   },
   "outputs": [
    {
     "name": "stderr",
     "output_type": "stream",
     "text": [
      "loading configuration file https://huggingface.co/bert-base-uncased/resolve/main/config.json from cache at /root/.cache/huggingface/transformers/3c61d016573b14f7f008c02c4e51a366c67ab274726fe2910691e2a761acf43e.37395cee442ab11005bcd270f3c34464dc1704b715b5d7d52b1a461abe3b9e4e\n",
      "Model config BertConfig {\n",
      "  \"architectures\": [\n",
      "    \"BertForMaskedLM\"\n",
      "  ],\n",
      "  \"attention_probs_dropout_prob\": 0.1,\n",
      "  \"classifier_dropout\": null,\n",
      "  \"gradient_checkpointing\": false,\n",
      "  \"hidden_act\": \"gelu\",\n",
      "  \"hidden_dropout_prob\": 0.1,\n",
      "  \"hidden_size\": 768,\n",
      "  \"initializer_range\": 0.02,\n",
      "  \"intermediate_size\": 3072,\n",
      "  \"layer_norm_eps\": 1e-12,\n",
      "  \"max_position_embeddings\": 512,\n",
      "  \"model_type\": \"bert\",\n",
      "  \"num_attention_heads\": 12,\n",
      "  \"num_hidden_layers\": 12,\n",
      "  \"pad_token_id\": 0,\n",
      "  \"position_embedding_type\": \"absolute\",\n",
      "  \"transformers_version\": \"4.11.2\",\n",
      "  \"type_vocab_size\": 2,\n",
      "  \"use_cache\": true,\n",
      "  \"vocab_size\": 30522\n",
      "}\n",
      "\n",
      "loading weights file https://huggingface.co/bert-base-uncased/resolve/main/pytorch_model.bin from cache at /root/.cache/huggingface/transformers/a8041bf617d7f94ea26d15e218abd04afc2004805632abc0ed2066aa16d50d04.faf6ea826ae9c5867d12b22257f9877e6b8367890837bd60f7c54a29633f7f2f\n",
      "Some weights of the model checkpoint at bert-base-uncased were not used when initializing BertEmotionClassifier: ['cls.predictions.transform.LayerNorm.weight', 'cls.seq_relationship.bias', 'cls.seq_relationship.weight', 'cls.predictions.transform.LayerNorm.bias', 'cls.predictions.transform.dense.bias', 'cls.predictions.transform.dense.weight', 'cls.predictions.decoder.weight', 'cls.predictions.bias']\n",
      "- This IS expected if you are initializing BertEmotionClassifier from the checkpoint of a model trained on another task or with another architecture (e.g. initializing a BertForSequenceClassification model from a BertForPreTraining model).\n",
      "- This IS NOT expected if you are initializing BertEmotionClassifier from the checkpoint of a model that you expect to be exactly identical (initializing a BertForSequenceClassification model from a BertForSequenceClassification model).\n",
      "Some weights of BertEmotionClassifier were not initialized from the model checkpoint at bert-base-uncased and are newly initialized: ['cls_layer.bias', 'cls_layer.weight']\n",
      "You should probably TRAIN this model on a down-stream task to be able to use it for predictions and inference.\n"
     ]
    }
   ],
   "source": [
    "## Configuration loaded from AutoConfig - MODEL_NAME refers to model held at huggingface Github \n",
    "config = AutoConfig.from_pretrained(MODEL_NAME)\n",
    "## Loading fully pretrained config and model\n",
    "model = BertEmotionClassifier.from_pretrained(MODEL_NAME, config=config, **params1)\n",
    "## Putting model to device\n",
    "model = model.to(DEVICE)\n"
   ]
  },
  {
   "cell_type": "code",
   "execution_count": 99,
   "metadata": {
    "colab": {
     "base_uri": "https://localhost:8080/"
    },
    "id": "KDEQ7ijNFw9D",
    "outputId": "9645d27b-0e36-45fc-ba90-8416ffd9e865"
   },
   "outputs": [
    {
     "name": "stdout",
     "output_type": "stream",
     "text": [
      "Epoch [0], train_loss: 1.0467, val_loss: 0.4826, val_acc: 0.8358\n",
      "Epoch [1], train_loss: 0.3173, val_loss: 0.2157, val_acc: 0.9171\n",
      "Epoch [2], train_loss: 0.1679, val_loss: 0.1828, val_acc: 0.9231\n",
      "Epoch [3], train_loss: 0.1263, val_loss: 0.1701, val_acc: 0.9302\n",
      "Epoch [4], train_loss: 0.1042, val_loss: 0.1794, val_acc: 0.9328\n",
      "Epoch [5], train_loss: 0.0906, val_loss: 0.1833, val_acc: 0.9339\n",
      "Epoch [6], train_loss: 0.0818, val_loss: 0.1746, val_acc: 0.9320\n"
     ]
    }
   ],
   "source": [
    "#Training fully pretrained model\n",
    "\n",
    "model.fit(train_loader, valid_loader)"
   ]
  },
  {
   "cell_type": "code",
   "execution_count": 100,
   "metadata": {
    "id": "aj74G6_MGjtt"
   },
   "outputs": [],
   "source": [
    "#Saving model and history\n",
    "\n",
    "model.save_results('results_reg.csv')\n",
    "model.save_model('model_reg.pt')"
   ]
  },
  {
   "cell_type": "code",
   "execution_count": 101,
   "metadata": {
    "colab": {
     "base_uri": "https://localhost:8080/"
    },
    "id": "0D0M-LKZHj80",
    "outputId": "9e009af8-519c-48d7-93bc-da5445668a3e"
   },
   "outputs": [
    {
     "name": "stderr",
     "output_type": "stream",
     "text": [
      "/usr/local/lib/python3.7/dist-packages/pandas/core/dtypes/cast.py:881: VisibleDeprecationWarning: Creating an ndarray from ragged nested sequences (which is a list-or-tuple of lists-or-tuples-or ndarrays with different lengths or shapes) is deprecated. If you meant to do this, you must specify 'dtype=object' when creating the ndarray.\n",
      "  element = np.asarray(element)\n"
     ]
    }
   ],
   "source": [
    "#Testing fully pretrained model\n",
    "\n",
    "cm, f1, prec, rec, acc = model.test(test_loader)\n",
    "df_test_results.loc[len(df_test_results.index)] = ['Fully Pretrained Model', acc, prec, rec, f1, cm]"
   ]
  },
  {
   "cell_type": "code",
   "execution_count": 108,
   "metadata": {
    "colab": {
     "base_uri": "https://localhost:8080/"
    },
    "id": "yxb7oj7NIkHV",
    "outputId": "f8421432-8f23-4b13-fe4d-b9449d459540"
   },
   "outputs": [
    {
     "name": "stderr",
     "output_type": "stream",
     "text": [
      "loading configuration file /content/small-model/config.json\n",
      "Model config BertConfig {\n",
      "  \"architectures\": [\n",
      "    \"BertForMaskedLM\"\n",
      "  ],\n",
      "  \"attention_probs_dropout_prob\": 0.1,\n",
      "  \"classifier_dropout\": null,\n",
      "  \"hidden_act\": \"gelu\",\n",
      "  \"hidden_dropout_prob\": 0.1,\n",
      "  \"hidden_size\": 384,\n",
      "  \"initializer_range\": 0.02,\n",
      "  \"intermediate_size\": 1536,\n",
      "  \"layer_norm_eps\": 1e-12,\n",
      "  \"max_position_embeddings\": 512,\n",
      "  \"model_type\": \"bert\",\n",
      "  \"num_attention_heads\": 12,\n",
      "  \"num_hidden_layers\": 12,\n",
      "  \"pad_token_id\": 0,\n",
      "  \"position_embedding_type\": \"absolute\",\n",
      "  \"torch_dtype\": \"float32\",\n",
      "  \"transformers_version\": \"4.11.2\",\n",
      "  \"type_vocab_size\": 2,\n",
      "  \"use_cache\": true,\n",
      "  \"vocab_size\": 30522\n",
      "}\n",
      "\n",
      "loading weights file /content/small-model/pytorch_model.bin\n",
      "Some weights of the model checkpoint at /content/small-model were not used when initializing BertEmotionClassifier: ['cls.predictions.transform.LayerNorm.weight', 'cls.predictions.decoder.bias', 'cls.predictions.transform.LayerNorm.bias', 'cls.predictions.transform.dense.bias', 'cls.predictions.transform.dense.weight', 'cls.predictions.decoder.weight', 'cls.predictions.bias']\n",
      "- This IS expected if you are initializing BertEmotionClassifier from the checkpoint of a model trained on another task or with another architecture (e.g. initializing a BertForSequenceClassification model from a BertForPreTraining model).\n",
      "- This IS NOT expected if you are initializing BertEmotionClassifier from the checkpoint of a model that you expect to be exactly identical (initializing a BertForSequenceClassification model from a BertForSequenceClassification model).\n",
      "Some weights of BertEmotionClassifier were not initialized from the model checkpoint at /content/small-model and are newly initialized: ['bert.pooler.dense.bias', 'bert.pooler.dense.weight', 'cls_layer.bias', 'cls_layer.weight']\n",
      "You should probably TRAIN this model on a down-stream task to be able to use it for predictions and inference.\n"
     ]
    }
   ],
   "source": [
    "## Configuration loaded from AutoConfig using config created for small model\n",
    "config = AutoConfig.from_pretrained('/content/small-model')\n",
    "## Creating the model from small model config and weights\n",
    "model = BertEmotionClassifier.from_pretrained('/content/small-model', config=config, **params2)\n",
    "## Putting model to device\n",
    "model = model.to(DEVICE)\n"
   ]
  },
  {
   "cell_type": "code",
   "execution_count": 109,
   "metadata": {
    "colab": {
     "base_uri": "https://localhost:8080/"
    },
    "id": "Yu72xpkdE_Yr",
    "outputId": "7befd0e0-2543-473c-f793-a51e145897d9"
   },
   "outputs": [
    {
     "name": "stdout",
     "output_type": "stream",
     "text": [
      "Epoch [0], train_loss: 1.5811, val_loss: 1.5679, val_acc: 0.3686\n",
      "Epoch [1], train_loss: 1.5460, val_loss: 1.5102, val_acc: 0.4210\n",
      "Epoch [2], train_loss: 1.4043, val_loss: 1.2421, val_acc: 0.5464\n",
      "Epoch [3], train_loss: 1.1340, val_loss: 0.9331, val_acc: 0.6601\n",
      "Epoch [4], train_loss: 0.8063, val_loss: 0.6108, val_acc: 0.7942\n",
      "Epoch [5], train_loss: 0.5365, val_loss: 0.4259, val_acc: 0.8559\n",
      "Epoch [6], train_loss: 0.4065, val_loss: 0.3828, val_acc: 0.8611\n",
      "Epoch [7], train_loss: 0.3305, val_loss: 0.3565, val_acc: 0.8759\n",
      "Epoch [8], train_loss: 0.2881, val_loss: 0.3111, val_acc: 0.8851\n",
      "Epoch [9], train_loss: 0.2599, val_loss: 0.2974, val_acc: 0.8877\n",
      "Epoch [10], train_loss: 0.2278, val_loss: 0.2939, val_acc: 0.8909\n",
      "Epoch [11], train_loss: 0.2112, val_loss: 0.2990, val_acc: 0.8905\n",
      "Epoch [12], train_loss: 0.1856, val_loss: 0.2742, val_acc: 0.8985\n",
      "Epoch [13], train_loss: 0.1753, val_loss: 0.2793, val_acc: 0.8970\n",
      "Epoch [14], train_loss: 0.1655, val_loss: 0.2812, val_acc: 0.8986\n",
      "Epoch [15], train_loss: 0.1533, val_loss: 0.2875, val_acc: 0.8999\n",
      "Epoch [16], train_loss: 0.1429, val_loss: 0.2837, val_acc: 0.8996\n",
      "Epoch [17], train_loss: 0.1334, val_loss: 0.2838, val_acc: 0.9003\n",
      "Epoch [18], train_loss: 0.1252, val_loss: 0.2798, val_acc: 0.9025\n",
      "Epoch [19], train_loss: 0.1146, val_loss: 0.2867, val_acc: 0.8998\n"
     ]
    }
   ],
   "source": [
    "#Training small model\n",
    "\n",
    "model.fit(train_loader, valid_loader)"
   ]
  },
  {
   "cell_type": "code",
   "execution_count": 110,
   "metadata": {
    "id": "4NgKd9i1I7C2"
   },
   "outputs": [],
   "source": [
    "#Saving small model and history\n",
    "\n",
    "model.save_results('results_small.csv')\n",
    "model.save_model('model_small.pt')"
   ]
  },
  {
   "cell_type": "code",
   "execution_count": 112,
   "metadata": {
    "id": "e5upDuNmI8ot"
   },
   "outputs": [],
   "source": [
    "#Testing small model\n",
    "\n",
    "cm, f1, prec, rec, acc = model.test(test_loader)\n",
    "df_test_results.loc[len(df_test_results.index)] = ['Small Model', acc, prec, rec, f1, cm]"
   ]
  },
  {
   "cell_type": "code",
   "execution_count": 117,
   "metadata": {
    "colab": {
     "base_uri": "https://localhost:8080/"
    },
    "id": "bl6MezCqJDP5",
    "outputId": "4a918376-4b0c-4d8e-90c4-13a78513eb67"
   },
   "outputs": [
    {
     "name": "stderr",
     "output_type": "stream",
     "text": [
      "loading configuration file /content/large-model/config.json\n",
      "Model config BertConfig {\n",
      "  \"architectures\": [\n",
      "    \"BertForMaskedLM\"\n",
      "  ],\n",
      "  \"attention_probs_dropout_prob\": 0.1,\n",
      "  \"classifier_dropout\": null,\n",
      "  \"hidden_act\": \"gelu\",\n",
      "  \"hidden_dropout_prob\": 0.1,\n",
      "  \"hidden_size\": 768,\n",
      "  \"initializer_range\": 0.02,\n",
      "  \"intermediate_size\": 3072,\n",
      "  \"layer_norm_eps\": 1e-12,\n",
      "  \"max_position_embeddings\": 512,\n",
      "  \"model_type\": \"bert\",\n",
      "  \"num_attention_heads\": 12,\n",
      "  \"num_hidden_layers\": 12,\n",
      "  \"pad_token_id\": 0,\n",
      "  \"position_embedding_type\": \"absolute\",\n",
      "  \"torch_dtype\": \"float32\",\n",
      "  \"transformers_version\": \"4.11.2\",\n",
      "  \"type_vocab_size\": 2,\n",
      "  \"use_cache\": true,\n",
      "  \"vocab_size\": 30522\n",
      "}\n",
      "\n",
      "loading weights file /content/large-model/pytorch_model.bin\n",
      "Some weights of the model checkpoint at /content/large-model/ were not used when initializing BertEmotionClassifier: ['cls.predictions.transform.LayerNorm.weight', 'cls.predictions.decoder.bias', 'cls.predictions.transform.LayerNorm.bias', 'cls.predictions.transform.dense.bias', 'cls.predictions.transform.dense.weight', 'cls.predictions.decoder.weight', 'cls.predictions.bias']\n",
      "- This IS expected if you are initializing BertEmotionClassifier from the checkpoint of a model trained on another task or with another architecture (e.g. initializing a BertForSequenceClassification model from a BertForPreTraining model).\n",
      "- This IS NOT expected if you are initializing BertEmotionClassifier from the checkpoint of a model that you expect to be exactly identical (initializing a BertForSequenceClassification model from a BertForSequenceClassification model).\n",
      "Some weights of BertEmotionClassifier were not initialized from the model checkpoint at /content/large-model/ and are newly initialized: ['bert.pooler.dense.bias', 'bert.pooler.dense.weight', 'cls_layer.bias', 'cls_layer.weight']\n",
      "You should probably TRAIN this model on a down-stream task to be able to use it for predictions and inference.\n"
     ]
    }
   ],
   "source": [
    "## Configuration loaded from AutoConfig using config created for large model\n",
    "config = AutoConfig.from_pretrained('/content/large-model/')\n",
    "## Creating the model from small model config and weights\n",
    "model = BertEmotionClassifier.from_pretrained('/content/large-model/', config=config, **params2)\n",
    "## Putting model to device\n",
    "model = model.to(DEVICE)\n"
   ]
  },
  {
   "cell_type": "code",
   "execution_count": 118,
   "metadata": {
    "colab": {
     "base_uri": "https://localhost:8080/"
    },
    "id": "b_8hlwt9KLTs",
    "outputId": "f2117a21-bcbd-4867-e00b-c473c916f036"
   },
   "outputs": [
    {
     "name": "stdout",
     "output_type": "stream",
     "text": [
      "Epoch [0], train_loss: 1.5802, val_loss: 1.5384, val_acc: 0.4133\n",
      "Epoch [1], train_loss: 1.3883, val_loss: 1.1439, val_acc: 0.5795\n",
      "Epoch [2], train_loss: 0.9966, val_loss: 0.6987, val_acc: 0.7681\n",
      "Epoch [3], train_loss: 0.5374, val_loss: 0.4472, val_acc: 0.8520\n",
      "Epoch [4], train_loss: 0.3349, val_loss: 0.3241, val_acc: 0.8794\n",
      "Epoch [5], train_loss: 0.2390, val_loss: 0.3013, val_acc: 0.8882\n",
      "Epoch [6], train_loss: 0.1949, val_loss: 0.2869, val_acc: 0.8894\n",
      "Epoch [7], train_loss: 0.1725, val_loss: 0.2886, val_acc: 0.8992\n",
      "Epoch [8], train_loss: 0.1601, val_loss: 0.2974, val_acc: 0.8966\n",
      "Epoch [9], train_loss: 0.1474, val_loss: 0.2908, val_acc: 0.8980\n",
      "Epoch [10], train_loss: 0.1288, val_loss: 0.2923, val_acc: 0.8984\n",
      "Epoch [11], train_loss: 0.1133, val_loss: 0.2979, val_acc: 0.9010\n",
      "Epoch [12], train_loss: 0.0983, val_loss: 0.3136, val_acc: 0.8972\n",
      "Epoch [13], train_loss: 0.0975, val_loss: 0.3381, val_acc: 0.8918\n",
      "Epoch [14], train_loss: 0.0833, val_loss: 0.3340, val_acc: 0.8949\n"
     ]
    }
   ],
   "source": [
    "#Training large model\n",
    "\n",
    "model.fit(train_loader, valid_loader)"
   ]
  },
  {
   "cell_type": "code",
   "execution_count": 119,
   "metadata": {
    "id": "s86Mh1NrJDP5"
   },
   "outputs": [],
   "source": [
    "#Saving large model and history\n",
    "\n",
    "model.save_results('results_large.csv')\n",
    "model.save_model('model_large.pt')"
   ]
  },
  {
   "cell_type": "code",
   "execution_count": 120,
   "metadata": {
    "id": "jEG5CjcnJDP6"
   },
   "outputs": [],
   "source": [
    "#Testing large model\n",
    "\n",
    "cm, f1, prec, rec, acc = model.test(test_loader)\n",
    "df_test_results.loc[len(df_test_results.index)] = ['Large Model', acc, prec, rec, f1, cm]"
   ]
  },
  {
   "cell_type": "code",
   "execution_count": 122,
   "metadata": {
    "id": "KeZmuML0_XU4"
   },
   "outputs": [],
   "source": [
    "#Saving test results\n",
    "\n",
    "df_test_results.to_pickle('test_results.pkl')"
   ]
  },
  {
   "cell_type": "markdown",
   "metadata": {
    "id": "FgcEiX4ZVaJC"
   },
   "source": [
    "## Transfer Learning - Results"
   ]
  },
  {
   "cell_type": "code",
   "execution_count": 123,
   "metadata": {
    "id": "D7dZKm_TX0vw"
   },
   "outputs": [],
   "source": [
    "#Loading train/val histories\n",
    "\n",
    "df1 = pd.read_csv(\"/content/results_reg.csv\")\n",
    "df2 = pd.read_csv(\"/content/results_small.csv\")\n",
    "df3 = pd.read_csv(\"/content/results_large.csv\")"
   ]
  },
  {
   "cell_type": "code",
   "execution_count": 156,
   "metadata": {
    "colab": {
     "base_uri": "https://localhost:8080/",
     "height": 350
    },
    "id": "sv3pym1eXf-d",
    "outputId": "8ce9615e-c40c-477a-b419-a54535682f6d"
   },
   "outputs": [
    {
     "data": {
      "image/png": "[encoded data removed]",
      "text/plain": [
       "<Figure size 1296x360 with 3 Axes>"
      ]
     },
     "metadata": {
      "needs_background": "light"
     },
     "output_type": "display_data"
    }
   ],
   "source": [
    "#Plotting validation and train loss\n",
    "\n",
    "fig, axs = plt.subplots(1, 3, figsize=(18,5), sharey=True)\n",
    "axs[0].plot(range(7), df1['val_loss'], label=\"Validation Loss\")\n",
    "axs[0].plot(df1['train_loss'], label=\"Train Loss\")\n",
    "axs[0].set_title('Fully Pretrained Model')\n",
    "axs[0].set_xticks([0,2,4,6])\n",
    "axs[0].legend()\n",
    "axs[1].plot(range(20), df2['val_loss'], label=\"Validation Loss\")\n",
    "axs[1].plot(df2['train_loss'], label=\"Train Loss\")\n",
    "axs[1].set_title('Small Model')\n",
    "axs[1].set_xticks([0,2,4,6,8,10,12,14,16,18])\n",
    "axs[1].legend()\n",
    "axs[2].plot(range(15), df3['val_loss'], label=\"Validation Loss\")\n",
    "axs[2].plot(df3['train_loss'], label=\"Train Loss\")\n",
    "axs[2].set_title('Large Model')\n",
    "axs[2].set_xticks([0,2,4,6,8,10,12,14])\n",
    "axs[2].legend()\n",
    "\n",
    "for ax in axs.flat:\n",
    "    ax.set(xlabel='Epoch', ylabel='Loss')\n",
    "\n",
    "plt.show()"
   ]
  },
  {
   "cell_type": "markdown",
   "metadata": {
    "id": "kmdiiLLggmk1"
   },
   "source": [
    "Above are graphs of the training and validation losses for the three models.  As noted above, each network was trained for a different number of epochs.  Training beyond these points would result in overfitting and would hurt the performances of the models.  It is interesting to note that the fully pre-trained model converged very quickly.  It needed only 7 epochs total, and the validation loss began to level out already by the third epoch.  This is in contrast to the small model, which required 20 epochs, and the large model, which required 15 epochs."
   ]
  },
  {
   "cell_type": "code",
   "execution_count": 159,
   "metadata": {
    "colab": {
     "base_uri": "https://localhost:8080/",
     "height": 350
    },
    "id": "ii8ss1jU9UVF",
    "outputId": "6b413aef-0ac1-4832-e3a0-a2a1d218ce80"
   },
   "outputs": [
    {
     "data": {
      "image/png": "[encoded data removed]",
      "text/plain": [
       "<Figure size 1080x360 with 3 Axes>"
      ]
     },
     "metadata": {
      "needs_background": "light"
     },
     "output_type": "display_data"
    }
   ],
   "source": [
    "#Plotting validation accuracies\n",
    "\n",
    "fig, axs = plt.subplots(1, 3, figsize=(15,5), sharey=True)\n",
    "axs[0].plot(range(7), [float(df1['val_acc'][i][7:13]) for i in range(len(df1['val_acc']))], label=\"Fully Pre-trained\")\n",
    "axs[0].set_title('Fully Pre-Trained Model')\n",
    "axs[0].set_xticks([0,2,4,6])\n",
    "axs[1].plot(range(20), [float(df2['val_acc'][i][7:13]) for i in range(len(df2['val_acc']))], label=\"Small Model\")\n",
    "axs[1].set_title('Small Model')\n",
    "axs[1].set_xticks([0,2,4,6,8,10,12,14,16,18])\n",
    "axs[2].plot(range(15), [float(df3['val_acc'][i][7:13]) for i in range(len(df3['val_acc']))], label=\"Large Model\")\n",
    "axs[2].set_title('Large Model')\n",
    "axs[2].set_xticks([0,2,4,6,8,10,12,14])\n",
    "\n",
    "for ax in axs.flat:\n",
    "    ax.set(xlabel='Epoch', ylabel='Validation Accuracy')\n",
    "\n",
    "plt.show()"
   ]
  },
  {
   "cell_type": "markdown",
   "metadata": {
    "id": "MCNsY2ugh0Fm"
   },
   "source": [
    "Above are the graphs of the validation accuracies for each model.  They exhibit behavior similar to their counterparts in the previous figure.  The fully pre-trained model plateaued at about 0.93, while the other two networks achieved accuracies of about 0.9."
   ]
  },
  {
   "cell_type": "code",
   "execution_count": 183,
   "metadata": {
    "id": "b0rNXeefcvE2"
   },
   "outputs": [],
   "source": [
    "#Loading test results\n",
    "\n",
    "df_test_results = pd.read_pickle('test_results.pkl')"
   ]
  },
  {
   "cell_type": "code",
   "execution_count": 184,
   "metadata": {
    "id": "vnzV_AI9bXEC"
   },
   "outputs": [],
   "source": [
    "#Function for normalizing the confusion matrices (needed since the distribution\n",
    "#of labels is skewed)\n",
    "\n",
    "def normalize_cm(cm):\n",
    "    norm_cm = np.zeros((6,6))\n",
    "    counts = test_df['emotion'].value_counts()\n",
    "        for i in range(6):\n",
    "            for j in range(6):\n",
    "                norm_cm[i,j] = cm[i,j]/counts[i]\n",
    "    return norm_cm\n"
   ]
  },
  {
   "cell_type": "code",
   "execution_count": 186,
   "metadata": {
    "colab": {
     "base_uri": "https://localhost:8080/",
     "height": 340
    },
    "id": "K_lPlJ72Joyz",
    "outputId": "ffc8bdf9-624c-45ba-d132-2a1f40fcc991"
   },
   "outputs": [
    {
     "data": {
      "image/png": "[encoded data removed]",
      "text/plain": [
       "<Figure size 1440x1080 with 3 Axes>"
      ]
     },
     "metadata": {
      "needs_background": "light"
     },
     "output_type": "display_data"
    }
   ],
   "source": [
    "#Plotting confusion matrices\n",
    "\n",
    "fig, axes = plt.subplots(1, 3, figsize=(20,15))\n",
    "\n",
    "for ax, i in zip(axes.flat, range(3)):\n",
    "    cm = normalize_cm(df_test_results['Confusion Matrix'][i])\n",
    "    disp = ConfusionMatrixDisplay(cm, display_labels=LABEL_DICT)\n",
    "    disp.plot(ax=ax)\n",
    "    ax.set_title(df_test_results['Model'][i])\n",
    "    disp.im_.colorbar.remove()\n",
    "\n",
    "plt.show()"
   ]
  },
  {
   "cell_type": "markdown",
   "metadata": {
    "id": "NQbVfwlkiYZ3"
   },
   "source": [
    "Above are the confusion matrices for each of the models.  It is interesting to see that all three models had confusion between joy and love as well as between fear and surprise.  Also, it is surprising that the fully pre-trained model did more poorly on the 'surprise' examples than the other two models, despite performing better overall.  In particular, its accuracy for the label is only 0.68.  Recall that the dataset had very few examples for the 'surprise' label.  Perhaps this lack of data compared to the other categories explains why all the networks perform poorly with this label."
   ]
  },
  {
   "cell_type": "code",
   "execution_count": 151,
   "metadata": {
    "colab": {
     "base_uri": "https://localhost:8080/",
     "height": 143
    },
    "id": "06FL17f7J0xP",
    "outputId": "730b4746-2a78-4460-b9bd-91f54490ec34"
   },
   "outputs": [
    {
     "data": {
      "text/html": [
       "\n",
       "  <div id=\"df-29fb20da-3437-4556-82bc-232b1ebd5de4\">\n",
       "    <div class=\"colab-df-container\">\n",
       "      <div>\n",
       "<style scoped>\n",
       "    .dataframe tbody tr th:only-of-type {\n",
       "        vertical-align: middle;\n",
       "    }\n",
       "\n",
       "    .dataframe tbody tr th {\n",
       "        vertical-align: top;\n",
       "    }\n",
       "\n",
       "    .dataframe thead th {\n",
       "        text-align: right;\n",
       "    }\n",
       "</style>\n",
       "<table border=\"1\" class=\"dataframe\">\n",
       "  <thead>\n",
       "    <tr style=\"text-align: right;\">\n",
       "      <th></th>\n",
       "      <th>Model</th>\n",
       "      <th>Accuracy</th>\n",
       "      <th>Precision Score</th>\n",
       "      <th>Recall Score</th>\n",
       "      <th>F1 Score</th>\n",
       "    </tr>\n",
       "  </thead>\n",
       "  <tbody>\n",
       "    <tr>\n",
       "      <th>0</th>\n",
       "      <td>Fully Pretrained Model</td>\n",
       "      <td>0.922961</td>\n",
       "      <td>0.886678</td>\n",
       "      <td>0.881285</td>\n",
       "      <td>0.881751</td>\n",
       "    </tr>\n",
       "    <tr>\n",
       "      <th>1</th>\n",
       "      <td>Small Model</td>\n",
       "      <td>0.890945</td>\n",
       "      <td>0.840200</td>\n",
       "      <td>0.853263</td>\n",
       "      <td>0.845695</td>\n",
       "    </tr>\n",
       "    <tr>\n",
       "      <th>2</th>\n",
       "      <td>Large Model</td>\n",
       "      <td>0.894447</td>\n",
       "      <td>0.845156</td>\n",
       "      <td>0.857069</td>\n",
       "      <td>0.849910</td>\n",
       "    </tr>\n",
       "  </tbody>\n",
       "</table>\n",
       "</div>\n",
       "      <button class=\"colab-df-convert\" onclick=\"convertToInteractive('df-29fb20da-3437-4556-82bc-232b1ebd5de4')\"\n",
       "              title=\"Convert this dataframe to an interactive table.\"\n",
       "              style=\"display:none;\">\n",
       "        \n",
       "  <svg xmlns=\"http://www.w3.org/2000/svg\" height=\"24px\"viewBox=\"0 0 24 24\"\n",
       "       width=\"24px\">\n",
       "    <path d=\"M0 0h24v24H0V0z\" fill=\"none\"/>\n",
       "    <path d=\"M18.56 5.44l.94 2.06.94-2.06 2.06-.94-2.06-.94-.94-2.06-.94 2.06-2.06.94zm-11 1L8.5 8.5l.94-2.06 2.06-.94-2.06-.94L8.5 2.5l-.94 2.06-2.06.94zm10 10l.94 2.06.94-2.06 2.06-.94-2.06-.94-.94-2.06-.94 2.06-2.06.94z\"/><path d=\"M17.41 7.96l-1.37-1.37c-.4-.4-.92-.59-1.43-.59-.52 0-1.04.2-1.43.59L10.3 9.45l-7.72 7.72c-.78.78-.78 2.05 0 2.83L4 21.41c.39.39.9.59 1.41.59.51 0 1.02-.2 1.41-.59l7.78-7.78 2.81-2.81c.8-.78.8-2.07 0-2.86zM5.41 20L4 18.59l7.72-7.72 1.47 1.35L5.41 20z\"/>\n",
       "  </svg>\n",
       "      </button>\n",
       "      \n",
       "  <style>\n",
       "    .colab-df-container {\n",
       "      display:flex;\n",
       "      flex-wrap:wrap;\n",
       "      gap: 12px;\n",
       "    }\n",
       "\n",
       "    .colab-df-convert {\n",
       "      background-color: #E8F0FE;\n",
       "      border: none;\n",
       "      border-radius: 50%;\n",
       "      cursor: pointer;\n",
       "      display: none;\n",
       "      fill: #1967D2;\n",
       "      height: 32px;\n",
       "      padding: 0 0 0 0;\n",
       "      width: 32px;\n",
       "    }\n",
       "\n",
       "    .colab-df-convert:hover {\n",
       "      background-color: #E2EBFA;\n",
       "      box-shadow: 0px 1px 2px rgba(60, 64, 67, 0.3), 0px 1px 3px 1px rgba(60, 64, 67, 0.15);\n",
       "      fill: #174EA6;\n",
       "    }\n",
       "\n",
       "    [theme=dark] .colab-df-convert {\n",
       "      background-color: #3B4455;\n",
       "      fill: #D2E3FC;\n",
       "    }\n",
       "\n",
       "    [theme=dark] .colab-df-convert:hover {\n",
       "      background-color: #434B5C;\n",
       "      box-shadow: 0px 1px 3px 1px rgba(0, 0, 0, 0.15);\n",
       "      filter: drop-shadow(0px 1px 2px rgba(0, 0, 0, 0.3));\n",
       "      fill: #FFFFFF;\n",
       "    }\n",
       "  </style>\n",
       "\n",
       "      <script>\n",
       "        const buttonEl =\n",
       "          document.querySelector('#df-29fb20da-3437-4556-82bc-232b1ebd5de4 button.colab-df-convert');\n",
       "        buttonEl.style.display =\n",
       "          google.colab.kernel.accessAllowed ? 'block' : 'none';\n",
       "\n",
       "        async function convertToInteractive(key) {\n",
       "          const element = document.querySelector('#df-29fb20da-3437-4556-82bc-232b1ebd5de4');\n",
       "          const dataTable =\n",
       "            await google.colab.kernel.invokeFunction('convertToInteractive',\n",
       "                                                     [key], {});\n",
       "          if (!dataTable) return;\n",
       "\n",
       "          const docLinkHtml = 'Like what you see? Visit the ' +\n",
       "            '<a target=\"_blank\" href=https://colab.research.google.com/notebooks/data_table.ipynb>data table notebook</a>'\n",
       "            + ' to learn more about interactive tables.';\n",
       "          element.innerHTML = '';\n",
       "          dataTable['output_type'] = 'display_data';\n",
       "          await google.colab.output.renderOutput(dataTable, element);\n",
       "          const docLink = document.createElement('div');\n",
       "          docLink.innerHTML = docLinkHtml;\n",
       "          element.appendChild(docLink);\n",
       "        }\n",
       "      </script>\n",
       "    </div>\n",
       "  </div>\n",
       "  "
      ],
      "text/plain": [
       "                    Model  Accuracy  Precision Score  Recall Score  F1 Score\n",
       "0  Fully Pretrained Model  0.922961         0.886678      0.881285  0.881751\n",
       "1             Small Model  0.890945         0.840200      0.853263  0.845695\n",
       "2             Large Model  0.894447         0.845156      0.857069  0.849910"
      ]
     },
     "execution_count": 151,
     "metadata": {},
     "output_type": "execute_result"
    }
   ],
   "source": [
    "#Displaying test results\n",
    "\n",
    "df_test_results.loc[:, :'F1 Score']"
   ]
  },
  {
   "cell_type": "markdown",
   "metadata": {
    "id": "5geK9qvIj9qZ"
   },
   "source": [
    "Above is a table containing the accuracy, precision, recall, and F1 scores for each network.  As expected, the fully pre-trained model had the best scores across the board.  But, surprisingly, the small and large models were not far behind, with the large model performing slightly better than the small model.  The F1 scores for all the networks are fairly high, which reflects the fact that most of the entries in the confusion matrices above are nearly zero.  Therefore, overall, all three networks performed very well."
   ]
  },
  {
   "cell_type": "markdown",
   "metadata": {
    "id": "AodvX_ObVvra"
   },
   "source": [
    "## Discussion and Conclusion\n",
    "\n",
    "In the first half of this report, I pre-trained a small and large BERT network on the small wikitext dataset.  Comparing the validation loss of the two networks at the end of training revealed that both networks pre-trained poorly, with the large network doing slightly better than the small one.  Therefore, I was surprised to see how well these two networks competed against a properly pre-trained BERT network on the emotion classification task.  Both networks were less than 3 accuracy points behind the fully pre-trained model.  It seems that the small and large networks were able to 'catch-up' significantly during the transfer learning.  This is reflected in the graphs of the losses and validation accuracies, where we can see that, while it takes longer for the two networks to train, both ultimately achieve an accuracy just below the properly pre-trained network.  Therefore, this experiment has shown yet another powerful property of transfer learning.  It seems that even if the underlying network is not perfectly pre-trained, the transfer learning process may be able to make up the difference.  \n",
    "\n",
    "However, it may be that the simplicity of the transfer learning task may have made it easier to close the gap between the fully pre-trained model and the other two.  Perhaps a more sophisticated downstream task may not be as successful.\n",
    "Resources useful for making this notebook:\n",
    "\n",
    "Pre-Training - https://www.thepythoncode.com/article/pretraining-bert-huggingface-transformers-in-python\n",
    "\n",
    "Emotion Classification - https://www.kaggle.com/dillonwall/bert-for-sentence-classification-93/notebook"
   ]
  },
  {
   "cell_type": "code",
   "execution_count": null,
   "metadata": {},
   "outputs": [],
   "source": []
  }
 ],
 "metadata": {
  "accelerator": "GPU",
  "colab": {
   "collapsed_sections": [],
   "machine_shape": "hm",
   "name": "BERT - Part 2.ipynb",
   "provenance": []
  },
  "kernelspec": {
   "display_name": "Python 3 (ipykernel)",
   "language": "python",
   "name": "python3"
  },
  "language_info": {
   "codemirror_mode": {
    "name": "ipython",
    "version": 3
   },
   "file_extension": ".py",
   "mimetype": "text/x-python",
   "name": "python",
   "nbconvert_exporter": "python",
   "pygments_lexer": "ipython3",
   "version": "3.8.11"
  },
  "widgets": {
   "application/vnd.jupyter.widget-state+json": {
    "00bfe42d7a5b4cacab5fb4da9105ee60": {
     "model_module": "@jupyter-widgets/base",
     "model_module_version": "1.2.0",
     "model_name": "LayoutModel",
     "state": {
      "_model_module": "@jupyter-widgets/base",
      "_model_module_version": "1.2.0",
      "_model_name": "LayoutModel",
      "_view_count": null,
      "_view_module": "@jupyter-widgets/base",
      "_view_module_version": "1.2.0",
      "_view_name": "LayoutView",
      "align_content": null,
      "align_items": null,
      "align_self": null,
      "border": null,
      "bottom": null,
      "display": null,
      "flex": null,
      "flex_flow": null,
      "grid_area": null,
      "grid_auto_columns": null,
      "grid_auto_flow": null,
      "grid_auto_rows": null,
      "grid_column": null,
      "grid_gap": null,
      "grid_row": null,
      "grid_template_areas": null,
      "grid_template_columns": null,
      "grid_template_rows": null,
      "height": null,
      "justify_content": null,
      "justify_items": null,
      "left": null,
      "margin": null,
      "max_height": null,
      "max_width": null,
      "min_height": null,
      "min_width": null,
      "object_fit": null,
      "object_position": null,
      "order": null,
      "overflow": null,
      "overflow_x": null,
      "overflow_y": null,
      "padding": null,
      "right": null,
      "top": null,
      "visibility": null,
      "width": null
     }
    },
    "0f86f2cfd66b4e3fb9d5738efdade955": {
     "model_module": "@jupyter-widgets/controls",
     "model_module_version": "1.5.0",
     "model_name": "ProgressStyleModel",
     "state": {
      "_model_module": "@jupyter-widgets/controls",
      "_model_module_version": "1.5.0",
      "_model_name": "ProgressStyleModel",
      "_view_count": null,
      "_view_module": "@jupyter-widgets/base",
      "_view_module_version": "1.2.0",
      "_view_name": "StyleView",
      "bar_color": null,
      "description_width": ""
     }
    },
    "2a057dbe6cea4036a0ad32873954520a": {
     "model_module": "@jupyter-widgets/controls",
     "model_module_version": "1.5.0",
     "model_name": "HBoxModel",
     "state": {
      "_dom_classes": [],
      "_model_module": "@jupyter-widgets/controls",
      "_model_module_version": "1.5.0",
      "_model_name": "HBoxModel",
      "_view_count": null,
      "_view_module": "@jupyter-widgets/controls",
      "_view_module_version": "1.5.0",
      "_view_name": "HBoxView",
      "box_style": "",
      "children": [
       "IPY_MODEL_ac888af07f9d4206b2ceddc70fbba01f",
       "IPY_MODEL_b218a49216f74b5a92358c5a3a3a40cb",
       "IPY_MODEL_afdb499e8af842f4890e79fbec05bff5"
      ],
      "layout": "IPY_MODEL_42bde446584f4bb69c00c312e7805af9"
     }
    },
    "31facaea165e490d9cef216199929a73": {
     "model_module": "@jupyter-widgets/controls",
     "model_module_version": "1.5.0",
     "model_name": "DescriptionStyleModel",
     "state": {
      "_model_module": "@jupyter-widgets/controls",
      "_model_module_version": "1.5.0",
      "_model_name": "DescriptionStyleModel",
      "_view_count": null,
      "_view_module": "@jupyter-widgets/base",
      "_view_module_version": "1.2.0",
      "_view_name": "StyleView",
      "description_width": ""
     }
    },
    "3825b4a98bd64da6a316d5d2caadcd96": {
     "model_module": "@jupyter-widgets/controls",
     "model_module_version": "1.5.0",
     "model_name": "FloatProgressModel",
     "state": {
      "_dom_classes": [],
      "_model_module": "@jupyter-widgets/controls",
      "_model_module_version": "1.5.0",
      "_model_name": "FloatProgressModel",
      "_view_count": null,
      "_view_module": "@jupyter-widgets/controls",
      "_view_module_version": "1.5.0",
      "_view_name": "ProgressView",
      "bar_style": "success",
      "description": "",
      "description_tooltip": null,
      "layout": "IPY_MODEL_00bfe42d7a5b4cacab5fb4da9105ee60",
      "max": 34,
      "min": 0,
      "orientation": "horizontal",
      "style": "IPY_MODEL_425aed345d5b47878bc62c812aa08d21",
      "value": 34
     }
    },
    "38a10fcb00cd4691a4059ae08c0ecf28": {
     "model_module": "@jupyter-widgets/base",
     "model_module_version": "1.2.0",
     "model_name": "LayoutModel",
     "state": {
      "_model_module": "@jupyter-widgets/base",
      "_model_module_version": "1.2.0",
      "_model_name": "LayoutModel",
      "_view_count": null,
      "_view_module": "@jupyter-widgets/base",
      "_view_module_version": "1.2.0",
      "_view_name": "LayoutView",
      "align_content": null,
      "align_items": null,
      "align_self": null,
      "border": null,
      "bottom": null,
      "display": null,
      "flex": null,
      "flex_flow": null,
      "grid_area": null,
      "grid_auto_columns": null,
      "grid_auto_flow": null,
      "grid_auto_rows": null,
      "grid_column": null,
      "grid_gap": null,
      "grid_row": null,
      "grid_template_areas": null,
      "grid_template_columns": null,
      "grid_template_rows": null,
      "height": null,
      "justify_content": null,
      "justify_items": null,
      "left": null,
      "margin": null,
      "max_height": null,
      "max_width": null,
      "min_height": null,
      "min_width": null,
      "object_fit": null,
      "object_position": null,
      "order": null,
      "overflow": null,
      "overflow_x": null,
      "overflow_y": null,
      "padding": null,
      "right": null,
      "top": null,
      "visibility": null,
      "width": null
     }
    },
    "425aed345d5b47878bc62c812aa08d21": {
     "model_module": "@jupyter-widgets/controls",
     "model_module_version": "1.5.0",
     "model_name": "ProgressStyleModel",
     "state": {
      "_model_module": "@jupyter-widgets/controls",
      "_model_module_version": "1.5.0",
      "_model_name": "ProgressStyleModel",
      "_view_count": null,
      "_view_module": "@jupyter-widgets/base",
      "_view_module_version": "1.2.0",
      "_view_name": "StyleView",
      "bar_color": null,
      "description_width": ""
     }
    },
    "42bde446584f4bb69c00c312e7805af9": {
     "model_module": "@jupyter-widgets/base",
     "model_module_version": "1.2.0",
     "model_name": "LayoutModel",
     "state": {
      "_model_module": "@jupyter-widgets/base",
      "_model_module_version": "1.2.0",
      "_model_name": "LayoutModel",
      "_view_count": null,
      "_view_module": "@jupyter-widgets/base",
      "_view_module_version": "1.2.0",
      "_view_name": "LayoutView",
      "align_content": null,
      "align_items": null,
      "align_self": null,
      "border": null,
      "bottom": null,
      "display": null,
      "flex": null,
      "flex_flow": null,
      "grid_area": null,
      "grid_auto_columns": null,
      "grid_auto_flow": null,
      "grid_auto_rows": null,
      "grid_column": null,
      "grid_gap": null,
      "grid_row": null,
      "grid_template_areas": null,
      "grid_template_columns": null,
      "grid_template_rows": null,
      "height": null,
      "justify_content": null,
      "justify_items": null,
      "left": null,
      "margin": null,
      "max_height": null,
      "max_width": null,
      "min_height": null,
      "min_width": null,
      "object_fit": null,
      "object_position": null,
      "order": null,
      "overflow": null,
      "overflow_x": null,
      "overflow_y": null,
      "padding": null,
      "right": null,
      "top": null,
      "visibility": null,
      "width": null
     }
    },
    "77c6c69922be497ea0a9cf7a6c0323a8": {
     "model_module": "@jupyter-widgets/controls",
     "model_module_version": "1.5.0",
     "model_name": "DescriptionStyleModel",
     "state": {
      "_model_module": "@jupyter-widgets/controls",
      "_model_module_version": "1.5.0",
      "_model_name": "DescriptionStyleModel",
      "_view_count": null,
      "_view_module": "@jupyter-widgets/base",
      "_view_module_version": "1.2.0",
      "_view_name": "StyleView",
      "description_width": ""
     }
    },
    "786150b2ce914d43919fa28706af5ef9": {
     "model_module": "@jupyter-widgets/controls",
     "model_module_version": "1.5.0",
     "model_name": "HTMLModel",
     "state": {
      "_dom_classes": [],
      "_model_module": "@jupyter-widgets/controls",
      "_model_module_version": "1.5.0",
      "_model_name": "HTMLModel",
      "_view_count": null,
      "_view_module": "@jupyter-widgets/controls",
      "_view_module_version": "1.5.0",
      "_view_name": "HTMLView",
      "description": "",
      "description_tooltip": null,
      "layout": "IPY_MODEL_df6094b381754835a7362236d24a0c3a",
      "placeholder": "​",
      "style": "IPY_MODEL_a64f345d965044e1a16a13f3acfe78de",
      "value": " 34/34 [00:10&lt;00:00,  3.35ba/s]"
     }
    },
    "a64f345d965044e1a16a13f3acfe78de": {
     "model_module": "@jupyter-widgets/controls",
     "model_module_version": "1.5.0",
     "model_name": "DescriptionStyleModel",
     "state": {
      "_model_module": "@jupyter-widgets/controls",
      "_model_module_version": "1.5.0",
      "_model_name": "DescriptionStyleModel",
      "_view_count": null,
      "_view_module": "@jupyter-widgets/base",
      "_view_module_version": "1.2.0",
      "_view_name": "StyleView",
      "description_width": ""
     }
    },
    "a8adc4928aa548e39c5e4ee754e94963": {
     "model_module": "@jupyter-widgets/controls",
     "model_module_version": "1.5.0",
     "model_name": "HBoxModel",
     "state": {
      "_dom_classes": [],
      "_model_module": "@jupyter-widgets/controls",
      "_model_module_version": "1.5.0",
      "_model_name": "HBoxModel",
      "_view_count": null,
      "_view_module": "@jupyter-widgets/controls",
      "_view_module_version": "1.5.0",
      "_view_name": "HBoxView",
      "box_style": "",
      "children": [
       "IPY_MODEL_b9d41f4916f74629854371c7fe32b3f9",
       "IPY_MODEL_3825b4a98bd64da6a316d5d2caadcd96",
       "IPY_MODEL_786150b2ce914d43919fa28706af5ef9"
      ],
      "layout": "IPY_MODEL_c3451a5aa0ab4ff28090b806b7c516fb"
     }
    },
    "ac888af07f9d4206b2ceddc70fbba01f": {
     "model_module": "@jupyter-widgets/controls",
     "model_module_version": "1.5.0",
     "model_name": "HTMLModel",
     "state": {
      "_dom_classes": [],
      "_model_module": "@jupyter-widgets/controls",
      "_model_module_version": "1.5.0",
      "_model_name": "HTMLModel",
      "_view_count": null,
      "_view_module": "@jupyter-widgets/controls",
      "_view_module_version": "1.5.0",
      "_view_name": "HTMLView",
      "description": "",
      "description_tooltip": null,
      "layout": "IPY_MODEL_c78faac265ed40fe9f38ac334160bed7",
      "placeholder": "​",
      "style": "IPY_MODEL_d59a9dac5f89413f8082ca4dfbb33f79",
      "value": "100%"
     }
    },
    "afdb499e8af842f4890e79fbec05bff5": {
     "model_module": "@jupyter-widgets/controls",
     "model_module_version": "1.5.0",
     "model_name": "HTMLModel",
     "state": {
      "_dom_classes": [],
      "_model_module": "@jupyter-widgets/controls",
      "_model_module_version": "1.5.0",
      "_model_name": "HTMLModel",
      "_view_count": null,
      "_view_module": "@jupyter-widgets/controls",
      "_view_module_version": "1.5.0",
      "_view_name": "HTMLView",
      "description": "",
      "description_tooltip": null,
      "layout": "IPY_MODEL_38a10fcb00cd4691a4059ae08c0ecf28",
      "placeholder": "​",
      "style": "IPY_MODEL_77c6c69922be497ea0a9cf7a6c0323a8",
      "value": " 4/4 [00:01&lt;00:00,  3.85ba/s]"
     }
    },
    "b218a49216f74b5a92358c5a3a3a40cb": {
     "model_module": "@jupyter-widgets/controls",
     "model_module_version": "1.5.0",
     "model_name": "FloatProgressModel",
     "state": {
      "_dom_classes": [],
      "_model_module": "@jupyter-widgets/controls",
      "_model_module_version": "1.5.0",
      "_model_name": "FloatProgressModel",
      "_view_count": null,
      "_view_module": "@jupyter-widgets/controls",
      "_view_module_version": "1.5.0",
      "_view_name": "ProgressView",
      "bar_style": "success",
      "description": "",
      "description_tooltip": null,
      "layout": "IPY_MODEL_bf4016443aaf4934b9f6a6d0104e671f",
      "max": 4,
      "min": 0,
      "orientation": "horizontal",
      "style": "IPY_MODEL_0f86f2cfd66b4e3fb9d5738efdade955",
      "value": 4
     }
    },
    "b9d41f4916f74629854371c7fe32b3f9": {
     "model_module": "@jupyter-widgets/controls",
     "model_module_version": "1.5.0",
     "model_name": "HTMLModel",
     "state": {
      "_dom_classes": [],
      "_model_module": "@jupyter-widgets/controls",
      "_model_module_version": "1.5.0",
      "_model_name": "HTMLModel",
      "_view_count": null,
      "_view_module": "@jupyter-widgets/controls",
      "_view_module_version": "1.5.0",
      "_view_name": "HTMLView",
      "description": "",
      "description_tooltip": null,
      "layout": "IPY_MODEL_d1ad5d483b9c4f2796f4f97812ab5305",
      "placeholder": "​",
      "style": "IPY_MODEL_31facaea165e490d9cef216199929a73",
      "value": "100%"
     }
    },
    "bf4016443aaf4934b9f6a6d0104e671f": {
     "model_module": "@jupyter-widgets/base",
     "model_module_version": "1.2.0",
     "model_name": "LayoutModel",
     "state": {
      "_model_module": "@jupyter-widgets/base",
      "_model_module_version": "1.2.0",
      "_model_name": "LayoutModel",
      "_view_count": null,
      "_view_module": "@jupyter-widgets/base",
      "_view_module_version": "1.2.0",
      "_view_name": "LayoutView",
      "align_content": null,
      "align_items": null,
      "align_self": null,
      "border": null,
      "bottom": null,
      "display": null,
      "flex": null,
      "flex_flow": null,
      "grid_area": null,
      "grid_auto_columns": null,
      "grid_auto_flow": null,
      "grid_auto_rows": null,
      "grid_column": null,
      "grid_gap": null,
      "grid_row": null,
      "grid_template_areas": null,
      "grid_template_columns": null,
      "grid_template_rows": null,
      "height": null,
      "justify_content": null,
      "justify_items": null,
      "left": null,
      "margin": null,
      "max_height": null,
      "max_width": null,
      "min_height": null,
      "min_width": null,
      "object_fit": null,
      "object_position": null,
      "order": null,
      "overflow": null,
      "overflow_x": null,
      "overflow_y": null,
      "padding": null,
      "right": null,
      "top": null,
      "visibility": null,
      "width": null
     }
    },
    "c3451a5aa0ab4ff28090b806b7c516fb": {
     "model_module": "@jupyter-widgets/base",
     "model_module_version": "1.2.0",
     "model_name": "LayoutModel",
     "state": {
      "_model_module": "@jupyter-widgets/base",
      "_model_module_version": "1.2.0",
      "_model_name": "LayoutModel",
      "_view_count": null,
      "_view_module": "@jupyter-widgets/base",
      "_view_module_version": "1.2.0",
      "_view_name": "LayoutView",
      "align_content": null,
      "align_items": null,
      "align_self": null,
      "border": null,
      "bottom": null,
      "display": null,
      "flex": null,
      "flex_flow": null,
      "grid_area": null,
      "grid_auto_columns": null,
      "grid_auto_flow": null,
      "grid_auto_rows": null,
      "grid_column": null,
      "grid_gap": null,
      "grid_row": null,
      "grid_template_areas": null,
      "grid_template_columns": null,
      "grid_template_rows": null,
      "height": null,
      "justify_content": null,
      "justify_items": null,
      "left": null,
      "margin": null,
      "max_height": null,
      "max_width": null,
      "min_height": null,
      "min_width": null,
      "object_fit": null,
      "object_position": null,
      "order": null,
      "overflow": null,
      "overflow_x": null,
      "overflow_y": null,
      "padding": null,
      "right": null,
      "top": null,
      "visibility": null,
      "width": null
     }
    },
    "c78faac265ed40fe9f38ac334160bed7": {
     "model_module": "@jupyter-widgets/base",
     "model_module_version": "1.2.0",
     "model_name": "LayoutModel",
     "state": {
      "_model_module": "@jupyter-widgets/base",
      "_model_module_version": "1.2.0",
      "_model_name": "LayoutModel",
      "_view_count": null,
      "_view_module": "@jupyter-widgets/base",
      "_view_module_version": "1.2.0",
      "_view_name": "LayoutView",
      "align_content": null,
      "align_items": null,
      "align_self": null,
      "border": null,
      "bottom": null,
      "display": null,
      "flex": null,
      "flex_flow": null,
      "grid_area": null,
      "grid_auto_columns": null,
      "grid_auto_flow": null,
      "grid_auto_rows": null,
      "grid_column": null,
      "grid_gap": null,
      "grid_row": null,
      "grid_template_areas": null,
      "grid_template_columns": null,
      "grid_template_rows": null,
      "height": null,
      "justify_content": null,
      "justify_items": null,
      "left": null,
      "margin": null,
      "max_height": null,
      "max_width": null,
      "min_height": null,
      "min_width": null,
      "object_fit": null,
      "object_position": null,
      "order": null,
      "overflow": null,
      "overflow_x": null,
      "overflow_y": null,
      "padding": null,
      "right": null,
      "top": null,
      "visibility": null,
      "width": null
     }
    },
    "d1ad5d483b9c4f2796f4f97812ab5305": {
     "model_module": "@jupyter-widgets/base",
     "model_module_version": "1.2.0",
     "model_name": "LayoutModel",
     "state": {
      "_model_module": "@jupyter-widgets/base",
      "_model_module_version": "1.2.0",
      "_model_name": "LayoutModel",
      "_view_count": null,
      "_view_module": "@jupyter-widgets/base",
      "_view_module_version": "1.2.0",
      "_view_name": "LayoutView",
      "align_content": null,
      "align_items": null,
      "align_self": null,
      "border": null,
      "bottom": null,
      "display": null,
      "flex": null,
      "flex_flow": null,
      "grid_area": null,
      "grid_auto_columns": null,
      "grid_auto_flow": null,
      "grid_auto_rows": null,
      "grid_column": null,
      "grid_gap": null,
      "grid_row": null,
      "grid_template_areas": null,
      "grid_template_columns": null,
      "grid_template_rows": null,
      "height": null,
      "justify_content": null,
      "justify_items": null,
      "left": null,
      "margin": null,
      "max_height": null,
      "max_width": null,
      "min_height": null,
      "min_width": null,
      "object_fit": null,
      "object_position": null,
      "order": null,
      "overflow": null,
      "overflow_x": null,
      "overflow_y": null,
      "padding": null,
      "right": null,
      "top": null,
      "visibility": null,
      "width": null
     }
    },
    "d59a9dac5f89413f8082ca4dfbb33f79": {
     "model_module": "@jupyter-widgets/controls",
     "model_module_version": "1.5.0",
     "model_name": "DescriptionStyleModel",
     "state": {
      "_model_module": "@jupyter-widgets/controls",
      "_model_module_version": "1.5.0",
      "_model_name": "DescriptionStyleModel",
      "_view_count": null,
      "_view_module": "@jupyter-widgets/base",
      "_view_module_version": "1.2.0",
      "_view_name": "StyleView",
      "description_width": ""
     }
    },
    "df6094b381754835a7362236d24a0c3a": {
     "model_module": "@jupyter-widgets/base",
     "model_module_version": "1.2.0",
     "model_name": "LayoutModel",
     "state": {
      "_model_module": "@jupyter-widgets/base",
      "_model_module_version": "1.2.0",
      "_model_name": "LayoutModel",
      "_view_count": null,
      "_view_module": "@jupyter-widgets/base",
      "_view_module_version": "1.2.0",
      "_view_name": "LayoutView",
      "align_content": null,
      "align_items": null,
      "align_self": null,
      "border": null,
      "bottom": null,
      "display": null,
      "flex": null,
      "flex_flow": null,
      "grid_area": null,
      "grid_auto_columns": null,
      "grid_auto_flow": null,
      "grid_auto_rows": null,
      "grid_column": null,
      "grid_gap": null,
      "grid_row": null,
      "grid_template_areas": null,
      "grid_template_columns": null,
      "grid_template_rows": null,
      "height": null,
      "justify_content": null,
      "justify_items": null,
      "left": null,
      "margin": null,
      "max_height": null,
      "max_width": null,
      "min_height": null,
      "min_width": null,
      "object_fit": null,
      "object_position": null,
      "order": null,
      "overflow": null,
      "overflow_x": null,
      "overflow_y": null,
      "padding": null,
      "right": null,
      "top": null,
      "visibility": null,
      "width": null
     }
    }
   }
  }
 },
 "nbformat": 4,
 "nbformat_minor": 1
}
