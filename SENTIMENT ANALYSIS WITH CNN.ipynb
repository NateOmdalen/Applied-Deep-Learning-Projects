{
 "cells": [
  {
   "cell_type": "markdown",
   "metadata": {
    "id": "QdS-b2voCjOd"
   },
   "source": [
    "# Exploration of \"Convolutional Neural Networks for Sentence Classification\"\n",
    "\n",
    "\n",
    "In this report, we will be experimenting with a convolutional neural network to help classify the movie reviews as either \"positive\" or \"negative.\"  In particular, we will use the architecture described in \"Convolutional Neural Networks for Sentence Classification\" by Yoon Kim.  Prior to this paper, Convolutional Neural Networks (CNNs) had proven their worth in computer vision, where they had been used to push the state of the art in image classification.  There are at least two good reasons why CNNs proved so effective in image classification.  The first is that they are good feature extractors.  The convolution operation is useful in modeling the relationship a pixel in an image has with its neighbors.  This in turn helps the feature maps of the CNN to learn general features of images, such as edges and shapes.  Second, CNNs are parameter efficient:  each convolutional kernel is shared by the entire image.  With these benefits in mind, it is natural to ask whether CNNs can be used in natural language processing.  This paper by Kim is representative of early attempts to apply CNNs to the task of text classification.  The network presented in the paper is remarkably simple.  The first layer of the network consists of a pretrained word2vec word embedding.  The network then represents a sentence as a sequence of words as vectors from the embedding.  In the convolution layer, each kernel of size k is applied to each k-length window of words.  Therefore, for every kernel, the output of the convolution layer is 1 feature map.  Then, max pooling is performed on each feature map before they are sent through a fully-connected layer and classified.\n",
    "\n",
    "There are two key design choices explored in the paper that we will investigate further here. The first is the use of dropout as a regularization technique.  Dropout is particularly useful in fully-connected layers where the neurons tend to become codependent.  Dropout fixes this by randomly removing a proportion p of the neurons during each iteration of training.  After experimentation, Kim discovered that p=0.5 was optimal.  We will be exploring this value as well as three others.  The second design choice of interest is the use of what Kim calls static and nonstatic learning.  In static learning, the word embedding is kept fixed, while in non-static learning, the word embedding is subject to fine tuning during gradient descent.  Kim asserts that non-static learning is better, and we will be putting this to the test on the IMDb dataset.\n",
    "\n",
    "The report proceeds as follows.  First, we import the data and perform the necessary preprocessing.  Second, we introduce the model and its architecture.  Then, we run the network with static and non-static word representations for four different dropout probabilities (0.0, 0.25, 0.5, 0.75), resulting in 8 different networks.  Then, we discuss the training performance of each network and evaluate them on test data.  Finally, we discuss the results and present our concluding remarks."
   ]
  },
  {
   "cell_type": "markdown",
   "metadata": {
    "id": "jfm8qE93yXhA"
   },
   "source": [
    "## Data Preprocessing\n",
    "\n",
    "Before training the models, we require two major data preprocessing steps.  First, we need to prepare the data for training. The data comes in tuples, where the first entry of the tuple is the class of the movie review (either 'pos' or 'neg'), and the second entry is a string consisting of the moview review.  Therefore, we must turn the classes into integers (0 for 'pos' and 1 for 'neg'), and we must tokenize each review so that it is a list of words.  We will keep all words (including words like 'the' and 'of'), but we will remove all punctuation.  The second step we require is constructing the word embedding.  We will be downloading the same word embedding used by Kim.  This is the word2vec embedding that was trained on Google news articles.  Then, to save memory, we will only be using the part of the embedding that is in common with the vocabulary of our dataset.  This will cut down the size of the embedding by many orders of magnitude, as the vocabulary of the dataset is relatively small.\n",
    "\n",
    "Note as well that we wait until training and inference time to convert the list of words of each review into 2D tensors where the columns are the vector representations of each word in the review.\n",
    "\n",
    "There are 25,000 training examples, 5,000 validation examples, and 20,000 testing examples."
   ]
  },
  {
   "cell_type": "code",
   "execution_count": null,
   "metadata": {
    "id": "h3Xj2t0TA8zW"
   },
   "outputs": [],
   "source": [
    "#Importing all libraries needed for report\n",
    "\n",
    "import torch\n",
    "from torch.utils.data.dataloader import DataLoader\n",
    "import torch.nn as nn\n",
    "import torch.nn.functional as F\n",
    "from torchtext import datasets\n",
    "from torch.autograd import Variable\n",
    "from nltk.tokenize import RegexpTokenizer\n",
    "import numpy as np\n",
    "from sklearn.utils import shuffle\n",
    "from gensim.models.keyedvectors import KeyedVectors\n",
    "import pandas as pd\n",
    "from sklearn.metrics import confusion_matrix, precision_score, recall_score, f1_score, ConfusionMatrixDisplay\n",
    "import csv\n",
    "from matplotlib import pyplot as plt"
   ]
  },
  {
   "cell_type": "code",
   "execution_count": null,
   "metadata": {
    "colab": {
     "base_uri": "https://localhost:8080/"
    },
    "id": "jHAnnfqkxWoB",
    "outputId": "553de3ea-f5d7-49bb-99c3-d2f9d5d1d8bb"
   },
   "outputs": [
    {
     "name": "stderr",
     "output_type": "stream",
     "text": [
      "100%|██████████| 84.1M/84.1M [00:01<00:00, 60.6MB/s]\n"
     ]
    }
   ],
   "source": [
    "#Retrieving dataset\n",
    "\n",
    "train_data, val_test_data = datasets.IMDB(root='.data', split=('train', 'test'))"
   ]
  },
  {
   "cell_type": "code",
   "execution_count": null,
   "metadata": {
    "id": "is9gDo4ghvua"
   },
   "outputs": [],
   "source": [
    "def preprocessor(dataset):\n",
    "    \"\"\"\n",
    "    Data preprocessor for pytorch IMDb dataset.\n",
    "    Takes as input pytorch dataset and returns list of\n",
    "    tokenized sentences and list of labels as integers\n",
    "    \"\"\"\n",
    "\n",
    "    #This is the nltk tokenizer we'll use:\n",
    "    tokenizer = RegexpTokenizer(r'\\w+')\n",
    "    #Dict for changing labels to ints\n",
    "    label_to_int = {'neg': 0,\n",
    "                    'pos': 1}\n",
    "\n",
    "    token_by_sent = []\n",
    "    labels = []\n",
    "\n",
    "    for x in dataset:\n",
    "        sent = x[1]\n",
    "        label = label_to_int[x[0]]\n",
    "        #Tokenize each sent and append to token_by_sent as list:\n",
    "        token_by_sent.append(tokenizer.tokenize(sent))\n",
    "        #Add label to labels list\n",
    "        labels.append(label)\n",
    "\n",
    "    sentences = []\n",
    "\n",
    "    for x in token_by_sent:\n",
    "        #Making all tokens lowercase\n",
    "        sent = [word.lower() for word in x]\n",
    "        #Getting rid of 'br' (token pytorch used to break up sentences)\n",
    "        sent = [word for word in sent if word != 'br']\n",
    "        sentences.append(sent)\n",
    "\n",
    "    return sentences, labels\n",
    "\n",
    "def get_tokens(sentences):\n",
    "    \"\"\"\n",
    "    Takes list of sentences (produced in preprocessor)\n",
    "    and returns single list of all tokens (with duplicates)\n",
    "    \"\"\"\n",
    "    tokens = [w for sent in sentences for w in sent]\n",
    "    return tokens\n",
    "\n",
    "def get_max_sent(sentences):\n",
    "    \"\"\"\n",
    "    Takes list of sentences (produced in preprocessor)\n",
    "    and finds max sentence length\n",
    "    \"\"\"\n",
    "    max_sent = 0\n",
    "    for sent in sentences:\n",
    "        numb_words = len(sent)\n",
    "        if numb_words > max_sent:\n",
    "            max_sent = numb_words\n",
    "    return max_sent\n",
    "\n",
    "def get_vocab(tokens):\n",
    "    \"\"\"\n",
    "    Returns sorted list of tokens (no duplicates)\n",
    "    \"\"\"\n",
    "    return sorted(list(set(tokens)))"
   ]
  },
  {
   "cell_type": "code",
   "execution_count": null,
   "metadata": {
    "id": "ho37WJLNjssC"
   },
   "outputs": [],
   "source": [
    "\n",
    "#Here is our training data\n",
    "train_x, train_y = preprocessor(train_data)\n",
    "\n",
    "#Here is our validation and test data\n",
    "val_test_x, val_test_y = preprocessor(val_test_data)\n"
   ]
  },
  {
   "cell_type": "code",
   "execution_count": null,
   "metadata": {
    "id": "HR60HQEDpEVA"
   },
   "outputs": [],
   "source": [
    "train_tokens = get_tokens(train_x)\n",
    "val_test_tokens = get_tokens(val_test_x)\n",
    "#Here is all tokens for entire dataset:\n",
    "all_tokens = train_tokens + val_test_tokens"
   ]
  },
  {
   "cell_type": "code",
   "execution_count": null,
   "metadata": {
    "id": "CYNZ7W5N0hK1"
   },
   "outputs": [],
   "source": [
    "# We have to split up the val_test dataset.  First\n",
    "# we shuffle and then take first 5000 for val dataset\n",
    "\n",
    "val_test_x, val_test_y = shuffle(val_test_x, val_test_y)\n",
    "val_x = val_test_x[:5000]\n",
    "val_y = val_test_y[:5000]\n",
    "test_x = val_test_x[5000:]\n",
    "test_y = val_test_y[5000:]\n"
   ]
  },
  {
   "cell_type": "code",
   "execution_count": null,
   "metadata": {
    "id": "LxlXk86yqVDY"
   },
   "outputs": [],
   "source": [
    "#We will need these variables for constructing embedding and for training\n",
    "\n",
    "MAX_SENT_LEN = max([get_max_sent(train_x), \n",
    "                    get_max_sent(val_x), \n",
    "                    get_max_sent(test_x)])\n",
    "VOCAB = get_vocab(all_tokens)\n",
    "VOCAB_SIZE = len(VOCAB)"
   ]
  },
  {
   "cell_type": "code",
   "execution_count": null,
   "metadata": {
    "colab": {
     "base_uri": "https://localhost:8080/"
    },
    "id": "wSjsIGEoVLWH",
    "outputId": "4dd06e06-8506-4a83-8231-59afff72f861"
   },
   "outputs": [
    {
     "name": "stdout",
     "output_type": "stream",
     "text": [
      "/bin/bash: brew: command not found\n",
      "--2022-01-26 02:59:07--  https://s3.amazonaws.com/dl4j-distribution/GoogleNews-vectors-negative300.bin.gz\n",
      "Resolving s3.amazonaws.com (s3.amazonaws.com)... 52.217.103.126\n",
      "Connecting to s3.amazonaws.com (s3.amazonaws.com)|52.217.103.126|:443... connected.\n",
      "HTTP request sent, awaiting response... 200 OK\n",
      "Length: 1647046227 (1.5G) [application/x-gzip]\n",
      "Saving to: ‘GoogleNews-vectors-negative300.bin.gz’\n",
      "\n",
      "GoogleNews-vectors- 100%[===================>]   1.53G  29.8MB/s    in 40s     \n",
      "\n",
      "2022-01-26 02:59:47 (39.7 MB/s) - ‘GoogleNews-vectors-negative300.bin.gz’ saved [1647046227/1647046227]\n",
      "\n"
     ]
    }
   ],
   "source": [
    "#Here, we retrieve the pretrained word2vec embedding used in the paper\n",
    "\n",
    "!brew install wget\n",
    "\n",
    "!wget -c \"https://s3.amazonaws.com/dl4j-distribution/GoogleNews-vectors-negative300.bin.gz\""
   ]
  },
  {
   "cell_type": "code",
   "execution_count": null,
   "metadata": {
    "id": "Noy12H95VPWR"
   },
   "outputs": [],
   "source": [
    "#Unzipping file\n",
    "\n",
    "!gzip -d GoogleNews-vectors-negative300.bin.gz"
   ]
  },
  {
   "cell_type": "code",
   "execution_count": null,
   "metadata": {
    "id": "Q7zlbc-HV3ji"
   },
   "outputs": [],
   "source": [
    " #This variable holds the downloaded word2vec representation\n",
    " \n",
    " word_vectors = KeyedVectors.load_word2vec_format(\"GoogleNews-vectors-negative300.bin\", binary=True)"
   ]
  },
  {
   "cell_type": "code",
   "execution_count": null,
   "metadata": {
    "id": "4fQeuq9t1U7c"
   },
   "outputs": [],
   "source": [
    "#Dictionaries for going from words to index and vice versa\n",
    "#We wlil need these for training\n",
    "\n",
    "word_to_idx = {w: i for i, w in enumerate(VOCAB)}\n",
    "idx_to_word = {i: w for i, w in enumerate(VOCAB)}"
   ]
  },
  {
   "cell_type": "code",
   "execution_count": null,
   "metadata": {
    "id": "pwyIYYeGUzOb"
   },
   "outputs": [],
   "source": [
    "#Here, we take only the vectors we need from the downloaded embedding\n",
    "\n",
    "wv_matrix = []\n",
    "\n",
    "for i in range(len(VOCAB)):\n",
    "    word = idx_to_word[i]\n",
    "    if word in word_vectors.vocab:\n",
    "        #Getting vector for word in vocab if in embedding\n",
    "        wv_matrix.append(word_vectors.word_vec(word))\n",
    "    else:\n",
    "        #If not in embedding, then we insert a random vector\n",
    "        wv_matrix.append(np.random.uniform(-0.01, 0.01, 300).astype(\"float32\"))\n",
    "\n",
    "#We would need this vector if we encountered unknown words during inference on other datasets\n",
    "wv_matrix.append(np.random.uniform(-0.01, 0.01, 300).astype(\"float32\"))\n",
    "#We need this vector for padding purposes\n",
    "wv_matrix.append(np.zeros(300).astype(\"float32\"))\n",
    "\n",
    "wv_matrix = np.array(wv_matrix)"
   ]
  },
  {
   "cell_type": "markdown",
   "metadata": {
    "id": "MiafPteAyq90"
   },
   "source": [
    "## The Model Architecture\n",
    "\n",
    "We will be replicating the architecture presented in the paper.  The first layer consists of the word2vec embedding.  Here, the list of words that is each data point is converted into a tensor where the columns are the vector representations of each word.  The convolutional layer has 300 filters, 100 with window size 3, 100 with window size 4, and 100 with window size 5.  The resulting feature maps are fed through a ReLU activation function.  This is followed by a max pooling layer in which each feature map is reduced to its maximal element.  Finally, there is a fully-connected layer that takes the 300 dimensional output of the max pooling layer and projects to 2 dimensions.  Dropout is applied to the fully-connected layer during training.  Softmax can be applied to turn the output of the fully-connected layer into a probability distribution over the 2 classes."
   ]
  },
  {
   "cell_type": "code",
   "execution_count": null,
   "metadata": {
    "id": "CuPoSDIEDd6Z"
   },
   "outputs": [],
   "source": [
    "#This is a general classifcation base class that will help with training/validation\n",
    "#steps and store the losses and accuracies in a list of dictionaries\n",
    "\n",
    "class ClassificationBase(nn.Module):   \n",
    "    def training_step(self, batch_x, batch_y):\n",
    "        \"\"\"\n",
    "        Computes training loss given a batch of x data\n",
    "        and labels\n",
    "        \"\"\"\n",
    "        out = self(batch_x)\n",
    "        loss = F.cross_entropy(out, batch_y)\n",
    "        return loss\n",
    "\n",
    "    def accuracy(self, outputs, labels):\n",
    "        \"\"\"\n",
    "        Computes accuracy of predictions given outputs of model and labels\n",
    "        \"\"\"\n",
    "        x , preds = torch.max(outputs, dim=1)\n",
    "        return torch.tensor(torch.sum(preds == labels).item()/len(preds))\n",
    "\n",
    "    def validation_step(self, batch_x, batch_y):\n",
    "        \"\"\"\n",
    "        Given batch of x data and labels, computes the validation\n",
    "        loss and accuracy - stores results in dictionary\n",
    "        \"\"\"\n",
    "        out = self(batch_x)                    \n",
    "        loss = F.cross_entropy(out, batch_y)   \n",
    "        acc = self.accuracy(out, batch_y)\n",
    "        return {'val_loss': loss.detach(), 'val_acc': acc}\n",
    "        \n",
    "    def validation_epoch_end(self, results):\n",
    "        \"\"\"\n",
    "        Given list of dictionaries containing  validation \n",
    "        results of batches in epoch, returns mean results for\n",
    "        epoch as dictionary\n",
    "        \"\"\"\n",
    "        batch_losses = [x['val_loss'] for x in results]\n",
    "        epoch_loss = torch.stack(batch_losses).mean()   \n",
    "        batch_accs = [x['val_acc'] for x in results]\n",
    "        epoch_acc = torch.stack(batch_accs).mean()      \n",
    "        return {'val_loss': epoch_loss.item(), 'val_acc': epoch_acc.item()}\n",
    "    \n",
    "    def epoch_end(self, epoch, result):\n",
    "        \"\"\"\n",
    "        Prints results of epoch given epoch number and epoch results dictionary\n",
    "        \"\"\"\n",
    "        print(\"Epoch [{}], train_loss: {:.4f}, val_loss: {:.4f}, val_acc: {:.4f}\".format(\n",
    "            epoch, result['train_loss'], result['val_loss'], result['val_acc']))"
   ]
  },
  {
   "cell_type": "code",
   "execution_count": null,
   "metadata": {
    "id": "4946tWXmLEer"
   },
   "outputs": [],
   "source": [
    "#This class defines the neural network and is built on top of the \n",
    "#classification base.  Also contains important methods for training/validating/testing\n",
    "\n",
    "class CNN(ClassificationBase):\n",
    "    def __init__(self, **kwargs):\n",
    "        super(CNN, self).__init__()\n",
    "\n",
    "        #Hyperparameters and helpful variables:\n",
    "\n",
    "        self.BATCH_SIZE = kwargs['BATCH_SIZE']\n",
    "        self.MAX_SENT_LEN = kwargs['MAX_SENT_LEN']\n",
    "        self.WORD_DIM = kwargs['WORD_DIM']\n",
    "        self.VOCAB_SIZE = kwargs['VOCAB_SIZE']\n",
    "        self.FILTERS = kwargs['FILTERS']\n",
    "        self.FILTER_NUM = kwargs['FILTER_NUM']\n",
    "        self.DROPOUT_PROB = kwargs['DROPOUT_PROB']\n",
    "        self.IN_CHANNEL = 1\n",
    "        self.WV_MATRIX = kwargs['WV_MATRIX']\n",
    "        self.EPOCHS = kwargs['EPOCHS']\n",
    "        self.LEARNING_RATE = kwargs['LR']\n",
    "        self.WORD_TO_IDX = kwargs['WORD_TO_IDX']\n",
    "        self.CLASS_SIZE = kwargs['CLASS_SIZE']\n",
    "        self.STATIC = kwargs['STATIC']\n",
    "        self.OPTIMIZER = kwargs['OPTIMIZER']\n",
    "\n",
    "        self.embedding = nn.Embedding(self.VOCAB_SIZE + 2, \n",
    "                                      self.WORD_DIM, \n",
    "                                      padding_idx=self.VOCAB_SIZE + 1)\n",
    "        \n",
    "        #Loading pretrained embedding:\n",
    "        self.embedding.weight.data.copy_(torch.from_numpy(self.WV_MATRIX))\n",
    "\n",
    "        #Switch to determine whether to do static or non-static learning\n",
    "        #If static, then don't need gradients\n",
    "\n",
    "        if self.STATIC == True:\n",
    "            self.embedding.weight.requires_grad = False\n",
    "        else:\n",
    "            self.embedding.weight.requires_grad = True\n",
    "\n",
    "        #This defines the convolutions for the convolution layer\n",
    "\n",
    "        for i in range(len(self.FILTERS)):\n",
    "            conv = nn.Conv1d(self.IN_CHANNEL, \n",
    "                             self.FILTER_NUM[i], \n",
    "                             self.WORD_DIM * self.FILTERS[i], \n",
    "                             stride=self.WORD_DIM)\n",
    "            setattr(self, f'conv_{i}', conv)\n",
    "\n",
    "        #Here is our fully-connected layer that takes the conv outputs and projets\n",
    "        #to size of classes\n",
    "\n",
    "        self.fc = nn.Linear(sum(self.FILTER_NUM), self.CLASS_SIZE)\n",
    "\n",
    "    def get_conv(self, i):\n",
    "        return getattr(self, f'conv_{i}')\n",
    "\n",
    "    def forward(self, inp):\n",
    "        x = self.embedding(inp).view(-1, 1, self.WORD_DIM * self.MAX_SENT_LEN)\n",
    "\n",
    "        conv_results = [\n",
    "            F.max_pool1d(F.relu(self.get_conv(i)(x)), \n",
    "                         self.MAX_SENT_LEN - self.FILTERS[i] + 1).view(-1, self.FILTER_NUM[i])\n",
    "            for i in range(len(self.FILTERS))]\n",
    "\n",
    "        x = torch.cat(conv_results, 1)\n",
    "        x = F.dropout(x, p=self.DROPOUT_PROB, training=self.training)\n",
    "        x = self.fc(x)\n",
    "\n",
    "        return x\n",
    "\n",
    "    def create_batch_tensors(self, x_data, y_data, batch_range, start):\n",
    "        \"\"\"\n",
    "        Given x and y data, batch range and starting point in dataset\n",
    "        returns x and y data in batches as tensor variables\n",
    "        \"\"\"\n",
    "        batch_x = [[self.WORD_TO_IDX[w] for w in sent] +\n",
    "                        [self.VOCAB_SIZE + 1] * (self.MAX_SENT_LEN - len(sent))\n",
    "                        for sent in x_data[start:start + batch_range]]\n",
    "        batch_y = y_data[start:start + batch_range]\n",
    "        batch_x = Variable(torch.LongTensor(batch_x)).cuda()\n",
    "        batch_y = Variable(torch.LongTensor(batch_y)).cuda()\n",
    "        return batch_x, batch_y\n",
    "\n",
    "    @torch.no_grad()\n",
    "    def evaluate(self, val_x, val_y):\n",
    "        \"\"\"\n",
    "        Given validation x, y data returns dictionary\n",
    "        of validation loss, accuracy for epoch\n",
    "        \"\"\"\n",
    "        self.eval()\n",
    "        results = []\n",
    "        for i in range(0, len(val_x), self.BATCH_SIZE):\n",
    "            batch_range = min(self.BATCH_SIZE, len(val_x) - i)\n",
    "            start = i\n",
    "            batch_x, batch_y = self.create_batch_tensors(val_x, val_y, batch_range, start)\n",
    "            out = self.validation_step(batch_x, batch_y)\n",
    "            results.append(out)\n",
    "        return self.validation_epoch_end(results)\n",
    "\n",
    "    def fit(self, train_x, train_y, val_x, val_y):\n",
    "        \"\"\"\n",
    "        Given training and validation data, returns list of dictionaries,\n",
    "        one for each epoch, containing train and val loss and val accuracy\n",
    "        \"\"\"\n",
    "        history = []\n",
    "        #Define optimizer and parameters to optimize:\n",
    "        optimizer = self.OPTIMIZER(self.parameters(), self.LEARNING_RATE)\n",
    "\n",
    "        for epoch in range(self.EPOCHS):\n",
    "            train_x, train_y = shuffle(train_x, train_y)\n",
    "            # Training Phase \n",
    "            self.train()\n",
    "            train_losses = []\n",
    "            for i in range(0,len(train_x),self.BATCH_SIZE):\n",
    "                batch_range = min(self.BATCH_SIZE, len(train_x) - i)\n",
    "                start = i\n",
    "                #Transform data into tensors for model:\n",
    "                batch_x, batch_y = self.create_batch_tensors(train_x, train_y, batch_range, start)\n",
    "                loss = self.training_step(batch_x, batch_y)\n",
    "                train_losses.append(loss)\n",
    "                loss.backward()\n",
    "                optimizer.step()\n",
    "                optimizer.zero_grad()\n",
    "            # Validation phase\n",
    "            result = self.evaluate(val_x, val_y)\n",
    "            result['train_loss'] = torch.stack(train_losses).mean().item()\n",
    "            #Print results of epoch:\n",
    "            self.epoch_end(epoch, result)\n",
    "            history.append(result)\n",
    "        return history\n",
    "\n",
    "    @torch.no_grad()\n",
    "    def test_results(self, x_test, y_test):\n",
    "        \"\"\"\n",
    "        Given test data, returns confusion matrix, precision score,\n",
    "        recall score, and f1 score, all computed with sklearn.metrics\n",
    "        \"\"\"\n",
    "        self.eval()\n",
    "        all_preds = []\n",
    "        for i in range(0,len(x_test),self.BATCH_SIZE):\n",
    "            batch_range = min(self.BATCH_SIZE, len(x_test) - i)\n",
    "            start = i\n",
    "            #Transform data into tensors for model:\n",
    "            batch_x, batch_y = self.create_batch_tensors(x_test, y_test, batch_range, start)\n",
    "            out = self(batch_x)\n",
    "            _, preds = torch.max(out, dim=1)\n",
    "            all_preds = all_preds + preds.tolist()\n",
    "        cm = confusion_matrix(y_test, all_preds)\n",
    "        prec = precision_score(y_test, all_preds)\n",
    "        rec = recall_score(y_test, all_preds)\n",
    "        f1 = f1_score(y_test, all_preds)\n",
    "        return cm, prec, rec, f1\n",
    "\n"
   ]
  },
  {
   "cell_type": "markdown",
   "metadata": {
    "id": "vPt-9TgcyyHo"
   },
   "source": [
    "## Running the Model\n",
    "\n",
    "We will be running the above architecture for 100 epochs on 4 dropout levels (0.0, 0.25, 0.5, 0.75), once with static learning and once with non-static learning.  We use a batch size of 128.  Pytorch only offers SGD and Adadelta for optimizers that are able to perform non-static learning.  We opt for Adadelta, as this seems to be standard in this domain.  Experimentation revealed 0.01 to be a reasonable learning rate."
   ]
  },
  {
   "cell_type": "code",
   "execution_count": null,
   "metadata": {
    "id": "1KIquzb5Damz"
   },
   "outputs": [],
   "source": [
    "#Functions for moving tensors/model to GPU\n",
    "\n",
    "def get_default_device():\n",
    "    \"\"\"Pick GPU if available, else CPU\"\"\"\n",
    "    if torch.cuda.is_available():\n",
    "        return torch.device('cuda')\n",
    "    else:\n",
    "        return torch.device('cpu')\n",
    "    \n",
    "def to_device(data, device):\n",
    "    \"\"\"Move tensor(s) to chosen device\"\"\"\n",
    "    if isinstance(data, (list,tuple)):\n",
    "        return [to_device(x, device) for x in data]\n",
    "    return data.to(device, non_blocking=True)\n",
    "\n",
    "#Defining device to be used for training:\n",
    "device = get_default_device()"
   ]
  },
  {
   "cell_type": "code",
   "execution_count": 34,
   "metadata": {
    "id": "kNLXX-ctqqKV"
   },
   "outputs": [],
   "source": [
    "#Defining the parameters for each of the 8 networks to be trained:\n",
    "\n",
    "#Model 1: dropout=0.25 and static learning\n",
    "params_1 = {'BATCH_SIZE': 128,\n",
    "          'MAX_SENT_LEN': MAX_SENT_LEN,\n",
    "          'WORD_DIM': 300,\n",
    "          'VOCAB_SIZE': VOCAB_SIZE,\n",
    "          'FILTERS': [3,4,5],\n",
    "          'FILTER_NUM': [100,100,100],\n",
    "          'DROPOUT_PROB': 0.25,\n",
    "          'WV_MATRIX': wv_matrix,\n",
    "          'EPOCHS': 100,\n",
    "          'LR': 0.01,\n",
    "          'WORD_TO_IDX': word_to_idx,\n",
    "          'IDX_TO_WORD': idx_to_word,\n",
    "          'CLASS_SIZE': 2,\n",
    "          'STATIC': True,\n",
    "          'OPTIMIZER': torch.optim.Adadelta}\n",
    "\n",
    "#Model 2: dropout=0.25 and nonstatic learning\n",
    "params_2 = {'BATCH_SIZE': 128,\n",
    "          'MAX_SENT_LEN': MAX_SENT_LEN,\n",
    "          'WORD_DIM': 300,\n",
    "          'VOCAB_SIZE': VOCAB_SIZE,\n",
    "          'FILTERS': [3,4,5],\n",
    "          'FILTER_NUM': [100,100,100],\n",
    "          'DROPOUT_PROB': 0.25,\n",
    "          'WV_MATRIX': wv_matrix,\n",
    "          'EPOCHS': 100,\n",
    "          'LR': 0.01,\n",
    "          'WORD_TO_IDX': word_to_idx,\n",
    "          'IDX_TO_WORD': idx_to_word,\n",
    "          'CLASS_SIZE': 2,\n",
    "          'STATIC': False,\n",
    "          'OPTIMIZER': torch.optim.Adadelta}\n",
    "\n",
    "#Model 3: dropout=0.5 and static learning\n",
    "params_3 = {'BATCH_SIZE': 128,\n",
    "          'MAX_SENT_LEN': MAX_SENT_LEN,\n",
    "          'WORD_DIM': 300,\n",
    "          'VOCAB_SIZE': VOCAB_SIZE,\n",
    "          'FILTERS': [3,4,5],\n",
    "          'FILTER_NUM': [100,100,100],\n",
    "          'DROPOUT_PROB': 0.5,\n",
    "          'WV_MATRIX': wv_matrix,\n",
    "          'EPOCHS': 100,\n",
    "          'LR': 0.01,\n",
    "          'WORD_TO_IDX': word_to_idx,\n",
    "          'IDX_TO_WORD': idx_to_word,\n",
    "          'CLASS_SIZE': 2,\n",
    "          'STATIC': True,\n",
    "          'OPTIMIZER': torch.optim.Adadelta}\n",
    "\n",
    "#Model 4: dropout=0.5 and nonstatic learning\n",
    "params_4 = {'BATCH_SIZE': 128,\n",
    "          'MAX_SENT_LEN': MAX_SENT_LEN,\n",
    "          'WORD_DIM': 300,\n",
    "          'VOCAB_SIZE': VOCAB_SIZE,\n",
    "          'FILTERS': [3,4,5],\n",
    "          'FILTER_NUM': [100,100,100],\n",
    "          'DROPOUT_PROB': 0.5,\n",
    "          'WV_MATRIX': wv_matrix,\n",
    "          'EPOCHS': 100,\n",
    "          'LR': 0.01,\n",
    "          'WORD_TO_IDX': word_to_idx,\n",
    "          'IDX_TO_WORD': idx_to_word,\n",
    "          'CLASS_SIZE': 2,\n",
    "          'STATIC': False,\n",
    "          'OPTIMIZER': torch.optim.Adadelta}\n",
    "\n",
    "#Model 5: dropout=0.75 and static learning\n",
    "params_5 = {'BATCH_SIZE': 128,\n",
    "          'MAX_SENT_LEN': MAX_SENT_LEN,\n",
    "          'WORD_DIM': 300,\n",
    "          'VOCAB_SIZE': VOCAB_SIZE,\n",
    "          'FILTERS': [3,4,5],\n",
    "          'FILTER_NUM': [100,100,100],\n",
    "          'DROPOUT_PROB': 0.75,\n",
    "          'WV_MATRIX': wv_matrix,\n",
    "          'EPOCHS': 100,\n",
    "          'LR': 0.01,\n",
    "          'WORD_TO_IDX': word_to_idx,\n",
    "          'IDX_TO_WORD': idx_to_word,\n",
    "          'CLASS_SIZE': 2,\n",
    "          'STATIC': True,\n",
    "          'OPTIMIZER': torch.optim.Adadelta}\n",
    "\n",
    "#Model 6: dropout=0.75 and nonstatic learning\n",
    "params_6 = {'BATCH_SIZE': 128,\n",
    "          'MAX_SENT_LEN': MAX_SENT_LEN,\n",
    "          'WORD_DIM': 300,\n",
    "          'VOCAB_SIZE': VOCAB_SIZE,\n",
    "          'FILTERS': [3,4,5],\n",
    "          'FILTER_NUM': [100,100,100],\n",
    "          'DROPOUT_PROB': 0.75,\n",
    "          'WV_MATRIX': wv_matrix,\n",
    "          'EPOCHS': 100,\n",
    "          'LR': 0.01,\n",
    "          'WORD_TO_IDX': word_to_idx,\n",
    "          'IDX_TO_WORD': idx_to_word,\n",
    "          'CLASS_SIZE': 2,\n",
    "          'STATIC': False,\n",
    "          'OPTIMIZER': torch.optim.Adadelta}\n",
    "\n",
    "#Model 7: dropout=0.0 and static learning\n",
    "params_7 = {'BATCH_SIZE': 128,\n",
    "          'MAX_SENT_LEN': MAX_SENT_LEN,\n",
    "          'WORD_DIM': 300,\n",
    "          'VOCAB_SIZE': VOCAB_SIZE,\n",
    "          'FILTERS': [3,4,5],\n",
    "          'FILTER_NUM': [100,100,100],\n",
    "          'DROPOUT_PROB': 0.0,\n",
    "          'WV_MATRIX': wv_matrix,\n",
    "          'EPOCHS': 100,\n",
    "          'LR': 0.01,\n",
    "          'WORD_TO_IDX': word_to_idx,\n",
    "          'IDX_TO_WORD': idx_to_word,\n",
    "          'CLASS_SIZE': 2,\n",
    "          'STATIC': True,\n",
    "          'OPTIMIZER': torch.optim.Adadelta}\n",
    "\n",
    "#Model 8: dropout=0.0 and nonstatic learning\n",
    "params_8 = {'BATCH_SIZE': 128,\n",
    "          'MAX_SENT_LEN': MAX_SENT_LEN,\n",
    "          'WORD_DIM': 300,\n",
    "          'VOCAB_SIZE': VOCAB_SIZE,\n",
    "          'FILTERS': [3,4,5],\n",
    "          'FILTER_NUM': [100,100,100],\n",
    "          'DROPOUT_PROB': 0.0,\n",
    "          'WV_MATRIX': wv_matrix,\n",
    "          'EPOCHS': 100,\n",
    "          'LR': 0.01,\n",
    "          'WORD_TO_IDX': word_to_idx,\n",
    "          'IDX_TO_WORD': idx_to_word,\n",
    "          'CLASS_SIZE': 2,\n",
    "          'STATIC': False,\n",
    "          'OPTIMIZER': torch.optim.Adadelta}\n",
    "\n",
    "params = {'Model 1': params_1,\n",
    "          'Model 2': params_2,\n",
    "          'Model 3': params_3,\n",
    "          'Model 4': params_4,\n",
    "          'Model 5': params_5,\n",
    "          'Model 6': params_6,\n",
    "          'Model 7': params_7,\n",
    "          'Model 8': params_8}"
   ]
  },
  {
   "cell_type": "code",
   "execution_count": null,
   "metadata": {
    "id": "A7xTkR2RdG9z"
   },
   "outputs": [],
   "source": [
    "#Instantiating model 1\n",
    "\n",
    "model = CNN(**params_1)"
   ]
  },
  {
   "cell_type": "code",
   "execution_count": null,
   "metadata": {
    "colab": {
     "base_uri": "https://localhost:8080/"
    },
    "id": "nXETeBjVxcv4",
    "outputId": "1f4d5a89-ce08-4e2e-cffd-07205040e474"
   },
   "outputs": [
    {
     "data": {
      "text/plain": [
       "CNN(\n",
       "  (embedding): Embedding(101945, 300, padding_idx=101944)\n",
       "  (conv_0): Conv1d(1, 100, kernel_size=(900,), stride=(300,))\n",
       "  (conv_1): Conv1d(1, 100, kernel_size=(1200,), stride=(300,))\n",
       "  (conv_2): Conv1d(1, 100, kernel_size=(1500,), stride=(300,))\n",
       "  (fc): Linear(in_features=300, out_features=2, bias=True)\n",
       ")"
      ]
     },
     "execution_count": 50,
     "metadata": {},
     "output_type": "execute_result"
    }
   ],
   "source": [
    "#Moving model 1 to GPU\n",
    "\n",
    "to_device(model, torch.device('cuda'))"
   ]
  },
  {
   "cell_type": "code",
   "execution_count": null,
   "metadata": {
    "colab": {
     "base_uri": "https://localhost:8080/"
    },
    "id": "I9eo51zeWDWw",
    "outputId": "33885412-904c-4125-a865-5759d93821ec"
   },
   "outputs": [
    {
     "name": "stdout",
     "output_type": "stream",
     "text": [
      "Epoch [0], train_loss: 0.6921, val_loss: 0.6903, val_acc: 0.5816\n",
      "Epoch [1], train_loss: 0.6886, val_loss: 0.6869, val_acc: 0.6191\n",
      "Epoch [2], train_loss: 0.6845, val_loss: 0.6836, val_acc: 0.6412\n",
      "Epoch [3], train_loss: 0.6805, val_loss: 0.6794, val_acc: 0.6666\n",
      "Epoch [4], train_loss: 0.6751, val_loss: 0.6749, val_acc: 0.6900\n",
      "Epoch [5], train_loss: 0.6701, val_loss: 0.6696, val_acc: 0.6877\n",
      "Epoch [6], train_loss: 0.6639, val_loss: 0.6634, val_acc: 0.6988\n",
      "Epoch [7], train_loss: 0.6570, val_loss: 0.6559, val_acc: 0.7076\n",
      "Epoch [8], train_loss: 0.6478, val_loss: 0.6466, val_acc: 0.7199\n",
      "Epoch [9], train_loss: 0.6388, val_loss: 0.6362, val_acc: 0.7311\n",
      "Epoch [10], train_loss: 0.6271, val_loss: 0.6243, val_acc: 0.7480\n",
      "Epoch [11], train_loss: 0.6136, val_loss: 0.6105, val_acc: 0.7602\n",
      "Epoch [12], train_loss: 0.5990, val_loss: 0.5952, val_acc: 0.7697\n",
      "Epoch [13], train_loss: 0.5832, val_loss: 0.5786, val_acc: 0.7879\n",
      "Epoch [14], train_loss: 0.5667, val_loss: 0.5612, val_acc: 0.7963\n",
      "Epoch [15], train_loss: 0.5489, val_loss: 0.5435, val_acc: 0.8051\n",
      "Epoch [16], train_loss: 0.5335, val_loss: 0.5262, val_acc: 0.8139\n",
      "Epoch [17], train_loss: 0.5160, val_loss: 0.5089, val_acc: 0.8166\n",
      "Epoch [18], train_loss: 0.5009, val_loss: 0.4927, val_acc: 0.8182\n",
      "Epoch [19], train_loss: 0.4832, val_loss: 0.4774, val_acc: 0.8229\n",
      "Epoch [20], train_loss: 0.4711, val_loss: 0.4635, val_acc: 0.8260\n",
      "Epoch [21], train_loss: 0.4570, val_loss: 0.4508, val_acc: 0.8279\n",
      "Epoch [22], train_loss: 0.4477, val_loss: 0.4391, val_acc: 0.8271\n",
      "Epoch [23], train_loss: 0.4362, val_loss: 0.4288, val_acc: 0.8297\n",
      "Epoch [24], train_loss: 0.4281, val_loss: 0.4195, val_acc: 0.8307\n",
      "Epoch [25], train_loss: 0.4189, val_loss: 0.4110, val_acc: 0.8320\n",
      "Epoch [26], train_loss: 0.4121, val_loss: 0.4035, val_acc: 0.8355\n",
      "Epoch [27], train_loss: 0.4034, val_loss: 0.3965, val_acc: 0.8373\n",
      "Epoch [28], train_loss: 0.3970, val_loss: 0.3903, val_acc: 0.8395\n",
      "Epoch [29], train_loss: 0.3908, val_loss: 0.3843, val_acc: 0.8375\n",
      "Epoch [30], train_loss: 0.3851, val_loss: 0.3790, val_acc: 0.8406\n",
      "Epoch [31], train_loss: 0.3805, val_loss: 0.3742, val_acc: 0.8416\n",
      "Epoch [32], train_loss: 0.3757, val_loss: 0.3698, val_acc: 0.8420\n",
      "Epoch [33], train_loss: 0.3716, val_loss: 0.3658, val_acc: 0.8428\n",
      "Epoch [34], train_loss: 0.3670, val_loss: 0.3619, val_acc: 0.8436\n",
      "Epoch [35], train_loss: 0.3633, val_loss: 0.3586, val_acc: 0.8441\n",
      "Epoch [36], train_loss: 0.3592, val_loss: 0.3554, val_acc: 0.8467\n",
      "Epoch [37], train_loss: 0.3552, val_loss: 0.3523, val_acc: 0.8471\n",
      "Epoch [38], train_loss: 0.3545, val_loss: 0.3495, val_acc: 0.8477\n",
      "Epoch [39], train_loss: 0.3492, val_loss: 0.3471, val_acc: 0.8498\n",
      "Epoch [40], train_loss: 0.3468, val_loss: 0.3448, val_acc: 0.8512\n",
      "Epoch [41], train_loss: 0.3429, val_loss: 0.3420, val_acc: 0.8508\n",
      "Epoch [42], train_loss: 0.3420, val_loss: 0.3398, val_acc: 0.8521\n",
      "Epoch [43], train_loss: 0.3378, val_loss: 0.3377, val_acc: 0.8533\n",
      "Epoch [44], train_loss: 0.3344, val_loss: 0.3355, val_acc: 0.8559\n",
      "Epoch [45], train_loss: 0.3336, val_loss: 0.3336, val_acc: 0.8543\n",
      "Epoch [46], train_loss: 0.3325, val_loss: 0.3322, val_acc: 0.8559\n",
      "Epoch [47], train_loss: 0.3281, val_loss: 0.3299, val_acc: 0.8596\n",
      "Epoch [48], train_loss: 0.3264, val_loss: 0.3285, val_acc: 0.8568\n",
      "Epoch [49], train_loss: 0.3227, val_loss: 0.3268, val_acc: 0.8604\n",
      "Epoch [50], train_loss: 0.3212, val_loss: 0.3249, val_acc: 0.8611\n",
      "Epoch [51], train_loss: 0.3202, val_loss: 0.3234, val_acc: 0.8609\n",
      "Epoch [52], train_loss: 0.3180, val_loss: 0.3220, val_acc: 0.8619\n",
      "Epoch [53], train_loss: 0.3161, val_loss: 0.3205, val_acc: 0.8619\n",
      "Epoch [54], train_loss: 0.3139, val_loss: 0.3190, val_acc: 0.8623\n",
      "Epoch [55], train_loss: 0.3120, val_loss: 0.3179, val_acc: 0.8631\n",
      "Epoch [56], train_loss: 0.3102, val_loss: 0.3164, val_acc: 0.8637\n",
      "Epoch [57], train_loss: 0.3104, val_loss: 0.3152, val_acc: 0.8646\n",
      "Epoch [58], train_loss: 0.3060, val_loss: 0.3141, val_acc: 0.8627\n",
      "Epoch [59], train_loss: 0.3032, val_loss: 0.3128, val_acc: 0.8643\n",
      "Epoch [60], train_loss: 0.3029, val_loss: 0.3118, val_acc: 0.8637\n",
      "Epoch [61], train_loss: 0.2998, val_loss: 0.3105, val_acc: 0.8641\n",
      "Epoch [62], train_loss: 0.2967, val_loss: 0.3094, val_acc: 0.8639\n",
      "Epoch [63], train_loss: 0.2966, val_loss: 0.3085, val_acc: 0.8650\n",
      "Epoch [64], train_loss: 0.2968, val_loss: 0.3073, val_acc: 0.8646\n",
      "Epoch [65], train_loss: 0.2937, val_loss: 0.3063, val_acc: 0.8646\n",
      "Epoch [66], train_loss: 0.2914, val_loss: 0.3053, val_acc: 0.8654\n",
      "Epoch [67], train_loss: 0.2890, val_loss: 0.3046, val_acc: 0.8672\n",
      "Epoch [68], train_loss: 0.2891, val_loss: 0.3033, val_acc: 0.8693\n",
      "Epoch [69], train_loss: 0.2884, val_loss: 0.3024, val_acc: 0.8701\n",
      "Epoch [70], train_loss: 0.2851, val_loss: 0.3015, val_acc: 0.8701\n",
      "Epoch [71], train_loss: 0.2848, val_loss: 0.3006, val_acc: 0.8695\n",
      "Epoch [72], train_loss: 0.2832, val_loss: 0.2999, val_acc: 0.8717\n",
      "Epoch [73], train_loss: 0.2809, val_loss: 0.2988, val_acc: 0.8709\n",
      "Epoch [74], train_loss: 0.2786, val_loss: 0.2980, val_acc: 0.8713\n",
      "Epoch [75], train_loss: 0.2777, val_loss: 0.2973, val_acc: 0.8715\n",
      "Epoch [76], train_loss: 0.2759, val_loss: 0.2964, val_acc: 0.8717\n",
      "Epoch [77], train_loss: 0.2745, val_loss: 0.2959, val_acc: 0.8736\n",
      "Epoch [78], train_loss: 0.2734, val_loss: 0.2950, val_acc: 0.8732\n",
      "Epoch [79], train_loss: 0.2727, val_loss: 0.2941, val_acc: 0.8734\n",
      "Epoch [80], train_loss: 0.2712, val_loss: 0.2933, val_acc: 0.8727\n",
      "Epoch [81], train_loss: 0.2676, val_loss: 0.2926, val_acc: 0.8740\n",
      "Epoch [82], train_loss: 0.2678, val_loss: 0.2919, val_acc: 0.8738\n",
      "Epoch [83], train_loss: 0.2656, val_loss: 0.2912, val_acc: 0.8754\n",
      "Epoch [84], train_loss: 0.2642, val_loss: 0.2905, val_acc: 0.8756\n",
      "Epoch [85], train_loss: 0.2624, val_loss: 0.2897, val_acc: 0.8754\n",
      "Epoch [86], train_loss: 0.2616, val_loss: 0.2891, val_acc: 0.8762\n",
      "Epoch [87], train_loss: 0.2614, val_loss: 0.2884, val_acc: 0.8760\n",
      "Epoch [88], train_loss: 0.2585, val_loss: 0.2877, val_acc: 0.8762\n",
      "Epoch [89], train_loss: 0.2574, val_loss: 0.2872, val_acc: 0.8760\n",
      "Epoch [90], train_loss: 0.2557, val_loss: 0.2864, val_acc: 0.8766\n",
      "Epoch [91], train_loss: 0.2551, val_loss: 0.2859, val_acc: 0.8771\n",
      "Epoch [92], train_loss: 0.2543, val_loss: 0.2854, val_acc: 0.8791\n",
      "Epoch [93], train_loss: 0.2525, val_loss: 0.2848, val_acc: 0.8785\n",
      "Epoch [94], train_loss: 0.2521, val_loss: 0.2839, val_acc: 0.8779\n",
      "Epoch [95], train_loss: 0.2494, val_loss: 0.2833, val_acc: 0.8779\n",
      "Epoch [96], train_loss: 0.2480, val_loss: 0.2828, val_acc: 0.8795\n",
      "Epoch [97], train_loss: 0.2474, val_loss: 0.2823, val_acc: 0.8803\n",
      "Epoch [98], train_loss: 0.2456, val_loss: 0.2818, val_acc: 0.8797\n",
      "Epoch [99], train_loss: 0.2454, val_loss: 0.2812, val_acc: 0.8805\n"
     ]
    }
   ],
   "source": [
    "#Training model 1\n",
    "\n",
    "history_1 = model.fit(train_x, train_y, val_x, val_y)"
   ]
  },
  {
   "cell_type": "code",
   "execution_count": null,
   "metadata": {
    "id": "81FbqVNnBtDT"
   },
   "outputs": [],
   "source": [
    "#Saving training history of model 1\n",
    "\n",
    "keys = history_1[0].keys()\n",
    "with open('history_1.csv', 'w', newline='')  as output_file:\n",
    "    dict_writer = csv.DictWriter(output_file, keys)\n",
    "    dict_writer.writeheader()\n",
    "    dict_writer.writerows(history_1)"
   ]
  },
  {
   "cell_type": "code",
   "execution_count": null,
   "metadata": {
    "id": "k-K1SV6EBu1Y"
   },
   "outputs": [],
   "source": [
    "#Saving weights dict of model 1\n",
    "\n",
    "torch.save(model.state_dict(), '/content/model_1.pt')"
   ]
  },
  {
   "cell_type": "code",
   "execution_count": null,
   "metadata": {
    "id": "wUXrACd5ozp4"
   },
   "outputs": [],
   "source": [
    "#Instantiating model 2\n",
    "\n",
    "model = CNN(**params_2)"
   ]
  },
  {
   "cell_type": "code",
   "execution_count": null,
   "metadata": {
    "colab": {
     "base_uri": "https://localhost:8080/"
    },
    "id": "RQeTnxAio2tL",
    "outputId": "311ee274-3726-4152-fd11-4635e6e9859c"
   },
   "outputs": [
    {
     "data": {
      "text/plain": [
       "CNN(\n",
       "  (embedding): Embedding(101945, 300, padding_idx=101944)\n",
       "  (conv_0): Conv1d(1, 100, kernel_size=(900,), stride=(300,))\n",
       "  (conv_1): Conv1d(1, 100, kernel_size=(1200,), stride=(300,))\n",
       "  (conv_2): Conv1d(1, 100, kernel_size=(1500,), stride=(300,))\n",
       "  (fc): Linear(in_features=300, out_features=2, bias=True)\n",
       ")"
      ]
     },
     "execution_count": 61,
     "metadata": {},
     "output_type": "execute_result"
    }
   ],
   "source": [
    "#Moving model 2 to GPU\n",
    "\n",
    "to_device(model, torch.device('cuda'))"
   ]
  },
  {
   "cell_type": "code",
   "execution_count": null,
   "metadata": {
    "colab": {
     "base_uri": "https://localhost:8080/"
    },
    "id": "ttpcLAVFo4hP",
    "outputId": "bc1718c7-db66-4066-b9aa-0e79288675c1"
   },
   "outputs": [
    {
     "name": "stdout",
     "output_type": "stream",
     "text": [
      "Epoch [0], train_loss: 0.6940, val_loss: 0.6894, val_acc: 0.5961\n",
      "Epoch [1], train_loss: 0.6886, val_loss: 0.6855, val_acc: 0.6285\n",
      "Epoch [2], train_loss: 0.6845, val_loss: 0.6813, val_acc: 0.6687\n",
      "Epoch [3], train_loss: 0.6790, val_loss: 0.6766, val_acc: 0.6781\n",
      "Epoch [4], train_loss: 0.6729, val_loss: 0.6711, val_acc: 0.6834\n",
      "Epoch [5], train_loss: 0.6661, val_loss: 0.6647, val_acc: 0.6854\n",
      "Epoch [6], train_loss: 0.6592, val_loss: 0.6570, val_acc: 0.7025\n",
      "Epoch [7], train_loss: 0.6501, val_loss: 0.6477, val_acc: 0.7213\n",
      "Epoch [8], train_loss: 0.6398, val_loss: 0.6367, val_acc: 0.7293\n",
      "Epoch [9], train_loss: 0.6276, val_loss: 0.6238, val_acc: 0.7516\n",
      "Epoch [10], train_loss: 0.6133, val_loss: 0.6093, val_acc: 0.7602\n",
      "Epoch [11], train_loss: 0.5987, val_loss: 0.5936, val_acc: 0.7768\n",
      "Epoch [12], train_loss: 0.5828, val_loss: 0.5766, val_acc: 0.7846\n",
      "Epoch [13], train_loss: 0.5652, val_loss: 0.5591, val_acc: 0.7949\n",
      "Epoch [14], train_loss: 0.5490, val_loss: 0.5415, val_acc: 0.7982\n",
      "Epoch [15], train_loss: 0.5309, val_loss: 0.5241, val_acc: 0.8080\n",
      "Epoch [16], train_loss: 0.5152, val_loss: 0.5075, val_acc: 0.8104\n",
      "Epoch [17], train_loss: 0.5001, val_loss: 0.4916, val_acc: 0.8092\n",
      "Epoch [18], train_loss: 0.4862, val_loss: 0.4772, val_acc: 0.8133\n",
      "Epoch [19], train_loss: 0.4719, val_loss: 0.4638, val_acc: 0.8162\n",
      "Epoch [20], train_loss: 0.4603, val_loss: 0.4516, val_acc: 0.8170\n",
      "Epoch [21], train_loss: 0.4474, val_loss: 0.4403, val_acc: 0.8201\n",
      "Epoch [22], train_loss: 0.4383, val_loss: 0.4302, val_acc: 0.8219\n",
      "Epoch [23], train_loss: 0.4277, val_loss: 0.4213, val_acc: 0.8250\n",
      "Epoch [24], train_loss: 0.4208, val_loss: 0.4131, val_acc: 0.8271\n",
      "Epoch [25], train_loss: 0.4118, val_loss: 0.4051, val_acc: 0.8279\n",
      "Epoch [26], train_loss: 0.4046, val_loss: 0.3980, val_acc: 0.8307\n",
      "Epoch [27], train_loss: 0.3986, val_loss: 0.3916, val_acc: 0.8330\n",
      "Epoch [28], train_loss: 0.3937, val_loss: 0.3857, val_acc: 0.8346\n",
      "Epoch [29], train_loss: 0.3862, val_loss: 0.3803, val_acc: 0.8367\n",
      "Epoch [30], train_loss: 0.3817, val_loss: 0.3753, val_acc: 0.8387\n",
      "Epoch [31], train_loss: 0.3766, val_loss: 0.3706, val_acc: 0.8393\n",
      "Epoch [32], train_loss: 0.3714, val_loss: 0.3665, val_acc: 0.8432\n",
      "Epoch [33], train_loss: 0.3680, val_loss: 0.3625, val_acc: 0.8438\n",
      "Epoch [34], train_loss: 0.3624, val_loss: 0.3588, val_acc: 0.8447\n",
      "Epoch [35], train_loss: 0.3596, val_loss: 0.3555, val_acc: 0.8484\n",
      "Epoch [36], train_loss: 0.3583, val_loss: 0.3521, val_acc: 0.8473\n",
      "Epoch [37], train_loss: 0.3539, val_loss: 0.3493, val_acc: 0.8500\n",
      "Epoch [38], train_loss: 0.3507, val_loss: 0.3465, val_acc: 0.8512\n",
      "Epoch [39], train_loss: 0.3445, val_loss: 0.3438, val_acc: 0.8521\n",
      "Epoch [40], train_loss: 0.3423, val_loss: 0.3410, val_acc: 0.8541\n",
      "Epoch [41], train_loss: 0.3397, val_loss: 0.3387, val_acc: 0.8523\n",
      "Epoch [42], train_loss: 0.3371, val_loss: 0.3370, val_acc: 0.8533\n",
      "Epoch [43], train_loss: 0.3353, val_loss: 0.3343, val_acc: 0.8568\n",
      "Epoch [44], train_loss: 0.3315, val_loss: 0.3322, val_acc: 0.8570\n",
      "Epoch [45], train_loss: 0.3283, val_loss: 0.3308, val_acc: 0.8586\n",
      "Epoch [46], train_loss: 0.3266, val_loss: 0.3284, val_acc: 0.8600\n",
      "Epoch [47], train_loss: 0.3247, val_loss: 0.3268, val_acc: 0.8619\n",
      "Epoch [48], train_loss: 0.3209, val_loss: 0.3248, val_acc: 0.8625\n",
      "Epoch [49], train_loss: 0.3184, val_loss: 0.3232, val_acc: 0.8639\n",
      "Epoch [50], train_loss: 0.3176, val_loss: 0.3215, val_acc: 0.8641\n",
      "Epoch [51], train_loss: 0.3150, val_loss: 0.3204, val_acc: 0.8645\n",
      "Epoch [52], train_loss: 0.3133, val_loss: 0.3183, val_acc: 0.8639\n",
      "Epoch [53], train_loss: 0.3104, val_loss: 0.3169, val_acc: 0.8645\n",
      "Epoch [54], train_loss: 0.3093, val_loss: 0.3153, val_acc: 0.8682\n",
      "Epoch [55], train_loss: 0.3077, val_loss: 0.3142, val_acc: 0.8654\n",
      "Epoch [56], train_loss: 0.3079, val_loss: 0.3127, val_acc: 0.8693\n",
      "Epoch [57], train_loss: 0.3025, val_loss: 0.3113, val_acc: 0.8684\n",
      "Epoch [58], train_loss: 0.3003, val_loss: 0.3100, val_acc: 0.8686\n",
      "Epoch [59], train_loss: 0.2998, val_loss: 0.3086, val_acc: 0.8691\n",
      "Epoch [60], train_loss: 0.2976, val_loss: 0.3074, val_acc: 0.8701\n",
      "Epoch [61], train_loss: 0.2942, val_loss: 0.3062, val_acc: 0.8707\n",
      "Epoch [62], train_loss: 0.2938, val_loss: 0.3050, val_acc: 0.8715\n",
      "Epoch [63], train_loss: 0.2915, val_loss: 0.3038, val_acc: 0.8719\n",
      "Epoch [64], train_loss: 0.2911, val_loss: 0.3029, val_acc: 0.8709\n",
      "Epoch [65], train_loss: 0.2885, val_loss: 0.3016, val_acc: 0.8738\n",
      "Epoch [66], train_loss: 0.2865, val_loss: 0.3005, val_acc: 0.8736\n",
      "Epoch [67], train_loss: 0.2874, val_loss: 0.2997, val_acc: 0.8750\n",
      "Epoch [68], train_loss: 0.2830, val_loss: 0.2985, val_acc: 0.8729\n",
      "Epoch [69], train_loss: 0.2812, val_loss: 0.2974, val_acc: 0.8773\n",
      "Epoch [70], train_loss: 0.2783, val_loss: 0.2963, val_acc: 0.8773\n",
      "Epoch [71], train_loss: 0.2798, val_loss: 0.2954, val_acc: 0.8777\n",
      "Epoch [72], train_loss: 0.2772, val_loss: 0.2945, val_acc: 0.8766\n",
      "Epoch [73], train_loss: 0.2736, val_loss: 0.2935, val_acc: 0.8760\n",
      "Epoch [74], train_loss: 0.2743, val_loss: 0.2926, val_acc: 0.8795\n",
      "Epoch [75], train_loss: 0.2714, val_loss: 0.2916, val_acc: 0.8791\n",
      "Epoch [76], train_loss: 0.2713, val_loss: 0.2908, val_acc: 0.8797\n",
      "Epoch [77], train_loss: 0.2701, val_loss: 0.2899, val_acc: 0.8793\n",
      "Epoch [78], train_loss: 0.2655, val_loss: 0.2890, val_acc: 0.8795\n",
      "Epoch [79], train_loss: 0.2670, val_loss: 0.2885, val_acc: 0.8787\n",
      "Epoch [80], train_loss: 0.2643, val_loss: 0.2874, val_acc: 0.8789\n",
      "Epoch [81], train_loss: 0.2617, val_loss: 0.2866, val_acc: 0.8789\n",
      "Epoch [82], train_loss: 0.2615, val_loss: 0.2857, val_acc: 0.8801\n",
      "Epoch [83], train_loss: 0.2606, val_loss: 0.2848, val_acc: 0.8813\n",
      "Epoch [84], train_loss: 0.2581, val_loss: 0.2844, val_acc: 0.8814\n",
      "Epoch [85], train_loss: 0.2572, val_loss: 0.2833, val_acc: 0.8816\n",
      "Epoch [86], train_loss: 0.2558, val_loss: 0.2825, val_acc: 0.8811\n",
      "Epoch [87], train_loss: 0.2548, val_loss: 0.2818, val_acc: 0.8826\n",
      "Epoch [88], train_loss: 0.2541, val_loss: 0.2811, val_acc: 0.8826\n",
      "Epoch [89], train_loss: 0.2522, val_loss: 0.2804, val_acc: 0.8834\n",
      "Epoch [90], train_loss: 0.2472, val_loss: 0.2798, val_acc: 0.8836\n",
      "Epoch [91], train_loss: 0.2457, val_loss: 0.2789, val_acc: 0.8840\n",
      "Epoch [92], train_loss: 0.2470, val_loss: 0.2784, val_acc: 0.8844\n",
      "Epoch [93], train_loss: 0.2451, val_loss: 0.2776, val_acc: 0.8848\n",
      "Epoch [94], train_loss: 0.2437, val_loss: 0.2769, val_acc: 0.8846\n",
      "Epoch [95], train_loss: 0.2418, val_loss: 0.2763, val_acc: 0.8846\n",
      "Epoch [96], train_loss: 0.2397, val_loss: 0.2756, val_acc: 0.8857\n",
      "Epoch [97], train_loss: 0.2399, val_loss: 0.2749, val_acc: 0.8857\n",
      "Epoch [98], train_loss: 0.2376, val_loss: 0.2744, val_acc: 0.8865\n",
      "Epoch [99], train_loss: 0.2369, val_loss: 0.2737, val_acc: 0.8861\n"
     ]
    }
   ],
   "source": [
    "#Training model 2\n",
    "\n",
    "history_2 = model.fit(train_x, train_y, val_x, val_y)"
   ]
  },
  {
   "cell_type": "code",
   "execution_count": null,
   "metadata": {
    "id": "qlVGAueqob2b"
   },
   "outputs": [],
   "source": [
    "#Saving training history of model 2\n",
    "\n",
    "keys = history_2[0].keys()\n",
    "with open('history_2.csv', 'w', newline='')  as output_file:\n",
    "    dict_writer = csv.DictWriter(output_file, keys)\n",
    "    dict_writer.writeheader()\n",
    "    dict_writer.writerows(history_2)"
   ]
  },
  {
   "cell_type": "code",
   "execution_count": null,
   "metadata": {
    "id": "V_Nywkqioh-m"
   },
   "outputs": [],
   "source": [
    "#Saving weights dict of model 2\n",
    "\n",
    "torch.save(model.state_dict(), '/content/model_2.pt')"
   ]
  },
  {
   "cell_type": "code",
   "execution_count": null,
   "metadata": {
    "id": "UxrI2dpsotGb"
   },
   "outputs": [],
   "source": [
    "#Instantiating model 3\n",
    "\n",
    "model = CNN(**params_3)"
   ]
  },
  {
   "cell_type": "code",
   "execution_count": null,
   "metadata": {
    "colab": {
     "base_uri": "https://localhost:8080/"
    },
    "id": "lPwV-GP5rUaH",
    "outputId": "e81b7d95-3e8c-4128-aa9e-a91b1f80e8e8"
   },
   "outputs": [
    {
     "data": {
      "text/plain": [
       "CNN(\n",
       "  (embedding): Embedding(101945, 300, padding_idx=101944)\n",
       "  (conv_0): Conv1d(1, 100, kernel_size=(900,), stride=(300,))\n",
       "  (conv_1): Conv1d(1, 100, kernel_size=(1200,), stride=(300,))\n",
       "  (conv_2): Conv1d(1, 100, kernel_size=(1500,), stride=(300,))\n",
       "  (fc): Linear(in_features=300, out_features=2, bias=True)\n",
       ")"
      ]
     },
     "execution_count": 75,
     "metadata": {},
     "output_type": "execute_result"
    }
   ],
   "source": [
    "#Moving model 3 to GPU\n",
    "\n",
    "to_device(model, torch.device('cuda'))"
   ]
  },
  {
   "cell_type": "code",
   "execution_count": null,
   "metadata": {
    "colab": {
     "base_uri": "https://localhost:8080/"
    },
    "id": "Ze8jkp-yrW2t",
    "outputId": "c42943b7-f287-4d18-a8c8-28ddcd9ceba0"
   },
   "outputs": [
    {
     "name": "stdout",
     "output_type": "stream",
     "text": [
      "Epoch [0], train_loss: 0.6957, val_loss: 0.6903, val_acc: 0.5766\n",
      "Epoch [1], train_loss: 0.6910, val_loss: 0.6871, val_acc: 0.6371\n",
      "Epoch [2], train_loss: 0.6877, val_loss: 0.6836, val_acc: 0.6615\n",
      "Epoch [3], train_loss: 0.6833, val_loss: 0.6798, val_acc: 0.6861\n",
      "Epoch [4], train_loss: 0.6782, val_loss: 0.6755, val_acc: 0.7199\n",
      "Epoch [5], train_loss: 0.6729, val_loss: 0.6704, val_acc: 0.7234\n",
      "Epoch [6], train_loss: 0.6685, val_loss: 0.6644, val_acc: 0.7311\n",
      "Epoch [7], train_loss: 0.6613, val_loss: 0.6577, val_acc: 0.7334\n",
      "Epoch [8], train_loss: 0.6542, val_loss: 0.6499, val_acc: 0.7453\n",
      "Epoch [9], train_loss: 0.6473, val_loss: 0.6410, val_acc: 0.7549\n",
      "Epoch [10], train_loss: 0.6372, val_loss: 0.6308, val_acc: 0.7648\n",
      "Epoch [11], train_loss: 0.6265, val_loss: 0.6193, val_acc: 0.7705\n",
      "Epoch [12], train_loss: 0.6151, val_loss: 0.6071, val_acc: 0.7676\n",
      "Epoch [13], train_loss: 0.6014, val_loss: 0.5935, val_acc: 0.7871\n",
      "Epoch [14], train_loss: 0.5910, val_loss: 0.5795, val_acc: 0.7932\n",
      "Epoch [15], train_loss: 0.5774, val_loss: 0.5654, val_acc: 0.7957\n",
      "Epoch [16], train_loss: 0.5630, val_loss: 0.5505, val_acc: 0.8045\n",
      "Epoch [17], train_loss: 0.5499, val_loss: 0.5359, val_acc: 0.8062\n",
      "Epoch [18], train_loss: 0.5350, val_loss: 0.5213, val_acc: 0.8102\n",
      "Epoch [19], train_loss: 0.5241, val_loss: 0.5076, val_acc: 0.8137\n",
      "Epoch [20], train_loss: 0.5130, val_loss: 0.4943, val_acc: 0.8178\n",
      "Epoch [21], train_loss: 0.5018, val_loss: 0.4819, val_acc: 0.8174\n",
      "Epoch [22], train_loss: 0.4905, val_loss: 0.4701, val_acc: 0.8197\n",
      "Epoch [23], train_loss: 0.4787, val_loss: 0.4591, val_acc: 0.8242\n",
      "Epoch [24], train_loss: 0.4680, val_loss: 0.4491, val_acc: 0.8291\n",
      "Epoch [25], train_loss: 0.4568, val_loss: 0.4396, val_acc: 0.8283\n",
      "Epoch [26], train_loss: 0.4486, val_loss: 0.4312, val_acc: 0.8299\n",
      "Epoch [27], train_loss: 0.4455, val_loss: 0.4233, val_acc: 0.8322\n",
      "Epoch [28], train_loss: 0.4354, val_loss: 0.4160, val_acc: 0.8344\n",
      "Epoch [29], train_loss: 0.4285, val_loss: 0.4093, val_acc: 0.8361\n",
      "Epoch [30], train_loss: 0.4240, val_loss: 0.4033, val_acc: 0.8371\n",
      "Epoch [31], train_loss: 0.4157, val_loss: 0.3977, val_acc: 0.8389\n",
      "Epoch [32], train_loss: 0.4115, val_loss: 0.3926, val_acc: 0.8400\n",
      "Epoch [33], train_loss: 0.4053, val_loss: 0.3877, val_acc: 0.8402\n",
      "Epoch [34], train_loss: 0.4024, val_loss: 0.3834, val_acc: 0.8410\n",
      "Epoch [35], train_loss: 0.3988, val_loss: 0.3794, val_acc: 0.8420\n",
      "Epoch [36], train_loss: 0.3928, val_loss: 0.3755, val_acc: 0.8438\n",
      "Epoch [37], train_loss: 0.3889, val_loss: 0.3722, val_acc: 0.8434\n",
      "Epoch [38], train_loss: 0.3858, val_loss: 0.3688, val_acc: 0.8455\n",
      "Epoch [39], train_loss: 0.3850, val_loss: 0.3663, val_acc: 0.8461\n",
      "Epoch [40], train_loss: 0.3782, val_loss: 0.3633, val_acc: 0.8471\n",
      "Epoch [41], train_loss: 0.3762, val_loss: 0.3603, val_acc: 0.8482\n",
      "Epoch [42], train_loss: 0.3730, val_loss: 0.3577, val_acc: 0.8490\n",
      "Epoch [43], train_loss: 0.3697, val_loss: 0.3553, val_acc: 0.8502\n",
      "Epoch [44], train_loss: 0.3654, val_loss: 0.3528, val_acc: 0.8494\n",
      "Epoch [45], train_loss: 0.3639, val_loss: 0.3508, val_acc: 0.8516\n",
      "Epoch [46], train_loss: 0.3602, val_loss: 0.3485, val_acc: 0.8508\n",
      "Epoch [47], train_loss: 0.3598, val_loss: 0.3465, val_acc: 0.8516\n",
      "Epoch [48], train_loss: 0.3556, val_loss: 0.3447, val_acc: 0.8521\n",
      "Epoch [49], train_loss: 0.3522, val_loss: 0.3426, val_acc: 0.8525\n",
      "Epoch [50], train_loss: 0.3511, val_loss: 0.3410, val_acc: 0.8545\n",
      "Epoch [51], train_loss: 0.3496, val_loss: 0.3392, val_acc: 0.8537\n",
      "Epoch [52], train_loss: 0.3448, val_loss: 0.3373, val_acc: 0.8541\n",
      "Epoch [53], train_loss: 0.3462, val_loss: 0.3357, val_acc: 0.8537\n",
      "Epoch [54], train_loss: 0.3405, val_loss: 0.3343, val_acc: 0.8557\n",
      "Epoch [55], train_loss: 0.3404, val_loss: 0.3328, val_acc: 0.8553\n",
      "Epoch [56], train_loss: 0.3364, val_loss: 0.3310, val_acc: 0.8539\n",
      "Epoch [57], train_loss: 0.3349, val_loss: 0.3300, val_acc: 0.8559\n",
      "Epoch [58], train_loss: 0.3352, val_loss: 0.3283, val_acc: 0.8557\n",
      "Epoch [59], train_loss: 0.3329, val_loss: 0.3274, val_acc: 0.8572\n",
      "Epoch [60], train_loss: 0.3287, val_loss: 0.3256, val_acc: 0.8555\n",
      "Epoch [61], train_loss: 0.3305, val_loss: 0.3245, val_acc: 0.8568\n",
      "Epoch [62], train_loss: 0.3267, val_loss: 0.3233, val_acc: 0.8570\n",
      "Epoch [63], train_loss: 0.3255, val_loss: 0.3221, val_acc: 0.8568\n",
      "Epoch [64], train_loss: 0.3229, val_loss: 0.3205, val_acc: 0.8562\n",
      "Epoch [65], train_loss: 0.3213, val_loss: 0.3193, val_acc: 0.8562\n",
      "Epoch [66], train_loss: 0.3204, val_loss: 0.3182, val_acc: 0.8559\n",
      "Epoch [67], train_loss: 0.3183, val_loss: 0.3171, val_acc: 0.8570\n",
      "Epoch [68], train_loss: 0.3177, val_loss: 0.3163, val_acc: 0.8594\n",
      "Epoch [69], train_loss: 0.3131, val_loss: 0.3150, val_acc: 0.8582\n",
      "Epoch [70], train_loss: 0.3107, val_loss: 0.3140, val_acc: 0.8588\n",
      "Epoch [71], train_loss: 0.3114, val_loss: 0.3129, val_acc: 0.8590\n",
      "Epoch [72], train_loss: 0.3087, val_loss: 0.3115, val_acc: 0.8629\n",
      "Epoch [73], train_loss: 0.3082, val_loss: 0.3109, val_acc: 0.8637\n",
      "Epoch [74], train_loss: 0.3073, val_loss: 0.3096, val_acc: 0.8633\n",
      "Epoch [75], train_loss: 0.3048, val_loss: 0.3087, val_acc: 0.8641\n",
      "Epoch [76], train_loss: 0.3044, val_loss: 0.3077, val_acc: 0.8648\n",
      "Epoch [77], train_loss: 0.3023, val_loss: 0.3069, val_acc: 0.8654\n",
      "Epoch [78], train_loss: 0.3007, val_loss: 0.3065, val_acc: 0.8662\n",
      "Epoch [79], train_loss: 0.3000, val_loss: 0.3054, val_acc: 0.8662\n",
      "Epoch [80], train_loss: 0.2951, val_loss: 0.3042, val_acc: 0.8670\n",
      "Epoch [81], train_loss: 0.2965, val_loss: 0.3034, val_acc: 0.8687\n",
      "Epoch [82], train_loss: 0.2935, val_loss: 0.3024, val_acc: 0.8680\n",
      "Epoch [83], train_loss: 0.2940, val_loss: 0.3016, val_acc: 0.8691\n",
      "Epoch [84], train_loss: 0.2930, val_loss: 0.3007, val_acc: 0.8684\n",
      "Epoch [85], train_loss: 0.2908, val_loss: 0.2999, val_acc: 0.8703\n",
      "Epoch [86], train_loss: 0.2894, val_loss: 0.2990, val_acc: 0.8713\n",
      "Epoch [87], train_loss: 0.2876, val_loss: 0.2982, val_acc: 0.8703\n",
      "Epoch [88], train_loss: 0.2858, val_loss: 0.2975, val_acc: 0.8719\n",
      "Epoch [89], train_loss: 0.2844, val_loss: 0.2967, val_acc: 0.8719\n",
      "Epoch [90], train_loss: 0.2865, val_loss: 0.2961, val_acc: 0.8717\n",
      "Epoch [91], train_loss: 0.2828, val_loss: 0.2953, val_acc: 0.8721\n",
      "Epoch [92], train_loss: 0.2797, val_loss: 0.2943, val_acc: 0.8723\n",
      "Epoch [93], train_loss: 0.2785, val_loss: 0.2936, val_acc: 0.8721\n",
      "Epoch [94], train_loss: 0.2814, val_loss: 0.2930, val_acc: 0.8717\n",
      "Epoch [95], train_loss: 0.2761, val_loss: 0.2921, val_acc: 0.8725\n",
      "Epoch [96], train_loss: 0.2779, val_loss: 0.2917, val_acc: 0.8730\n",
      "Epoch [97], train_loss: 0.2765, val_loss: 0.2908, val_acc: 0.8758\n",
      "Epoch [98], train_loss: 0.2742, val_loss: 0.2903, val_acc: 0.8732\n",
      "Epoch [99], train_loss: 0.2712, val_loss: 0.2901, val_acc: 0.8744\n"
     ]
    }
   ],
   "source": [
    "#Training model 3\n",
    "\n",
    "history_3 = model.fit(train_x, train_y, val_x, val_y)"
   ]
  },
  {
   "cell_type": "code",
   "execution_count": null,
   "metadata": {
    "id": "bq9eN3qS9OCF"
   },
   "outputs": [],
   "source": [
    "#Saving training results of model 3\n",
    "\n",
    "keys = history_3[0].keys()\n",
    "with open('history_3.csv', 'w', newline='')  as output_file:\n",
    "    dict_writer = csv.DictWriter(output_file, keys)\n",
    "    dict_writer.writeheader()\n",
    "    dict_writer.writerows(history_3)"
   ]
  },
  {
   "cell_type": "code",
   "execution_count": null,
   "metadata": {
    "id": "Ve5vIwZY9bC3"
   },
   "outputs": [],
   "source": [
    "#Saving weights dict of model 3\n",
    "\n",
    "torch.save(model.state_dict(), '/content/model_3.pt')"
   ]
  },
  {
   "cell_type": "code",
   "execution_count": null,
   "metadata": {
    "id": "_MJK3mF49gYu"
   },
   "outputs": [],
   "source": [
    "#Instantiating model 4\n",
    "\n",
    "model = CNN(**params_4)"
   ]
  },
  {
   "cell_type": "code",
   "execution_count": null,
   "metadata": {
    "colab": {
     "base_uri": "https://localhost:8080/"
    },
    "id": "Q8PzJluW9joO",
    "outputId": "dc015d3f-e6cb-4742-e678-e025f66c2d3d"
   },
   "outputs": [
    {
     "data": {
      "text/plain": [
       "CNN(\n",
       "  (embedding): Embedding(101945, 300, padding_idx=101944)\n",
       "  (conv_0): Conv1d(1, 100, kernel_size=(900,), stride=(300,))\n",
       "  (conv_1): Conv1d(1, 100, kernel_size=(1200,), stride=(300,))\n",
       "  (conv_2): Conv1d(1, 100, kernel_size=(1500,), stride=(300,))\n",
       "  (fc): Linear(in_features=300, out_features=2, bias=True)\n",
       ")"
      ]
     },
     "execution_count": 83,
     "metadata": {},
     "output_type": "execute_result"
    }
   ],
   "source": [
    "#Moving model 4 to GPU\n",
    "\n",
    "to_device(model, torch.device('cuda'))"
   ]
  },
  {
   "cell_type": "code",
   "execution_count": null,
   "metadata": {
    "colab": {
     "base_uri": "https://localhost:8080/"
    },
    "id": "9uqN6-Ks9nrc",
    "outputId": "229d4711-abf7-4aa4-c346-5d3cb6c54704"
   },
   "outputs": [
    {
     "name": "stdout",
     "output_type": "stream",
     "text": [
      "Epoch [0], train_loss: 0.6947, val_loss: 0.6897, val_acc: 0.5506\n",
      "Epoch [1], train_loss: 0.6905, val_loss: 0.6868, val_acc: 0.6203\n",
      "Epoch [2], train_loss: 0.6869, val_loss: 0.6838, val_acc: 0.6730\n",
      "Epoch [3], train_loss: 0.6836, val_loss: 0.6803, val_acc: 0.6877\n",
      "Epoch [4], train_loss: 0.6806, val_loss: 0.6763, val_acc: 0.7021\n",
      "Epoch [5], train_loss: 0.6740, val_loss: 0.6715, val_acc: 0.7086\n",
      "Epoch [6], train_loss: 0.6685, val_loss: 0.6659, val_acc: 0.7238\n",
      "Epoch [7], train_loss: 0.6629, val_loss: 0.6591, val_acc: 0.7350\n",
      "Epoch [8], train_loss: 0.6567, val_loss: 0.6513, val_acc: 0.7516\n",
      "Epoch [9], train_loss: 0.6471, val_loss: 0.6419, val_acc: 0.7582\n",
      "Epoch [10], train_loss: 0.6378, val_loss: 0.6313, val_acc: 0.7670\n",
      "Epoch [11], train_loss: 0.6287, val_loss: 0.6198, val_acc: 0.7754\n",
      "Epoch [12], train_loss: 0.6153, val_loss: 0.6070, val_acc: 0.7836\n",
      "Epoch [13], train_loss: 0.6023, val_loss: 0.5930, val_acc: 0.7879\n",
      "Epoch [14], train_loss: 0.5900, val_loss: 0.5786, val_acc: 0.7928\n",
      "Epoch [15], train_loss: 0.5772, val_loss: 0.5640, val_acc: 0.7977\n",
      "Epoch [16], train_loss: 0.5632, val_loss: 0.5488, val_acc: 0.8008\n",
      "Epoch [17], train_loss: 0.5485, val_loss: 0.5341, val_acc: 0.8039\n",
      "Epoch [18], train_loss: 0.5362, val_loss: 0.5197, val_acc: 0.8039\n",
      "Epoch [19], train_loss: 0.5242, val_loss: 0.5061, val_acc: 0.8041\n",
      "Epoch [20], train_loss: 0.5078, val_loss: 0.4929, val_acc: 0.8084\n",
      "Epoch [21], train_loss: 0.4997, val_loss: 0.4808, val_acc: 0.8105\n",
      "Epoch [22], train_loss: 0.4902, val_loss: 0.4695, val_acc: 0.8123\n",
      "Epoch [23], train_loss: 0.4793, val_loss: 0.4593, val_acc: 0.8139\n",
      "Epoch [24], train_loss: 0.4711, val_loss: 0.4498, val_acc: 0.8203\n",
      "Epoch [25], train_loss: 0.4629, val_loss: 0.4411, val_acc: 0.8186\n",
      "Epoch [26], train_loss: 0.4540, val_loss: 0.4329, val_acc: 0.8260\n",
      "Epoch [27], train_loss: 0.4448, val_loss: 0.4255, val_acc: 0.8268\n",
      "Epoch [28], train_loss: 0.4367, val_loss: 0.4182, val_acc: 0.8271\n",
      "Epoch [29], train_loss: 0.4311, val_loss: 0.4117, val_acc: 0.8287\n",
      "Epoch [30], train_loss: 0.4232, val_loss: 0.4056, val_acc: 0.8293\n",
      "Epoch [31], train_loss: 0.4197, val_loss: 0.4006, val_acc: 0.8324\n",
      "Epoch [32], train_loss: 0.4171, val_loss: 0.3951, val_acc: 0.8334\n",
      "Epoch [33], train_loss: 0.4077, val_loss: 0.3900, val_acc: 0.8357\n",
      "Epoch [34], train_loss: 0.4049, val_loss: 0.3858, val_acc: 0.8375\n",
      "Epoch [35], train_loss: 0.3991, val_loss: 0.3816, val_acc: 0.8393\n",
      "Epoch [36], train_loss: 0.3934, val_loss: 0.3773, val_acc: 0.8387\n",
      "Epoch [37], train_loss: 0.3922, val_loss: 0.3737, val_acc: 0.8418\n",
      "Epoch [38], train_loss: 0.3861, val_loss: 0.3703, val_acc: 0.8428\n",
      "Epoch [39], train_loss: 0.3831, val_loss: 0.3671, val_acc: 0.8438\n",
      "Epoch [40], train_loss: 0.3774, val_loss: 0.3638, val_acc: 0.8449\n",
      "Epoch [41], train_loss: 0.3766, val_loss: 0.3608, val_acc: 0.8453\n",
      "Epoch [42], train_loss: 0.3714, val_loss: 0.3577, val_acc: 0.8441\n",
      "Epoch [43], train_loss: 0.3693, val_loss: 0.3552, val_acc: 0.8475\n",
      "Epoch [44], train_loss: 0.3668, val_loss: 0.3525, val_acc: 0.8471\n",
      "Epoch [45], train_loss: 0.3630, val_loss: 0.3500, val_acc: 0.8480\n",
      "Epoch [46], train_loss: 0.3601, val_loss: 0.3479, val_acc: 0.8479\n",
      "Epoch [47], train_loss: 0.3586, val_loss: 0.3454, val_acc: 0.8496\n",
      "Epoch [48], train_loss: 0.3575, val_loss: 0.3432, val_acc: 0.8488\n",
      "Epoch [49], train_loss: 0.3512, val_loss: 0.3411, val_acc: 0.8502\n",
      "Epoch [50], train_loss: 0.3499, val_loss: 0.3391, val_acc: 0.8506\n",
      "Epoch [51], train_loss: 0.3503, val_loss: 0.3373, val_acc: 0.8525\n",
      "Epoch [52], train_loss: 0.3460, val_loss: 0.3357, val_acc: 0.8549\n",
      "Epoch [53], train_loss: 0.3420, val_loss: 0.3334, val_acc: 0.8561\n",
      "Epoch [54], train_loss: 0.3403, val_loss: 0.3319, val_acc: 0.8553\n",
      "Epoch [55], train_loss: 0.3378, val_loss: 0.3301, val_acc: 0.8564\n",
      "Epoch [56], train_loss: 0.3365, val_loss: 0.3283, val_acc: 0.8572\n",
      "Epoch [57], train_loss: 0.3359, val_loss: 0.3264, val_acc: 0.8584\n",
      "Epoch [58], train_loss: 0.3332, val_loss: 0.3249, val_acc: 0.8588\n",
      "Epoch [59], train_loss: 0.3300, val_loss: 0.3233, val_acc: 0.8627\n",
      "Epoch [60], train_loss: 0.3251, val_loss: 0.3217, val_acc: 0.8629\n",
      "Epoch [61], train_loss: 0.3248, val_loss: 0.3204, val_acc: 0.8645\n",
      "Epoch [62], train_loss: 0.3244, val_loss: 0.3188, val_acc: 0.8646\n",
      "Epoch [63], train_loss: 0.3223, val_loss: 0.3173, val_acc: 0.8637\n",
      "Epoch [64], train_loss: 0.3220, val_loss: 0.3160, val_acc: 0.8654\n",
      "Epoch [65], train_loss: 0.3204, val_loss: 0.3151, val_acc: 0.8648\n",
      "Epoch [66], train_loss: 0.3179, val_loss: 0.3138, val_acc: 0.8654\n",
      "Epoch [67], train_loss: 0.3129, val_loss: 0.3123, val_acc: 0.8662\n",
      "Epoch [68], train_loss: 0.3138, val_loss: 0.3109, val_acc: 0.8676\n",
      "Epoch [69], train_loss: 0.3114, val_loss: 0.3098, val_acc: 0.8672\n",
      "Epoch [70], train_loss: 0.3115, val_loss: 0.3084, val_acc: 0.8689\n",
      "Epoch [71], train_loss: 0.3085, val_loss: 0.3072, val_acc: 0.8674\n",
      "Epoch [72], train_loss: 0.3080, val_loss: 0.3061, val_acc: 0.8693\n",
      "Epoch [73], train_loss: 0.3061, val_loss: 0.3051, val_acc: 0.8695\n",
      "Epoch [74], train_loss: 0.2999, val_loss: 0.3038, val_acc: 0.8697\n",
      "Epoch [75], train_loss: 0.3019, val_loss: 0.3029, val_acc: 0.8701\n",
      "Epoch [76], train_loss: 0.2994, val_loss: 0.3016, val_acc: 0.8736\n",
      "Epoch [77], train_loss: 0.2962, val_loss: 0.3005, val_acc: 0.8734\n",
      "Epoch [78], train_loss: 0.2967, val_loss: 0.2995, val_acc: 0.8736\n",
      "Epoch [79], train_loss: 0.2942, val_loss: 0.2987, val_acc: 0.8738\n",
      "Epoch [80], train_loss: 0.2929, val_loss: 0.2976, val_acc: 0.8742\n",
      "Epoch [81], train_loss: 0.2915, val_loss: 0.2968, val_acc: 0.8740\n",
      "Epoch [82], train_loss: 0.2894, val_loss: 0.2958, val_acc: 0.8746\n",
      "Epoch [83], train_loss: 0.2878, val_loss: 0.2948, val_acc: 0.8756\n",
      "Epoch [84], train_loss: 0.2878, val_loss: 0.2939, val_acc: 0.8744\n",
      "Epoch [85], train_loss: 0.2846, val_loss: 0.2931, val_acc: 0.8758\n",
      "Epoch [86], train_loss: 0.2856, val_loss: 0.2924, val_acc: 0.8771\n",
      "Epoch [87], train_loss: 0.2832, val_loss: 0.2913, val_acc: 0.8773\n",
      "Epoch [88], train_loss: 0.2808, val_loss: 0.2905, val_acc: 0.8771\n",
      "Epoch [89], train_loss: 0.2795, val_loss: 0.2896, val_acc: 0.8785\n",
      "Epoch [90], train_loss: 0.2776, val_loss: 0.2888, val_acc: 0.8785\n",
      "Epoch [91], train_loss: 0.2782, val_loss: 0.2880, val_acc: 0.8795\n",
      "Epoch [92], train_loss: 0.2751, val_loss: 0.2872, val_acc: 0.8807\n",
      "Epoch [93], train_loss: 0.2745, val_loss: 0.2865, val_acc: 0.8813\n",
      "Epoch [94], train_loss: 0.2739, val_loss: 0.2859, val_acc: 0.8805\n",
      "Epoch [95], train_loss: 0.2726, val_loss: 0.2852, val_acc: 0.8809\n",
      "Epoch [96], train_loss: 0.2733, val_loss: 0.2844, val_acc: 0.8816\n",
      "Epoch [97], train_loss: 0.2703, val_loss: 0.2840, val_acc: 0.8811\n",
      "Epoch [98], train_loss: 0.2682, val_loss: 0.2828, val_acc: 0.8824\n",
      "Epoch [99], train_loss: 0.2666, val_loss: 0.2824, val_acc: 0.8822\n"
     ]
    }
   ],
   "source": [
    "#Training model 4\n",
    "\n",
    "history_4 = model.fit(train_x, train_y, val_x, val_y)"
   ]
  },
  {
   "cell_type": "code",
   "execution_count": null,
   "metadata": {
    "id": "DJ5c8SFOCVV5"
   },
   "outputs": [],
   "source": [
    "#Saving training results of model 4\n",
    "\n",
    "keys = history_4[0].keys()\n",
    "with open('history_4.csv', 'w', newline='')  as output_file:\n",
    "    dict_writer = csv.DictWriter(output_file, keys)\n",
    "    dict_writer.writeheader()\n",
    "    dict_writer.writerows(history_4)"
   ]
  },
  {
   "cell_type": "code",
   "execution_count": null,
   "metadata": {
    "id": "_eVyjoA9Cc55"
   },
   "outputs": [],
   "source": [
    "#Saving weight dict of model 4\n",
    "\n",
    "torch.save(model.state_dict(), '/content/model_4.pt')"
   ]
  },
  {
   "cell_type": "code",
   "execution_count": null,
   "metadata": {
    "id": "ZmNddcMBCeyT"
   },
   "outputs": [],
   "source": [
    "#Instantiating model 5\n",
    "\n",
    "model = CNN(**params_5)"
   ]
  },
  {
   "cell_type": "code",
   "execution_count": null,
   "metadata": {
    "colab": {
     "base_uri": "https://localhost:8080/"
    },
    "id": "AeoE6nx_CguB",
    "outputId": "38d4aa85-8367-4412-aef4-8ece02e6b2f3"
   },
   "outputs": [
    {
     "data": {
      "text/plain": [
       "CNN(\n",
       "  (embedding): Embedding(101945, 300, padding_idx=101944)\n",
       "  (conv_0): Conv1d(1, 100, kernel_size=(900,), stride=(300,))\n",
       "  (conv_1): Conv1d(1, 100, kernel_size=(1200,), stride=(300,))\n",
       "  (conv_2): Conv1d(1, 100, kernel_size=(1500,), stride=(300,))\n",
       "  (fc): Linear(in_features=300, out_features=2, bias=True)\n",
       ")"
      ]
     },
     "execution_count": 90,
     "metadata": {},
     "output_type": "execute_result"
    }
   ],
   "source": [
    "#Moving model 5 to GPU\n",
    "\n",
    "to_device(model, torch.device('cuda'))"
   ]
  },
  {
   "cell_type": "code",
   "execution_count": null,
   "metadata": {
    "colab": {
     "base_uri": "https://localhost:8080/"
    },
    "id": "gct7QKhJCkHO",
    "outputId": "b7ff23d2-af0c-4938-f021-aabfe4a3a22e"
   },
   "outputs": [
    {
     "name": "stdout",
     "output_type": "stream",
     "text": [
      "Epoch [0], train_loss: 0.7006, val_loss: 0.6888, val_acc: 0.6043\n",
      "Epoch [1], train_loss: 0.6967, val_loss: 0.6863, val_acc: 0.6492\n",
      "Epoch [2], train_loss: 0.6940, val_loss: 0.6836, val_acc: 0.6658\n",
      "Epoch [3], train_loss: 0.6907, val_loss: 0.6810, val_acc: 0.6723\n",
      "Epoch [4], train_loss: 0.6866, val_loss: 0.6781, val_acc: 0.6777\n",
      "Epoch [5], train_loss: 0.6850, val_loss: 0.6748, val_acc: 0.7158\n",
      "Epoch [6], train_loss: 0.6801, val_loss: 0.6712, val_acc: 0.7260\n",
      "Epoch [7], train_loss: 0.6756, val_loss: 0.6671, val_acc: 0.7268\n",
      "Epoch [8], train_loss: 0.6704, val_loss: 0.6625, val_acc: 0.7484\n",
      "Epoch [9], train_loss: 0.6649, val_loss: 0.6571, val_acc: 0.7549\n",
      "Epoch [10], train_loss: 0.6607, val_loss: 0.6511, val_acc: 0.7637\n",
      "Epoch [11], train_loss: 0.6532, val_loss: 0.6443, val_acc: 0.7688\n",
      "Epoch [12], train_loss: 0.6464, val_loss: 0.6367, val_acc: 0.7768\n",
      "Epoch [13], train_loss: 0.6406, val_loss: 0.6283, val_acc: 0.7883\n",
      "Epoch [14], train_loss: 0.6312, val_loss: 0.6192, val_acc: 0.7916\n",
      "Epoch [15], train_loss: 0.6238, val_loss: 0.6095, val_acc: 0.7977\n",
      "Epoch [16], train_loss: 0.6130, val_loss: 0.5991, val_acc: 0.8006\n",
      "Epoch [17], train_loss: 0.6051, val_loss: 0.5883, val_acc: 0.8041\n",
      "Epoch [18], train_loss: 0.5957, val_loss: 0.5772, val_acc: 0.8076\n",
      "Epoch [19], train_loss: 0.5864, val_loss: 0.5658, val_acc: 0.8127\n",
      "Epoch [20], train_loss: 0.5745, val_loss: 0.5545, val_acc: 0.8148\n",
      "Epoch [21], train_loss: 0.5663, val_loss: 0.5432, val_acc: 0.8225\n",
      "Epoch [22], train_loss: 0.5563, val_loss: 0.5321, val_acc: 0.8234\n",
      "Epoch [23], train_loss: 0.5460, val_loss: 0.5215, val_acc: 0.8215\n",
      "Epoch [24], train_loss: 0.5369, val_loss: 0.5110, val_acc: 0.8256\n",
      "Epoch [25], train_loss: 0.5291, val_loss: 0.5010, val_acc: 0.8258\n",
      "Epoch [26], train_loss: 0.5202, val_loss: 0.4915, val_acc: 0.8234\n",
      "Epoch [27], train_loss: 0.5119, val_loss: 0.4824, val_acc: 0.8252\n",
      "Epoch [28], train_loss: 0.5034, val_loss: 0.4737, val_acc: 0.8258\n",
      "Epoch [29], train_loss: 0.4934, val_loss: 0.4653, val_acc: 0.8273\n",
      "Epoch [30], train_loss: 0.4870, val_loss: 0.4576, val_acc: 0.8281\n",
      "Epoch [31], train_loss: 0.4833, val_loss: 0.4505, val_acc: 0.8299\n",
      "Epoch [32], train_loss: 0.4785, val_loss: 0.4440, val_acc: 0.8307\n",
      "Epoch [33], train_loss: 0.4732, val_loss: 0.4377, val_acc: 0.8305\n",
      "Epoch [34], train_loss: 0.4651, val_loss: 0.4319, val_acc: 0.8314\n",
      "Epoch [35], train_loss: 0.4582, val_loss: 0.4265, val_acc: 0.8330\n",
      "Epoch [36], train_loss: 0.4539, val_loss: 0.4214, val_acc: 0.8342\n",
      "Epoch [37], train_loss: 0.4485, val_loss: 0.4163, val_acc: 0.8361\n",
      "Epoch [38], train_loss: 0.4431, val_loss: 0.4118, val_acc: 0.8373\n",
      "Epoch [39], train_loss: 0.4383, val_loss: 0.4076, val_acc: 0.8379\n",
      "Epoch [40], train_loss: 0.4364, val_loss: 0.4038, val_acc: 0.8400\n",
      "Epoch [41], train_loss: 0.4325, val_loss: 0.3999, val_acc: 0.8412\n",
      "Epoch [42], train_loss: 0.4295, val_loss: 0.3964, val_acc: 0.8416\n",
      "Epoch [43], train_loss: 0.4236, val_loss: 0.3930, val_acc: 0.8414\n",
      "Epoch [44], train_loss: 0.4243, val_loss: 0.3901, val_acc: 0.8434\n",
      "Epoch [45], train_loss: 0.4187, val_loss: 0.3870, val_acc: 0.8428\n",
      "Epoch [46], train_loss: 0.4153, val_loss: 0.3841, val_acc: 0.8422\n",
      "Epoch [47], train_loss: 0.4152, val_loss: 0.3817, val_acc: 0.8424\n",
      "Epoch [48], train_loss: 0.4078, val_loss: 0.3790, val_acc: 0.8412\n",
      "Epoch [49], train_loss: 0.4061, val_loss: 0.3764, val_acc: 0.8422\n",
      "Epoch [50], train_loss: 0.4029, val_loss: 0.3742, val_acc: 0.8428\n",
      "Epoch [51], train_loss: 0.3996, val_loss: 0.3719, val_acc: 0.8441\n",
      "Epoch [52], train_loss: 0.3974, val_loss: 0.3697, val_acc: 0.8449\n",
      "Epoch [53], train_loss: 0.3957, val_loss: 0.3678, val_acc: 0.8449\n",
      "Epoch [54], train_loss: 0.3910, val_loss: 0.3656, val_acc: 0.8453\n",
      "Epoch [55], train_loss: 0.3901, val_loss: 0.3635, val_acc: 0.8455\n",
      "Epoch [56], train_loss: 0.3898, val_loss: 0.3618, val_acc: 0.8459\n",
      "Epoch [57], train_loss: 0.3912, val_loss: 0.3601, val_acc: 0.8457\n",
      "Epoch [58], train_loss: 0.3891, val_loss: 0.3587, val_acc: 0.8459\n",
      "Epoch [59], train_loss: 0.3826, val_loss: 0.3570, val_acc: 0.8453\n",
      "Epoch [60], train_loss: 0.3819, val_loss: 0.3555, val_acc: 0.8461\n",
      "Epoch [61], train_loss: 0.3804, val_loss: 0.3537, val_acc: 0.8467\n",
      "Epoch [62], train_loss: 0.3781, val_loss: 0.3523, val_acc: 0.8463\n",
      "Epoch [63], train_loss: 0.3737, val_loss: 0.3506, val_acc: 0.8479\n",
      "Epoch [64], train_loss: 0.3754, val_loss: 0.3494, val_acc: 0.8479\n",
      "Epoch [65], train_loss: 0.3704, val_loss: 0.3477, val_acc: 0.8486\n",
      "Epoch [66], train_loss: 0.3714, val_loss: 0.3463, val_acc: 0.8486\n",
      "Epoch [67], train_loss: 0.3688, val_loss: 0.3453, val_acc: 0.8492\n",
      "Epoch [68], train_loss: 0.3685, val_loss: 0.3440, val_acc: 0.8498\n",
      "Epoch [69], train_loss: 0.3657, val_loss: 0.3426, val_acc: 0.8492\n",
      "Epoch [70], train_loss: 0.3636, val_loss: 0.3411, val_acc: 0.8508\n",
      "Epoch [71], train_loss: 0.3614, val_loss: 0.3399, val_acc: 0.8512\n",
      "Epoch [72], train_loss: 0.3623, val_loss: 0.3389, val_acc: 0.8508\n",
      "Epoch [73], train_loss: 0.3595, val_loss: 0.3377, val_acc: 0.8520\n",
      "Epoch [74], train_loss: 0.3574, val_loss: 0.3365, val_acc: 0.8523\n",
      "Epoch [75], train_loss: 0.3526, val_loss: 0.3351, val_acc: 0.8512\n",
      "Epoch [76], train_loss: 0.3534, val_loss: 0.3340, val_acc: 0.8520\n",
      "Epoch [77], train_loss: 0.3527, val_loss: 0.3331, val_acc: 0.8541\n",
      "Epoch [78], train_loss: 0.3507, val_loss: 0.3322, val_acc: 0.8541\n",
      "Epoch [79], train_loss: 0.3505, val_loss: 0.3312, val_acc: 0.8541\n",
      "Epoch [80], train_loss: 0.3470, val_loss: 0.3304, val_acc: 0.8553\n",
      "Epoch [81], train_loss: 0.3480, val_loss: 0.3289, val_acc: 0.8543\n",
      "Epoch [82], train_loss: 0.3441, val_loss: 0.3279, val_acc: 0.8549\n",
      "Epoch [83], train_loss: 0.3419, val_loss: 0.3269, val_acc: 0.8553\n",
      "Epoch [84], train_loss: 0.3449, val_loss: 0.3264, val_acc: 0.8562\n",
      "Epoch [85], train_loss: 0.3431, val_loss: 0.3254, val_acc: 0.8561\n",
      "Epoch [86], train_loss: 0.3396, val_loss: 0.3245, val_acc: 0.8568\n",
      "Epoch [87], train_loss: 0.3387, val_loss: 0.3235, val_acc: 0.8570\n",
      "Epoch [88], train_loss: 0.3396, val_loss: 0.3228, val_acc: 0.8574\n",
      "Epoch [89], train_loss: 0.3377, val_loss: 0.3220, val_acc: 0.8580\n",
      "Epoch [90], train_loss: 0.3356, val_loss: 0.3213, val_acc: 0.8588\n",
      "Epoch [91], train_loss: 0.3336, val_loss: 0.3204, val_acc: 0.8582\n",
      "Epoch [92], train_loss: 0.3332, val_loss: 0.3194, val_acc: 0.8600\n",
      "Epoch [93], train_loss: 0.3314, val_loss: 0.3187, val_acc: 0.8594\n",
      "Epoch [94], train_loss: 0.3301, val_loss: 0.3178, val_acc: 0.8639\n",
      "Epoch [95], train_loss: 0.3287, val_loss: 0.3168, val_acc: 0.8645\n",
      "Epoch [96], train_loss: 0.3303, val_loss: 0.3162, val_acc: 0.8648\n",
      "Epoch [97], train_loss: 0.3277, val_loss: 0.3155, val_acc: 0.8637\n",
      "Epoch [98], train_loss: 0.3245, val_loss: 0.3150, val_acc: 0.8605\n",
      "Epoch [99], train_loss: 0.3256, val_loss: 0.3139, val_acc: 0.8658\n"
     ]
    }
   ],
   "source": [
    "#Training model 5\n",
    "\n",
    "history_5 = model.fit(train_x, train_y, val_x, val_y)"
   ]
  },
  {
   "cell_type": "code",
   "execution_count": null,
   "metadata": {
    "id": "2gDAjyIrDKc_"
   },
   "outputs": [],
   "source": [
    "#Saving training results of model 5\n",
    "\n",
    "keys = history_5[0].keys()\n",
    "with open('history_5.csv', 'w', newline='')  as output_file:\n",
    "    dict_writer = csv.DictWriter(output_file, keys)\n",
    "    dict_writer.writeheader()\n",
    "    dict_writer.writerows(history_5)"
   ]
  },
  {
   "cell_type": "code",
   "execution_count": null,
   "metadata": {
    "id": "oTbz8aiADP7h"
   },
   "outputs": [],
   "source": [
    "#Saving weight dict of model 5\n",
    "\n",
    "torch.save(model.state_dict(), '/content/model_5.pt')"
   ]
  },
  {
   "cell_type": "code",
   "execution_count": null,
   "metadata": {
    "id": "8WFSuAOFVuMQ"
   },
   "outputs": [],
   "source": [
    "#Instantiating model 6\n",
    "\n",
    "model = CNN(**params_6)"
   ]
  },
  {
   "cell_type": "code",
   "execution_count": null,
   "metadata": {
    "colab": {
     "base_uri": "https://localhost:8080/"
    },
    "id": "Ut5z3jAJVx7U",
    "outputId": "5eb90a87-2ee9-4a23-97b9-1addaa00abb2"
   },
   "outputs": [
    {
     "data": {
      "text/plain": [
       "CNN(\n",
       "  (embedding): Embedding(101945, 300, padding_idx=101944)\n",
       "  (conv_0): Conv1d(1, 100, kernel_size=(900,), stride=(300,))\n",
       "  (conv_1): Conv1d(1, 100, kernel_size=(1200,), stride=(300,))\n",
       "  (conv_2): Conv1d(1, 100, kernel_size=(1500,), stride=(300,))\n",
       "  (fc): Linear(in_features=300, out_features=2, bias=True)\n",
       ")"
      ]
     },
     "execution_count": 25,
     "metadata": {},
     "output_type": "execute_result"
    }
   ],
   "source": [
    "#Moving model 6 to GPU\n",
    "\n",
    "to_device(model, torch.device('cuda'))"
   ]
  },
  {
   "cell_type": "code",
   "execution_count": 26,
   "metadata": {
    "colab": {
     "base_uri": "https://localhost:8080/"
    },
    "id": "wFi1kEq4V1t2",
    "outputId": "584592ff-4688-4286-e77e-e795f57362b6"
   },
   "outputs": [
    {
     "name": "stdout",
     "output_type": "stream",
     "text": [
      "Epoch [0], train_loss: 0.7022, val_loss: 0.6900, val_acc: 0.5881\n",
      "Epoch [1], train_loss: 0.6989, val_loss: 0.6872, val_acc: 0.6488\n",
      "Epoch [2], train_loss: 0.6936, val_loss: 0.6843, val_acc: 0.6908\n",
      "Epoch [3], train_loss: 0.6898, val_loss: 0.6813, val_acc: 0.7164\n",
      "Epoch [4], train_loss: 0.6875, val_loss: 0.6780, val_acc: 0.7209\n",
      "Epoch [5], train_loss: 0.6838, val_loss: 0.6742, val_acc: 0.7309\n",
      "Epoch [6], train_loss: 0.6796, val_loss: 0.6699, val_acc: 0.7432\n",
      "Epoch [7], train_loss: 0.6742, val_loss: 0.6651, val_acc: 0.7486\n",
      "Epoch [8], train_loss: 0.6688, val_loss: 0.6596, val_acc: 0.7545\n",
      "Epoch [9], train_loss: 0.6638, val_loss: 0.6534, val_acc: 0.7643\n",
      "Epoch [10], train_loss: 0.6567, val_loss: 0.6464, val_acc: 0.7744\n",
      "Epoch [11], train_loss: 0.6509, val_loss: 0.6388, val_acc: 0.7887\n",
      "Epoch [12], train_loss: 0.6438, val_loss: 0.6305, val_acc: 0.7979\n",
      "Epoch [13], train_loss: 0.6345, val_loss: 0.6212, val_acc: 0.8014\n",
      "Epoch [14], train_loss: 0.6256, val_loss: 0.6111, val_acc: 0.8025\n",
      "Epoch [15], train_loss: 0.6186, val_loss: 0.6005, val_acc: 0.8059\n",
      "Epoch [16], train_loss: 0.6083, val_loss: 0.5893, val_acc: 0.8107\n",
      "Epoch [17], train_loss: 0.5956, val_loss: 0.5775, val_acc: 0.8127\n",
      "Epoch [18], train_loss: 0.5882, val_loss: 0.5656, val_acc: 0.8154\n",
      "Epoch [19], train_loss: 0.5758, val_loss: 0.5535, val_acc: 0.8166\n",
      "Epoch [20], train_loss: 0.5664, val_loss: 0.5417, val_acc: 0.8209\n",
      "Epoch [21], train_loss: 0.5568, val_loss: 0.5300, val_acc: 0.8234\n",
      "Epoch [22], train_loss: 0.5457, val_loss: 0.5184, val_acc: 0.8270\n",
      "Epoch [23], train_loss: 0.5339, val_loss: 0.5070, val_acc: 0.8293\n",
      "Epoch [24], train_loss: 0.5241, val_loss: 0.4963, val_acc: 0.8314\n",
      "Epoch [25], train_loss: 0.5159, val_loss: 0.4861, val_acc: 0.8332\n",
      "Epoch [26], train_loss: 0.5090, val_loss: 0.4764, val_acc: 0.8344\n",
      "Epoch [27], train_loss: 0.5023, val_loss: 0.4677, val_acc: 0.8361\n",
      "Epoch [28], train_loss: 0.4921, val_loss: 0.4594, val_acc: 0.8375\n",
      "Epoch [29], train_loss: 0.4822, val_loss: 0.4514, val_acc: 0.8389\n",
      "Epoch [30], train_loss: 0.4761, val_loss: 0.4444, val_acc: 0.8375\n",
      "Epoch [31], train_loss: 0.4728, val_loss: 0.4378, val_acc: 0.8400\n",
      "Epoch [32], train_loss: 0.4662, val_loss: 0.4319, val_acc: 0.8404\n",
      "Epoch [33], train_loss: 0.4594, val_loss: 0.4261, val_acc: 0.8402\n",
      "Epoch [34], train_loss: 0.4535, val_loss: 0.4207, val_acc: 0.8416\n",
      "Epoch [35], train_loss: 0.4467, val_loss: 0.4155, val_acc: 0.8432\n",
      "Epoch [36], train_loss: 0.4428, val_loss: 0.4108, val_acc: 0.8434\n",
      "Epoch [37], train_loss: 0.4367, val_loss: 0.4064, val_acc: 0.8445\n",
      "Epoch [38], train_loss: 0.4322, val_loss: 0.4022, val_acc: 0.8461\n",
      "Epoch [39], train_loss: 0.4294, val_loss: 0.3984, val_acc: 0.8473\n",
      "Epoch [40], train_loss: 0.4279, val_loss: 0.3950, val_acc: 0.8438\n",
      "Epoch [41], train_loss: 0.4225, val_loss: 0.3915, val_acc: 0.8443\n",
      "Epoch [42], train_loss: 0.4221, val_loss: 0.3887, val_acc: 0.8453\n",
      "Epoch [43], train_loss: 0.4140, val_loss: 0.3854, val_acc: 0.8459\n",
      "Epoch [44], train_loss: 0.4112, val_loss: 0.3828, val_acc: 0.8465\n",
      "Epoch [45], train_loss: 0.4067, val_loss: 0.3800, val_acc: 0.8467\n",
      "Epoch [46], train_loss: 0.4032, val_loss: 0.3773, val_acc: 0.8475\n",
      "Epoch [47], train_loss: 0.4019, val_loss: 0.3751, val_acc: 0.8490\n",
      "Epoch [48], train_loss: 0.3971, val_loss: 0.3723, val_acc: 0.8490\n",
      "Epoch [49], train_loss: 0.3965, val_loss: 0.3700, val_acc: 0.8492\n",
      "Epoch [50], train_loss: 0.3947, val_loss: 0.3682, val_acc: 0.8512\n",
      "Epoch [51], train_loss: 0.3907, val_loss: 0.3660, val_acc: 0.8510\n",
      "Epoch [52], train_loss: 0.3902, val_loss: 0.3643, val_acc: 0.8518\n",
      "Epoch [53], train_loss: 0.3848, val_loss: 0.3624, val_acc: 0.8518\n",
      "Epoch [54], train_loss: 0.3832, val_loss: 0.3604, val_acc: 0.8529\n",
      "Epoch [55], train_loss: 0.3815, val_loss: 0.3586, val_acc: 0.8535\n",
      "Epoch [56], train_loss: 0.3783, val_loss: 0.3567, val_acc: 0.8531\n",
      "Epoch [57], train_loss: 0.3744, val_loss: 0.3549, val_acc: 0.8543\n",
      "Epoch [58], train_loss: 0.3749, val_loss: 0.3532, val_acc: 0.8543\n",
      "Epoch [59], train_loss: 0.3674, val_loss: 0.3514, val_acc: 0.8551\n",
      "Epoch [60], train_loss: 0.3701, val_loss: 0.3499, val_acc: 0.8551\n",
      "Epoch [61], train_loss: 0.3713, val_loss: 0.3484, val_acc: 0.8549\n",
      "Epoch [62], train_loss: 0.3680, val_loss: 0.3473, val_acc: 0.8570\n",
      "Epoch [63], train_loss: 0.3624, val_loss: 0.3457, val_acc: 0.8566\n",
      "Epoch [64], train_loss: 0.3604, val_loss: 0.3442, val_acc: 0.8576\n",
      "Epoch [65], train_loss: 0.3607, val_loss: 0.3428, val_acc: 0.8578\n",
      "Epoch [66], train_loss: 0.3611, val_loss: 0.3415, val_acc: 0.8568\n",
      "Epoch [67], train_loss: 0.3546, val_loss: 0.3405, val_acc: 0.8588\n",
      "Epoch [68], train_loss: 0.3550, val_loss: 0.3388, val_acc: 0.8584\n",
      "Epoch [69], train_loss: 0.3525, val_loss: 0.3376, val_acc: 0.8592\n",
      "Epoch [70], train_loss: 0.3504, val_loss: 0.3363, val_acc: 0.8592\n",
      "Epoch [71], train_loss: 0.3504, val_loss: 0.3352, val_acc: 0.8605\n",
      "Epoch [72], train_loss: 0.3477, val_loss: 0.3339, val_acc: 0.8605\n",
      "Epoch [73], train_loss: 0.3435, val_loss: 0.3329, val_acc: 0.8615\n",
      "Epoch [74], train_loss: 0.3427, val_loss: 0.3314, val_acc: 0.8615\n",
      "Epoch [75], train_loss: 0.3415, val_loss: 0.3302, val_acc: 0.8625\n",
      "Epoch [76], train_loss: 0.3413, val_loss: 0.3292, val_acc: 0.8621\n",
      "Epoch [77], train_loss: 0.3403, val_loss: 0.3282, val_acc: 0.8629\n",
      "Epoch [78], train_loss: 0.3377, val_loss: 0.3273, val_acc: 0.8633\n",
      "Epoch [79], train_loss: 0.3378, val_loss: 0.3261, val_acc: 0.8635\n",
      "Epoch [80], train_loss: 0.3380, val_loss: 0.3252, val_acc: 0.8643\n",
      "Epoch [81], train_loss: 0.3343, val_loss: 0.3241, val_acc: 0.8641\n",
      "Epoch [82], train_loss: 0.3320, val_loss: 0.3233, val_acc: 0.8643\n",
      "Epoch [83], train_loss: 0.3314, val_loss: 0.3223, val_acc: 0.8648\n",
      "Epoch [84], train_loss: 0.3280, val_loss: 0.3211, val_acc: 0.8650\n",
      "Epoch [85], train_loss: 0.3244, val_loss: 0.3200, val_acc: 0.8648\n",
      "Epoch [86], train_loss: 0.3237, val_loss: 0.3190, val_acc: 0.8650\n",
      "Epoch [87], train_loss: 0.3246, val_loss: 0.3181, val_acc: 0.8650\n",
      "Epoch [88], train_loss: 0.3208, val_loss: 0.3173, val_acc: 0.8680\n",
      "Epoch [89], train_loss: 0.3239, val_loss: 0.3165, val_acc: 0.8689\n",
      "Epoch [90], train_loss: 0.3214, val_loss: 0.3154, val_acc: 0.8662\n",
      "Epoch [91], train_loss: 0.3198, val_loss: 0.3145, val_acc: 0.8701\n",
      "Epoch [92], train_loss: 0.3171, val_loss: 0.3137, val_acc: 0.8707\n",
      "Epoch [93], train_loss: 0.3168, val_loss: 0.3131, val_acc: 0.8703\n",
      "Epoch [94], train_loss: 0.3136, val_loss: 0.3119, val_acc: 0.8719\n",
      "Epoch [95], train_loss: 0.3162, val_loss: 0.3113, val_acc: 0.8721\n",
      "Epoch [96], train_loss: 0.3155, val_loss: 0.3104, val_acc: 0.8723\n",
      "Epoch [97], train_loss: 0.3097, val_loss: 0.3095, val_acc: 0.8729\n",
      "Epoch [98], train_loss: 0.3112, val_loss: 0.3087, val_acc: 0.8738\n",
      "Epoch [99], train_loss: 0.3095, val_loss: 0.3079, val_acc: 0.8744\n"
     ]
    }
   ],
   "source": [
    "#Training model 6\n",
    "\n",
    "history_6 = model.fit(train_x, train_y, val_x, val_y)"
   ]
  },
  {
   "cell_type": "code",
   "execution_count": 27,
   "metadata": {
    "id": "QGiCTln5V-F8"
   },
   "outputs": [],
   "source": [
    "#Saving training results of model 6\n",
    "\n",
    "keys = history_6[0].keys()\n",
    "with open('history_6.csv', 'w', newline='')  as output_file:\n",
    "    dict_writer = csv.DictWriter(output_file, keys)\n",
    "    dict_writer.writeheader()\n",
    "    dict_writer.writerows(history_6)"
   ]
  },
  {
   "cell_type": "code",
   "execution_count": 28,
   "metadata": {
    "id": "tZs3_G_dWFKF"
   },
   "outputs": [],
   "source": [
    "#Saving weight dict of model 6\n",
    "\n",
    "torch.save(model.state_dict(), '/content/model_6.pt')"
   ]
  },
  {
   "cell_type": "code",
   "execution_count": null,
   "metadata": {
    "id": "k2j7a9ZuWPbO"
   },
   "outputs": [],
   "source": [
    "#Instantiating model 7\n",
    "\n",
    "model = CNN(**params_7)"
   ]
  },
  {
   "cell_type": "code",
   "execution_count": null,
   "metadata": {
    "colab": {
     "base_uri": "https://localhost:8080/"
    },
    "id": "83TmRaeRWPbP",
    "outputId": "59f1a6c4-94e4-4387-f92b-343a20e44092"
   },
   "outputs": [
    {
     "data": {
      "text/plain": [
       "CNN(\n",
       "  (embedding): Embedding(101945, 300, padding_idx=101944)\n",
       "  (conv_0): Conv1d(1, 100, kernel_size=(900,), stride=(300,))\n",
       "  (conv_1): Conv1d(1, 100, kernel_size=(1200,), stride=(300,))\n",
       "  (conv_2): Conv1d(1, 100, kernel_size=(1500,), stride=(300,))\n",
       "  (fc): Linear(in_features=300, out_features=2, bias=True)\n",
       ")"
      ]
     },
     "execution_count": 104,
     "metadata": {},
     "output_type": "execute_result"
    }
   ],
   "source": [
    "#Moving model 7 to GPU\n",
    "\n",
    "to_device(model, torch.device('cuda'))"
   ]
  },
  {
   "cell_type": "code",
   "execution_count": null,
   "metadata": {
    "colab": {
     "base_uri": "https://localhost:8080/"
    },
    "id": "ZmUzolexWPbP",
    "outputId": "5485b68c-252a-4c96-fe3f-191e8b139b05"
   },
   "outputs": [
    {
     "name": "stdout",
     "output_type": "stream",
     "text": [
      "Epoch [0], train_loss: 0.6911, val_loss: 0.6889, val_acc: 0.5791\n",
      "Epoch [1], train_loss: 0.6864, val_loss: 0.6850, val_acc: 0.6623\n",
      "Epoch [2], train_loss: 0.6814, val_loss: 0.6806, val_acc: 0.6826\n",
      "Epoch [3], train_loss: 0.6758, val_loss: 0.6754, val_acc: 0.6936\n",
      "Epoch [4], train_loss: 0.6695, val_loss: 0.6694, val_acc: 0.6945\n",
      "Epoch [5], train_loss: 0.6621, val_loss: 0.6622, val_acc: 0.6963\n",
      "Epoch [6], train_loss: 0.6533, val_loss: 0.6537, val_acc: 0.7029\n",
      "Epoch [7], train_loss: 0.6431, val_loss: 0.6437, val_acc: 0.7135\n",
      "Epoch [8], train_loss: 0.6314, val_loss: 0.6320, val_acc: 0.7281\n",
      "Epoch [9], train_loss: 0.6182, val_loss: 0.6187, val_acc: 0.7414\n",
      "Epoch [10], train_loss: 0.6029, val_loss: 0.6035, val_acc: 0.7574\n",
      "Epoch [11], train_loss: 0.5863, val_loss: 0.5865, val_acc: 0.7664\n",
      "Epoch [12], train_loss: 0.5686, val_loss: 0.5688, val_acc: 0.7824\n",
      "Epoch [13], train_loss: 0.5502, val_loss: 0.5507, val_acc: 0.7910\n",
      "Epoch [14], train_loss: 0.5314, val_loss: 0.5318, val_acc: 0.8010\n",
      "Epoch [15], train_loss: 0.5119, val_loss: 0.5130, val_acc: 0.8049\n",
      "Epoch [16], train_loss: 0.4936, val_loss: 0.4955, val_acc: 0.8105\n",
      "Epoch [17], train_loss: 0.4757, val_loss: 0.4783, val_acc: 0.8156\n",
      "Epoch [18], train_loss: 0.4591, val_loss: 0.4631, val_acc: 0.8186\n",
      "Epoch [19], train_loss: 0.4444, val_loss: 0.4491, val_acc: 0.8199\n",
      "Epoch [20], train_loss: 0.4313, val_loss: 0.4368, val_acc: 0.8254\n",
      "Epoch [21], train_loss: 0.4190, val_loss: 0.4255, val_acc: 0.8279\n",
      "Epoch [22], train_loss: 0.4075, val_loss: 0.4155, val_acc: 0.8291\n",
      "Epoch [23], train_loss: 0.3973, val_loss: 0.4063, val_acc: 0.8307\n",
      "Epoch [24], train_loss: 0.3889, val_loss: 0.3981, val_acc: 0.8355\n",
      "Epoch [25], train_loss: 0.3809, val_loss: 0.3910, val_acc: 0.8336\n",
      "Epoch [26], train_loss: 0.3738, val_loss: 0.3847, val_acc: 0.8363\n",
      "Epoch [27], train_loss: 0.3674, val_loss: 0.3782, val_acc: 0.8375\n",
      "Epoch [28], train_loss: 0.3614, val_loss: 0.3729, val_acc: 0.8365\n",
      "Epoch [29], train_loss: 0.3559, val_loss: 0.3679, val_acc: 0.8375\n",
      "Epoch [30], train_loss: 0.3509, val_loss: 0.3637, val_acc: 0.8412\n",
      "Epoch [31], train_loss: 0.3462, val_loss: 0.3594, val_acc: 0.8400\n",
      "Epoch [32], train_loss: 0.3420, val_loss: 0.3555, val_acc: 0.8453\n",
      "Epoch [33], train_loss: 0.3380, val_loss: 0.3519, val_acc: 0.8484\n",
      "Epoch [34], train_loss: 0.3345, val_loss: 0.3486, val_acc: 0.8512\n",
      "Epoch [35], train_loss: 0.3307, val_loss: 0.3458, val_acc: 0.8488\n",
      "Epoch [36], train_loss: 0.3272, val_loss: 0.3429, val_acc: 0.8525\n",
      "Epoch [37], train_loss: 0.3243, val_loss: 0.3404, val_acc: 0.8523\n",
      "Epoch [38], train_loss: 0.3210, val_loss: 0.3377, val_acc: 0.8521\n",
      "Epoch [39], train_loss: 0.3181, val_loss: 0.3355, val_acc: 0.8553\n",
      "Epoch [40], train_loss: 0.3157, val_loss: 0.3333, val_acc: 0.8543\n",
      "Epoch [41], train_loss: 0.3129, val_loss: 0.3312, val_acc: 0.8561\n",
      "Epoch [42], train_loss: 0.3102, val_loss: 0.3291, val_acc: 0.8566\n",
      "Epoch [43], train_loss: 0.3079, val_loss: 0.3276, val_acc: 0.8566\n",
      "Epoch [44], train_loss: 0.3058, val_loss: 0.3255, val_acc: 0.8584\n",
      "Epoch [45], train_loss: 0.3036, val_loss: 0.3237, val_acc: 0.8580\n",
      "Epoch [46], train_loss: 0.3009, val_loss: 0.3220, val_acc: 0.8596\n",
      "Epoch [47], train_loss: 0.2987, val_loss: 0.3207, val_acc: 0.8592\n",
      "Epoch [48], train_loss: 0.2967, val_loss: 0.3189, val_acc: 0.8596\n",
      "Epoch [49], train_loss: 0.2949, val_loss: 0.3174, val_acc: 0.8609\n",
      "Epoch [50], train_loss: 0.2932, val_loss: 0.3159, val_acc: 0.8635\n",
      "Epoch [51], train_loss: 0.2906, val_loss: 0.3148, val_acc: 0.8625\n",
      "Epoch [52], train_loss: 0.2889, val_loss: 0.3131, val_acc: 0.8654\n",
      "Epoch [53], train_loss: 0.2871, val_loss: 0.3118, val_acc: 0.8686\n",
      "Epoch [54], train_loss: 0.2852, val_loss: 0.3105, val_acc: 0.8687\n",
      "Epoch [55], train_loss: 0.2832, val_loss: 0.3092, val_acc: 0.8689\n",
      "Epoch [56], train_loss: 0.2810, val_loss: 0.3081, val_acc: 0.8697\n",
      "Epoch [57], train_loss: 0.2794, val_loss: 0.3071, val_acc: 0.8703\n",
      "Epoch [58], train_loss: 0.2778, val_loss: 0.3058, val_acc: 0.8713\n",
      "Epoch [59], train_loss: 0.2756, val_loss: 0.3046, val_acc: 0.8719\n",
      "Epoch [60], train_loss: 0.2740, val_loss: 0.3038, val_acc: 0.8723\n",
      "Epoch [61], train_loss: 0.2726, val_loss: 0.3024, val_acc: 0.8732\n",
      "Epoch [62], train_loss: 0.2710, val_loss: 0.3014, val_acc: 0.8730\n",
      "Epoch [63], train_loss: 0.2689, val_loss: 0.3004, val_acc: 0.8736\n",
      "Epoch [64], train_loss: 0.2674, val_loss: 0.2993, val_acc: 0.8742\n",
      "Epoch [65], train_loss: 0.2656, val_loss: 0.2984, val_acc: 0.8748\n",
      "Epoch [66], train_loss: 0.2641, val_loss: 0.2977, val_acc: 0.8754\n",
      "Epoch [67], train_loss: 0.2623, val_loss: 0.2965, val_acc: 0.8758\n",
      "Epoch [68], train_loss: 0.2607, val_loss: 0.2957, val_acc: 0.8762\n",
      "Epoch [69], train_loss: 0.2593, val_loss: 0.2952, val_acc: 0.8768\n",
      "Epoch [70], train_loss: 0.2577, val_loss: 0.2938, val_acc: 0.8770\n",
      "Epoch [71], train_loss: 0.2561, val_loss: 0.2929, val_acc: 0.8770\n",
      "Epoch [72], train_loss: 0.2546, val_loss: 0.2922, val_acc: 0.8770\n",
      "Epoch [73], train_loss: 0.2533, val_loss: 0.2913, val_acc: 0.8773\n",
      "Epoch [74], train_loss: 0.2512, val_loss: 0.2906, val_acc: 0.8779\n",
      "Epoch [75], train_loss: 0.2506, val_loss: 0.2897, val_acc: 0.8787\n",
      "Epoch [76], train_loss: 0.2488, val_loss: 0.2889, val_acc: 0.8787\n",
      "Epoch [77], train_loss: 0.2470, val_loss: 0.2882, val_acc: 0.8795\n",
      "Epoch [78], train_loss: 0.2454, val_loss: 0.2875, val_acc: 0.8797\n",
      "Epoch [79], train_loss: 0.2444, val_loss: 0.2868, val_acc: 0.8803\n",
      "Epoch [80], train_loss: 0.2424, val_loss: 0.2860, val_acc: 0.8799\n",
      "Epoch [81], train_loss: 0.2413, val_loss: 0.2853, val_acc: 0.8807\n",
      "Epoch [82], train_loss: 0.2395, val_loss: 0.2850, val_acc: 0.8797\n",
      "Epoch [83], train_loss: 0.2387, val_loss: 0.2838, val_acc: 0.8813\n",
      "Epoch [84], train_loss: 0.2368, val_loss: 0.2834, val_acc: 0.8809\n",
      "Epoch [85], train_loss: 0.2351, val_loss: 0.2839, val_acc: 0.8791\n",
      "Epoch [86], train_loss: 0.2337, val_loss: 0.2822, val_acc: 0.8822\n",
      "Epoch [87], train_loss: 0.2327, val_loss: 0.2812, val_acc: 0.8824\n",
      "Epoch [88], train_loss: 0.2313, val_loss: 0.2812, val_acc: 0.8807\n",
      "Epoch [89], train_loss: 0.2304, val_loss: 0.2800, val_acc: 0.8824\n",
      "Epoch [90], train_loss: 0.2280, val_loss: 0.2794, val_acc: 0.8840\n",
      "Epoch [91], train_loss: 0.2269, val_loss: 0.2789, val_acc: 0.8836\n",
      "Epoch [92], train_loss: 0.2255, val_loss: 0.2782, val_acc: 0.8836\n",
      "Epoch [93], train_loss: 0.2240, val_loss: 0.2777, val_acc: 0.8840\n",
      "Epoch [94], train_loss: 0.2228, val_loss: 0.2770, val_acc: 0.8848\n",
      "Epoch [95], train_loss: 0.2214, val_loss: 0.2764, val_acc: 0.8846\n",
      "Epoch [96], train_loss: 0.2199, val_loss: 0.2759, val_acc: 0.8852\n",
      "Epoch [97], train_loss: 0.2185, val_loss: 0.2753, val_acc: 0.8848\n",
      "Epoch [98], train_loss: 0.2174, val_loss: 0.2747, val_acc: 0.8850\n",
      "Epoch [99], train_loss: 0.2155, val_loss: 0.2742, val_acc: 0.8852\n"
     ]
    }
   ],
   "source": [
    "#Training model 7\n",
    "\n",
    "history_7 = model.fit(train_x, train_y, val_x, val_y)"
   ]
  },
  {
   "cell_type": "code",
   "execution_count": null,
   "metadata": {
    "id": "g4iAK9emWPbP"
   },
   "outputs": [],
   "source": [
    "#Saving training results of model 7\n",
    "\n",
    "keys = history_7[0].keys()\n",
    "with open('history_7.csv', 'w', newline='')  as output_file:\n",
    "    dict_writer = csv.DictWriter(output_file, keys)\n",
    "    dict_writer.writeheader()\n",
    "    dict_writer.writerows(history_7)"
   ]
  },
  {
   "cell_type": "code",
   "execution_count": null,
   "metadata": {
    "id": "Ir7IPorWWPbQ"
   },
   "outputs": [],
   "source": [
    "#Saving weight dict of model 7\n",
    "\n",
    "torch.save(model.state_dict(), '/content/model_7.pt')"
   ]
  },
  {
   "cell_type": "code",
   "execution_count": null,
   "metadata": {
    "id": "AnA_G4YXWZsk"
   },
   "outputs": [],
   "source": [
    "#Instantiating model 8\n",
    "\n",
    "model = CNN(**params_8)"
   ]
  },
  {
   "cell_type": "code",
   "execution_count": null,
   "metadata": {
    "colab": {
     "base_uri": "https://localhost:8080/"
    },
    "id": "OF3h9D9aWZsk",
    "outputId": "e7c240d0-e0a7-4eae-be62-927c5e684136"
   },
   "outputs": [
    {
     "data": {
      "text/plain": [
       "CNN(\n",
       "  (embedding): Embedding(101945, 300, padding_idx=101944)\n",
       "  (conv_0): Conv1d(1, 100, kernel_size=(900,), stride=(300,))\n",
       "  (conv_1): Conv1d(1, 100, kernel_size=(1200,), stride=(300,))\n",
       "  (conv_2): Conv1d(1, 100, kernel_size=(1500,), stride=(300,))\n",
       "  (fc): Linear(in_features=300, out_features=2, bias=True)\n",
       ")"
      ]
     },
     "execution_count": 110,
     "metadata": {},
     "output_type": "execute_result"
    }
   ],
   "source": [
    "#Moving model 8 to GPU\n",
    "\n",
    "to_device(model, torch.device('cuda'))"
   ]
  },
  {
   "cell_type": "code",
   "execution_count": null,
   "metadata": {
    "colab": {
     "base_uri": "https://localhost:8080/"
    },
    "id": "eoEvkUWBWZsk",
    "outputId": "a2bdf005-5420-4548-81cd-480b7d9b3974"
   },
   "outputs": [
    {
     "name": "stdout",
     "output_type": "stream",
     "text": [
      "Epoch [0], train_loss: 0.6926, val_loss: 0.6887, val_acc: 0.5908\n",
      "Epoch [1], train_loss: 0.6860, val_loss: 0.6848, val_acc: 0.6375\n",
      "Epoch [2], train_loss: 0.6815, val_loss: 0.6806, val_acc: 0.6592\n",
      "Epoch [3], train_loss: 0.6762, val_loss: 0.6755, val_acc: 0.7092\n",
      "Epoch [4], train_loss: 0.6698, val_loss: 0.6690, val_acc: 0.7189\n",
      "Epoch [5], train_loss: 0.6620, val_loss: 0.6612, val_acc: 0.7201\n",
      "Epoch [6], train_loss: 0.6526, val_loss: 0.6518, val_acc: 0.7326\n",
      "Epoch [7], train_loss: 0.6416, val_loss: 0.6404, val_acc: 0.7365\n",
      "Epoch [8], train_loss: 0.6287, val_loss: 0.6274, val_acc: 0.7553\n",
      "Epoch [9], train_loss: 0.6140, val_loss: 0.6123, val_acc: 0.7607\n",
      "Epoch [10], train_loss: 0.5973, val_loss: 0.5954, val_acc: 0.7760\n",
      "Epoch [11], train_loss: 0.5790, val_loss: 0.5772, val_acc: 0.7848\n",
      "Epoch [12], train_loss: 0.5598, val_loss: 0.5576, val_acc: 0.7934\n",
      "Epoch [13], train_loss: 0.5399, val_loss: 0.5380, val_acc: 0.7986\n",
      "Epoch [14], train_loss: 0.5194, val_loss: 0.5187, val_acc: 0.8088\n",
      "Epoch [15], train_loss: 0.5008, val_loss: 0.5001, val_acc: 0.8092\n",
      "Epoch [16], train_loss: 0.4825, val_loss: 0.4832, val_acc: 0.8143\n",
      "Epoch [17], train_loss: 0.4660, val_loss: 0.4677, val_acc: 0.8160\n",
      "Epoch [18], train_loss: 0.4513, val_loss: 0.4533, val_acc: 0.8186\n",
      "Epoch [19], train_loss: 0.4367, val_loss: 0.4405, val_acc: 0.8199\n",
      "Epoch [20], train_loss: 0.4246, val_loss: 0.4296, val_acc: 0.8240\n",
      "Epoch [21], train_loss: 0.4131, val_loss: 0.4189, val_acc: 0.8275\n",
      "Epoch [22], train_loss: 0.4035, val_loss: 0.4101, val_acc: 0.8295\n",
      "Epoch [23], train_loss: 0.3946, val_loss: 0.4021, val_acc: 0.8307\n",
      "Epoch [24], train_loss: 0.3864, val_loss: 0.3949, val_acc: 0.8316\n",
      "Epoch [25], train_loss: 0.3797, val_loss: 0.3884, val_acc: 0.8324\n",
      "Epoch [26], train_loss: 0.3727, val_loss: 0.3823, val_acc: 0.8357\n",
      "Epoch [27], train_loss: 0.3668, val_loss: 0.3769, val_acc: 0.8375\n",
      "Epoch [28], train_loss: 0.3613, val_loss: 0.3719, val_acc: 0.8395\n",
      "Epoch [29], train_loss: 0.3562, val_loss: 0.3674, val_acc: 0.8396\n",
      "Epoch [30], train_loss: 0.3513, val_loss: 0.3634, val_acc: 0.8410\n",
      "Epoch [31], train_loss: 0.3468, val_loss: 0.3594, val_acc: 0.8410\n",
      "Epoch [32], train_loss: 0.3430, val_loss: 0.3557, val_acc: 0.8426\n",
      "Epoch [33], train_loss: 0.3387, val_loss: 0.3523, val_acc: 0.8461\n",
      "Epoch [34], train_loss: 0.3354, val_loss: 0.3493, val_acc: 0.8451\n",
      "Epoch [35], train_loss: 0.3318, val_loss: 0.3461, val_acc: 0.8473\n",
      "Epoch [36], train_loss: 0.3283, val_loss: 0.3433, val_acc: 0.8477\n",
      "Epoch [37], train_loss: 0.3252, val_loss: 0.3407, val_acc: 0.8514\n",
      "Epoch [38], train_loss: 0.3217, val_loss: 0.3380, val_acc: 0.8572\n",
      "Epoch [39], train_loss: 0.3185, val_loss: 0.3357, val_acc: 0.8543\n",
      "Epoch [40], train_loss: 0.3163, val_loss: 0.3339, val_acc: 0.8561\n",
      "Epoch [41], train_loss: 0.3129, val_loss: 0.3311, val_acc: 0.8572\n",
      "Epoch [42], train_loss: 0.3105, val_loss: 0.3290, val_acc: 0.8615\n",
      "Epoch [43], train_loss: 0.3079, val_loss: 0.3272, val_acc: 0.8588\n",
      "Epoch [44], train_loss: 0.3048, val_loss: 0.3250, val_acc: 0.8605\n",
      "Epoch [45], train_loss: 0.3030, val_loss: 0.3231, val_acc: 0.8678\n",
      "Epoch [46], train_loss: 0.3007, val_loss: 0.3215, val_acc: 0.8666\n",
      "Epoch [47], train_loss: 0.2980, val_loss: 0.3197, val_acc: 0.8670\n",
      "Epoch [48], train_loss: 0.2962, val_loss: 0.3180, val_acc: 0.8678\n",
      "Epoch [49], train_loss: 0.2940, val_loss: 0.3164, val_acc: 0.8717\n",
      "Epoch [50], train_loss: 0.2913, val_loss: 0.3148, val_acc: 0.8709\n",
      "Epoch [51], train_loss: 0.2891, val_loss: 0.3134, val_acc: 0.8693\n",
      "Epoch [52], train_loss: 0.2877, val_loss: 0.3121, val_acc: 0.8678\n",
      "Epoch [53], train_loss: 0.2850, val_loss: 0.3105, val_acc: 0.8699\n",
      "Epoch [54], train_loss: 0.2834, val_loss: 0.3091, val_acc: 0.8725\n",
      "Epoch [55], train_loss: 0.2812, val_loss: 0.3079, val_acc: 0.8691\n",
      "Epoch [56], train_loss: 0.2799, val_loss: 0.3065, val_acc: 0.8734\n",
      "Epoch [57], train_loss: 0.2774, val_loss: 0.3055, val_acc: 0.8699\n",
      "Epoch [58], train_loss: 0.2752, val_loss: 0.3040, val_acc: 0.8744\n",
      "Epoch [59], train_loss: 0.2738, val_loss: 0.3029, val_acc: 0.8725\n",
      "Epoch [60], train_loss: 0.2717, val_loss: 0.3020, val_acc: 0.8736\n",
      "Epoch [61], train_loss: 0.2698, val_loss: 0.3005, val_acc: 0.8732\n",
      "Epoch [62], train_loss: 0.2680, val_loss: 0.3000, val_acc: 0.8742\n",
      "Epoch [63], train_loss: 0.2664, val_loss: 0.2985, val_acc: 0.8768\n",
      "Epoch [64], train_loss: 0.2642, val_loss: 0.2976, val_acc: 0.8771\n",
      "Epoch [65], train_loss: 0.2628, val_loss: 0.2966, val_acc: 0.8771\n",
      "Epoch [66], train_loss: 0.2611, val_loss: 0.2954, val_acc: 0.8764\n",
      "Epoch [67], train_loss: 0.2595, val_loss: 0.2946, val_acc: 0.8781\n",
      "Epoch [68], train_loss: 0.2583, val_loss: 0.2938, val_acc: 0.8787\n",
      "Epoch [69], train_loss: 0.2562, val_loss: 0.2926, val_acc: 0.8809\n",
      "Epoch [70], train_loss: 0.2542, val_loss: 0.2917, val_acc: 0.8785\n",
      "Epoch [71], train_loss: 0.2529, val_loss: 0.2909, val_acc: 0.8787\n",
      "Epoch [72], train_loss: 0.2509, val_loss: 0.2900, val_acc: 0.8791\n",
      "Epoch [73], train_loss: 0.2496, val_loss: 0.2896, val_acc: 0.8805\n",
      "Epoch [74], train_loss: 0.2476, val_loss: 0.2883, val_acc: 0.8795\n",
      "Epoch [75], train_loss: 0.2465, val_loss: 0.2876, val_acc: 0.8797\n",
      "Epoch [76], train_loss: 0.2448, val_loss: 0.2867, val_acc: 0.8793\n",
      "Epoch [77], train_loss: 0.2428, val_loss: 0.2861, val_acc: 0.8834\n",
      "Epoch [78], train_loss: 0.2419, val_loss: 0.2852, val_acc: 0.8797\n",
      "Epoch [79], train_loss: 0.2403, val_loss: 0.2845, val_acc: 0.8799\n",
      "Epoch [80], train_loss: 0.2388, val_loss: 0.2839, val_acc: 0.8805\n",
      "Epoch [81], train_loss: 0.2373, val_loss: 0.2833, val_acc: 0.8809\n",
      "Epoch [82], train_loss: 0.2357, val_loss: 0.2825, val_acc: 0.8807\n",
      "Epoch [83], train_loss: 0.2339, val_loss: 0.2817, val_acc: 0.8807\n",
      "Epoch [84], train_loss: 0.2326, val_loss: 0.2810, val_acc: 0.8822\n",
      "Epoch [85], train_loss: 0.2309, val_loss: 0.2803, val_acc: 0.8813\n",
      "Epoch [86], train_loss: 0.2301, val_loss: 0.2799, val_acc: 0.8818\n",
      "Epoch [87], train_loss: 0.2282, val_loss: 0.2791, val_acc: 0.8834\n",
      "Epoch [88], train_loss: 0.2272, val_loss: 0.2784, val_acc: 0.8830\n",
      "Epoch [89], train_loss: 0.2251, val_loss: 0.2778, val_acc: 0.8826\n",
      "Epoch [90], train_loss: 0.2238, val_loss: 0.2771, val_acc: 0.8838\n",
      "Epoch [91], train_loss: 0.2228, val_loss: 0.2765, val_acc: 0.8834\n",
      "Epoch [92], train_loss: 0.2215, val_loss: 0.2760, val_acc: 0.8836\n",
      "Epoch [93], train_loss: 0.2196, val_loss: 0.2753, val_acc: 0.8852\n",
      "Epoch [94], train_loss: 0.2186, val_loss: 0.2747, val_acc: 0.8854\n",
      "Epoch [95], train_loss: 0.2169, val_loss: 0.2742, val_acc: 0.8852\n",
      "Epoch [96], train_loss: 0.2158, val_loss: 0.2738, val_acc: 0.8852\n",
      "Epoch [97], train_loss: 0.2140, val_loss: 0.2731, val_acc: 0.8859\n",
      "Epoch [98], train_loss: 0.2130, val_loss: 0.2726, val_acc: 0.8859\n",
      "Epoch [99], train_loss: 0.2113, val_loss: 0.2721, val_acc: 0.8857\n"
     ]
    }
   ],
   "source": [
    "#Training model 8\n",
    "\n",
    "history_8 = model.fit(train_x, train_y, val_x, val_y)"
   ]
  },
  {
   "cell_type": "code",
   "execution_count": null,
   "metadata": {
    "id": "1TIioQJlWZsk"
   },
   "outputs": [],
   "source": [
    "#Saving training results of model 8\n",
    "\n",
    "keys = history_8[0].keys()\n",
    "with open('history_8.csv', 'w', newline='')  as output_file:\n",
    "    dict_writer = csv.DictWriter(output_file, keys)\n",
    "    dict_writer.writeheader()\n",
    "    dict_writer.writerows(history_8)"
   ]
  },
  {
   "cell_type": "code",
   "execution_count": null,
   "metadata": {
    "id": "d1V0PnakWZsl"
   },
   "outputs": [],
   "source": [
    "#Saving weight dict of model 8\n",
    "\n",
    "torch.save(model.state_dict(), '/content/model_8.pt')"
   ]
  },
  {
   "cell_type": "code",
   "execution_count": 47,
   "metadata": {
    "id": "_dgbhHhSgqk5"
   },
   "outputs": [],
   "source": [
    "#Function to execute testing of all models\n",
    "\n",
    "def test_models():\n",
    "    df = pd.DataFrame({'Model': [],\n",
    "                        'Accuracy': [],\n",
    "                        'Precision Score': [],\n",
    "                        'Recall Score': [],\n",
    "                        'F1 Score': [],\n",
    "                        'Confusion Matrix': []})\n",
    "\n",
    "    for i in range(8):\n",
    "        print('Testing model', str(i+1))\n",
    "        model_name = 'Model '+ str(i+1)\n",
    "        file_name = '/content/model_' + str(i+1) + '.pt'\n",
    "        par = params[model_name]\n",
    "        model = CNN(**par)\n",
    "        model.load_state_dict(torch.load(file_name))\n",
    "        to_device(model, torch.device('cuda'))\n",
    "        cm, prec, rec, f1 = model.test_results(test_x, test_y)\n",
    "        acc = (cm[0,0]+cm[1,1])/np.sum(cm)\n",
    "        df.loc[len(df.index)] = [model_name, acc, prec, rec, f1, cm]\n",
    "    return df\n"
   ]
  },
  {
   "cell_type": "code",
   "execution_count": 48,
   "metadata": {
    "colab": {
     "base_uri": "https://localhost:8080/"
    },
    "id": "metDcFuTkryp",
    "outputId": "e92d2f1d-7693-4e38-9ea1-368afa5884e2"
   },
   "outputs": [
    {
     "name": "stdout",
     "output_type": "stream",
     "text": [
      "Testing model 1\n"
     ]
    },
    {
     "name": "stderr",
     "output_type": "stream",
     "text": [
      "/usr/local/lib/python3.7/dist-packages/numpy/core/_asarray.py:83: VisibleDeprecationWarning: Creating an ndarray from ragged nested sequences (which is a list-or-tuple of lists-or-tuples-or ndarrays with different lengths or shapes) is deprecated. If you meant to do this, you must specify 'dtype=object' when creating the ndarray\n",
      "  return array(a, dtype, copy=False, order=order)\n"
     ]
    },
    {
     "name": "stdout",
     "output_type": "stream",
     "text": [
      "Testing model 2\n",
      "Testing model 3\n",
      "Testing model 4\n",
      "Testing model 5\n",
      "Testing model 6\n",
      "Testing model 7\n",
      "Testing model 8\n"
     ]
    }
   ],
   "source": [
    "#Test all models\n",
    "\n",
    "df_test_results = test_models()"
   ]
  },
  {
   "cell_type": "code",
   "execution_count": 50,
   "metadata": {
    "id": "acdSYr-MlFZF"
   },
   "outputs": [],
   "source": [
    "#Save test results\n",
    "\n",
    "df_test_results.to_pickle('test_results.pkl')\n"
   ]
  },
  {
   "cell_type": "markdown",
   "metadata": {
    "id": "BETc8vDUy50N"
   },
   "source": [
    "## Results\n",
    "\n",
    "\n",
    "\n",
    "\n",
    "\n"
   ]
  },
  {
   "cell_type": "code",
   "execution_count": 51,
   "metadata": {
    "id": "xJ_tmawFVuUC"
   },
   "outputs": [],
   "source": [
    "#Lodaing training/validation results\n",
    "\n",
    "df1 = pd.read_csv(\"/content/history_1.csv\")\n",
    "df2 = pd.read_csv(\"/content/history_2.csv\")\n",
    "df3 = pd.read_csv(\"/content/history_3.csv\")\n",
    "df4 = pd.read_csv(\"/content/history_4.csv\")\n",
    "df5 = pd.read_csv(\"/content/history_5.csv\")\n",
    "df6 = pd.read_csv(\"/content/history_6.csv\")\n",
    "df7 = pd.read_csv(\"/content/history_7.csv\")\n",
    "df8 = pd.read_csv(\"/content/history_8.csv\")\n"
   ]
  },
  {
   "cell_type": "code",
   "execution_count": 107,
   "metadata": {
    "colab": {
     "base_uri": "https://localhost:8080/",
     "height": 621
    },
    "id": "XL2SYKOIXWTN",
    "outputId": "679faa0f-60a3-4b6a-e0e4-32045f35ae27"
   },
   "outputs": [
    {
     "data": {
      "image/png": "[encoded data removed]",
      "text/plain": [
       "<Figure size 1296x720 with 8 Axes>"
      ]
     },
     "metadata": {
      "needs_background": "light"
     },
     "output_type": "display_data"
    }
   ],
   "source": [
    "#Plotting validation and train loss\n",
    "\n",
    "fig, axs = plt.subplots(2, 4, figsize=(18,10))\n",
    "axs[0,0].plot(range(100), df1['val_loss'], label=\"Validation Loss\")\n",
    "axs[0,0].plot(df1['train_loss'], label=\"Train Loss\")\n",
    "axs[0,0].set_title('Model 1: p=0.25, static')\n",
    "axs[0,1].plot(range(100), df2['val_loss'], label=\"Validation Loss\")\n",
    "axs[0,1].plot(df2['train_loss'], label=\"Train Loss\")\n",
    "axs[0,1].set_title('Model 2: p=0.25, nonstatic')\n",
    "axs[0,2].plot(range(100), df3['val_loss'], label=\"Validation Loss\")\n",
    "axs[0,2].plot(df3['train_loss'], label=\"Train Loss\")\n",
    "axs[0,2].set_title('Model 3: p=0.5, static')\n",
    "axs[0,3].plot(range(100), df4['val_loss'], label=\"Validation Loss\")\n",
    "axs[0,3].plot(df4['train_loss'], label=\"Train Loss\")\n",
    "axs[0,3].set_title('Model 4: p=0.5, nonstatic')\n",
    "axs[1,0].plot(range(100), df5['val_loss'], label=\"Validation Loss\")\n",
    "axs[1,0].plot(df5['train_loss'], label=\"Train Loss\")\n",
    "axs[1,0].set_title('Model 5: p=0.75, static')\n",
    "axs[1,1].plot(range(100), df6['val_loss'], label=\"Validation Loss\")\n",
    "axs[1,1].plot(df6['train_loss'], label=\"Train Loss\")\n",
    "axs[1,1].set_title('Model 6: p=0.75, nonstatic')\n",
    "axs[1,2].plot(range(100), df7['val_loss'], label=\"Validation Loss\")\n",
    "axs[1,2].plot(df7['train_loss'], label=\"Train Loss\")\n",
    "axs[1,2].set_title('Model 7: p=0.0, static')\n",
    "axs[1,3].plot(range(100), df8['val_loss'], label=\"Validation Loss\")\n",
    "axs[1,3].plot(df8['train_loss'], label=\"Train Loss\")\n",
    "axs[1,3].set_title('Model 8: p=0.0, nonstatic')\n",
    "axs[1,3].legend(loc='upper right')\n",
    "\n",
    "\n",
    "for ax in axs.flat:\n",
    "    ax.set(xlabel='Epoch', ylabel='Loss')\n",
    "\n",
    "plt.show()"
   ]
  },
  {
   "cell_type": "markdown",
   "metadata": {
    "id": "SNIegssC99BQ"
   },
   "source": [
    "Above are plots of the validation loss and training loss for each model.  Observe almost all of the validation losses are still decreasing somewhat after 100 epochs.  This indicates that each model would have benefited from more training.  However, it looks as if most of the validation losses would have just about bottomed out, so more training would have resulted in only marginally better results.  Exceptions to this are models 5 and 6 in which after 100 epochs, the training loss has still not crossed the validation loss, and the validation loss is still regularly decreasing.  It is interesting that both of these models have dropout probability of 0.75.  This conforms with our expectations that higher dropout probabilities tend to prevent a network from overfitting - and these networks are definitely not overfitting yet.  This seems to have come at a cost of slower training. Another important observation to note is that the lower the dropout probability, the lower the training losses are at the end of training.  However, we can see that all the validation losses seem to begin to flatten out at about 0.3, with lower dropout probabilities resulting in slightly lower losses at the end of training.  It is also interesting to see that for each dropout probability, the static and nonstatic models have about the same loss behavior.  Apparently, the extra parameters that require tuning in the nonstatic models don't slow down the training process."
   ]
  },
  {
   "cell_type": "code",
   "execution_count": 63,
   "metadata": {
    "colab": {
     "base_uri": "https://localhost:8080/",
     "height": 350
    },
    "id": "FJclemqbY4u7",
    "outputId": "6307ec0a-70e1-4660-92b8-cd49f065238d"
   },
   "outputs": [
    {
     "data": {
      "image/png": "[encoded data removed]",
      "text/plain": [
       "<Figure size 1080x360 with 2 Axes>"
      ]
     },
     "metadata": {
      "needs_background": "light"
     },
     "output_type": "display_data"
    }
   ],
   "source": [
    "#Plotting validation accuracies\n",
    "\n",
    "fig, axs = plt.subplots(1, 2, figsize=(15,5))\n",
    "axs[0].plot(range(100), df1['val_acc'], label=\"Model 1: p=0.25\")\n",
    "axs[0].plot(df3['val_acc'], label=\"Model 3: p=0.5\")\n",
    "axs[0].plot(df5['val_acc'], label=\"Model 5: p=0.75\")\n",
    "axs[0].plot(df7['val_acc'], label=\"Model 7: p=0.0\")\n",
    "axs[0].set_title('Validation Accuracy of Static Models')\n",
    "axs[1].plot(df2['val_acc'], label=\"Model 2: p=0.25\")\n",
    "axs[1].plot(df4['val_acc'], label=\"Model 4: p=0.5\")\n",
    "axs[1].plot(df6['val_acc'], label=\"Model 6: p=0.75\")\n",
    "axs[1].plot(df8['val_acc'], label=\"Model 8: p=0.0\")\n",
    "axs[1].set_title('Validation Accuracy of Nonstatic Models')\n",
    "\n",
    "for ax in axs.flat:\n",
    "    ax.set(xlabel='Epoch', ylabel='Accuracy')\n",
    "    ax.legend(loc='lower right')\n",
    "\n",
    "plt.show()"
   ]
  },
  {
   "cell_type": "markdown",
   "metadata": {
    "id": "LsIL15EG97zE"
   },
   "source": [
    "Above are plotted the validation accuracies for the static and nonstatic models.  It is interesting that the dropout probabilities seem to have a larger effect on the static models than the nonstatic models.  Perhaps the extra parameters in the nonstatic models help the model avoid overfitting and provide some sort of regularization, which makes dropout less necessary in these models.  Another important observation is that removing dropout (by setting the dropout probability to 0) results in better or equal validation accuracy by the end of training compared to the networks that included dropout.  However, since the validation accuracies are all still increasing after 100 epochs, perhaps more training would have revealed dropout to be important.  Thus, we must remain inconclusive as to whether dropout improved or hurt the performance of the network."
   ]
  },
  {
   "cell_type": "code",
   "execution_count": 65,
   "metadata": {
    "id": "fXsz7l1lmSgo"
   },
   "outputs": [],
   "source": [
    "# Loading testing results\n",
    "\n",
    "df_test_results = pd.read_pickle('/content/test_results.pkl')"
   ]
  },
  {
   "cell_type": "code",
   "execution_count": 91,
   "metadata": {
    "colab": {
     "base_uri": "https://localhost:8080/",
     "height": 520
    },
    "id": "bxPepj4gmlk_",
    "outputId": "2333247e-4475-4d64-bf8e-ffb36e6248be"
   },
   "outputs": [
    {
     "data": {
      "image/png": "[encoded data removed]",
      "text/plain": [
       "<Figure size 1080x720 with 8 Axes>"
      ]
     },
     "metadata": {
      "needs_background": "light"
     },
     "output_type": "display_data"
    }
   ],
   "source": [
    "#Plotting confusion matrices\n",
    "\n",
    "fig, axes = plt.subplots(2, 4, figsize=(15,10))\n",
    "\n",
    "for ax, i in zip(axes.flat, range(8)):\n",
    "    cm = df_test_results['Confusion Matrix'][i]\n",
    "    disp = ConfusionMatrixDisplay(cm)\n",
    "    disp.plot(ax=ax)\n",
    "    ax.set_title(df_test_results['Model'][i])\n",
    "    disp.im_.colorbar.remove()\n",
    "\n",
    "plt.show()"
   ]
  },
  {
   "cell_type": "markdown",
   "metadata": {
    "id": "b-NA0Rw1DSKI"
   },
   "source": [
    "Above are the confusion matrices on the testing data for each model.  It is clear that for each model, the false positive and false negative classifications are the same order of magnitude.  However, there does seem to be a bias in the network towards classifying movie reviews as positive, i.e., there are usually a few hundered more false positives than false negatives.  Recall in part 1 of the report that we found that positive reviews tended to be more polarizing than negative reviews.  Perhaps the networks have picked up on this feature and are using it too liberally in their classifications."
   ]
  },
  {
   "cell_type": "code",
   "execution_count": 106,
   "metadata": {
    "colab": {
     "base_uri": "https://localhost:8080/",
     "height": 300
    },
    "id": "MBDPu37YpaVt",
    "outputId": "2c94b5c1-63df-47f2-83f8-cb00a7107907"
   },
   "outputs": [
    {
     "data": {
      "text/html": [
       "\n",
       "  <div id=\"df-41856814-b44f-419e-9436-ece5824e5ee3\">\n",
       "    <div class=\"colab-df-container\">\n",
       "      <div>\n",
       "<style scoped>\n",
       "    .dataframe tbody tr th:only-of-type {\n",
       "        vertical-align: middle;\n",
       "    }\n",
       "\n",
       "    .dataframe tbody tr th {\n",
       "        vertical-align: top;\n",
       "    }\n",
       "\n",
       "    .dataframe thead th {\n",
       "        text-align: right;\n",
       "    }\n",
       "</style>\n",
       "<table border=\"1\" class=\"dataframe\">\n",
       "  <thead>\n",
       "    <tr style=\"text-align: right;\">\n",
       "      <th></th>\n",
       "      <th>Model</th>\n",
       "      <th>Accuracy</th>\n",
       "      <th>Precision Score</th>\n",
       "      <th>Recall Score</th>\n",
       "      <th>F1 Score</th>\n",
       "    </tr>\n",
       "  </thead>\n",
       "  <tbody>\n",
       "    <tr>\n",
       "      <th>0</th>\n",
       "      <td>Model 1</td>\n",
       "      <td>0.88350</td>\n",
       "      <td>0.881800</td>\n",
       "      <td>0.884808</td>\n",
       "      <td>0.883302</td>\n",
       "    </tr>\n",
       "    <tr>\n",
       "      <th>1</th>\n",
       "      <td>Model 2</td>\n",
       "      <td>0.88585</td>\n",
       "      <td>0.884650</td>\n",
       "      <td>0.886514</td>\n",
       "      <td>0.885581</td>\n",
       "    </tr>\n",
       "    <tr>\n",
       "      <th>2</th>\n",
       "      <td>Model 3</td>\n",
       "      <td>0.87800</td>\n",
       "      <td>0.879564</td>\n",
       "      <td>0.874975</td>\n",
       "      <td>0.877264</td>\n",
       "    </tr>\n",
       "    <tr>\n",
       "      <th>3</th>\n",
       "      <td>Model 4</td>\n",
       "      <td>0.88140</td>\n",
       "      <td>0.879624</td>\n",
       "      <td>0.882802</td>\n",
       "      <td>0.881210</td>\n",
       "    </tr>\n",
       "    <tr>\n",
       "      <th>4</th>\n",
       "      <td>Model 5</td>\n",
       "      <td>0.86950</td>\n",
       "      <td>0.858061</td>\n",
       "      <td>0.884407</td>\n",
       "      <td>0.871035</td>\n",
       "    </tr>\n",
       "    <tr>\n",
       "      <th>5</th>\n",
       "      <td>Model 6</td>\n",
       "      <td>0.87325</td>\n",
       "      <td>0.864873</td>\n",
       "      <td>0.883705</td>\n",
       "      <td>0.874187</td>\n",
       "    </tr>\n",
       "    <tr>\n",
       "      <th>6</th>\n",
       "      <td>Model 7</td>\n",
       "      <td>0.88245</td>\n",
       "      <td>0.878442</td>\n",
       "      <td>0.886815</td>\n",
       "      <td>0.882608</td>\n",
       "    </tr>\n",
       "    <tr>\n",
       "      <th>7</th>\n",
       "      <td>Model 8</td>\n",
       "      <td>0.88570</td>\n",
       "      <td>0.879222</td>\n",
       "      <td>0.893337</td>\n",
       "      <td>0.886223</td>\n",
       "    </tr>\n",
       "  </tbody>\n",
       "</table>\n",
       "</div>\n",
       "      <button class=\"colab-df-convert\" onclick=\"convertToInteractive('df-41856814-b44f-419e-9436-ece5824e5ee3')\"\n",
       "              title=\"Convert this dataframe to an interactive table.\"\n",
       "              style=\"display:none;\">\n",
       "        \n",
       "  <svg xmlns=\"http://www.w3.org/2000/svg\" height=\"24px\"viewBox=\"0 0 24 24\"\n",
       "       width=\"24px\">\n",
       "    <path d=\"M0 0h24v24H0V0z\" fill=\"none\"/>\n",
       "    <path d=\"M18.56 5.44l.94 2.06.94-2.06 2.06-.94-2.06-.94-.94-2.06-.94 2.06-2.06.94zm-11 1L8.5 8.5l.94-2.06 2.06-.94-2.06-.94L8.5 2.5l-.94 2.06-2.06.94zm10 10l.94 2.06.94-2.06 2.06-.94-2.06-.94-.94-2.06-.94 2.06-2.06.94z\"/><path d=\"M17.41 7.96l-1.37-1.37c-.4-.4-.92-.59-1.43-.59-.52 0-1.04.2-1.43.59L10.3 9.45l-7.72 7.72c-.78.78-.78 2.05 0 2.83L4 21.41c.39.39.9.59 1.41.59.51 0 1.02-.2 1.41-.59l7.78-7.78 2.81-2.81c.8-.78.8-2.07 0-2.86zM5.41 20L4 18.59l7.72-7.72 1.47 1.35L5.41 20z\"/>\n",
       "  </svg>\n",
       "      </button>\n",
       "      \n",
       "  <style>\n",
       "    .colab-df-container {\n",
       "      display:flex;\n",
       "      flex-wrap:wrap;\n",
       "      gap: 12px;\n",
       "    }\n",
       "\n",
       "    .colab-df-convert {\n",
       "      background-color: #E8F0FE;\n",
       "      border: none;\n",
       "      border-radius: 50%;\n",
       "      cursor: pointer;\n",
       "      display: none;\n",
       "      fill: #1967D2;\n",
       "      height: 32px;\n",
       "      padding: 0 0 0 0;\n",
       "      width: 32px;\n",
       "    }\n",
       "\n",
       "    .colab-df-convert:hover {\n",
       "      background-color: #E2EBFA;\n",
       "      box-shadow: 0px 1px 2px rgba(60, 64, 67, 0.3), 0px 1px 3px 1px rgba(60, 64, 67, 0.15);\n",
       "      fill: #174EA6;\n",
       "    }\n",
       "\n",
       "    [theme=dark] .colab-df-convert {\n",
       "      background-color: #3B4455;\n",
       "      fill: #D2E3FC;\n",
       "    }\n",
       "\n",
       "    [theme=dark] .colab-df-convert:hover {\n",
       "      background-color: #434B5C;\n",
       "      box-shadow: 0px 1px 3px 1px rgba(0, 0, 0, 0.15);\n",
       "      filter: drop-shadow(0px 1px 2px rgba(0, 0, 0, 0.3));\n",
       "      fill: #FFFFFF;\n",
       "    }\n",
       "  </style>\n",
       "\n",
       "      <script>\n",
       "        const buttonEl =\n",
       "          document.querySelector('#df-41856814-b44f-419e-9436-ece5824e5ee3 button.colab-df-convert');\n",
       "        buttonEl.style.display =\n",
       "          google.colab.kernel.accessAllowed ? 'block' : 'none';\n",
       "\n",
       "        async function convertToInteractive(key) {\n",
       "          const element = document.querySelector('#df-41856814-b44f-419e-9436-ece5824e5ee3');\n",
       "          const dataTable =\n",
       "            await google.colab.kernel.invokeFunction('convertToInteractive',\n",
       "                                                     [key], {});\n",
       "          if (!dataTable) return;\n",
       "\n",
       "          const docLinkHtml = 'Like what you see? Visit the ' +\n",
       "            '<a target=\"_blank\" href=https://colab.research.google.com/notebooks/data_table.ipynb>data table notebook</a>'\n",
       "            + ' to learn more about interactive tables.';\n",
       "          element.innerHTML = '';\n",
       "          dataTable['output_type'] = 'display_data';\n",
       "          await google.colab.output.renderOutput(dataTable, element);\n",
       "          const docLink = document.createElement('div');\n",
       "          docLink.innerHTML = docLinkHtml;\n",
       "          element.appendChild(docLink);\n",
       "        }\n",
       "      </script>\n",
       "    </div>\n",
       "  </div>\n",
       "  "
      ],
      "text/plain": [
       "     Model  Accuracy  Precision Score  Recall Score  F1 Score\n",
       "0  Model 1   0.88350         0.881800      0.884808  0.883302\n",
       "1  Model 2   0.88585         0.884650      0.886514  0.885581\n",
       "2  Model 3   0.87800         0.879564      0.874975  0.877264\n",
       "3  Model 4   0.88140         0.879624      0.882802  0.881210\n",
       "4  Model 5   0.86950         0.858061      0.884407  0.871035\n",
       "5  Model 6   0.87325         0.864873      0.883705  0.874187\n",
       "6  Model 7   0.88245         0.878442      0.886815  0.882608\n",
       "7  Model 8   0.88570         0.879222      0.893337  0.886223"
      ]
     },
     "execution_count": 106,
     "metadata": {},
     "output_type": "execute_result"
    }
   ],
   "source": [
    "#Displaying test results\n",
    "\n",
    "df_test_results.loc[:, :'F1 Score']"
   ]
  },
  {
   "cell_type": "markdown",
   "metadata": {
    "id": "oP6kpaM1Efip"
   },
   "source": [
    "Above are the testing results for all of the models.  As can be seen, all the results are very similar.  The best performing model was model 8.  Recall that this model was nonstatic and with no dropout.  Therefore, we tenatively conclude that dropout is unecessary for this model.  Again, more training may have lead us to reject this conclusion.  A hypothesis for why dropout may not be needed in this network is that while it is very broad, it is not very deep, and we know that deep networks are more inclined to overfit.  Thus, regularization may not be as much of a problem for this network structure.  The worst models were 5 and 6.  Recall that these models had a high dropout probability of 0.75.  Thus, high dropout probability does not seem to correspond with better accuracy.  Perhaps these networks did not have enough capacity, as most of the neurons were killed during training.  Another important observation is that the nonstatic models (the even-numbered models) always performed better when dropout was held constant.  Therefore, we are relatively confident that nonstatic learning is superior to static learning.  This comports with the conclusions of the systematic study of nonstatic learning done in \"A Sensitivity Analysis Of (And Practitioners' Guide To) Convolutional Neural Networks For Sentence Classification.\"  Regarding the recall, precision, and F1 scores, again it seems that having no dropout was superior, as model 8 beats almost all the other models.  With F1 scores near 0.9, we see that there seems to be a fairly good balance between precision and recall.  "
   ]
  },
  {
   "cell_type": "markdown",
   "metadata": {
    "id": "13QgfDqCW7zo"
   },
   "source": [
    "## Discussion\n",
    "\n",
    "Overall, it appears that dropout was not effective in our networks.  However, it does appear that nonstatic learning is preferable to static learning.  However, our conclusions are qualified by the fact that more training was required for all of the networks.  We were prohibited by time and resources.  It took about 90 minutes to train each network.  This was slower than others have achieved with this network structure.  We believe that a few changes in the data pipeline would have resulted in faster training.  In particular, we made the mistake of converting during training the list of words that comprise each review.  We should have converted the entire dataset to vectors before any training.  This way we would have avoided repeating this process 8 times (one for each network).  We were also a bit disappointed with the testing accuracies of all the networks, especially considering that the logistic tf-idf classifier trained in part 1 of the report performed better than many of the networks trained in this part.  However, we take solace in the fact that others have observed the same results.  In particular, it appears that the authors of \"Character-level Convolutional Networks for Text Classification\" have found that it requires very large quantities of data (upwards of a million data points) trained over tens of thousands of epochs in order to beat the performance of simple tf-idf-based classifiers.\n",
    "\n",
    "\n",
    "\n",
    "\n"
   ]
  },
  {
   "cell_type": "markdown",
   "metadata": {
    "id": "OGPFZXphXBlM"
   },
   "source": [
    "## Conclusion\n",
    "\n",
    "If we had more time and resources, we would have enjoyed exploring other text-based datasets.  If we had better computational resources, we would have liked to explore the skip-gram word embedding with higher dimensions.  Likewise, if we had more time for training, we would have liked to see how the networks in part 3 would have performed over 300 or more epochs.  These qualifications not withstanding, we still learned quite a lot while working on the 3 parts of this report."
   ]
  },
  {
   "cell_type": "markdown",
   "metadata": {
    "id": "qnDcZ9OjLLmm"
   },
   "source": [
    "## References:\n",
    "\n",
    "The paper on which we based the overall architecture of the networks in this report is [\"Convolutional Neural Networks for Sentence Classification\"](https://arxiv.org/abs/1408.5882).  For more information on the effect of nonstatic learning, see the systematic study [\"A Sensitivity Analysis Of (And Practitioners' Guide To) Convolutional Neural Networks For Sentence Classification\"](https://arxiv.org/abs/1510.03820).  For more information on the effect of dataset sizes on performance compared to tf-idf based classifiers see [\"Character-level Convolutional Networks for Text Classification\"](https://arxiv.org/abs/1509.01626).\n",
    "\n",
    "We were also greatly assisted by the github found [here](https://github.com/galsang/CNN-sentence-classification-pytorch) in our implementation of the networks in this part of the report."
   ]
  },
  {
   "cell_type": "code",
   "execution_count": null,
   "metadata": {},
   "outputs": [],
   "source": []
  }
 ],
 "metadata": {
  "accelerator": "GPU",
  "colab": {
   "collapsed_sections": [],
   "name": "APPM X720 - REPORT 1.ipynb",
   "provenance": []
  },
  "kernelspec": {
   "display_name": "Python 3 (ipykernel)",
   "language": "python",
   "name": "python3"
  },
  "language_info": {
   "codemirror_mode": {
    "name": "ipython",
    "version": 3
   },
   "file_extension": ".py",
   "mimetype": "text/x-python",
   "name": "python",
   "nbconvert_exporter": "python",
   "pygments_lexer": "ipython3",
   "version": "3.8.11"
  }
 },
 "nbformat": 4,
 "nbformat_minor": 1
}
