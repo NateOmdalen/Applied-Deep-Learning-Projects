{
 "cells": [
  {
   "cell_type": "markdown",
   "metadata": {
    "id": "d6utoEFUTyRu"
   },
   "source": [
    "# Exploring \"Sequence to Sequence Learning with Neural Networks\"\n",
    "\n",
    "Machine translation had been for many years a very difficult task in machine learning.  While the tools of deep learning had proven to be essential in pushing the state-of-the-art in text classification, it took some time for them to prove their worth in machine translation.  The fundamental difference between text classification and machine translation is that in the former, the input to a model is a sequence and the output is a classification, while in the latter, the input is a sequence and the output is also a sequence.  In particular, in machine translation, the input sequence and output sequence are almost guaranteed to be of different lengths.  Researchers struggled to design an architecture that would allow for this difference.  The paper  [\"Sequence to Sequence Learning with Neural Networks\"](https://arxiv.org/pdf/1409.3215.pdf)\n",
    " was a major breakthrough, as the authors solve this problem with a kind of encoder-decoder architecture that is now called seq2seq.  The design of this architecture was discussed in detail in Part 1 of this report so please refer to that notebook for more details.  In addition, Part 1 provided exploratory analysis of the Multi30K dataset.  In this part of the report, I implement the seq2seq network and train it on the Multi30k dataset.  In particular, I will be testing the effects of the number of hidden dimensions and the number of layers in the encoder and decoder LSTMs.  I will also be looking at the effects of using pretrained word embeddings.\n",
    "\n",
    "This part of the report will proceed as follows.  First, I will perform data preprocessing.  Then, the network will be constructed and trained.  Finally, I will evaluate the results and end with a few concluding remarks.\n",
    "\n",
    "\n",
    "\n"
   ]
  },
  {
   "cell_type": "markdown",
   "metadata": {
    "id": "uLxzqng4qthP"
   },
   "source": [
    "## Data Preprocessing\n",
    "\n",
    "As discussed in Part 1, the dataset consists of 29000 training examples, 1014 validation examples, and 1000 test examples.  I will be using spacy to tokenize the dataset.  Then, I utilize the Field object in pytorch to construct the vocabularies.\n",
    "\n",
    "I will also be downloading the word2vec pretrained English word embedding that has been trained on a large corpus of Google news articles.  Unfortunately, I was unable to find a suitable pretrained German word embedding, so it will have to suffice to work with only the English embedding.  Then, as the vocabulary of the Multi30k dataset is much smaller than the one corresponding to the word2vec embedding, to save memory, I will be grabbing from this embedding only the word vectors that are needed to train and test the network."
   ]
  },
  {
   "cell_type": "code",
   "execution_count": null,
   "metadata": {
    "id": "uUgf9_iImiiu"
   },
   "outputs": [],
   "source": [
    "#Importing libraries needed for entire notebook\n",
    "import torch\n",
    "import torch.nn as nn\n",
    "import torch.optim as optim\n",
    "import torch.nn.functional as F\n",
    "from torchtext.legacy.datasets import Multi30k\n",
    "from torchtext.legacy.data import Field, BucketIterator\n",
    "import spacy\n",
    "import numpy as np\n",
    "import random\n",
    "import math\n",
    "from nltk.translate.bleu_score import sentence_bleu, SmoothingFunction\n",
    "from statistics import mean\n",
    "from gensim.models.keyedvectors import KeyedVectors\n",
    "import csv\n",
    "from matplotlib import pyplot as plt\n",
    "import pickle\n",
    "import pandas as pd"
   ]
  },
  {
   "cell_type": "code",
   "execution_count": null,
   "metadata": {
    "colab": {
     "base_uri": "https://localhost:8080/"
    },
    "id": "qtWnh1mJm_4d",
    "outputId": "c7cd3473-6c00-484d-e65d-3e28a9cb96e6"
   },
   "outputs": [
    {
     "name": "stdout",
     "output_type": "stream",
     "text": [
      "Collecting en_core_web_sm==2.2.5\n",
      "  Downloading https://github.com/explosion/spacy-models/releases/download/en_core_web_sm-2.2.5/en_core_web_sm-2.2.5.tar.gz (12.0 MB)\n",
      "\u001b[K     |████████████████████████████████| 12.0 MB 4.2 MB/s \n",
      "\u001b[?25hRequirement already satisfied: spacy>=2.2.2 in /usr/local/lib/python3.7/dist-packages (from en_core_web_sm==2.2.5) (2.2.4)\n",
      "Requirement already satisfied: cymem<2.1.0,>=2.0.2 in /usr/local/lib/python3.7/dist-packages (from spacy>=2.2.2->en_core_web_sm==2.2.5) (2.0.6)\n",
      "Requirement already satisfied: thinc==7.4.0 in /usr/local/lib/python3.7/dist-packages (from spacy>=2.2.2->en_core_web_sm==2.2.5) (7.4.0)\n",
      "Requirement already satisfied: setuptools in /usr/local/lib/python3.7/dist-packages (from spacy>=2.2.2->en_core_web_sm==2.2.5) (57.4.0)\n",
      "Requirement already satisfied: plac<1.2.0,>=0.9.6 in /usr/local/lib/python3.7/dist-packages (from spacy>=2.2.2->en_core_web_sm==2.2.5) (1.1.3)\n",
      "Requirement already satisfied: requests<3.0.0,>=2.13.0 in /usr/local/lib/python3.7/dist-packages (from spacy>=2.2.2->en_core_web_sm==2.2.5) (2.23.0)\n",
      "Requirement already satisfied: wasabi<1.1.0,>=0.4.0 in /usr/local/lib/python3.7/dist-packages (from spacy>=2.2.2->en_core_web_sm==2.2.5) (0.9.0)\n",
      "Requirement already satisfied: preshed<3.1.0,>=3.0.2 in /usr/local/lib/python3.7/dist-packages (from spacy>=2.2.2->en_core_web_sm==2.2.5) (3.0.6)\n",
      "Requirement already satisfied: srsly<1.1.0,>=1.0.2 in /usr/local/lib/python3.7/dist-packages (from spacy>=2.2.2->en_core_web_sm==2.2.5) (1.0.5)\n",
      "Requirement already satisfied: catalogue<1.1.0,>=0.0.7 in /usr/local/lib/python3.7/dist-packages (from spacy>=2.2.2->en_core_web_sm==2.2.5) (1.0.0)\n",
      "Requirement already satisfied: tqdm<5.0.0,>=4.38.0 in /usr/local/lib/python3.7/dist-packages (from spacy>=2.2.2->en_core_web_sm==2.2.5) (4.62.3)\n",
      "Requirement already satisfied: numpy>=1.15.0 in /usr/local/lib/python3.7/dist-packages (from spacy>=2.2.2->en_core_web_sm==2.2.5) (1.19.5)\n",
      "Requirement already satisfied: murmurhash<1.1.0,>=0.28.0 in /usr/local/lib/python3.7/dist-packages (from spacy>=2.2.2->en_core_web_sm==2.2.5) (1.0.6)\n",
      "Requirement already satisfied: blis<0.5.0,>=0.4.0 in /usr/local/lib/python3.7/dist-packages (from spacy>=2.2.2->en_core_web_sm==2.2.5) (0.4.1)\n",
      "Requirement already satisfied: importlib-metadata>=0.20 in /usr/local/lib/python3.7/dist-packages (from catalogue<1.1.0,>=0.0.7->spacy>=2.2.2->en_core_web_sm==2.2.5) (4.10.1)\n",
      "Requirement already satisfied: zipp>=0.5 in /usr/local/lib/python3.7/dist-packages (from importlib-metadata>=0.20->catalogue<1.1.0,>=0.0.7->spacy>=2.2.2->en_core_web_sm==2.2.5) (3.7.0)\n",
      "Requirement already satisfied: typing-extensions>=3.6.4 in /usr/local/lib/python3.7/dist-packages (from importlib-metadata>=0.20->catalogue<1.1.0,>=0.0.7->spacy>=2.2.2->en_core_web_sm==2.2.5) (3.10.0.2)\n",
      "Requirement already satisfied: urllib3!=1.25.0,!=1.25.1,<1.26,>=1.21.1 in /usr/local/lib/python3.7/dist-packages (from requests<3.0.0,>=2.13.0->spacy>=2.2.2->en_core_web_sm==2.2.5) (1.24.3)\n",
      "Requirement already satisfied: idna<3,>=2.5 in /usr/local/lib/python3.7/dist-packages (from requests<3.0.0,>=2.13.0->spacy>=2.2.2->en_core_web_sm==2.2.5) (2.10)\n",
      "Requirement already satisfied: certifi>=2017.4.17 in /usr/local/lib/python3.7/dist-packages (from requests<3.0.0,>=2.13.0->spacy>=2.2.2->en_core_web_sm==2.2.5) (2021.10.8)\n",
      "Requirement already satisfied: chardet<4,>=3.0.2 in /usr/local/lib/python3.7/dist-packages (from requests<3.0.0,>=2.13.0->spacy>=2.2.2->en_core_web_sm==2.2.5) (3.0.4)\n",
      "\u001b[38;5;2m✔ Download and installation successful\u001b[0m\n",
      "You can now load the model via spacy.load('en_core_web_sm')\n"
     ]
    }
   ],
   "source": [
    "#downloading the english data\n",
    "\n",
    "!python -m spacy download en_core_web_sm\n"
   ]
  },
  {
   "cell_type": "code",
   "execution_count": null,
   "metadata": {
    "colab": {
     "base_uri": "https://localhost:8080/"
    },
    "id": "yGlRT7BanihJ",
    "outputId": "e66eff60-6b4a-4723-b7b7-614f5af0119c"
   },
   "outputs": [
    {
     "name": "stdout",
     "output_type": "stream",
     "text": [
      "Collecting de_core_news_sm==2.2.5\n",
      "  Downloading https://github.com/explosion/spacy-models/releases/download/de_core_news_sm-2.2.5/de_core_news_sm-2.2.5.tar.gz (14.9 MB)\n",
      "\u001b[K     |████████████████████████████████| 14.9 MB 5.3 MB/s \n",
      "\u001b[?25hRequirement already satisfied: spacy>=2.2.2 in /usr/local/lib/python3.7/dist-packages (from de_core_news_sm==2.2.5) (2.2.4)\n",
      "Requirement already satisfied: wasabi<1.1.0,>=0.4.0 in /usr/local/lib/python3.7/dist-packages (from spacy>=2.2.2->de_core_news_sm==2.2.5) (0.9.0)\n",
      "Requirement already satisfied: setuptools in /usr/local/lib/python3.7/dist-packages (from spacy>=2.2.2->de_core_news_sm==2.2.5) (57.4.0)\n",
      "Requirement already satisfied: murmurhash<1.1.0,>=0.28.0 in /usr/local/lib/python3.7/dist-packages (from spacy>=2.2.2->de_core_news_sm==2.2.5) (1.0.6)\n",
      "Requirement already satisfied: requests<3.0.0,>=2.13.0 in /usr/local/lib/python3.7/dist-packages (from spacy>=2.2.2->de_core_news_sm==2.2.5) (2.23.0)\n",
      "Requirement already satisfied: thinc==7.4.0 in /usr/local/lib/python3.7/dist-packages (from spacy>=2.2.2->de_core_news_sm==2.2.5) (7.4.0)\n",
      "Requirement already satisfied: blis<0.5.0,>=0.4.0 in /usr/local/lib/python3.7/dist-packages (from spacy>=2.2.2->de_core_news_sm==2.2.5) (0.4.1)\n",
      "Requirement already satisfied: cymem<2.1.0,>=2.0.2 in /usr/local/lib/python3.7/dist-packages (from spacy>=2.2.2->de_core_news_sm==2.2.5) (2.0.6)\n",
      "Requirement already satisfied: tqdm<5.0.0,>=4.38.0 in /usr/local/lib/python3.7/dist-packages (from spacy>=2.2.2->de_core_news_sm==2.2.5) (4.62.3)\n",
      "Requirement already satisfied: srsly<1.1.0,>=1.0.2 in /usr/local/lib/python3.7/dist-packages (from spacy>=2.2.2->de_core_news_sm==2.2.5) (1.0.5)\n",
      "Requirement already satisfied: plac<1.2.0,>=0.9.6 in /usr/local/lib/python3.7/dist-packages (from spacy>=2.2.2->de_core_news_sm==2.2.5) (1.1.3)\n",
      "Requirement already satisfied: catalogue<1.1.0,>=0.0.7 in /usr/local/lib/python3.7/dist-packages (from spacy>=2.2.2->de_core_news_sm==2.2.5) (1.0.0)\n",
      "Requirement already satisfied: preshed<3.1.0,>=3.0.2 in /usr/local/lib/python3.7/dist-packages (from spacy>=2.2.2->de_core_news_sm==2.2.5) (3.0.6)\n",
      "Requirement already satisfied: numpy>=1.15.0 in /usr/local/lib/python3.7/dist-packages (from spacy>=2.2.2->de_core_news_sm==2.2.5) (1.19.5)\n",
      "Requirement already satisfied: importlib-metadata>=0.20 in /usr/local/lib/python3.7/dist-packages (from catalogue<1.1.0,>=0.0.7->spacy>=2.2.2->de_core_news_sm==2.2.5) (4.10.1)\n",
      "Requirement already satisfied: zipp>=0.5 in /usr/local/lib/python3.7/dist-packages (from importlib-metadata>=0.20->catalogue<1.1.0,>=0.0.7->spacy>=2.2.2->de_core_news_sm==2.2.5) (3.7.0)\n",
      "Requirement already satisfied: typing-extensions>=3.6.4 in /usr/local/lib/python3.7/dist-packages (from importlib-metadata>=0.20->catalogue<1.1.0,>=0.0.7->spacy>=2.2.2->de_core_news_sm==2.2.5) (3.10.0.2)\n",
      "Requirement already satisfied: urllib3!=1.25.0,!=1.25.1,<1.26,>=1.21.1 in /usr/local/lib/python3.7/dist-packages (from requests<3.0.0,>=2.13.0->spacy>=2.2.2->de_core_news_sm==2.2.5) (1.24.3)\n",
      "Requirement already satisfied: chardet<4,>=3.0.2 in /usr/local/lib/python3.7/dist-packages (from requests<3.0.0,>=2.13.0->spacy>=2.2.2->de_core_news_sm==2.2.5) (3.0.4)\n",
      "Requirement already satisfied: certifi>=2017.4.17 in /usr/local/lib/python3.7/dist-packages (from requests<3.0.0,>=2.13.0->spacy>=2.2.2->de_core_news_sm==2.2.5) (2021.10.8)\n",
      "Requirement already satisfied: idna<3,>=2.5 in /usr/local/lib/python3.7/dist-packages (from requests<3.0.0,>=2.13.0->spacy>=2.2.2->de_core_news_sm==2.2.5) (2.10)\n",
      "Building wheels for collected packages: de-core-news-sm\n",
      "  Building wheel for de-core-news-sm (setup.py) ... \u001b[?25l\u001b[?25hdone\n",
      "  Created wheel for de-core-news-sm: filename=de_core_news_sm-2.2.5-py3-none-any.whl size=14907055 sha256=1543ea20df40acbc24cd52741b4f383abe832b7ddf08d4ce47f428951ec7c653\n",
      "  Stored in directory: /tmp/pip-ephem-wheel-cache-rpcf4xu8/wheels/00/66/69/cb6c921610087d2cab339062345098e30a5ceb665360e7b32a\n",
      "Successfully built de-core-news-sm\n",
      "Installing collected packages: de-core-news-sm\n",
      "Successfully installed de-core-news-sm-2.2.5\n",
      "\u001b[38;5;2m✔ Download and installation successful\u001b[0m\n",
      "You can now load the model via spacy.load('de_core_news_sm')\n"
     ]
    }
   ],
   "source": [
    "#Downloading the german data\n",
    "\n",
    "!python -m spacy download de_core_news_sm"
   ]
  },
  {
   "cell_type": "code",
   "execution_count": null,
   "metadata": {
    "id": "be45-Gw8m3q_"
   },
   "outputs": [],
   "source": [
    "#Loading both datasets - Note that if you are using Google Colab, you may need\n",
    "#to restart runtime before loading the data\n",
    "\n",
    "spacy_de = spacy.load('de_core_news_sm')\n",
    "spacy_en = spacy.load('en_core_web_sm')"
   ]
  },
  {
   "cell_type": "code",
   "execution_count": null,
   "metadata": {
    "id": "zBLtTHcVTHwT"
   },
   "outputs": [],
   "source": [
    "#These functions define the tokenizers we will be using to preprocess the data\n",
    "\n",
    "def tokenize_de(text):\n",
    "    \"\"\"\n",
    "    Tokenizes German text from a string into a list of strings (tokens)\n",
    "    \"\"\"\n",
    "    return [tok.text for tok in spacy_de.tokenizer(text)]\n",
    "\n",
    "def tokenize_en(text):\n",
    "    \"\"\"\n",
    "    Tokenizes English text from a string into a list of strings (tokens)\n",
    "    \"\"\"\n",
    "    return [tok.text for tok in spacy_en.tokenizer(text)]\n",
    "\n",
    "def tokenize_de_reverse(text):\n",
    "    \"\"\"\n",
    "    Tokenizes German text from a string into a list of strings (tokens) and reverses it\n",
    "    \"\"\"\n",
    "    return [tok.text for tok in spacy_de.tokenizer(text)][::-1]\n",
    "\n",
    "def tokenize_en_reverse(text):\n",
    "    \"\"\"\n",
    "    Tokenizes English text from a string into a list of strings (tokens) and reverses it\n",
    "    \"\"\"\n",
    "    return [tok.text for tok in spacy_en.tokenizer(text)][::-1]"
   ]
  },
  {
   "cell_type": "code",
   "execution_count": null,
   "metadata": {
    "id": "SpaOskn6n_cA"
   },
   "outputs": [],
   "source": [
    "#These are the pytorch 'Field' objects we will use to construct the vocabularies\n",
    "\n",
    "SRC = Field(tokenize = tokenize_en_reverse, \n",
    "            init_token = '<sos>', \n",
    "            eos_token = '<eos>', \n",
    "            lower = True)\n",
    "\n",
    "TRG = Field(tokenize = tokenize_de, \n",
    "            init_token = '<sos>', \n",
    "            eos_token = '<eos>', \n",
    "            lower = True)"
   ]
  },
  {
   "cell_type": "code",
   "execution_count": null,
   "metadata": {
    "colab": {
     "base_uri": "https://localhost:8080/"
    },
    "id": "hsfujfd6qvB2",
    "outputId": "c32fbf8a-49b1-4eaf-882f-6fe456072076"
   },
   "outputs": [
    {
     "name": "stdout",
     "output_type": "stream",
     "text": [
      "downloading training.tar.gz\n"
     ]
    },
    {
     "name": "stderr",
     "output_type": "stream",
     "text": [
      "100%|██████████| 1.21M/1.21M [00:01<00:00, 764kB/s]\n"
     ]
    },
    {
     "name": "stdout",
     "output_type": "stream",
     "text": [
      "downloading validation.tar.gz\n"
     ]
    },
    {
     "name": "stderr",
     "output_type": "stream",
     "text": [
      "100%|██████████| 46.3k/46.3k [00:00<00:00, 248kB/s]\n"
     ]
    },
    {
     "name": "stdout",
     "output_type": "stream",
     "text": [
      "downloading mmt_task1_test2016.tar.gz\n"
     ]
    },
    {
     "name": "stderr",
     "output_type": "stream",
     "text": [
      "100%|██████████| 66.2k/66.2k [00:00<00:00, 237kB/s]\n"
     ]
    }
   ],
   "source": [
    "#Forming the datasets\n",
    "\n",
    "train_data, valid_data, test_data = Multi30k.splits(exts = ('.en', '.de'), \n",
    "                                                    fields = (SRC, TRG))"
   ]
  },
  {
   "cell_type": "code",
   "execution_count": null,
   "metadata": {
    "id": "oh05Mfwkqx54"
   },
   "outputs": [],
   "source": [
    "#Building both vocabularies\n",
    "\n",
    "SRC.build_vocab(train_data, min_freq = 2)\n",
    "TRG.build_vocab(train_data, min_freq = 2)"
   ]
  },
  {
   "cell_type": "code",
   "execution_count": null,
   "metadata": {
    "id": "DTJ4mkbUOVfU"
   },
   "outputs": [],
   "source": [
    "#These dictionaries will help us create the word-to-vector embeddings\n",
    "\n",
    "VOCAB = SRC.vocab.itos\n",
    "\n",
    "word_to_idx = {w: i for i, w in enumerate(VOCAB)}\n",
    "idx_to_word = {i: w for i, w in enumerate(VOCAB)}"
   ]
  },
  {
   "cell_type": "code",
   "execution_count": null,
   "metadata": {
    "colab": {
     "base_uri": "https://localhost:8080/"
    },
    "id": "FVG57SoxOvsL",
    "outputId": "4b9f7746-e056-4539-f7a4-642ffaf6bff0"
   },
   "outputs": [
    {
     "name": "stdout",
     "output_type": "stream",
     "text": [
      "/bin/bash: brew: command not found\n",
      "--2022-02-08 23:35:51--  https://s3.amazonaws.com/dl4j-distribution/GoogleNews-vectors-negative300.bin.gz\n",
      "Resolving s3.amazonaws.com (s3.amazonaws.com)... 52.217.168.48\n",
      "Connecting to s3.amazonaws.com (s3.amazonaws.com)|52.217.168.48|:443... connected.\n",
      "HTTP request sent, awaiting response... 200 OK\n",
      "Length: 1647046227 (1.5G) [application/x-gzip]\n",
      "Saving to: ‘GoogleNews-vectors-negative300.bin.gz’\n",
      "\n",
      "GoogleNews-vectors- 100%[===================>]   1.53G  57.1MB/s    in 33s     \n",
      "\n",
      "2022-02-08 23:36:24 (47.1 MB/s) - ‘GoogleNews-vectors-negative300.bin.gz’ saved [1647046227/1647046227]\n",
      "\n"
     ]
    }
   ],
   "source": [
    "#Here, we retrieve the pretrained word2vec embedding\n",
    "\n",
    "!brew install wget\n",
    "\n",
    "!wget -c \"https://s3.amazonaws.com/dl4j-distribution/GoogleNews-vectors-negative300.bin.gz\""
   ]
  },
  {
   "cell_type": "code",
   "execution_count": null,
   "metadata": {
    "id": "nY7JNfcROxfk"
   },
   "outputs": [],
   "source": [
    "#Unzipping file\n",
    "\n",
    "!gzip -d GoogleNews-vectors-negative300.bin.gz"
   ]
  },
  {
   "cell_type": "code",
   "execution_count": null,
   "metadata": {
    "id": "vodo2zt1O08f"
   },
   "outputs": [],
   "source": [
    "#This variable holds the downloaded word2vec representation\n",
    " \n",
    "word_vectors = KeyedVectors.load_word2vec_format(\"GoogleNews-vectors-negative300.bin\", binary=True)"
   ]
  },
  {
   "cell_type": "code",
   "execution_count": null,
   "metadata": {
    "id": "TiId7JqkPYd9"
   },
   "outputs": [],
   "source": [
    "#Here, we take only the vectors we need from the downloaded embedding\n",
    "\n",
    "wv_matrix = []\n",
    "\n",
    "for i in range(len(VOCAB)):\n",
    "    word = idx_to_word[i]\n",
    "    if word in word_vectors.vocab:\n",
    "        #Getting vector for word in vocab if in embedding\n",
    "        wv_matrix.append(word_vectors.word_vec(word))\n",
    "    else:\n",
    "        #If not in embedding, then we insert a random vector\n",
    "        wv_matrix.append(np.random.uniform(-0.01, 0.01, 300).astype(\"float32\"))\n",
    "\n",
    "wv_matrix = np.array(wv_matrix)"
   ]
  },
  {
   "cell_type": "code",
   "execution_count": null,
   "metadata": {
    "id": "P5GDYS3eq2iv"
   },
   "outputs": [],
   "source": [
    "#Define the device to be used for training/testing\n",
    "\n",
    "DEVICE = torch.device('cuda' if torch.cuda.is_available() else 'cpu')"
   ]
  },
  {
   "cell_type": "code",
   "execution_count": null,
   "metadata": {
    "id": "CSOhSWvyq50y"
   },
   "outputs": [],
   "source": [
    "#Creating the data iterators\n",
    "\n",
    "BATCH_SIZE = 128\n",
    "\n",
    "train_iterator, valid_iterator, test_iterator = BucketIterator.splits(\n",
    "    (train_data, valid_data, test_data), \n",
    "    batch_size = BATCH_SIZE, \n",
    "    device = DEVICE)"
   ]
  },
  {
   "cell_type": "markdown",
   "metadata": {
    "id": "QaN9VjDh3uDe"
   },
   "source": [
    "## Building the Network\n",
    "\n",
    "The network architecture was discussed in detail in Part 1.  You may note that I have added many more helper functions and methods in addition to what was presented in Part 1.  I have also modified how hyperparameters and other important variables are stored.  This will make repeated training of the network with different hyperparameters much easier.\n",
    "\n",
    "Please note that I have determined it is best to translate from English to German rather than German to English.  This is because I only have a pretrained embedding for English, and early experimentation indicated that it may be prudent to locate the pretrained weights towards the beginning of the network.\n",
    "\n",
    "I was assisted in the coding of the network by [this](https://github.com/bentrevett/pytorch-seq2seq/blob/master/1%20-%20Sequence%20to%20Sequence%20Learning%20with%20Neural%20Networks.ipynb) github repository:  "
   ]
  },
  {
   "cell_type": "code",
   "execution_count": null,
   "metadata": {
    "id": "4a2y4qC-vjps"
   },
   "outputs": [],
   "source": [
    "#This is a general classifcation base class that will help with training/validation\n",
    "#steps and store the losses and accuracies in a list of dictionaries\n",
    "\n",
    "class ClassificationBase(nn.Module):   \n",
    "    def training_step(self, source, target, pad_idx):\n",
    "        \"\"\"\n",
    "        Computes training loss given a batch of x data\n",
    "        and labels\n",
    "        \"\"\"\n",
    "        out = self(source, target)\n",
    "        out_dim = out.shape[-1]\n",
    "        out = out[1:].view(-1, out_dim)\n",
    "        target = target[1:].view(-1)\n",
    "        loss = F.cross_entropy(out, target, ignore_index = pad_idx)\n",
    "        return loss\n",
    "\n",
    "    def accuracy(self, outputs, labels):\n",
    "        \"\"\"\n",
    "        Computes accuracy of predictions given outputs of model and labels\n",
    "        \"\"\"\n",
    "        x , preds = torch.max(outputs, dim=1)\n",
    "        return torch.tensor(torch.sum(preds == labels).item()/len(preds))\n",
    "\n",
    "    def validation_step(self, source, target, pad_idx):\n",
    "        \"\"\"\n",
    "        Given batch of x data and labels, computes the validation\n",
    "        loss and accuracy - stores results in dictionary\n",
    "        \"\"\"\n",
    "        out = self(source, target, teacher_forcing_ratio=0.0)   \n",
    "        out_dim = out.shape[-1]\n",
    "        out = out[1:].view(-1, out_dim)\n",
    "        target = target[1:].view(-1)                 \n",
    "        loss = F.cross_entropy(out, target, ignore_index = pad_idx)   \n",
    "        return {'val_loss': loss.detach()}\n",
    "        \n",
    "    def validation_epoch_end(self, results):\n",
    "        \"\"\"\n",
    "        Given list of dictionaries containing  validation \n",
    "        results of batches in epoch, returns mean results for\n",
    "        epoch as dictionary\n",
    "        \"\"\"\n",
    "        batch_losses = [x['val_loss'] for x in results]\n",
    "        epoch_loss = torch.stack(batch_losses).mean()      \n",
    "        return {'val_loss': epoch_loss.item()}#, 'val_acc': epoch_acc.item()}\n",
    "    \n",
    "    def epoch_end(self, epoch, result):\n",
    "        \"\"\"\n",
    "        Prints results of epoch given epoch number and epoch results dictionary\n",
    "        \"\"\"\n",
    "        print(\"Epoch [{}], train_loss: {:.4f}, val_loss: {:.4f}, val_acc: {:.4f}\".format(\n",
    "          epoch, result['train_loss'], result['val_loss'], result['val_acc']))"
   ]
  },
  {
   "cell_type": "code",
   "execution_count": null,
   "metadata": {
    "id": "zUod5cIYq7tJ"
   },
   "outputs": [],
   "source": [
    "#This class creates the encoder portion of the network\n",
    "\n",
    "class Encoder(nn.Module):\n",
    "    def __init__(self, input_dim, emb_dim, hid_dim, n_layers, dropout, wv_matrix):\n",
    "        super().__init__()\n",
    "        \n",
    "        self.hid_dim = hid_dim\n",
    "\n",
    "        #This defines the number of LSTM layers\n",
    "        self.n_layers = n_layers \n",
    "\n",
    "        self.embedding = nn.Embedding(input_dim, emb_dim)\n",
    "\n",
    "        #This switch determines whether of not to use pretrained weights for embedding\n",
    "        if wv_matrix is not None:\n",
    "            self.embedding.weight.data.copy_(torch.from_numpy(wv_matrix))\n",
    "        \n",
    "        self.rnn = nn.LSTM(emb_dim, hid_dim, n_layers, dropout = dropout)\n",
    "        \n",
    "        self.dropout = nn.Dropout(dropout)\n",
    "        \n",
    "    def forward(self, src):   \n",
    "        embedded = self.dropout(self.embedding(src))\n",
    "        outputs, (hidden, cell) = self.rnn(embedded)\n",
    "        return hidden, cell"
   ]
  },
  {
   "cell_type": "code",
   "execution_count": null,
   "metadata": {
    "id": "Ln_ODGH8q_nl"
   },
   "outputs": [],
   "source": [
    "#This class creates the decoder portion of the network\n",
    "\n",
    "class Decoder(nn.Module):\n",
    "    def __init__(self, output_dim, emb_dim, hid_dim, n_layers, dropout):\n",
    "        super().__init__()\n",
    "        \n",
    "        self.output_dim = output_dim\n",
    "\n",
    "        self.hid_dim = hid_dim\n",
    "\n",
    "        #This defines the number of LSTM layers\n",
    "        self.n_layers = n_layers\n",
    "        \n",
    "        self.embedding = nn.Embedding(output_dim, emb_dim)\n",
    "        \n",
    "        self.rnn = nn.LSTM(emb_dim, hid_dim, n_layers, dropout = dropout)\n",
    "        \n",
    "        self.fc_out = nn.Linear(hid_dim, output_dim)\n",
    "        \n",
    "        self.dropout = nn.Dropout(dropout)\n",
    "        \n",
    "    def forward(self, input, hidden, cell):       \n",
    "        input = input.unsqueeze(0)\n",
    "        embedded = self.dropout(self.embedding(input))\n",
    "        output, (hidden, cell) = self.rnn(embedded, (hidden, cell))       \n",
    "        prediction = self.fc_out(output.squeeze(0))\n",
    "        return prediction, hidden, cell"
   ]
  },
  {
   "cell_type": "code",
   "execution_count": null,
   "metadata": {
    "id": "1k-DCHcirEW-"
   },
   "outputs": [],
   "source": [
    "#This class defines the network.  It includes a number of methods for training, testing, etc.\n",
    "\n",
    "class Seq2Seq(ClassificationBase):\n",
    "    def __init__(self, **kwargs):\n",
    "        super().__init__()\n",
    "\n",
    "        self.OPTIMIZER = kwargs['OPTIMIZER']\n",
    "\n",
    "        #This variable helps normalize the gradients\n",
    "        self.CLIP = kwargs['CLIP']\n",
    "        self.EPOCHS = kwargs['EPOCHS']\n",
    "        self.DEVICE = kwargs['DEVICE']\n",
    "        self.INPUT_DIM = kwargs['INPUT_DIM']\n",
    "        self.OUTPUT_DIM = kwargs['OUTPUT_DIM']\n",
    "        self.ENC_EMB_DIM = kwargs['ENC_EMB_DIM']\n",
    "        self.DEC_EMB_DIM = kwargs['DEC_EMB_DIM']\n",
    "        self.HID_DIM = kwargs['HID_DIM']\n",
    "        self.N_LAYERS = kwargs['N_LAYERS']\n",
    "        self.ENC_DROPOUT = kwargs['ENC_DROPOUT']\n",
    "        self.DEC_DROPOUT = kwargs['DEC_DROPOUT']\n",
    "        self.SRC = kwargs['SRC']\n",
    "        self.TRG = kwargs['TRG']\n",
    "        self.wv_matrix = kwargs['WV_MATRIX']\n",
    "\n",
    "        self.ENCODER = Encoder(self.INPUT_DIM, \n",
    "                               self.ENC_EMB_DIM, \n",
    "                               self.HID_DIM, \n",
    "                               self.N_LAYERS, \n",
    "                               self.ENC_DROPOUT,\n",
    "                               self.wv_matrix)\n",
    "        \n",
    "        self.DECODER = Decoder(self.OUTPUT_DIM, \n",
    "                               self.DEC_EMB_DIM, \n",
    "                               self.HID_DIM, \n",
    "                               self.N_LAYERS, \n",
    "                               self.DEC_DROPOUT)\n",
    "        \n",
    "        self.results = None\n",
    "        \n",
    "        assert self.ENCODER.hid_dim == self.DECODER.hid_dim, \\\n",
    "            \"Hidden dimensions of encoder and decoder must be equal!\"\n",
    "        assert self.ENCODER.n_layers == self.DECODER.n_layers, \\\n",
    "            \"Encoder and decoder must have equal number of layers!\"\n",
    "        \n",
    "    def forward(self, src, trg, teacher_forcing_ratio = 0.5):\n",
    "        batch_size = trg.shape[1]\n",
    "        trg_len = trg.shape[0]\n",
    "        trg_vocab_size = self.DECODER.output_dim\n",
    "        \n",
    "        #tensor to store decoder outputs\n",
    "        outputs = torch.zeros(trg_len, batch_size, trg_vocab_size).to(self.DEVICE)\n",
    "        \n",
    "        #last hidden state of the encoder is used as the initial hidden state of the decoder\n",
    "        hidden, cell = self.ENCODER(src)\n",
    "        \n",
    "        #first input to the decoder is the <sos> tokens\n",
    "        input = trg[0,:]\n",
    "        \n",
    "        for t in range(1, trg_len):\n",
    "            \n",
    "            #insert input token embedding, previous hidden and previous cell states\n",
    "            #receive output tensor (predictions) and new hidden and cell states\n",
    "            output, hidden, cell = self.DECODER(input, hidden, cell)\n",
    "            \n",
    "            #place predictions in a tensor holding predictions for each token\n",
    "            outputs[t] = output\n",
    "            \n",
    "            #decide if we are going to use teacher forcing or not\n",
    "            teacher_force = random.random() < teacher_forcing_ratio\n",
    "            \n",
    "            #get the highest predicted token from our predictions\n",
    "            top1 = output.argmax(1) \n",
    "            \n",
    "            #if teacher forcing, use actual next token as next input\n",
    "            #if not, use predicted token\n",
    "            input = trg[t] if teacher_force else top1\n",
    "        \n",
    "        return outputs\n",
    "\n",
    "    @torch.no_grad()\n",
    "    def evaluate(self, val_iter):\n",
    "        \"\"\"\n",
    "        Given validation iterator returns dictionary\n",
    "        of validation loss, accuracy for epoch\n",
    "        \"\"\"\n",
    "        self.eval()\n",
    "        results = []\n",
    "        for i, batch in enumerate(val_iter):\n",
    "            source = batch.src\n",
    "            target = batch.trg\n",
    "            out = self.validation_step(source, target, self.TRG.vocab.stoi[TRG.pad_token])\n",
    "            results.append(out)\n",
    "        return self.validation_epoch_end(results)\n",
    "\n",
    "    def retrieve_sent(self, sent_tens, voc):\n",
    "        \"\"\"\n",
    "        Given a sentence in the form of a tensor, returns\n",
    "        a list consisting of the words of the sentence.\n",
    "\n",
    "        voc - either 'source' or 'target': indicates whether tensor is from\n",
    "        source or target language\n",
    "        \"\"\"\n",
    "        sent = []\n",
    "        for j in range(sent_tens.size()[0]):\n",
    "            if voc == 'source':\n",
    "                idx = (-1)*j-1\n",
    "                src_word = self.SRC.vocab.itos[sent_tens[idx].item()]\n",
    "                if src_word not in ['<eos>', '<sos>', '<unk>', '<pad>'] and src_word not in '.,:;\\'\"/?()-!':\n",
    "                    sent.append(src_word)\n",
    "            if voc == 'target':\n",
    "                trg_word = self.TRG.vocab.itos[sent_tens[j].item()]\n",
    "                if trg_word not in ['<eos>', '<sos>', '<unk>', '<pad>'] and trg_word not in '.,:;\\'\"/?()-!':\n",
    "                    sent.append(trg_word)\n",
    "        return sent\n",
    "\n",
    "    def bleu(self, data, smooth_method='1'):\n",
    "        \"\"\"\n",
    "        Given a data iterator, returns the mean BLEU score for iterator.\n",
    "\n",
    "        smooth_method = 1 -> Epsilon smoothing\n",
    "        smooth_method = 2 -> +1 smoothing\n",
    "        \"\"\"\n",
    "        bleu = 0\n",
    "        scores = []\n",
    "        for _, batch in enumerate(data):\n",
    "            src = batch.src\n",
    "            trg = batch.trg\n",
    "            #push through model and get translation\n",
    "            out = self(src,trg)\n",
    "            pred = out.argmax(2)\n",
    "            #Go through datapoint by datapoint\n",
    "            for i in range(pred.size()[1]):\n",
    "                trg_sent_tens = trg[:,i]\n",
    "                pred_sent_tens = pred[:,i]\n",
    "                #Turn target and translation tensors into actual sentences\n",
    "                trg_sent = self.retrieve_sent(trg_sent_tens, 'target')\n",
    "                pred_sent = self.retrieve_sent(pred_sent_tens, 'target')\n",
    "                #Bleu Score Method 1 - Epsilon smoothing\n",
    "                if smooth_method == '1':\n",
    "                    score = sentence_bleu([trg_sent], pred_sent, smoothing_function=SmoothingFunction().method1)\n",
    "                #Bleu score Method 2 - +1 Smoothing\n",
    "                if smooth_method == '2':\n",
    "                    score = sentence_bleu([trg_sent], pred_sent, smoothing_function=SmoothingFunction().method2)\n",
    "                scores.append(score)\n",
    "        return mean(scores), scores\n",
    "\n",
    "    def fit(self, train_iter, val_iter):\n",
    "        \"\"\"\n",
    "        Given training and validation iterator, returns list of dictionaries,\n",
    "        one for each epoch, containing train and val loss and val accuracy (BLEU score)\n",
    "        \"\"\"\n",
    "        history = []\n",
    "        #Define optimizer and parameters to optimize:\n",
    "        optimizer = self.OPTIMIZER(self.parameters())\n",
    "\n",
    "        for name, param in self.named_parameters():\n",
    "            nn.init.uniform_(param.data, -0.08, 0.08)\n",
    "        for epoch in range(self.EPOCHS):\n",
    "            # Training Phase \n",
    "            self.train()\n",
    "            train_losses = []\n",
    "            for i, batch in enumerate(train_iter):\n",
    "                source = batch.src\n",
    "                target = batch.trg\n",
    "                loss = self.training_step(source, target, self.TRG.vocab.stoi[TRG.pad_token])\n",
    "                train_losses.append(loss)\n",
    "                loss.backward()\n",
    "                torch.nn.utils.clip_grad_norm_(self.parameters(), self.CLIP)\n",
    "                optimizer.step()\n",
    "                optimizer.zero_grad()\n",
    "            # Validation phase\n",
    "            result = self.evaluate(val_iter)\n",
    "            result['train_loss'] = torch.stack(train_losses).mean().item()\n",
    "            mean_bleu, _ = self.bleu(val_iter, smooth_method='2')\n",
    "            result['val_acc'] = mean_bleu\n",
    "            #Print results of epoch:\n",
    "            self.epoch_end(epoch, result)\n",
    "            history.append(result)\n",
    "        self.results = history\n",
    "\n",
    "    def test(self, test_iter, smooth_method='1'):\n",
    "        \"\"\"\n",
    "        Given test iterator, returns BLEU score for iterator\n",
    "        smooth_method = 1 -> Epsilon smoothing\n",
    "        smooth_method = 2 -> +1 smoothing  \n",
    "        \"\"\"\n",
    "        return self.bleu(test_iter, smooth_method)\n",
    "\n",
    "    def save_results(self, file_name):\n",
    "        \"\"\"\n",
    "        Saves train/val loss and val accuracy history as csv\n",
    "        file_name = '<file_name>.csv'\n",
    "        \"\"\"\n",
    "        keys = self.results[0].keys()\n",
    "        with open(file_name, 'w', newline='')  as output_file:\n",
    "            dict_writer = csv.DictWriter(output_file, keys)\n",
    "            dict_writer.writeheader()\n",
    "            dict_writer.writerows(self.results)\n",
    "\n",
    "    def save_model(self, file_name):\n",
    "        \"\"\"\n",
    "        Saves weight dict of model\n",
    "        file_name = '<file_name>.pt'\n",
    "        \"\"\"\n",
    "        torch.save(self.state_dict(), file_name)\n",
    "\n"
   ]
  },
  {
   "cell_type": "markdown",
   "metadata": {
    "id": "RJxC4TNc39Nk"
   },
   "source": [
    "## Training the Models\n",
    "\n",
    "Initial experimentation revealed that almost all the networks were overfitting after 20 or so epochs, so I will be training each network for 25.  I will be looking at two values for the hidden dimensions, 256 and 512, and two values for the number of LSTM layers, 1 and 2.  For the four combinations of these values, I will be training one network with the pretrained embedding and one without, so there will be a total of 8 networks trained.  During training, I will be keeping track of the training and validation loss, and I will also be computing the mean BLEU score on the validation data.  This was only done with the +1 smoothing.  More details concerning the smoothing methods will be discussed below."
   ]
  },
  {
   "cell_type": "code",
   "execution_count": null,
   "metadata": {
    "id": "USFa9Fa8rMJH"
   },
   "outputs": [],
   "source": [
    "#Here, we define the parameters to be used for each of the eight models\n",
    "\n",
    "\n",
    "#MODEL 1: Hidden Dimensions = 512; Number of LSTM Layers = 1; No pretrained embedding weights\n",
    "params1 = {'EPOCHS': 25,\n",
    "          'CLIP': 1,\n",
    "          'OPTIMIZER': optim.Adam,\n",
    "          'DEVICE': DEVICE,\n",
    "          'INPUT_DIM': len(SRC.vocab),\n",
    "          'OUTPUT_DIM': len(TRG.vocab),\n",
    "          'ENC_EMB_DIM': 256,\n",
    "          'DEC_EMB_DIM': 256,\n",
    "          'HID_DIM': 512,\n",
    "          'N_LAYERS': 1,\n",
    "          'ENC_DROPOUT': 0.0,\n",
    "          'DEC_DROPOUT': 0.0,\n",
    "          'SRC': SRC,\n",
    "          'TRG': TRG,\n",
    "          'WV_MATRIX': None}\n",
    "\n",
    "#MODEL 2: Hidden Dimensions = 512; Number of LSTM Layers = 1; Pretrained embedding weights\n",
    "params2 = {'EPOCHS': 25,\n",
    "          'CLIP': 1,\n",
    "          'OPTIMIZER': optim.Adam,\n",
    "          'DEVICE': DEVICE,\n",
    "          'INPUT_DIM': len(SRC.vocab),\n",
    "          'OUTPUT_DIM': len(TRG.vocab),\n",
    "          'ENC_EMB_DIM': 300,\n",
    "          'DEC_EMB_DIM': 256,\n",
    "          'HID_DIM': 512,\n",
    "          'N_LAYERS': 1,\n",
    "          'ENC_DROPOUT': 0.0,\n",
    "          'DEC_DROPOUT': 0.0,\n",
    "          'SRC': SRC,\n",
    "          'TRG': TRG,\n",
    "          'WV_MATRIX': wv_matrix}\n",
    "\n",
    "#MODEL 3: Hidden Dimensions = 256; Number of LSTM Layers = 1; No pretrained embedding weights\n",
    "params3 = {'EPOCHS': 25,\n",
    "          'CLIP': 1,\n",
    "          'OPTIMIZER': optim.Adam,\n",
    "          'DEVICE': DEVICE,\n",
    "          'INPUT_DIM': len(SRC.vocab),\n",
    "          'OUTPUT_DIM': len(TRG.vocab),\n",
    "          'ENC_EMB_DIM': 256,\n",
    "          'DEC_EMB_DIM': 256,\n",
    "          'HID_DIM': 256,\n",
    "          'N_LAYERS': 1,\n",
    "          'ENC_DROPOUT': 0.0,\n",
    "          'DEC_DROPOUT': 0.0,\n",
    "          'SRC': SRC,\n",
    "          'TRG': TRG,\n",
    "          'WV_MATRIX': None}\n",
    "\n",
    "#MODEL 4: Hidden Dimensions = 256; Number of LSTM Layers = 1; Pretrained embedding weights\n",
    "params4 = {'EPOCHS': 25,\n",
    "          'CLIP': 1,\n",
    "          'OPTIMIZER': optim.Adam,\n",
    "          'DEVICE': DEVICE,\n",
    "          'INPUT_DIM': len(SRC.vocab),\n",
    "          'OUTPUT_DIM': len(TRG.vocab),\n",
    "          'ENC_EMB_DIM': 300,\n",
    "          'DEC_EMB_DIM': 256,\n",
    "          'HID_DIM': 256,\n",
    "          'N_LAYERS': 1,\n",
    "          'ENC_DROPOUT': 0.0,\n",
    "          'DEC_DROPOUT': 0.0,\n",
    "          'SRC': SRC,\n",
    "          'TRG': TRG,\n",
    "          'WV_MATRIX': wv_matrix}\n",
    "\n",
    "#MODEL 5: Hidden Dimensions = 512; Number of LSTM Layers = 2; No pretrained embedding weights\n",
    "params5 = {'EPOCHS': 25,\n",
    "          'CLIP': 1,\n",
    "          'OPTIMIZER': optim.Adam,\n",
    "          'DEVICE': DEVICE,\n",
    "          'INPUT_DIM': len(SRC.vocab),\n",
    "          'OUTPUT_DIM': len(TRG.vocab),\n",
    "          'ENC_EMB_DIM': 256,\n",
    "          'DEC_EMB_DIM': 256,\n",
    "          'HID_DIM': 512,\n",
    "          'N_LAYERS': 2,\n",
    "          'ENC_DROPOUT': 0.5,\n",
    "          'DEC_DROPOUT': 0.5,\n",
    "          'SRC': SRC,\n",
    "          'TRG': TRG,\n",
    "          'WV_MATRIX': None}\n",
    "\n",
    "#MODEL 6: Hidden Dimensions = 512; Number of LSTM Layers = 2; Pretrained embedding weights\n",
    "params6 = {'EPOCHS': 25,\n",
    "          'CLIP': 1,\n",
    "          'OPTIMIZER': optim.Adam,\n",
    "          'DEVICE': DEVICE,\n",
    "          'INPUT_DIM': len(SRC.vocab),\n",
    "          'OUTPUT_DIM': len(TRG.vocab),\n",
    "          'ENC_EMB_DIM': 300,\n",
    "          'DEC_EMB_DIM': 256,\n",
    "          'HID_DIM': 512,\n",
    "          'N_LAYERS': 2,\n",
    "          'ENC_DROPOUT': 0.5,\n",
    "          'DEC_DROPOUT': 0.5,\n",
    "          'SRC': SRC,\n",
    "          'TRG': TRG,\n",
    "          'WV_MATRIX': wv_matrix}\n",
    "\n",
    "#MODEL 7: Hidden Dimensions = 256; Number of LSTM Layers = 2; No pretrained embedding weights\n",
    "params7 = {'EPOCHS': 25,\n",
    "          'CLIP': 1,\n",
    "          'OPTIMIZER': optim.Adam,\n",
    "          'DEVICE': DEVICE,\n",
    "          'INPUT_DIM': len(SRC.vocab),\n",
    "          'OUTPUT_DIM': len(TRG.vocab),\n",
    "          'ENC_EMB_DIM': 256,\n",
    "          'DEC_EMB_DIM': 256,\n",
    "          'HID_DIM': 256,\n",
    "          'N_LAYERS': 2,\n",
    "          'ENC_DROPOUT': 0.5,\n",
    "          'DEC_DROPOUT': 0.5,\n",
    "          'SRC': SRC,\n",
    "          'TRG': TRG,\n",
    "          'WV_MATRIX': None}\n",
    "\n",
    "#MODEL 8: Hidden Dimensions = 256; Number of LSTM Layers = 2; Pretrained embedding weights\n",
    "params8 = {'EPOCHS': 25,\n",
    "          'CLIP': 1,\n",
    "          'OPTIMIZER': optim.Adam,\n",
    "          'DEVICE': DEVICE,\n",
    "          'INPUT_DIM': len(SRC.vocab),\n",
    "          'OUTPUT_DIM': len(TRG.vocab),\n",
    "          'ENC_EMB_DIM': 300,\n",
    "          'DEC_EMB_DIM': 256,\n",
    "          'HID_DIM': 256,\n",
    "          'N_LAYERS': 2,\n",
    "          'ENC_DROPOUT': 0.5,\n",
    "          'DEC_DROPOUT': 0.5,\n",
    "          'SRC': SRC,\n",
    "          'TRG': TRG,\n",
    "          'WV_MATRIX': wv_matrix}\n",
    "\n",
    "#Dict to hold all parameters\n",
    "params = {'Model 1': params1,\n",
    "          'Model 2': params2,\n",
    "          'Model 3': params3,\n",
    "          'Model 4': params4,\n",
    "          'Model 5': params5,\n",
    "          'Model 6': params6,\n",
    "          'Model 7': params7,\n",
    "          'Model 8': params8}\n"
   ]
  },
  {
   "cell_type": "code",
   "execution_count": null,
   "metadata": {
    "id": "JtbswPfq0Vpx"
   },
   "outputs": [],
   "source": [
    "#Load model 1\n",
    "\n",
    "model = Seq2Seq(**params1).to(DEVICE)"
   ]
  },
  {
   "cell_type": "code",
   "execution_count": null,
   "metadata": {
    "colab": {
     "base_uri": "https://localhost:8080/"
    },
    "id": "GYYWFsIj326K",
    "outputId": "680a737d-1d75-493d-af9c-9452b8822e75"
   },
   "outputs": [
    {
     "name": "stdout",
     "output_type": "stream",
     "text": [
      "Epoch [0], train_loss: 5.0872, val_loss: 5.1307, val_acc: 0.1217\n",
      "Epoch [1], train_loss: 4.4696, val_loss: 4.9314, val_acc: 0.1364\n",
      "Epoch [2], train_loss: 4.1917, val_loss: 4.7757, val_acc: 0.1524\n",
      "Epoch [3], train_loss: 3.9702, val_loss: 4.6541, val_acc: 0.1634\n",
      "Epoch [4], train_loss: 3.7586, val_loss: 4.5327, val_acc: 0.1697\n",
      "Epoch [5], train_loss: 3.6067, val_loss: 4.4059, val_acc: 0.1830\n",
      "Epoch [6], train_loss: 3.4324, val_loss: 4.2997, val_acc: 0.2038\n",
      "Epoch [7], train_loss: 3.2724, val_loss: 4.2119, val_acc: 0.2154\n",
      "Epoch [8], train_loss: 3.1477, val_loss: 4.0703, val_acc: 0.2264\n",
      "Epoch [9], train_loss: 3.0161, val_loss: 3.9772, val_acc: 0.2357\n",
      "Epoch [10], train_loss: 2.8634, val_loss: 3.9199, val_acc: 0.2440\n",
      "Epoch [11], train_loss: 2.7424, val_loss: 3.8666, val_acc: 0.2535\n",
      "Epoch [12], train_loss: 2.5833, val_loss: 3.8087, val_acc: 0.2560\n",
      "Epoch [13], train_loss: 2.4884, val_loss: 3.7825, val_acc: 0.2616\n",
      "Epoch [14], train_loss: 2.3780, val_loss: 3.7781, val_acc: 0.2678\n",
      "Epoch [15], train_loss: 2.2556, val_loss: 3.7713, val_acc: 0.2711\n",
      "Epoch [16], train_loss: 2.1374, val_loss: 3.7302, val_acc: 0.2742\n",
      "Epoch [17], train_loss: 2.0190, val_loss: 3.7733, val_acc: 0.2806\n",
      "Epoch [18], train_loss: 1.9185, val_loss: 3.8138, val_acc: 0.2864\n",
      "Epoch [19], train_loss: 1.8186, val_loss: 3.8205, val_acc: 0.2835\n",
      "Epoch [20], train_loss: 1.7057, val_loss: 3.8376, val_acc: 0.2830\n",
      "Epoch [21], train_loss: 1.5944, val_loss: 3.9244, val_acc: 0.2829\n",
      "Epoch [22], train_loss: 1.5022, val_loss: 4.0000, val_acc: 0.2815\n",
      "Epoch [23], train_loss: 1.4322, val_loss: 4.0299, val_acc: 0.2818\n",
      "Epoch [24], train_loss: 1.3375, val_loss: 4.0786, val_acc: 0.2817\n"
     ]
    }
   ],
   "source": [
    "#Train model 1\n",
    "\n",
    "model.fit(train_iterator, valid_iterator)"
   ]
  },
  {
   "cell_type": "code",
   "execution_count": null,
   "metadata": {
    "id": "nqzuOBdHY1J4"
   },
   "outputs": [],
   "source": [
    "#Save model 1 results\n",
    "\n",
    "model.save_results('results1.csv')"
   ]
  },
  {
   "cell_type": "code",
   "execution_count": null,
   "metadata": {
    "id": "hA5MZ28ah2GJ"
   },
   "outputs": [],
   "source": [
    "#Save model 1 weights\n",
    "\n",
    "model.save_model('model1.pt')"
   ]
  },
  {
   "cell_type": "code",
   "execution_count": null,
   "metadata": {
    "id": "aXc-_9rs0dBS"
   },
   "outputs": [],
   "source": [
    "#Load model 2\n",
    "\n",
    "model = Seq2Seq(**params2).to(DEVICE)"
   ]
  },
  {
   "cell_type": "code",
   "execution_count": null,
   "metadata": {
    "colab": {
     "base_uri": "https://localhost:8080/"
    },
    "id": "2ToSTNAg0dBS",
    "outputId": "59b0d833-f53e-41e2-cddd-fb6b5e7c9678"
   },
   "outputs": [
    {
     "name": "stdout",
     "output_type": "stream",
     "text": [
      "Epoch [0], train_loss: 5.0926, val_loss: 5.0757, val_acc: 0.1253\n",
      "Epoch [1], train_loss: 4.4760, val_loss: 4.8927, val_acc: 0.1348\n",
      "Epoch [2], train_loss: 4.1558, val_loss: 4.7551, val_acc: 0.1493\n",
      "Epoch [3], train_loss: 3.9173, val_loss: 4.6013, val_acc: 0.1702\n",
      "Epoch [4], train_loss: 3.7189, val_loss: 4.4258, val_acc: 0.1788\n",
      "Epoch [5], train_loss: 3.5662, val_loss: 4.3264, val_acc: 0.1847\n",
      "Epoch [6], train_loss: 3.3622, val_loss: 4.3417, val_acc: 0.2013\n",
      "Epoch [7], train_loss: 3.2465, val_loss: 4.1847, val_acc: 0.2066\n",
      "Epoch [8], train_loss: 3.1401, val_loss: 4.1041, val_acc: 0.2182\n",
      "Epoch [9], train_loss: 3.0124, val_loss: 4.0998, val_acc: 0.2210\n",
      "Epoch [10], train_loss: 2.8411, val_loss: 4.0303, val_acc: 0.2317\n",
      "Epoch [11], train_loss: 2.7410, val_loss: 3.9773, val_acc: 0.2399\n",
      "Epoch [12], train_loss: 2.6103, val_loss: 3.9397, val_acc: 0.2470\n",
      "Epoch [13], train_loss: 2.4904, val_loss: 3.9053, val_acc: 0.2546\n",
      "Epoch [14], train_loss: 2.3800, val_loss: 3.9035, val_acc: 0.2562\n",
      "Epoch [15], train_loss: 2.2620, val_loss: 3.8181, val_acc: 0.2628\n",
      "Epoch [16], train_loss: 2.1595, val_loss: 3.8527, val_acc: 0.2644\n",
      "Epoch [17], train_loss: 2.0296, val_loss: 3.9171, val_acc: 0.2709\n",
      "Epoch [18], train_loss: 1.9199, val_loss: 3.9271, val_acc: 0.2719\n",
      "Epoch [19], train_loss: 1.8411, val_loss: 3.9542, val_acc: 0.2740\n",
      "Epoch [20], train_loss: 1.7342, val_loss: 3.9617, val_acc: 0.2726\n",
      "Epoch [21], train_loss: 1.6159, val_loss: 4.0021, val_acc: 0.2680\n",
      "Epoch [22], train_loss: 1.5447, val_loss: 4.0489, val_acc: 0.2716\n",
      "Epoch [23], train_loss: 1.4410, val_loss: 4.1206, val_acc: 0.2718\n",
      "Epoch [24], train_loss: 1.3604, val_loss: 4.1424, val_acc: 0.2739\n"
     ]
    }
   ],
   "source": [
    "#Train model 2\n",
    "\n",
    "model.fit(train_iterator, valid_iterator)"
   ]
  },
  {
   "cell_type": "code",
   "execution_count": null,
   "metadata": {
    "id": "WBJlp-6e0dBS"
   },
   "outputs": [],
   "source": [
    "#Save model 2 results\n",
    "\n",
    "model.save_results('results2.csv')"
   ]
  },
  {
   "cell_type": "code",
   "execution_count": null,
   "metadata": {
    "id": "OXOXu6YK0dBT"
   },
   "outputs": [],
   "source": [
    "#Save model 2 weights\n",
    "\n",
    "model.save_model('model2.pt')"
   ]
  },
  {
   "cell_type": "code",
   "execution_count": null,
   "metadata": {
    "id": "Mo4ouhWv0kUd"
   },
   "outputs": [],
   "source": [
    "#Load model 3\n",
    "\n",
    "model = Seq2Seq(**params3).to(DEVICE)"
   ]
  },
  {
   "cell_type": "code",
   "execution_count": null,
   "metadata": {
    "colab": {
     "base_uri": "https://localhost:8080/"
    },
    "id": "0dLnuO450kUe",
    "outputId": "e490ab33-90ba-4337-8bd3-5d9546bedc38"
   },
   "outputs": [
    {
     "name": "stdout",
     "output_type": "stream",
     "text": [
      "Epoch [0], train_loss: 5.2827, val_loss: 5.1236, val_acc: 0.1229\n",
      "Epoch [1], train_loss: 4.5742, val_loss: 4.9373, val_acc: 0.1307\n",
      "Epoch [2], train_loss: 4.3151, val_loss: 4.8580, val_acc: 0.1374\n",
      "Epoch [3], train_loss: 4.1039, val_loss: 4.7351, val_acc: 0.1512\n",
      "Epoch [4], train_loss: 3.9365, val_loss: 4.6142, val_acc: 0.1626\n",
      "Epoch [5], train_loss: 3.7961, val_loss: 4.4807, val_acc: 0.1704\n",
      "Epoch [6], train_loss: 3.6385, val_loss: 4.3874, val_acc: 0.1837\n",
      "Epoch [7], train_loss: 3.5196, val_loss: 4.3257, val_acc: 0.1959\n",
      "Epoch [8], train_loss: 3.3908, val_loss: 4.1960, val_acc: 0.2085\n",
      "Epoch [9], train_loss: 3.2961, val_loss: 4.1441, val_acc: 0.2149\n",
      "Epoch [10], train_loss: 3.2046, val_loss: 4.0507, val_acc: 0.2219\n",
      "Epoch [11], train_loss: 3.0739, val_loss: 4.0415, val_acc: 0.2289\n",
      "Epoch [12], train_loss: 2.9893, val_loss: 3.9859, val_acc: 0.2336\n",
      "Epoch [13], train_loss: 2.9215, val_loss: 3.8906, val_acc: 0.2408\n",
      "Epoch [14], train_loss: 2.8311, val_loss: 3.8751, val_acc: 0.2434\n",
      "Epoch [15], train_loss: 2.7365, val_loss: 3.8784, val_acc: 0.2483\n",
      "Epoch [16], train_loss: 2.6698, val_loss: 3.8516, val_acc: 0.2521\n",
      "Epoch [17], train_loss: 2.5838, val_loss: 3.8213, val_acc: 0.2567\n",
      "Epoch [18], train_loss: 2.5134, val_loss: 3.7624, val_acc: 0.2643\n",
      "Epoch [19], train_loss: 2.4400, val_loss: 3.7681, val_acc: 0.2707\n",
      "Epoch [20], train_loss: 2.3605, val_loss: 3.7771, val_acc: 0.2701\n",
      "Epoch [21], train_loss: 2.2772, val_loss: 3.7765, val_acc: 0.2701\n",
      "Epoch [22], train_loss: 2.2395, val_loss: 3.7517, val_acc: 0.2752\n",
      "Epoch [23], train_loss: 2.1551, val_loss: 3.7673, val_acc: 0.2790\n",
      "Epoch [24], train_loss: 2.0761, val_loss: 3.7510, val_acc: 0.2776\n"
     ]
    }
   ],
   "source": [
    "#Train model 3\n",
    "\n",
    "model.fit(train_iterator, valid_iterator)"
   ]
  },
  {
   "cell_type": "code",
   "execution_count": null,
   "metadata": {
    "id": "IqZtHt7D0kUe"
   },
   "outputs": [],
   "source": [
    "#Save model 3 results\n",
    "\n",
    "model.save_results('results3.csv')"
   ]
  },
  {
   "cell_type": "code",
   "execution_count": null,
   "metadata": {
    "id": "N2Qb9fhi0kUf"
   },
   "outputs": [],
   "source": [
    "#Train model 3 weights\n",
    "\n",
    "model.save_model('model3.pt')"
   ]
  },
  {
   "cell_type": "code",
   "execution_count": null,
   "metadata": {
    "id": "F2zdHaiY0ozS"
   },
   "outputs": [],
   "source": [
    "#Load model 4\n",
    "\n",
    "model = Seq2Seq(**params4).to(DEVICE)"
   ]
  },
  {
   "cell_type": "code",
   "execution_count": null,
   "metadata": {
    "colab": {
     "base_uri": "https://localhost:8080/"
    },
    "id": "_SfX_ODo0ozS",
    "outputId": "8d6c3c0e-0a0c-44b2-caec-d9fdee5b57a5"
   },
   "outputs": [
    {
     "name": "stdout",
     "output_type": "stream",
     "text": [
      "Epoch [0], train_loss: 5.2613, val_loss: 5.0876, val_acc: 0.1202\n",
      "Epoch [1], train_loss: 4.5814, val_loss: 4.9575, val_acc: 0.1337\n",
      "Epoch [2], train_loss: 4.3244, val_loss: 4.8278, val_acc: 0.1487\n",
      "Epoch [3], train_loss: 4.0981, val_loss: 4.6716, val_acc: 0.1531\n",
      "Epoch [4], train_loss: 3.8914, val_loss: 4.6077, val_acc: 0.1619\n",
      "Epoch [5], train_loss: 3.7744, val_loss: 4.4197, val_acc: 0.1757\n",
      "Epoch [6], train_loss: 3.6104, val_loss: 4.3456, val_acc: 0.1880\n",
      "Epoch [7], train_loss: 3.4811, val_loss: 4.2482, val_acc: 0.2039\n",
      "Epoch [8], train_loss: 3.3846, val_loss: 4.1814, val_acc: 0.2126\n",
      "Epoch [9], train_loss: 3.2513, val_loss: 4.1194, val_acc: 0.2169\n",
      "Epoch [10], train_loss: 3.1785, val_loss: 4.0103, val_acc: 0.2222\n",
      "Epoch [11], train_loss: 3.0750, val_loss: 3.9926, val_acc: 0.2271\n",
      "Epoch [12], train_loss: 2.9862, val_loss: 3.9373, val_acc: 0.2296\n",
      "Epoch [13], train_loss: 2.8914, val_loss: 3.9297, val_acc: 0.2391\n",
      "Epoch [14], train_loss: 2.8102, val_loss: 3.8810, val_acc: 0.2446\n",
      "Epoch [15], train_loss: 2.7144, val_loss: 3.8782, val_acc: 0.2544\n",
      "Epoch [16], train_loss: 2.6311, val_loss: 3.8261, val_acc: 0.2574\n",
      "Epoch [17], train_loss: 2.5533, val_loss: 3.8140, val_acc: 0.2638\n",
      "Epoch [18], train_loss: 2.4788, val_loss: 3.7783, val_acc: 0.2682\n",
      "Epoch [19], train_loss: 2.3768, val_loss: 3.7871, val_acc: 0.2724\n",
      "Epoch [20], train_loss: 2.3373, val_loss: 3.7751, val_acc: 0.2679\n",
      "Epoch [21], train_loss: 2.2315, val_loss: 3.7965, val_acc: 0.2732\n",
      "Epoch [22], train_loss: 2.1900, val_loss: 3.7595, val_acc: 0.2719\n",
      "Epoch [23], train_loss: 2.1059, val_loss: 3.7921, val_acc: 0.2773\n",
      "Epoch [24], train_loss: 2.0657, val_loss: 3.7967, val_acc: 0.2743\n"
     ]
    }
   ],
   "source": [
    "#Train model 4\n",
    "\n",
    "model.fit(train_iterator, valid_iterator)"
   ]
  },
  {
   "cell_type": "code",
   "execution_count": null,
   "metadata": {
    "id": "4xnbtvdd0ozT"
   },
   "outputs": [],
   "source": [
    "#Save model 4 results\n",
    "\n",
    "model.save_results('results4.csv')"
   ]
  },
  {
   "cell_type": "code",
   "execution_count": null,
   "metadata": {
    "id": "9FoT62fT0ozT"
   },
   "outputs": [],
   "source": [
    "#Save model 4 weights\n",
    "\n",
    "model.save_model('model4.pt')"
   ]
  },
  {
   "cell_type": "code",
   "execution_count": null,
   "metadata": {
    "id": "IKYmQAMh0tzj"
   },
   "outputs": [],
   "source": [
    "#Load model 5\n",
    "\n",
    "model = Seq2Seq(**params5).to(DEVICE)"
   ]
  },
  {
   "cell_type": "code",
   "execution_count": null,
   "metadata": {
    "colab": {
     "base_uri": "https://localhost:8080/"
    },
    "id": "WO0A8KEw0tzk",
    "outputId": "99206f36-25d6-4ee6-e119-b16d6d65ba44"
   },
   "outputs": [
    {
     "name": "stdout",
     "output_type": "stream",
     "text": [
      "Epoch [0], train_loss: 5.1779, val_loss: 5.1059, val_acc: 0.1104\n",
      "Epoch [1], train_loss: 4.6310, val_loss: 4.8507, val_acc: 0.1350\n",
      "Epoch [2], train_loss: 4.2685, val_loss: 4.7178, val_acc: 0.1542\n",
      "Epoch [3], train_loss: 4.0929, val_loss: 4.5737, val_acc: 0.1587\n",
      "Epoch [4], train_loss: 3.8927, val_loss: 4.5111, val_acc: 0.1664\n",
      "Epoch [5], train_loss: 3.7414, val_loss: 4.3211, val_acc: 0.1829\n",
      "Epoch [6], train_loss: 3.6013, val_loss: 4.2526, val_acc: 0.1929\n",
      "Epoch [7], train_loss: 3.4638, val_loss: 4.1646, val_acc: 0.2027\n",
      "Epoch [8], train_loss: 3.3194, val_loss: 4.0919, val_acc: 0.2149\n",
      "Epoch [9], train_loss: 3.2096, val_loss: 4.0006, val_acc: 0.2188\n",
      "Epoch [10], train_loss: 3.1139, val_loss: 3.9007, val_acc: 0.2339\n",
      "Epoch [11], train_loss: 3.0000, val_loss: 3.8501, val_acc: 0.2394\n",
      "Epoch [12], train_loss: 2.8991, val_loss: 3.8533, val_acc: 0.2505\n",
      "Epoch [13], train_loss: 2.7978, val_loss: 3.7664, val_acc: 0.2536\n",
      "Epoch [14], train_loss: 2.6870, val_loss: 3.7785, val_acc: 0.2632\n",
      "Epoch [15], train_loss: 2.6068, val_loss: 3.7320, val_acc: 0.2606\n",
      "Epoch [16], train_loss: 2.5182, val_loss: 3.6989, val_acc: 0.2705\n",
      "Epoch [17], train_loss: 2.4533, val_loss: 3.6684, val_acc: 0.2739\n",
      "Epoch [18], train_loss: 2.3679, val_loss: 3.6491, val_acc: 0.2782\n",
      "Epoch [19], train_loss: 2.2961, val_loss: 3.6439, val_acc: 0.2819\n",
      "Epoch [20], train_loss: 2.2329, val_loss: 3.6623, val_acc: 0.2835\n",
      "Epoch [21], train_loss: 2.1535, val_loss: 3.6564, val_acc: 0.2875\n",
      "Epoch [22], train_loss: 2.0785, val_loss: 3.6229, val_acc: 0.2770\n",
      "Epoch [23], train_loss: 2.0304, val_loss: 3.6515, val_acc: 0.2846\n",
      "Epoch [24], train_loss: 1.9654, val_loss: 3.6543, val_acc: 0.2909\n"
     ]
    }
   ],
   "source": [
    "#Train model 5\n",
    "\n",
    "model.fit(train_iterator, valid_iterator)"
   ]
  },
  {
   "cell_type": "code",
   "execution_count": null,
   "metadata": {
    "id": "wunKnbzF0tzk"
   },
   "outputs": [],
   "source": [
    "#Save model 5 results\n",
    "\n",
    "model.save_results('results5.csv')"
   ]
  },
  {
   "cell_type": "code",
   "execution_count": null,
   "metadata": {
    "id": "2Z4yiqaC0tzk"
   },
   "outputs": [],
   "source": [
    "#Save model 5 weights\n",
    "\n",
    "model.save_model('model5.pt')"
   ]
  },
  {
   "cell_type": "code",
   "execution_count": null,
   "metadata": {
    "id": "Z4KH0vc00yLc"
   },
   "outputs": [],
   "source": [
    "#Load model 6\n",
    "\n",
    "model = Seq2Seq(**params6).to(DEVICE)"
   ]
  },
  {
   "cell_type": "code",
   "execution_count": null,
   "metadata": {
    "colab": {
     "base_uri": "https://localhost:8080/"
    },
    "id": "A0fpwGG20yLc",
    "outputId": "3844c1e4-a47b-4611-b06a-7581e8ab7add"
   },
   "outputs": [
    {
     "name": "stdout",
     "output_type": "stream",
     "text": [
      "Epoch [0], train_loss: 5.1771, val_loss: 5.0889, val_acc: 0.1060\n",
      "Epoch [1], train_loss: 4.5739, val_loss: 4.8233, val_acc: 0.1389\n",
      "Epoch [2], train_loss: 4.2111, val_loss: 4.6240, val_acc: 0.1603\n",
      "Epoch [3], train_loss: 3.9953, val_loss: 4.4463, val_acc: 0.1691\n",
      "Epoch [4], train_loss: 3.7905, val_loss: 4.3198, val_acc: 0.1796\n",
      "Epoch [5], train_loss: 3.6687, val_loss: 4.1533, val_acc: 0.1948\n",
      "Epoch [6], train_loss: 3.4862, val_loss: 4.0587, val_acc: 0.2046\n",
      "Epoch [7], train_loss: 3.3364, val_loss: 4.0110, val_acc: 0.2208\n",
      "Epoch [8], train_loss: 3.1516, val_loss: 3.9260, val_acc: 0.2301\n",
      "Epoch [9], train_loss: 3.0465, val_loss: 3.8231, val_acc: 0.2387\n",
      "Epoch [10], train_loss: 2.9200, val_loss: 3.7750, val_acc: 0.2513\n",
      "Epoch [11], train_loss: 2.8010, val_loss: 3.7427, val_acc: 0.2574\n",
      "Epoch [12], train_loss: 2.6868, val_loss: 3.6415, val_acc: 0.2656\n",
      "Epoch [13], train_loss: 2.6001, val_loss: 3.6104, val_acc: 0.2695\n",
      "Epoch [14], train_loss: 2.4983, val_loss: 3.6542, val_acc: 0.2749\n",
      "Epoch [15], train_loss: 2.4233, val_loss: 3.5945, val_acc: 0.2783\n",
      "Epoch [16], train_loss: 2.3208, val_loss: 3.5699, val_acc: 0.2834\n",
      "Epoch [17], train_loss: 2.2671, val_loss: 3.5930, val_acc: 0.2858\n",
      "Epoch [18], train_loss: 2.1506, val_loss: 3.6261, val_acc: 0.2892\n",
      "Epoch [19], train_loss: 2.0904, val_loss: 3.6037, val_acc: 0.2904\n",
      "Epoch [20], train_loss: 2.0046, val_loss: 3.5792, val_acc: 0.2942\n",
      "Epoch [21], train_loss: 1.9717, val_loss: 3.5983, val_acc: 0.2935\n",
      "Epoch [22], train_loss: 1.8951, val_loss: 3.6286, val_acc: 0.2966\n",
      "Epoch [23], train_loss: 1.8209, val_loss: 3.6136, val_acc: 0.2963\n",
      "Epoch [24], train_loss: 1.7743, val_loss: 3.6353, val_acc: 0.3016\n"
     ]
    }
   ],
   "source": [
    "#Train model 6\n",
    "\n",
    "model.fit(train_iterator, valid_iterator)"
   ]
  },
  {
   "cell_type": "code",
   "execution_count": null,
   "metadata": {
    "id": "szrirYC50yLd"
   },
   "outputs": [],
   "source": [
    "#Save model 6 results\n",
    "\n",
    "model.save_results('results6.csv')"
   ]
  },
  {
   "cell_type": "code",
   "execution_count": null,
   "metadata": {
    "id": "HxmaIAXX0yLd"
   },
   "outputs": [],
   "source": [
    "#Save model 6 weights\n",
    "\n",
    "model.save_model('model6.pt')"
   ]
  },
  {
   "cell_type": "code",
   "execution_count": null,
   "metadata": {
    "id": "_rGRfVJv009G"
   },
   "outputs": [],
   "source": [
    "#Load model 7\n",
    "\n",
    "model = Seq2Seq(**params7).to(DEVICE)"
   ]
  },
  {
   "cell_type": "code",
   "execution_count": null,
   "metadata": {
    "colab": {
     "base_uri": "https://localhost:8080/"
    },
    "id": "94fRRoOo009G",
    "outputId": "9b17c93d-1efd-412b-c529-4eb8e804a74e"
   },
   "outputs": [
    {
     "name": "stdout",
     "output_type": "stream",
     "text": [
      "Epoch [0], train_loss: 5.3616, val_loss: 4.9456, val_acc: 0.1158\n",
      "Epoch [1], train_loss: 4.8275, val_loss: 4.9990, val_acc: 0.1220\n",
      "Epoch [2], train_loss: 4.4778, val_loss: 4.7969, val_acc: 0.1437\n",
      "Epoch [3], train_loss: 4.2899, val_loss: 4.7122, val_acc: 0.1507\n",
      "Epoch [4], train_loss: 4.1116, val_loss: 4.6336, val_acc: 0.1561\n",
      "Epoch [5], train_loss: 3.9961, val_loss: 4.4560, val_acc: 0.1659\n",
      "Epoch [6], train_loss: 3.8592, val_loss: 4.3939, val_acc: 0.1723\n",
      "Epoch [7], train_loss: 3.7405, val_loss: 4.2983, val_acc: 0.1829\n",
      "Epoch [8], train_loss: 3.6352, val_loss: 4.2069, val_acc: 0.1922\n",
      "Epoch [9], train_loss: 3.5156, val_loss: 4.1292, val_acc: 0.2034\n",
      "Epoch [10], train_loss: 3.4268, val_loss: 4.0346, val_acc: 0.2143\n",
      "Epoch [11], train_loss: 3.3447, val_loss: 3.9922, val_acc: 0.2204\n",
      "Epoch [12], train_loss: 3.2507, val_loss: 3.9090, val_acc: 0.2243\n",
      "Epoch [13], train_loss: 3.1704, val_loss: 3.8762, val_acc: 0.2317\n",
      "Epoch [14], train_loss: 3.0808, val_loss: 3.8283, val_acc: 0.2335\n",
      "Epoch [15], train_loss: 3.0225, val_loss: 3.7792, val_acc: 0.2392\n",
      "Epoch [16], train_loss: 2.9532, val_loss: 3.7840, val_acc: 0.2496\n",
      "Epoch [17], train_loss: 2.9010, val_loss: 3.7018, val_acc: 0.2523\n",
      "Epoch [18], train_loss: 2.8402, val_loss: 3.7176, val_acc: 0.2561\n",
      "Epoch [19], train_loss: 2.7787, val_loss: 3.6797, val_acc: 0.2676\n",
      "Epoch [20], train_loss: 2.7160, val_loss: 3.5899, val_acc: 0.2658\n",
      "Epoch [21], train_loss: 2.6655, val_loss: 3.5812, val_acc: 0.2721\n",
      "Epoch [22], train_loss: 2.6003, val_loss: 3.6199, val_acc: 0.2721\n",
      "Epoch [23], train_loss: 2.5622, val_loss: 3.5719, val_acc: 0.2768\n",
      "Epoch [24], train_loss: 2.5037, val_loss: 3.5752, val_acc: 0.2808\n"
     ]
    }
   ],
   "source": [
    "#Train model 7\n",
    "\n",
    "model.fit(train_iterator, valid_iterator)"
   ]
  },
  {
   "cell_type": "code",
   "execution_count": null,
   "metadata": {
    "id": "5-a6b5Tg009H"
   },
   "outputs": [],
   "source": [
    "#Save model 7 results\n",
    "\n",
    "model.save_results('results7.csv')"
   ]
  },
  {
   "cell_type": "code",
   "execution_count": null,
   "metadata": {
    "id": "TCN0ihHP009H"
   },
   "outputs": [],
   "source": [
    "#Save model 7 weights\n",
    "\n",
    "model.save_model('model7.pt')"
   ]
  },
  {
   "cell_type": "code",
   "execution_count": null,
   "metadata": {
    "id": "A0DeX_BE04TW"
   },
   "outputs": [],
   "source": [
    "#Load model 8\n",
    "\n",
    "model = Seq2Seq(**params8).to(DEVICE)"
   ]
  },
  {
   "cell_type": "code",
   "execution_count": null,
   "metadata": {
    "colab": {
     "base_uri": "https://localhost:8080/"
    },
    "id": "yH3Js2L_04TX",
    "outputId": "60bc0339-1f64-4b78-f709-49d5d41ab496"
   },
   "outputs": [
    {
     "name": "stdout",
     "output_type": "stream",
     "text": [
      "Epoch [0], train_loss: 5.3612, val_loss: 5.0069, val_acc: 0.1112\n",
      "Epoch [1], train_loss: 4.8500, val_loss: 4.9496, val_acc: 0.1267\n",
      "Epoch [2], train_loss: 4.4731, val_loss: 4.7709, val_acc: 0.1359\n",
      "Epoch [3], train_loss: 4.2484, val_loss: 4.6395, val_acc: 0.1527\n",
      "Epoch [4], train_loss: 4.0579, val_loss: 4.4481, val_acc: 0.1665\n",
      "Epoch [5], train_loss: 3.8849, val_loss: 4.3310, val_acc: 0.1778\n",
      "Epoch [6], train_loss: 3.7396, val_loss: 4.2394, val_acc: 0.1893\n",
      "Epoch [7], train_loss: 3.6106, val_loss: 4.1459, val_acc: 0.1992\n",
      "Epoch [8], train_loss: 3.4889, val_loss: 4.0496, val_acc: 0.2109\n",
      "Epoch [9], train_loss: 3.3709, val_loss: 3.9866, val_acc: 0.2206\n",
      "Epoch [10], train_loss: 3.2873, val_loss: 3.9031, val_acc: 0.2236\n",
      "Epoch [11], train_loss: 3.1906, val_loss: 3.9174, val_acc: 0.2341\n",
      "Epoch [12], train_loss: 3.1332, val_loss: 3.8397, val_acc: 0.2367\n",
      "Epoch [13], train_loss: 3.0507, val_loss: 3.7872, val_acc: 0.2438\n",
      "Epoch [14], train_loss: 2.9771, val_loss: 3.7435, val_acc: 0.2530\n",
      "Epoch [15], train_loss: 2.9086, val_loss: 3.7164, val_acc: 0.2581\n",
      "Epoch [16], train_loss: 2.8413, val_loss: 3.6741, val_acc: 0.2617\n",
      "Epoch [17], train_loss: 2.7789, val_loss: 3.6817, val_acc: 0.2660\n",
      "Epoch [18], train_loss: 2.7223, val_loss: 3.5895, val_acc: 0.2690\n",
      "Epoch [19], train_loss: 2.6883, val_loss: 3.5837, val_acc: 0.2711\n",
      "Epoch [20], train_loss: 2.5933, val_loss: 3.6333, val_acc: 0.2714\n",
      "Epoch [21], train_loss: 2.5726, val_loss: 3.5586, val_acc: 0.2822\n",
      "Epoch [22], train_loss: 2.5166, val_loss: 3.5156, val_acc: 0.2792\n",
      "Epoch [23], train_loss: 2.4601, val_loss: 3.6192, val_acc: 0.2849\n",
      "Epoch [24], train_loss: 2.4214, val_loss: 3.5342, val_acc: 0.2784\n"
     ]
    }
   ],
   "source": [
    "#Train model 8\n",
    "\n",
    "model.fit(train_iterator, valid_iterator)"
   ]
  },
  {
   "cell_type": "code",
   "execution_count": null,
   "metadata": {
    "id": "6AWySur104TX"
   },
   "outputs": [],
   "source": [
    "#Save model 8 results\n",
    "\n",
    "model.save_results('results8.csv')"
   ]
  },
  {
   "cell_type": "code",
   "execution_count": null,
   "metadata": {
    "id": "X1xIVXEM04TX"
   },
   "outputs": [],
   "source": [
    "#Save model 8 weights\n",
    "\n",
    "model.save_model('model8.pt')"
   ]
  },
  {
   "cell_type": "markdown",
   "metadata": {
    "id": "JTzJJ_Y_4EkV"
   },
   "source": [
    "## The Results"
   ]
  },
  {
   "cell_type": "code",
   "execution_count": null,
   "metadata": {
    "id": "P3Kp7_BbT3vE"
   },
   "outputs": [],
   "source": [
    "#Lodaing training/validation results\n",
    "\n",
    "df1 = pd.read_csv(\"/content/results1.csv\")\n",
    "df2 = pd.read_csv(\"/content/results2.csv\")\n",
    "df3 = pd.read_csv(\"/content/results3.csv\")\n",
    "df4 = pd.read_csv(\"/content/results4.csv\")\n",
    "df5 = pd.read_csv(\"/content/results5.csv\")\n",
    "df6 = pd.read_csv(\"/content/results6.csv\")\n",
    "df7 = pd.read_csv(\"/content/results7.csv\")\n",
    "df8 = pd.read_csv(\"/content/results8.csv\")\n"
   ]
  },
  {
   "cell_type": "code",
   "execution_count": null,
   "metadata": {
    "colab": {
     "base_uri": "https://localhost:8080/",
     "height": 621
    },
    "id": "bq4ZLUHgUqQA",
    "outputId": "0005fbdf-c13e-4ee7-9c78-88c1e70340a8"
   },
   "outputs": [
    {
     "data": {
      "image/png": "[encoded data removed]",
      "text/plain": [
       "<Figure size 1296x720 with 8 Axes>"
      ]
     },
     "metadata": {
      "needs_background": "light"
     },
     "output_type": "display_data"
    }
   ],
   "source": [
    "#Plotting validation and train loss\n",
    "\n",
    "fig, axs = plt.subplots(2, 4, figsize=(18,10), sharey=True)\n",
    "axs[0,0].plot(range(25), df1['val_loss'], label=\"Validation Loss\")\n",
    "axs[0,0].plot(df1['train_loss'], label=\"Train Loss\")\n",
    "axs[0,0].set_title('Model 1: N=1, Dim=512, Pretrain=No')\n",
    "axs[0,1].plot(range(25), df2['val_loss'], label=\"Validation Loss\")\n",
    "axs[0,1].plot(df2['train_loss'], label=\"Train Loss\")\n",
    "axs[0,1].set_title('Model 2: N=1, Dim=512, Pretrain=Yes')\n",
    "axs[0,2].plot(range(25), df3['val_loss'], label=\"Validation Loss\")\n",
    "axs[0,2].plot(df3['train_loss'], label=\"Train Loss\")\n",
    "axs[0,2].set_title('Model 3: N=1, Dim=256, Pretrain=No')\n",
    "axs[0,3].plot(range(25), df4['val_loss'], label=\"Validation Loss\")\n",
    "axs[0,3].plot(df4['train_loss'], label=\"Train Loss\")\n",
    "axs[0,3].set_title('Model 4: N=1, Dim=256, Pretrain=Yes')\n",
    "axs[1,0].plot(range(25), df5['val_loss'], label=\"Validation Loss\")\n",
    "axs[1,0].plot(df5['train_loss'], label=\"Train Loss\")\n",
    "axs[1,0].set_title('Model 5: N=2, Dim=512, Pretrain=No')\n",
    "axs[1,1].plot(range(25), df6['val_loss'], label=\"Validation Loss\")\n",
    "axs[1,1].plot(df6['train_loss'], label=\"Train Loss\")\n",
    "axs[1,1].set_title('Model 6: N=2, Dim=512, Pretrain=Yes')\n",
    "axs[1,2].plot(range(25), df7['val_loss'], label=\"Validation Loss\")\n",
    "axs[1,2].plot(df7['train_loss'], label=\"Train Loss\")\n",
    "axs[1,2].set_title('Model 7: N=2, Dim=256, Pretrain=No')\n",
    "axs[1,3].plot(range(25), df8['val_loss'], label=\"Validation Loss\")\n",
    "axs[1,3].plot(df8['train_loss'], label=\"Train Loss\")\n",
    "axs[1,3].set_title('Model 8: N=2, Dim=256, Pretrain=Yes')\n",
    "axs[1,3].legend(loc='upper right')\n",
    "\n",
    "\n",
    "for ax in axs.flat:\n",
    "    ax.set(xlabel='Epoch', ylabel='Loss')\n",
    "\n",
    "plt.show()"
   ]
  },
  {
   "cell_type": "markdown",
   "metadata": {
    "id": "BfRRDM7vW9n-"
   },
   "source": [
    "Above are plotted the train and validation losses for each of the 8 networks.  I was surprised during preliminary experimentation that the models were overfitting after just about 15 to 20 epochs.  However, the authors of the paper only trained their models for 7.5 epochs, so apparently a short training period is not entirely unusual.  The authors worked with millions of datapoints compared to our 29,000, so perhaps this is why they did not need to train for as long.  It is interesting to note that the training loss decays very rapidly.  Also, within a few epochs, it is already far below the validation loss.  It is clear that models 1 and 2 began overfitting much earlier than the other models.  This is especially odd, considering that models 5 and 6 are much larger, yet these models did not overfit as quickly.  Usually, the more parameters a model has, the more quickly it will overfit, especially when working with small datasets.  There is no indication that using pretrained embeddings had any significant impact on training.  Models 7 and 8 appear to have achieved the lowest validation loss of all the models."
   ]
  },
  {
   "cell_type": "code",
   "execution_count": null,
   "metadata": {
    "colab": {
     "base_uri": "https://localhost:8080/",
     "height": 350
    },
    "id": "W-vusvqxV4Ag",
    "outputId": "9bbd0413-999c-4ce6-f363-8237c86d590c"
   },
   "outputs": [
    {
     "data": {
      "image/png": "[encoded data removed]",
      "text/plain": [
       "<Figure size 1080x360 with 2 Axes>"
      ]
     },
     "metadata": {
      "needs_background": "light"
     },
     "output_type": "display_data"
    }
   ],
   "source": [
    "#Plotting validation BLEU scores\n",
    "\n",
    "fig, axs = plt.subplots(1, 2, figsize=(15,5))\n",
    "axs[0].plot(range(25), df1['val_acc'], label=\"Model 1: N=1, Dim=512\")\n",
    "axs[0].plot(df3['val_acc'], label=\"Model 3: N=1, Dim=256\")\n",
    "axs[0].plot(df5['val_acc'], label=\"Model 5: N=2, Dim=512\")\n",
    "axs[0].plot(df7['val_acc'], label=\"Model 7: N=2, Dim=256\")\n",
    "axs[0].set_title('Validation BLEU Scores of non-Pretrained Models')\n",
    "axs[1].plot(df2['val_acc'], label=\"Model 2: N=1, Dim=512\")\n",
    "axs[1].plot(df4['val_acc'], label=\"Model 4: N=1, Dim=256\")\n",
    "axs[1].plot(df6['val_acc'], label=\"Model 6: N=2, Dim=512\")\n",
    "axs[1].plot(df8['val_acc'], label=\"Model 8: N=2, Dim=256\")\n",
    "axs[1].set_title('Validation BLEU Scores of Pretrained Models')\n",
    "\n",
    "for ax in axs.flat:\n",
    "    ax.set(xlabel='Epoch', ylabel='BLEU Score')\n",
    "    ax.legend(loc='lower right')\n",
    "\n",
    "plt.show()"
   ]
  },
  {
   "cell_type": "markdown",
   "metadata": {
    "id": "jQBKL_scaY5h"
   },
   "source": [
    "Above are the graphs of the mean BLEU scores computed on the validation data after each epoch.  By the end of training, almost all of the models converge to a BLEU score of about 0.28.  A major exception to this is model 6, which managed to achieve a BLEU score of 0.3.  It is interesting to note that this is the largest of the models.  Judging from these graphs alone, it is also the only network for which the pretrained embedding has conferred any benefit.  "
   ]
  },
  {
   "cell_type": "code",
   "execution_count": null,
   "metadata": {
    "id": "TLxnbJtsPBqZ"
   },
   "outputs": [],
   "source": [
    "#Testing all models on test iterator with each smoothing method\n",
    "\n",
    "test_results = {'Method 1': [],\n",
    "                'Method 2': []}\n",
    "\n",
    "for i in range(1,9):\n",
    "    model_name = 'Model ' + str(i)\n",
    "    par = params[model_name]\n",
    "    model = Seq2Seq(**par).to(DEVICE)\n",
    "    file_name = '/content/model'+str(i)+'.pt'\n",
    "    model.load_state_dict(torch.load(file_name))\n",
    "    #Test with epsilon smoothing\n",
    "    _, test_results_1 = model.test(test_iterator, smooth_method='1')\n",
    "    test_results['Method 1'].append(test_results_1)\n",
    "    #Test with +1 smoothing\n",
    "    _, test_results_2 = model.test(test_iterator, smooth_method='2')\n",
    "    test_results['Method 2'].append(test_results_2)\n",
    "\n",
    "with open('test_results.pickle', 'wb') as handle:\n",
    "    pickle.dump(test_results, handle, protocol=pickle.HIGHEST_PROTOCOL)"
   ]
  },
  {
   "cell_type": "code",
   "execution_count": null,
   "metadata": {
    "id": "JnJcvL5fb-mX"
   },
   "outputs": [],
   "source": [
    "#Calculating mean BLEU score for each model and for each smoothing method\n",
    "\n",
    "test_results_mean = {'Method 1': [mean(lst) for lst in test_results['Method 1']],\n",
    "                     'Method 2': [mean(lst) for lst in test_results['Method 2']]}"
   ]
  },
  {
   "cell_type": "code",
   "execution_count": null,
   "metadata": {
    "colab": {
     "base_uri": "https://localhost:8080/",
     "height": 369
    },
    "id": "0ffWIHAdd77e",
    "outputId": "a0981bc4-ce15-4498-9687-d225c5bb3412"
   },
   "outputs": [
    {
     "data": {
      "image/png": "[encoded data removed]",
      "text/plain": [
       "<Figure size 720x360 with 1 Axes>"
      ]
     },
     "metadata": {
      "needs_background": "light"
     },
     "output_type": "display_data"
    }
   ],
   "source": [
    "#Plotting mean BLEU scores\n",
    "\n",
    "labels = params.keys()\n",
    "method_1 = [round(test_results_mean['Method 1'][i], 3) for i in range(8)]\n",
    "method_2 = [round(test_results_mean['Method 2'][i], 3) for i in range(8)]\n",
    "\n",
    "x = np.arange(len(labels))  # the label locations\n",
    "width = 0.35  # the width of the bars\n",
    "\n",
    "fig, ax = plt.subplots(figsize=(10,5))\n",
    "rects1 = ax.bar(x - width/2, method_1, width, label='Method 1')\n",
    "rects2 = ax.bar(x + width/2, method_2, width, label='Method 2')\n",
    "\n",
    "\n",
    "ax.set_ylabel('Mean BLEU Score')\n",
    "ax.set_title('Mean BLEU Score by Smoothing Method')\n",
    "ax.set_xticks(x)\n",
    "ax.set_xticklabels(labels)\n",
    "ax.legend(loc='lower left')\n",
    "\n",
    "\n",
    "def autolabel(rects):\n",
    "    \"\"\"Attach a text label above each bar in *rects*, displaying its height.\"\"\"\n",
    "    for rect in rects:\n",
    "        height = rect.get_height()\n",
    "        ax.annotate('{}'.format(height),\n",
    "                    xy=(rect.get_x() + rect.get_width() / 2, height),\n",
    "                    xytext=(0, 3),  # 3 points vertical offset\n",
    "                    textcoords=\"offset points\",\n",
    "                    ha='center', va='bottom')\n",
    "\n",
    "\n",
    "autolabel(rects1)\n",
    "autolabel(rects2)\n",
    "\n",
    "fig.tight_layout()\n",
    "\n",
    "plt.show()"
   ]
  },
  {
   "cell_type": "markdown",
   "metadata": {
    "id": "h6CdJWmocKiN"
   },
   "source": [
    "The above bar graph displays the mean BLEU score on the testing data for each network.  The details of the BLEU score were discussed in detail in Part 1 of the report.  I utilized the BLEU-4 score with equal weighting, meaning that 1- through 4-grams were considered, and all of the n-grams were treated equally.  Recall that a smoothing method is often employed when computing the scores.  The reason for this is that if there is no overlap between the target translation and the predicted translation for some n-gram, then the BLEU score automatically returns 0.  This is considered to be too harsh of an evaluation, as there may have been a great deal more overlap for the other n-grams.  Smoothing methods are therefore utilized to ameliorate this issue.  In epsilon smoothing, a very small number is added to the numerator of the computation.  In +1 smoothing, 1 is added to both the numerator and denominator.  It can be seen that there is a staggering difference of up to 12 points between the two methods.  In particular, the +1 smoothing resulted in the highest evaluation.  The large difference between the two methods may be a result of the fact that the BLEU scores are overall on the lower side.  If there was a considerable lack of overlap between n-grams across the test data, then smoothing will have a larger impact.  In these cases, +1 smoothing will have a bigger effect.  It should be noted that the authors of the paper do not indicate if they used any smoothing techniques.  However, since they used a large testing dataset and since their network achieved greater overlap between the n-grams, I do not expect the smoothing method to have a significant impact on the evaluation.  That being said, it may be prudent for researchers to note what smoothing methods have been employed.\n",
    "\n",
    "There does not seem to be any drastic differences in the results across the 8 networks.  Models 1 and 6 achieved the highest scores, and model 3 is slightly farther behind with the third highest scores.  The only commonality between models 1 and 6 is that the hidden dimension of both was 512.  Like model 1, model 3 had 1 LSTM layer in the encoder and decoder.  Recall that the even-numbered models were given pretrained embeddings.  This may have helped models 6 and 8, but models 2 and 4 lag behind their untrained counterparts.  Therefore, it is unclear whether pretraining aided any of the networks.  Perhaps the results would have been more clear if the embedding in the decoder was also pretrained.  Overall, it is hard to conclude that any particular values for the hyperparameters results in better performance."
   ]
  },
  {
   "cell_type": "code",
   "execution_count": null,
   "metadata": {
    "colab": {
     "base_uri": "https://localhost:8080/",
     "height": 621
    },
    "id": "TFBphL6cYCQA",
    "outputId": "48245f6e-73a6-4d8f-e747-8a57c4834db0"
   },
   "outputs": [
    {
     "data": {
      "image/png": "[encoded data removed]",
      "text/plain": [
       "<Figure size 1296x720 with 8 Axes>"
      ]
     },
     "metadata": {
      "needs_background": "light"
     },
     "output_type": "display_data"
    }
   ],
   "source": [
    "#Plotting histogram of BLEU scores for each model with smoothing method 1\n",
    "\n",
    "fig, axs = plt.subplots(2, 4, figsize=(18,10))\n",
    "axs[0,0].hist(test_results['Method 1'][0])\n",
    "axs[0,0].set_title('Model 1: N=1, Dim=512, Pretrain=No')\n",
    "axs[0,1].hist(test_results['Method 1'][1])\n",
    "axs[0,1].set_title('Model 2: N=1, Dim=512, Pretrain=Yes')\n",
    "axs[0,2].hist(test_results['Method 1'][2])\n",
    "axs[0,2].set_title('Model 3: N=1, Dim=256, Pretrain=No')\n",
    "axs[0,3].hist(test_results['Method 1'][3])\n",
    "axs[0,3].set_title('Model 4: N=1, Dim=256, Pretrain=Yes')\n",
    "axs[1,0].hist(test_results['Method 1'][4])\n",
    "axs[1,0].set_title('Model 5: N=2, Dim=512, Pretrain=No')\n",
    "axs[1,1].hist(test_results['Method 1'][5])\n",
    "axs[1,1].set_title('Model 6: N=2, Dim=512, Pretrain=Yes')\n",
    "axs[1,2].hist(test_results['Method 1'][6])\n",
    "axs[1,2].set_title('Model 7: N=2, Dim=256, Pretrain=No')\n",
    "axs[1,3].hist(test_results['Method 1'][7])\n",
    "axs[1,3].set_title('Model 8: N=2, Dim=256, Pretrain=Yes')\n",
    "\n",
    "\n",
    "for ax in axs.flat:\n",
    "    ax.set(xlabel='BLEU Score', ylabel='Number of Sentences')\n",
    "\n",
    "plt.show()"
   ]
  },
  {
   "cell_type": "code",
   "execution_count": null,
   "metadata": {
    "colab": {
     "base_uri": "https://localhost:8080/",
     "height": 621
    },
    "id": "Cye9cARzZBGs",
    "outputId": "1ef37a0c-f858-4382-93ec-4adcd0f24d23"
   },
   "outputs": [
    {
     "data": {
      "image/png": "[encoded data removed]",
      "text/plain": [
       "<Figure size 1296x720 with 8 Axes>"
      ]
     },
     "metadata": {
      "needs_background": "light"
     },
     "output_type": "display_data"
    }
   ],
   "source": [
    "#Plotting histogram of BLEU scores for each model using smoothing method 2\n",
    "\n",
    "fig, axs = plt.subplots(2, 4, figsize=(18,10))\n",
    "axs[0,0].hist(test_results['Method 2'][0])\n",
    "axs[0,0].set_title('Model 1: N=1, Dim=512, Pretrain=No')\n",
    "axs[0,1].hist(test_results['Method 2'][1])\n",
    "axs[0,1].set_title('Model 2: N=1, Dim=512, Pretrain=Yes')\n",
    "axs[0,2].hist(test_results['Method 2'][2])\n",
    "axs[0,2].set_title('Model 3: N=1, Dim=256, Pretrain=No')\n",
    "axs[0,3].hist(test_results['Method 2'][3])\n",
    "axs[0,3].set_title('Model 4: N=1, Dim=256, Pretrain=Yes')\n",
    "axs[1,0].hist(test_results['Method 2'][4])\n",
    "axs[1,0].set_title('Model 5: N=2, Dim=512, Pretrain=No')\n",
    "axs[1,1].hist(test_results['Method 2'][5])\n",
    "axs[1,1].set_title('Model 6: N=2, Dim=512, Pretrain=Yes')\n",
    "axs[1,2].hist(test_results['Method 2'][6])\n",
    "axs[1,2].set_title('Model 7: N=2, Dim=256, Pretrain=No')\n",
    "axs[1,3].hist(test_results['Method 2'][7])\n",
    "axs[1,3].set_title('Model 8: N=2, Dim=256, Pretrain=Yes')\n",
    "\n",
    "\n",
    "for ax in axs.flat:\n",
    "    ax.set(xlabel='BLEU Score', ylabel='Number of Sentences')\n",
    "\n",
    "plt.show()"
   ]
  },
  {
   "cell_type": "markdown",
   "metadata": {
    "id": "qmgs5OrriVvb"
   },
   "source": [
    "The above histograms show the distribution of the per-sentence BLEU scores for each network.  The first set of histograms correspond to the epsilon smoothing, and the second set of histograms correspond to the +1 smoothing.  Within each set, the distributions are practically the same across the networks.  What is more interesting is the difference between the two sets.  For epsilon smoothing, the scores seem to roughly follow a power distribution.  For the +1 smoothing, the distrubtions are a bit closer to a normal distribution, as there seems to be clustering near the means.  Again, this probably has to do with the fact that +1 smoothing has a larger impact on low-scoring sentences."
   ]
  },
  {
   "cell_type": "markdown",
   "metadata": {
    "id": "jl-0OmoW4OBG"
   },
   "source": [
    "## Some Translations\n",
    "\n",
    "Finally, it is time to look at a few translations produced by the network.  Since model 1 performed the best, I will only be looking at some translations produced by that network."
   ]
  },
  {
   "cell_type": "code",
   "execution_count": null,
   "metadata": {
    "id": "SguIChygdTTY"
   },
   "outputs": [],
   "source": [
    "#Defining some functions to help get and print sentences\n",
    "\n",
    "def get_sentences(idx, model):\n",
    "    \"\"\"\n",
    "    Given a model and the index of location of tensor in train iterator\n",
    "    returns the source and target sentences, the translation,\n",
    "    and the bleu score of the translation.\n",
    "    Sentences are returned as list of words\n",
    "    \"\"\"\n",
    "    batch_numb = int(idx/BATCH_SIZE)\n",
    "    ind = idx % BATCH_SIZE\n",
    "    for i, batch in enumerate(test_iterator):\n",
    "        if i == batch_numb:\n",
    "            src = batch.src[:,ind]\n",
    "            trg = batch.trg[:,ind]\n",
    "            #Get translation\n",
    "            out = model(batch.src, batch.trg)\n",
    "            pred = out.argmax(2)\n",
    "            pred_sent_tens = pred[:,ind]\n",
    "            #Get actual sentences from tensors\n",
    "            src_sent = model.retrieve_sent(src, 'source')\n",
    "            trg_sent = model.retrieve_sent(trg, 'target')\n",
    "            pred_sent = model.retrieve_sent(pred_sent_tens, 'target')\n",
    "            #Compute scores\n",
    "            bleu_score = sentence_bleu([pred_sent], trg_sent, smoothing_function=SmoothingFunction().method2)\n",
    "    return src_sent, trg_sent, pred_sent, bleu_score\n",
    "\n",
    "def print_sentences(idx, model):\n",
    "    \"\"\"\n",
    "    Given model and index of location of tensor in test iterator,\n",
    "    prints the source, target, and translated sentences along with\n",
    "    the bleu score for the translation\n",
    "    \"\"\"\n",
    "    src, trg, pred, bleu_score = get_sentences(idx, model)\n",
    "    src_sent = ''\n",
    "    pred_sent = ''\n",
    "    trg_sent = ''\n",
    "    for i in src:\n",
    "        src_sent = src_sent + i + ' '\n",
    "    for i in trg:\n",
    "        trg_sent = trg_sent + i + ' '\n",
    "    for i in pred:\n",
    "        pred_sent = pred_sent + i + ' '\n",
    "    print('The source sentence is:')\n",
    "    print(src_sent)\n",
    "    print('The target sentence is:')\n",
    "    print(trg_sent)\n",
    "    print('The translation is:')\n",
    "    print(pred_sent)\n",
    "    print('The BLEU score for this translation is:', round(bleu_score, 3))\n"
   ]
  },
  {
   "cell_type": "code",
   "execution_count": null,
   "metadata": {
    "colab": {
     "base_uri": "https://localhost:8080/"
    },
    "id": "CoQA9hG8SdCL",
    "outputId": "30a1c0a9-aed8-46a4-861d-ec415b4b135e"
   },
   "outputs": [
    {
     "data": {
      "text/plain": [
       "<All keys matched successfully>"
      ]
     },
     "execution_count": 152,
     "metadata": {},
     "output_type": "execute_result"
    }
   ],
   "source": [
    "#Loading model 1 weights\n",
    "\n",
    "model = Seq2Seq(**params1).to(DEVICE)\n",
    "\n",
    "model.load_state_dict(torch.load('/content/model1.pt'))"
   ]
  },
  {
   "cell_type": "code",
   "execution_count": null,
   "metadata": {
    "id": "iOZZnVftl8_z"
   },
   "outputs": [],
   "source": [
    "#Finding the index of a tensor that received the maximum bleu score in the test iterator\n",
    "\n",
    "max_idx = test_results['Method 1'][0].index(max(test_results['Method 1'][0]))"
   ]
  },
  {
   "cell_type": "code",
   "execution_count": null,
   "metadata": {
    "colab": {
     "base_uri": "https://localhost:8080/"
    },
    "id": "cLIXjrTulEay",
    "outputId": "49eab656-f382-4149-e07f-ea2bb143b482"
   },
   "outputs": [
    {
     "name": "stdout",
     "output_type": "stream",
     "text": [
      "The source sentence is:\n",
      "a brown dog jumping over a hurdle \n",
      "The target sentence is:\n",
      "ein brauner hund springt über eine hürde \n",
      "The translation is:\n",
      "ein brauner hund springt über eine hürde \n",
      "The BLEU score for this translation is: 1.0\n"
     ]
    }
   ],
   "source": [
    "print_sentences(max_idx, model)"
   ]
  },
  {
   "cell_type": "markdown",
   "metadata": {
    "id": "Uzk-3dXdlCnK"
   },
   "source": [
    "Above is one of the examples that the network translated perfectly.  It is of note that this is a very short and simple sentences.  In particular, it does not contain any long, complicated clauses."
   ]
  },
  {
   "cell_type": "code",
   "execution_count": null,
   "metadata": {
    "id": "sEBvm6qVjCmA"
   },
   "outputs": [],
   "source": [
    "#Finding the indicies of the tensors in the test iterator that got average or bad\n",
    "#bleu scores\n",
    "\n",
    "avg_idx = []\n",
    "bad_idx = []\n",
    "\n",
    "for i, score in enumerate(test_results['Method 2'][0]):\n",
    "    if score < .35 and score > 0.20:\n",
    "        avg_idx.append(i)\n",
    "    if score < 0.1:\n",
    "        bad_idx.append(i)"
   ]
  },
  {
   "cell_type": "code",
   "execution_count": null,
   "metadata": {
    "colab": {
     "base_uri": "https://localhost:8080/"
    },
    "id": "RjCtEoAISnTx",
    "outputId": "1a5ae554-f97a-44d5-f73f-132dc45b37c9"
   },
   "outputs": [
    {
     "name": "stdout",
     "output_type": "stream",
     "text": [
      "The source sentence is:\n",
      "this player with the blue helmet was at bat and just finished swinging at the ball during a team baseball game \n",
      "The target sentence is:\n",
      "dieser spieler mit dem blauen helm war in einem baseballspiel zwischen zwei teams gerade am und ist gerade mit dem schlagen fertig \n",
      "The translation is:\n",
      "der basketballspieler mit der blauen trikot hält sich dem den ball den den ball an an den ball zu einem ball \n",
      "The BLEU score for this translation is: 0.07\n"
     ]
    }
   ],
   "source": [
    "print_sentences(bad_idx[-8], model)"
   ]
  },
  {
   "cell_type": "code",
   "execution_count": null,
   "metadata": {
    "colab": {
     "base_uri": "https://localhost:8080/"
    },
    "id": "z1fiVUkMpeB8",
    "outputId": "311fc69c-6d19-4dc5-fd00-a499551e71b7"
   },
   "outputs": [
    {
     "name": "stdout",
     "output_type": "stream",
     "text": [
      "The source sentence is:\n",
      "two race cars one red and one blue are driving side by side down a racetrack while being watched by several onlookers \n",
      "The target sentence is:\n",
      "zwei rennautos eines rot und das andere blau fahren nebeneinander auf einer rennstrecke während mehrere personen zusehen \n",
      "The translation is:\n",
      "ein biker und ein schwarz-weißer rennwagen auf der straße und wird von gruppe von menschen vorbei \n",
      "The BLEU score for this translation is: 0.08\n"
     ]
    }
   ],
   "source": [
    "print_sentences(bad_idx[-11], model)"
   ]
  },
  {
   "cell_type": "code",
   "execution_count": null,
   "metadata": {
    "colab": {
     "base_uri": "https://localhost:8080/"
    },
    "id": "cocsd_p7pq7y",
    "outputId": "97f7f7b1-8ee3-4af9-8a10-b29ac283f3bd"
   },
   "outputs": [
    {
     "name": "stdout",
     "output_type": "stream",
     "text": [
      "The source sentence is:\n",
      "a large bull targets a man away in a rodeo with his horns while a rodeo clown runs to help \n",
      "The target sentence is:\n",
      "ein großer stier versucht einen mann bei einem rodeo auf die zu nehmen während ein um zu helfen \n",
      "The translation is:\n",
      "ein einzelner cowboy reitet einen pferd der ein anderer einem ein und und ihn nähern \n",
      "The BLEU score for this translation is: 0.086\n"
     ]
    }
   ],
   "source": [
    "print_sentences(bad_idx[-12], model)"
   ]
  },
  {
   "cell_type": "markdown",
   "metadata": {
    "id": "ppU59ap4lYf_"
   },
   "source": [
    "The above three translations achieved BLEU scores of less than 0.1.  You do not need to know very much German to see that these are very poor translations.  It is interesting to note that the beginning of the translations start out alright but are terrible by the end of the sentence.  In the first example, the translation seems to have gotten stuck on the notion of a ball as it repeats variations on \"den ball\" over and over again.  In the third example, the translation fills out the second half of the setence with a bunch of indefinite articles and pronouns.  As these are long sentences, this seems to be a sign that the network is forgetting the meaning of the sentence halfway through the translation."
   ]
  },
  {
   "cell_type": "code",
   "execution_count": null,
   "metadata": {
    "colab": {
     "base_uri": "https://localhost:8080/"
    },
    "id": "ClLk4U_km7Se",
    "outputId": "9aa981c8-9535-4d4c-b6da-97bf4eb21e4b"
   },
   "outputs": [
    {
     "name": "stdout",
     "output_type": "stream",
     "text": [
      "The source sentence is:\n",
      "a dog jumps over an obstacle outside \n",
      "The target sentence is:\n",
      "ein hund springt im freien über ein hindernis \n",
      "The translation is:\n",
      "ein hund springt über einem \n",
      "The BLEU score for this translation is: 0.316\n"
     ]
    }
   ],
   "source": [
    "print_sentences(avg_idx[5], model)"
   ]
  },
  {
   "cell_type": "code",
   "execution_count": null,
   "metadata": {
    "colab": {
     "base_uri": "https://localhost:8080/"
    },
    "id": "puxgsH5_ns8F",
    "outputId": "2a23cee6-5a87-46fa-96d6-0d707d88b551"
   },
   "outputs": [
    {
     "name": "stdout",
     "output_type": "stream",
     "text": [
      "The source sentence is:\n",
      "a view of a crowded city street \n",
      "The target sentence is:\n",
      "eine ansicht einer belebten straße in der stadt \n",
      "The translation is:\n",
      "ein menschenmenge einer belebten straße innenstadt \n",
      "The BLEU score for this translation is: 0.298\n"
     ]
    }
   ],
   "source": [
    "print_sentences(avg_idx[6], model)"
   ]
  },
  {
   "cell_type": "code",
   "execution_count": null,
   "metadata": {
    "colab": {
     "base_uri": "https://localhost:8080/"
    },
    "id": "5HKrH-tvpyQh",
    "outputId": "31cf3d85-37dd-41c0-e247-04bc83ef5257"
   },
   "outputs": [
    {
     "name": "stdout",
     "output_type": "stream",
     "text": [
      "The source sentence is:\n",
      "3 men cooking in a small kitchen \n",
      "The target sentence is:\n",
      "3 männer kochen in einer kleinen küche \n",
      "The translation is:\n",
      "drei männer in an einer bar kunstgalerie \n",
      "The BLEU score for this translation is: 0.221\n"
     ]
    }
   ],
   "source": [
    "print_sentences(avg_idx[7], model)"
   ]
  },
  {
   "cell_type": "markdown",
   "metadata": {
    "id": "IyRp_zNKmyI9"
   },
   "source": [
    "The final three examples all achieved about average BLEU scores between 0.2 and 0.35.  These are very short sentences like the first and contain simple prepositional phrases. In the first case, the translation gets the subject and verb correct, but does not translate the preposition very well.  The third gets the subject right but does not seem to grasp the verb.  In the second example, the translation mistakes the adjective 'crowded' for the subject of the sentence (as 'menshenmenge' means 'crowd').  "
   ]
  },
  {
   "cell_type": "markdown",
   "metadata": {
    "id": "tBBVMvs64aDa"
   },
   "source": [
    "## Discussion and Conclusion\n",
    "\n",
    "In this report, I have implemented a simple seq2seq model on the Multi30k dataset.  I looked at how the network performed for two different LSTM depths and two different values for the hidden dimension.  In addition, I compared using a pretrained embedding versus using an untrained embedding.  Overall, the results for all of the models are about the same.  Therefore, I am unable to conclude that any particular set of hyperparameters is superior to another or that using a pretrained embedding is necessary.  However, I was limited by the smaller size of the dataset.  A larger dataset may have revealed differences between the networks.  Also, the authors of the paper were able to train a network with LSTMs that had 4 layers.  This undoubtably gives their network more capacity, but considering the small dataset that we are working with, I thought it was prudent to stick to smaller networks.  The difference between the epsilon smoothing and +1 smoothing in the BLEU evaluations was the most surprising result.  As I discussed, this difference may have been due to the overall lower per-sentence BLEU scores.  However, the results demonstrate that it is important to verify what type of smoothing is used in the evaluation of a machine translation network."
   ]
  },
  {
   "cell_type": "code",
   "execution_count": null,
   "metadata": {
    "id": "8RrmuHRvlEej"
   },
   "outputs": [],
   "source": []
  }
 ],
 "metadata": {
  "accelerator": "GPU",
  "colab": {
   "collapsed_sections": [],
   "name": "Seq2Seq - Part 2.ipynb",
   "provenance": []
  },
  "kernelspec": {
   "display_name": "Python 3 (ipykernel)",
   "language": "python",
   "name": "python3"
  },
  "language_info": {
   "codemirror_mode": {
    "name": "ipython",
    "version": 3
   },
   "file_extension": ".py",
   "mimetype": "text/x-python",
   "name": "python",
   "nbconvert_exporter": "python",
   "pygments_lexer": "ipython3",
   "version": "3.8.11"
  }
 },
 "nbformat": 4,
 "nbformat_minor": 1
}
